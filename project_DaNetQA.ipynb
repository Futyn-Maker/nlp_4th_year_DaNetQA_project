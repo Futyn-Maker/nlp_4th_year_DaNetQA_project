{
  "cells": [
    {
      "cell_type": "markdown",
      "metadata": {
        "id": "_7UdKoIDeLiC"
      },
      "source": [
        "# Автобрея. Проект DaNetQA\n",
        "\n",
        "**Андрей Якубой, Алиса Лёзина, Полина Уткина**\n",
        "\n",
        "В этой работе мы проводим небольшое исследование методов решения задачи ответов на вопросы \"да\"/\"нет\" для русского языка. Данные вопросы основаны на информации из небольших фрагментов текста, которые идут вместе с вопросами, при этом далеко не всегда ответ на вопрос содержится в тексте напрямую, так что для правильного ответа необходимо понять смысл текста и обладать базовыми способностями рассуждать логически. Представляется, что такой тест позволяет понять, как хорошо конкретная языковая модель способна понимать смысл прочитанного русскоязычного текста, а также, в случае с классификацией и энкодерами - насколько хорошо выбранное векторное представление текста передаёт его смысл.\n",
        "\n",
        "В этой работе мы используем датасет DaNetQa, который является частью бенчмарка [Russian SuperGlue](https://russiansuperglue.com/)."
      ]
    },
    {
      "cell_type": "markdown",
      "metadata": {
        "id": "KzOm7dUSeLiD"
      },
      "source": [
        "## 1. Загружаем датасет"
      ]
    },
    {
      "cell_type": "code",
      "execution_count": null,
      "metadata": {
        "id": "FXjb2f1rehu8"
      },
      "outputs": [],
      "source": [
        "import pandas as pd\n",
        "import zipfile\n",
        "import os\n",
        "import matplotlib.pyplot as plt\n",
        "import seaborn as sns"
      ]
    },
    {
      "cell_type": "code",
      "execution_count": null,
      "metadata": {
        "colab": {
          "base_uri": "https://localhost:8080/"
        },
        "collapsed": true,
        "id": "2uDBmfSdcRZn",
        "outputId": "0fb5c17b-c216-4497-c77c-5cf0a7fa3df8"
      },
      "outputs": [
        {
          "name": "stdout",
          "output_type": "stream",
          "text": [
            "--2024-12-27 13:08:05--  https://huggingface.co/datasets/RussianNLP/russian_super_glue/resolve/main/data/DaNetQA.zip\n",
            "Resolving huggingface.co (huggingface.co)... "
          ]
        },
        {
          "name": "stderr",
          "output_type": "stream",
          "text": [
            "huggingface/tokenizers: The current process just got forked, after parallelism has already been used. Disabling parallelism to avoid deadlocks...\n",
            "To disable this warning, you can either:\n",
            "\t- Avoid using `tokenizers` before the fork if possible\n",
            "\t- Explicitly set the environment variable TOKENIZERS_PARALLELISM=(true | false)\n"
          ]
        },
        {
          "name": "stdout",
          "output_type": "stream",
          "text": [
            "3.168.73.111, 3.168.73.106, 3.168.73.38, ...\n",
            "Connecting to huggingface.co (huggingface.co)|3.168.73.111|:443... connected.\n",
            "HTTP request sent, awaiting response... 302 Found\n",
            "Location: https://cdn-lfs.hf.co/datasets/russian_super_glue/b5b4bcfe17e1eb16aa13a7aab4ca088871e27b0851468e9a07b9b528bb42fb96?response-content-disposition=inline%3B+filename*%3DUTF-8%27%27DaNetQA.zip%3B+filename%3D%22DaNetQA.zip%22%3B&response-content-type=application%2Fzip&Expires=1735553285&Policy=eyJTdGF0ZW1lbnQiOlt7IkNvbmRpdGlvbiI6eyJEYXRlTGVzc1RoYW4iOnsiQVdTOkVwb2NoVGltZSI6MTczNTU1MzI4NX19LCJSZXNvdXJjZSI6Imh0dHBzOi8vY2RuLWxmcy5oZi5jby9kYXRhc2V0cy9ydXNzaWFuX3N1cGVyX2dsdWUvYjViNGJjZmUxN2UxZWIxNmFhMTNhN2FhYjRjYTA4ODg3MWUyN2IwODUxNDY4ZTlhMDdiOWI1MjhiYjQyZmI5Nj9yZXNwb25zZS1jb250ZW50LWRpc3Bvc2l0aW9uPSomcmVzcG9uc2UtY29udGVudC10eXBlPSoifV19&Signature=MIlPu%7EEOD592n-Q7q2fMrrF8xTTPiybFvHHuQtv%7ESpHnV4H2cPnJz5cytzz9rkuF6yEpyrQ5uKUfxqChPCHM2-g1jukKtEj4J7ro-6F2nZ1Jj-OdFnCrFwpv-CkfxjsIFBXR%7EYYXMlB6Ekc%7EI39RNjrRvng1b8-i6kI%7EBr0mo3PMT1ZsKreA9rBJTyiLyX9NcjpTOguaW3tC0DZheSNxA3gxVkvulTNNjbS6U8nnzpThaB0iU791mr%7Eo3-gEjwxcQR9NokzaEK63wzv2YCn5uiVVayei0BeplwFqkI5x0OWYQNRL9-fOx7frnMUl%7EXKKFuF0zu6AJzu1i17d5tcYbw__&Key-Pair-Id=K3RPWS32NSSJCE [following]\n",
            "--2024-12-27 13:08:06--  https://cdn-lfs.hf.co/datasets/russian_super_glue/b5b4bcfe17e1eb16aa13a7aab4ca088871e27b0851468e9a07b9b528bb42fb96?response-content-disposition=inline%3B+filename*%3DUTF-8%27%27DaNetQA.zip%3B+filename%3D%22DaNetQA.zip%22%3B&response-content-type=application%2Fzip&Expires=1735553285&Policy=eyJTdGF0ZW1lbnQiOlt7IkNvbmRpdGlvbiI6eyJEYXRlTGVzc1RoYW4iOnsiQVdTOkVwb2NoVGltZSI6MTczNTU1MzI4NX19LCJSZXNvdXJjZSI6Imh0dHBzOi8vY2RuLWxmcy5oZi5jby9kYXRhc2V0cy9ydXNzaWFuX3N1cGVyX2dsdWUvYjViNGJjZmUxN2UxZWIxNmFhMTNhN2FhYjRjYTA4ODg3MWUyN2IwODUxNDY4ZTlhMDdiOWI1MjhiYjQyZmI5Nj9yZXNwb25zZS1jb250ZW50LWRpc3Bvc2l0aW9uPSomcmVzcG9uc2UtY29udGVudC10eXBlPSoifV19&Signature=MIlPu%7EEOD592n-Q7q2fMrrF8xTTPiybFvHHuQtv%7ESpHnV4H2cPnJz5cytzz9rkuF6yEpyrQ5uKUfxqChPCHM2-g1jukKtEj4J7ro-6F2nZ1Jj-OdFnCrFwpv-CkfxjsIFBXR%7EYYXMlB6Ekc%7EI39RNjrRvng1b8-i6kI%7EBr0mo3PMT1ZsKreA9rBJTyiLyX9NcjpTOguaW3tC0DZheSNxA3gxVkvulTNNjbS6U8nnzpThaB0iU791mr%7Eo3-gEjwxcQR9NokzaEK63wzv2YCn5uiVVayei0BeplwFqkI5x0OWYQNRL9-fOx7frnMUl%7EXKKFuF0zu6AJzu1i17d5tcYbw__&Key-Pair-Id=K3RPWS32NSSJCE\n",
            "Resolving cdn-lfs.hf.co (cdn-lfs.hf.co)... 108.138.106.92, 108.138.106.128, 108.138.106.46, ...\n",
            "Connecting to cdn-lfs.hf.co (cdn-lfs.hf.co)|108.138.106.92|:443... connected.\n",
            "HTTP request sent, awaiting response... 200 OK\n",
            "Length: 1293761 (1.2M) [application/zip]\n",
            "Saving to: ‘DaNetQA.zip’\n",
            "\n",
            "DaNetQA.zip         100%[===================>]   1.23M   511KB/s    in 2.5s    \n",
            "\n",
            "2024-12-27 13:08:09 (511 KB/s) - ‘DaNetQA.zip’ saved [1293761/1293761]\n",
            "\n"
          ]
        }
      ],
      "source": [
        "!wget https://huggingface.co/datasets/RussianNLP/russian_super_glue/resolve/main/data/DaNetQA.zip"
      ]
    },
    {
      "cell_type": "code",
      "execution_count": null,
      "metadata": {
        "id": "cpyhqseMdWiC"
      },
      "outputs": [],
      "source": [
        "with zipfile.ZipFile(\"DaNetQA.zip\", 'r') as zip_ref:\n",
        "    zip_ref.extract('DaNetQA/train.jsonl')\n",
        "    zip_ref.extract('DaNetQA/test.jsonl')\n",
        "    zip_ref.extract('DaNetQA/val.jsonl')"
      ]
    },
    {
      "cell_type": "code",
      "execution_count": null,
      "metadata": {
        "id": "BEvbAJ_adnbt"
      },
      "outputs": [],
      "source": [
        "train_df = pd.read_json('DaNetQA/train.jsonl', lines=True)\n",
        "test_df = pd.read_json('DaNetQA/test.jsonl', lines=True)\n",
        "val_df = pd.read_json('DaNetQA/val.jsonl', lines=True)"
      ]
    },
    {
      "cell_type": "markdown",
      "metadata": {
        "id": "WcP1sq0WcozX"
      },
      "source": [
        "## 2. EDA"
      ]
    },
    {
      "cell_type": "markdown",
      "metadata": {
        "id": "46oDJNCY3b8N"
      },
      "source": [
        "Посмотрим на формат данных каждой из частей датасета."
      ]
    },
    {
      "cell_type": "code",
      "execution_count": null,
      "metadata": {
        "colab": {
          "base_uri": "https://localhost:8080/",
          "height": 206
        },
        "id": "nbqZsm6Oej2u",
        "outputId": "6db681eb-3eeb-4ea6-c928-6e7c9f0f5cf5"
      },
      "outputs": [
        {
          "data": {
            "text/html": [
              "<div>\n",
              "<style scoped>\n",
              "    .dataframe tbody tr th:only-of-type {\n",
              "        vertical-align: middle;\n",
              "    }\n",
              "\n",
              "    .dataframe tbody tr th {\n",
              "        vertical-align: top;\n",
              "    }\n",
              "\n",
              "    .dataframe thead th {\n",
              "        text-align: right;\n",
              "    }\n",
              "</style>\n",
              "<table border=\"1\" class=\"dataframe\">\n",
              "  <thead>\n",
              "    <tr style=\"text-align: right;\">\n",
              "      <th></th>\n",
              "      <th>question</th>\n",
              "      <th>passage</th>\n",
              "      <th>label</th>\n",
              "      <th>idx</th>\n",
              "    </tr>\n",
              "  </thead>\n",
              "  <tbody>\n",
              "    <tr>\n",
              "      <th>0</th>\n",
              "      <td>Вднх - это выставочный центр?</td>\n",
              "      <td>«Вы́ставочный центр» — станция Московского мон...</td>\n",
              "      <td>True</td>\n",
              "      <td>0</td>\n",
              "    </tr>\n",
              "    <tr>\n",
              "      <th>1</th>\n",
              "      <td>Вднх - это выставочный центр?</td>\n",
              "      <td>Вы́ставка достиже́ний наро́дного хозя́йства  ,...</td>\n",
              "      <td>True</td>\n",
              "      <td>1</td>\n",
              "    </tr>\n",
              "    <tr>\n",
              "      <th>2</th>\n",
              "      <td>Был ли джиган в black star?</td>\n",
              "      <td>Вместе с этим треком они выступили на церемони...</td>\n",
              "      <td>True</td>\n",
              "      <td>2</td>\n",
              "    </tr>\n",
              "    <tr>\n",
              "      <th>3</th>\n",
              "      <td>Xiaomi конкурент apple?</td>\n",
              "      <td>Xiaomi — китайская компания, основанная в 2010...</td>\n",
              "      <td>True</td>\n",
              "      <td>3</td>\n",
              "    </tr>\n",
              "    <tr>\n",
              "      <th>4</th>\n",
              "      <td>Был ли автомат калашникова в вов?</td>\n",
              "      <td>Отметив некоторые недостатки и в целом удачную...</td>\n",
              "      <td>False</td>\n",
              "      <td>4</td>\n",
              "    </tr>\n",
              "  </tbody>\n",
              "</table>\n",
              "</div>"
            ],
            "text/plain": [
              "                            question  \\\n",
              "0      Вднх - это выставочный центр?   \n",
              "1      Вднх - это выставочный центр?   \n",
              "2        Был ли джиган в black star?   \n",
              "3            Xiaomi конкурент apple?   \n",
              "4  Был ли автомат калашникова в вов?   \n",
              "\n",
              "                                             passage  label  idx  \n",
              "0  «Вы́ставочный центр» — станция Московского мон...   True    0  \n",
              "1  Вы́ставка достиже́ний наро́дного хозя́йства  ,...   True    1  \n",
              "2  Вместе с этим треком они выступили на церемони...   True    2  \n",
              "3  Xiaomi — китайская компания, основанная в 2010...   True    3  \n",
              "4  Отметив некоторые недостатки и в целом удачную...  False    4  "
            ]
          },
          "execution_count": 42,
          "metadata": {},
          "output_type": "execute_result"
        }
      ],
      "source": [
        "train_df.head()"
      ]
    },
    {
      "cell_type": "code",
      "execution_count": null,
      "metadata": {
        "colab": {
          "base_uri": "https://localhost:8080/",
          "height": 206
        },
        "id": "GdQyRAIwe1i8",
        "outputId": "9d0b57b6-cbb9-46f4-a519-97c4d4e6cfeb"
      },
      "outputs": [
        {
          "data": {
            "text/html": [
              "<div>\n",
              "<style scoped>\n",
              "    .dataframe tbody tr th:only-of-type {\n",
              "        vertical-align: middle;\n",
              "    }\n",
              "\n",
              "    .dataframe tbody tr th {\n",
              "        vertical-align: top;\n",
              "    }\n",
              "\n",
              "    .dataframe thead th {\n",
              "        text-align: right;\n",
              "    }\n",
              "</style>\n",
              "<table border=\"1\" class=\"dataframe\">\n",
              "  <thead>\n",
              "    <tr style=\"text-align: right;\">\n",
              "      <th></th>\n",
              "      <th>question</th>\n",
              "      <th>passage</th>\n",
              "      <th>idx</th>\n",
              "    </tr>\n",
              "  </thead>\n",
              "  <tbody>\n",
              "    <tr>\n",
              "      <th>0</th>\n",
              "      <td>Полезна ли ртуть с градусника?</td>\n",
              "      <td>Отравления ртутью  — расстройства здоровья, св...</td>\n",
              "      <td>0</td>\n",
              "    </tr>\n",
              "    <tr>\n",
              "      <th>1</th>\n",
              "      <td>Являются ли сапрофаги хищниками?</td>\n",
              "      <td>Фауна лесных почв — совокупность видов животны...</td>\n",
              "      <td>1</td>\n",
              "    </tr>\n",
              "    <tr>\n",
              "      <th>2</th>\n",
              "      <td>Водятся ли в индии крокодилы?</td>\n",
              "      <td>Болотный крокодил, или магер  — пресмыкающееся...</td>\n",
              "      <td>2</td>\n",
              "    </tr>\n",
              "    <tr>\n",
              "      <th>3</th>\n",
              "      <td>Есть ли в батате крахмал?</td>\n",
              "      <td>Клубневидно вздутые корни  весят до 15 кг, сод...</td>\n",
              "      <td>3</td>\n",
              "    </tr>\n",
              "    <tr>\n",
              "      <th>4</th>\n",
              "      <td>Был ли человек в железной маске?</td>\n",
              "      <td>Остров Сент-Маргерит  — крупнейший из Лерински...</td>\n",
              "      <td>4</td>\n",
              "    </tr>\n",
              "  </tbody>\n",
              "</table>\n",
              "</div>"
            ],
            "text/plain": [
              "                           question  \\\n",
              "0    Полезна ли ртуть с градусника?   \n",
              "1  Являются ли сапрофаги хищниками?   \n",
              "2     Водятся ли в индии крокодилы?   \n",
              "3         Есть ли в батате крахмал?   \n",
              "4  Был ли человек в железной маске?   \n",
              "\n",
              "                                             passage  idx  \n",
              "0  Отравления ртутью  — расстройства здоровья, св...    0  \n",
              "1  Фауна лесных почв — совокупность видов животны...    1  \n",
              "2  Болотный крокодил, или магер  — пресмыкающееся...    2  \n",
              "3  Клубневидно вздутые корни  весят до 15 кг, сод...    3  \n",
              "4  Остров Сент-Маргерит  — крупнейший из Лерински...    4  "
            ]
          },
          "execution_count": 43,
          "metadata": {},
          "output_type": "execute_result"
        }
      ],
      "source": [
        "test_df.head()"
      ]
    },
    {
      "cell_type": "code",
      "execution_count": null,
      "metadata": {
        "colab": {
          "base_uri": "https://localhost:8080/",
          "height": 206
        },
        "id": "dyuol5ase4Ns",
        "outputId": "5446dbf4-cc61-4a1a-f81c-b0181e8c9f78"
      },
      "outputs": [
        {
          "data": {
            "text/html": [
              "<div>\n",
              "<style scoped>\n",
              "    .dataframe tbody tr th:only-of-type {\n",
              "        vertical-align: middle;\n",
              "    }\n",
              "\n",
              "    .dataframe tbody tr th {\n",
              "        vertical-align: top;\n",
              "    }\n",
              "\n",
              "    .dataframe thead th {\n",
              "        text-align: right;\n",
              "    }\n",
              "</style>\n",
              "<table border=\"1\" class=\"dataframe\">\n",
              "  <thead>\n",
              "    <tr style=\"text-align: right;\">\n",
              "      <th></th>\n",
              "      <th>question</th>\n",
              "      <th>passage</th>\n",
              "      <th>label</th>\n",
              "      <th>idx</th>\n",
              "    </tr>\n",
              "  </thead>\n",
              "  <tbody>\n",
              "    <tr>\n",
              "      <th>0</th>\n",
              "      <td>Есть ли вода на марсе?</td>\n",
              "      <td>Гидросфера Марса — это совокупность водных зап...</td>\n",
              "      <td>True</td>\n",
              "      <td>0</td>\n",
              "    </tr>\n",
              "    <tr>\n",
              "      <th>1</th>\n",
              "      <td>Состоит ли англия в евросоюзе?</td>\n",
              "      <td>В полночь с 31 января на 1 февраля 2020 года п...</td>\n",
              "      <td>False</td>\n",
              "      <td>1</td>\n",
              "    </tr>\n",
              "    <tr>\n",
              "      <th>2</th>\n",
              "      <td>Действительно ли в ссср не было адвокатов?</td>\n",
              "      <td>Семён Львович Ария  — советский и российский ю...</td>\n",
              "      <td>False</td>\n",
              "      <td>2</td>\n",
              "    </tr>\n",
              "    <tr>\n",
              "      <th>3</th>\n",
              "      <td>Была ли чума в оране?</td>\n",
              "      <td>Чума — это и абсурд, что осмысливается как фор...</td>\n",
              "      <td>True</td>\n",
              "      <td>3</td>\n",
              "    </tr>\n",
              "    <tr>\n",
              "      <th>4</th>\n",
              "      <td>Был ли кетчуп в читосе?</td>\n",
              "      <td>Текущий каталог продукции размещен на сайте пр...</td>\n",
              "      <td>True</td>\n",
              "      <td>4</td>\n",
              "    </tr>\n",
              "  </tbody>\n",
              "</table>\n",
              "</div>"
            ],
            "text/plain": [
              "                                     question  \\\n",
              "0                      Есть ли вода на марсе?   \n",
              "1              Состоит ли англия в евросоюзе?   \n",
              "2  Действительно ли в ссср не было адвокатов?   \n",
              "3                       Была ли чума в оране?   \n",
              "4                     Был ли кетчуп в читосе?   \n",
              "\n",
              "                                             passage  label  idx  \n",
              "0  Гидросфера Марса — это совокупность водных зап...   True    0  \n",
              "1  В полночь с 31 января на 1 февраля 2020 года п...  False    1  \n",
              "2  Семён Львович Ария  — советский и российский ю...  False    2  \n",
              "3  Чума — это и абсурд, что осмысливается как фор...   True    3  \n",
              "4  Текущий каталог продукции размещен на сайте пр...   True    4  "
            ]
          },
          "execution_count": 44,
          "metadata": {},
          "output_type": "execute_result"
        }
      ],
      "source": [
        "val_df.head()"
      ]
    },
    {
      "cell_type": "code",
      "execution_count": null,
      "metadata": {
        "colab": {
          "base_uri": "https://localhost:8080/"
        },
        "id": "NnYu-SwUXTcq",
        "outputId": "df5ef20f-8084-4cd3-dd43-9f954f2cb1df"
      },
      "outputs": [
        {
          "name": "stdout",
          "output_type": "stream",
          "text": [
            "(1749, 4)\n",
            "(805, 3)\n",
            "(821, 4)\n"
          ]
        }
      ],
      "source": [
        "print(train_df.shape)\n",
        "print(test_df.shape)\n",
        "print(val_df.shape)"
      ]
    },
    {
      "cell_type": "markdown",
      "metadata": {
        "id": "2V49uMaWj7pB"
      },
      "source": [
        "Можем видеть, что в тестовой части датасета нет лейблов, что очень логично в силу того, что этот датасет - публичный бенчмарк.\n",
        "\n",
        "Теперь посмотрим на распределение True и False в трейне и валидации."
      ]
    },
    {
      "cell_type": "code",
      "execution_count": null,
      "metadata": {
        "colab": {
          "base_uri": "https://localhost:8080/",
          "height": 178
        },
        "id": "Eo7YhxSDe58B",
        "outputId": "3e328aa4-48ce-42bd-8c87-546ea95a61f9"
      },
      "outputs": [
        {
          "data": {
            "text/plain": [
              "label\n",
              "True     1061\n",
              "False     688\n",
              "Name: count, dtype: int64"
            ]
          },
          "execution_count": 46,
          "metadata": {},
          "output_type": "execute_result"
        }
      ],
      "source": [
        "train_df['label'].value_counts()"
      ]
    },
    {
      "cell_type": "code",
      "execution_count": null,
      "metadata": {
        "colab": {
          "base_uri": "https://localhost:8080/",
          "height": 472
        },
        "id": "TVAGj5Cvf0XQ",
        "outputId": "d9f5d7b4-c9a9-40a0-a083-0f60096a8e52"
      },
      "outputs": [
        {
          "data": {
            "image/png": "[encoded data removed]",
            "text/plain": [
              "<Figure size 640x480 with 1 Axes>"
            ]
          },
          "metadata": {},
          "output_type": "display_data"
        }
      ],
      "source": [
        "sns.countplot(x='label', data=train_df, color='slateblue', width=0.4)\n",
        "plt.title('Labels in train set')\n",
        "plt.show()"
      ]
    },
    {
      "cell_type": "code",
      "execution_count": null,
      "metadata": {
        "colab": {
          "base_uri": "https://localhost:8080/",
          "height": 178
        },
        "id": "HUmKMncvfgQK",
        "outputId": "145d76e3-1f39-4800-94d6-e3e4db9316e2"
      },
      "outputs": [
        {
          "data": {
            "text/plain": [
              "label\n",
              "True     412\n",
              "False    409\n",
              "Name: count, dtype: int64"
            ]
          },
          "execution_count": 48,
          "metadata": {},
          "output_type": "execute_result"
        }
      ],
      "source": [
        "val_df['label'].value_counts()"
      ]
    },
    {
      "cell_type": "code",
      "execution_count": null,
      "metadata": {
        "colab": {
          "base_uri": "https://localhost:8080/",
          "height": 472
        },
        "id": "5vS6Pebu34Wj",
        "outputId": "ed62307f-973b-4141-eeee-d93eebadd80c"
      },
      "outputs": [
        {
          "data": {
            "image/png": "[encoded data removed]",
            "text/plain": [
              "<Figure size 640x480 with 1 Axes>"
            ]
          },
          "metadata": {},
          "output_type": "display_data"
        }
      ],
      "source": [
        "sns.countplot(x='label', data=val_df, color='slateblue', width=0.4)\n",
        "plt.title('Labels in val set')\n",
        "plt.show()"
      ]
    },
    {
      "cell_type": "markdown",
      "metadata": {
        "id": "UPWKayJw6iau"
      },
      "source": [
        "Посмотрим на распределение примерного количества слов в вопросах и текстах для трейна и валидации."
      ]
    },
    {
      "cell_type": "code",
      "execution_count": null,
      "metadata": {
        "id": "w95hlTZogn1k"
      },
      "outputs": [],
      "source": [
        "train_df['question_word_count'] = train_df['question'].apply(\n",
        "    lambda x: len(x.split()))\n",
        "train_df['passage_word_count'] = train_df['passage'].apply(\n",
        "    lambda x: len(x.split()))"
      ]
    },
    {
      "cell_type": "code",
      "execution_count": null,
      "metadata": {
        "colab": {
          "base_uri": "https://localhost:8080/"
        },
        "id": "jQcrlExnbpf9",
        "outputId": "5177f842-9b3f-4458-f529-8a17e7f5f19a"
      },
      "outputs": [
        {
          "data": {
            "text/plain": [
              "98.34877072612922"
            ]
          },
          "execution_count": 51,
          "metadata": {},
          "output_type": "execute_result"
        }
      ],
      "source": [
        "train_df['passage_word_count'].mean()"
      ]
    },
    {
      "cell_type": "code",
      "execution_count": null,
      "metadata": {
        "colab": {
          "base_uri": "https://localhost:8080/"
        },
        "id": "L44IJAsTcOn1",
        "outputId": "3a5e007b-fce3-4494-f584-e7e3373a3735"
      },
      "outputs": [
        {
          "data": {
            "text/plain": [
              "6.519725557461406"
            ]
          },
          "execution_count": 52,
          "metadata": {},
          "output_type": "execute_result"
        }
      ],
      "source": [
        "train_df['question_word_count'].mean()"
      ]
    },
    {
      "cell_type": "code",
      "execution_count": null,
      "metadata": {
        "colab": {
          "base_uri": "https://localhost:8080/",
          "height": 927
        },
        "id": "R5USuhP99rJi",
        "outputId": "8a060c63-4f92-4df1-f493-1add6304e01f"
      },
      "outputs": [
        {
          "data": {
            "image/png": "[encoded data removed]",
            "text/plain": [
              "<Figure size 640x480 with 1 Axes>"
            ]
          },
          "metadata": {},
          "output_type": "display_data"
        },
        {
          "data": {
            "image/png": "[encoded data removed]",
            "text/plain": [
              "<Figure size 640x480 with 1 Axes>"
            ]
          },
          "metadata": {},
          "output_type": "display_data"
        }
      ],
      "source": [
        "sns.histplot(train_df['question_word_count'], color='slateblue')\n",
        "plt.title('Question word counts in train')\n",
        "plt.show()\n",
        "\n",
        "sns.histplot(train_df['passage_word_count'], bins=50, color='slateblue')\n",
        "plt.title('Passage word counts in train')\n",
        "plt.show()"
      ]
    },
    {
      "cell_type": "code",
      "execution_count": null,
      "metadata": {
        "id": "6zlJjr9fcdVH"
      },
      "outputs": [],
      "source": [
        "val_df['question_word_count'] = val_df['question'].apply(\n",
        "    lambda x: len(x.split()))\n",
        "val_df['passage_word_count'] = val_df['passage'].apply(\n",
        "    lambda x: len(x.split()))"
      ]
    },
    {
      "cell_type": "code",
      "execution_count": null,
      "metadata": {
        "colab": {
          "base_uri": "https://localhost:8080/",
          "height": 927
        },
        "id": "huB0rHMQc0PU",
        "outputId": "b3ec5036-5353-4be1-cec5-8c5897554678"
      },
      "outputs": [
        {
          "data": {
            "image/png": "[encoded data removed]",
            "text/plain": [
              "<Figure size 640x480 with 1 Axes>"
            ]
          },
          "metadata": {},
          "output_type": "display_data"
        },
        {
          "data": {
            "image/png": "[encoded data removed]",
            "text/plain": [
              "<Figure size 640x480 with 1 Axes>"
            ]
          },
          "metadata": {},
          "output_type": "display_data"
        }
      ],
      "source": [
        "sns.histplot(val_df['question_word_count'], color='slateblue')\n",
        "plt.title('Question word counts in val')\n",
        "plt.show()\n",
        "\n",
        "sns.histplot(val_df['passage_word_count'], bins=50, color='slateblue')\n",
        "plt.title('Passage word counts in val')\n",
        "plt.show()"
      ]
    },
    {
      "cell_type": "code",
      "execution_count": null,
      "metadata": {
        "colab": {
          "base_uri": "https://localhost:8080/"
        },
        "id": "587NO7YpckOz",
        "outputId": "76eaea49-401c-4c5b-813c-897c5add9d49"
      },
      "outputs": [
        {
          "data": {
            "text/plain": [
              "91.74665042630937"
            ]
          },
          "execution_count": 56,
          "metadata": {},
          "output_type": "execute_result"
        }
      ],
      "source": [
        "val_df['passage_word_count'].mean()"
      ]
    },
    {
      "cell_type": "code",
      "execution_count": null,
      "metadata": {
        "colab": {
          "base_uri": "https://localhost:8080/"
        },
        "id": "cNYgY0QWcky6",
        "outputId": "e8496332-b89d-4fd9-bff1-aa2972e2ddfd"
      },
      "outputs": [
        {
          "data": {
            "text/plain": [
              "5.806333739342265"
            ]
          },
          "execution_count": 57,
          "metadata": {},
          "output_type": "execute_result"
        }
      ],
      "source": [
        "val_df['question_word_count'].mean()"
      ]
    },
    {
      "cell_type": "code",
      "execution_count": null,
      "metadata": {
        "id": "kqoTUXMIeLiI"
      },
      "outputs": [],
      "source": [
        "# Удаляем колонки с количеством слов в вопросе и параграфе во всех датасетах\n",
        "\n",
        "train_df.drop(['question_word_count', 'passage_word_count'],\n",
        "              axis=1, inplace=True)\n",
        "val_df.drop(['question_word_count', 'passage_word_count'],\n",
        "            axis=1, inplace=True)"
      ]
    },
    {
      "cell_type": "markdown",
      "metadata": {
        "id": "bL1ZYQAjMlLn"
      },
      "source": [
        "В целом, что можно сказать про наш датасет?\n",
        "\n",
        "Он является бенчмарком для задачи бинарного QA.\n",
        "\n",
        "Состав датасета: вопрос (\"question\"), текст (\"passage\"), бинарный ответ (\"label\" в формате \"True/False\"), индекс строки (\"idx\").\n",
        "\n",
        "Размер датасета: 1789 строк в трейне, 805 строк в тесте и 821 строка в валидации.\n",
        "\n",
        "В трейне наблюдается некоторый дисбаланс лейблов: 1061 True, 688 False;\n",
        "\n",
        "Это, возможно, может приводить к некоторому байасу в сторону положительных ответов во время обучения моделей.\n",
        "\n",
        "Тексты трейна распределены по длине относительно нормально, средняя длина: 98 слов. В случае валидации распределение несколько менее равномерное, средняя длина: 91 слово.\n"
      ]
    },
    {
      "cell_type": "markdown",
      "metadata": {
        "id": "0NzWIYH6eLiI"
      },
      "source": [
        "## 3. Определяемся с выборками и метриками\n",
        "\n",
        "Поскольку оригинальная тестовая выборка бенчмарка не содержит меток, мы не можем использовать её для оценивания. При этом мы имеем достаточно большую валидационную выборку относительно тренировочной (не многим меньше 50%). Для целей нашего проекта разделим валидационную выборку на две равные части с сохранением пропорций классов, и одну из них будем использовать в качестве валидационной выборки, а другую - в качестве тестовой.\n",
        "\n",
        "В тренировочной выборке присутствует дисбаланс классов, однако в валидационной и тестовой выборках его не будет - поэтому для нас будут показательны как accuracy, так и F1-метрика и её компоненты - precision и recall. Мы будем анализировать все метрики, но судить о качестве модели будем именно по accuracy, так как именно эта метрика используется на лидерборде в Russian SuperGlue, что даёт нам возможность сравнивать результат. Precision, recall и F1 будем использовать для анализа байасов."
      ]
    },
    {
      "cell_type": "code",
      "execution_count": null,
      "metadata": {
        "id": "fB-xy4q8eLiI"
      },
      "outputs": [],
      "source": [
        "from sklearn.model_selection import train_test_split\n",
        "\n",
        "# Создаём новые валидационные и тестовые выборки из оригинальной валидационной\n",
        "\n",
        "new_val_df, new_test_df = train_test_split(\n",
        "    val_df,\n",
        "    test_size=0.5,\n",
        "    random_state=42,\n",
        "    stratify=val_df['label']\n",
        ")"
      ]
    },
    {
      "cell_type": "code",
      "execution_count": null,
      "metadata": {
        "id": "vXjBVumNeLiI",
        "outputId": "3a8f8b24-0662-48c3-f96c-eef09a88ce77"
      },
      "outputs": [
        {
          "name": "stdout",
          "output_type": "stream",
          "text": [
            "Дистрибуция классов в новой валидационной выборке:\n",
            "label\n",
            "True     206\n",
            "False    204\n",
            "Name: count, dtype: int64\n",
            "\n",
            "Дистрибуция классов в новой тестовой выборке:\n",
            "label\n",
            "True     206\n",
            "False    205\n",
            "Name: count, dtype: int64\n"
          ]
        }
      ],
      "source": [
        "# Проверяем, что дистрибуция классов совпадает с оригинальной\n",
        "print(\"Дистрибуция классов в новой валидационной выборке:\")\n",
        "print(new_val_df['label'].value_counts())\n",
        "print(\"\\nДистрибуция классов в новой тестовой выборке:\")\n",
        "print(new_test_df['label'].value_counts())"
      ]
    },
    {
      "cell_type": "code",
      "execution_count": null,
      "metadata": {
        "id": "CMnB2KZneLiI"
      },
      "outputs": [],
      "source": [
        "# Конвертируем классы в целые числа\n",
        "train_df['label'] = train_df['label'].astype(int)\n",
        "new_val_df['label'] = new_val_df['label'].astype(int)\n",
        "new_test_df['label'] = new_test_df['label'].astype(int)"
      ]
    },
    {
      "cell_type": "code",
      "execution_count": null,
      "metadata": {
        "id": "Koxn2OqMeLiI"
      },
      "outputs": [],
      "source": [
        "# Сохраняем финальные выборки в jsonlines\n",
        "\n",
        "if not os.path.exists('final_data'):\n",
        "    os.makedirs('final_data')\n",
        "\n",
        "train_df.to_json(\n",
        "    'final_data/train.jsonl',\n",
        "    orient='records',\n",
        "    lines=True,\n",
        "    force_ascii=False)\n",
        "new_val_df.to_json(\n",
        "    'final_data/val.jsonl',\n",
        "    orient='records',\n",
        "    lines=True,\n",
        "    force_ascii=False)\n",
        "new_test_df.to_json(\n",
        "    'final_data/test.jsonl',\n",
        "    orient='records',\n",
        "    lines=True,\n",
        "    force_ascii=False)"
      ]
    },
    {
      "cell_type": "markdown",
      "metadata": {
        "id": "_z8IYCeNeLiI"
      },
      "source": [
        "## 4. Baseline\n",
        "\n",
        "В качестве бейзлайна разработчики Russian SuperGLUE использовали TF-IDF и логистическую регрессию ([источник](https://github.com/RussianNLP/RussianSuperGLUE/blob/master/tfidf_baseline/DaNetQA.py)). Нам показалось это хорошим решением в качестве стартовой точки, однако в оригинальном бейзлайне есть моменты, которые нас смутили.\n",
        "\n",
        "1. Авторы подавали на вход только вопросы и ответы, никак не учитывая текстовые фрагменты, в которых можно было бы найти ответ на вопрос.\n",
        "2. Авторы никак не предобрабатывали текст, подаваемый в TF-IDF, не проводилась даже лемматизация и удаление стоп-слов.\n",
        "\n",
        "Кроме того, в авторском бейзлайне используется векторизатор TF-IDF, обученный на всём тренировочном корпусе бенчмарка, а не только на датасете DaNetQA. Мы же в данном проекте ориентируемся не на весь бенчмарк, а исключительно на этот набор данных. Поэтому, вдохновляясь оригиналом, мы немного модифицировали бейзлайн: добавили лемматизацию и удаление стоп-слов, построили TF-IDF с учётом биграмм, а также провели два эксперимента: в первом в качестве объектов использовались только вопросы, а во втором текст, содержащий ответ, конкатинировался с вопросом."
      ]
    },
    {
      "cell_type": "code",
      "execution_count": 1,
      "metadata": {
        "id": "yQzr-_jFeLiI",
        "outputId": "a54d7545-9e89-4c49-a8d0-ce4377f758fe"
      },
      "outputs": [],
      "source": [
        "import codecs\n",
        "import json\n",
        "import numpy as np\n",
        "from pymystem3 import Mystem\n",
        "from nltk.corpus import stopwords\n",
        "import re\n",
        "from sklearn.linear_model import LogisticRegression\n",
        "from sklearn.feature_extraction.text import TfidfVectorizer\n",
        "from sklearn.metrics import classification_report\n",
        "\n",
        "\n",
        "mystem = Mystem()\n",
        "russian_stopwords = set(stopwords.words(\"russian\"))"
      ]
    },
    {
      "cell_type": "code",
      "execution_count": 2,
      "metadata": {
        "id": "M0LiIWxXeLiJ"
      },
      "outputs": [],
      "source": [
        "def mystem_tokenizer(text):\n",
        "    # Лемматизируем текст\n",
        "    lemmas = mystem.lemmatize(text)\n",
        "    # Возвращаем только алфавитные токены, которых нет в списке стоп-слов, а\n",
        "    # также цифры\n",
        "    tokens = [\n",
        "        token for token in lemmas\n",
        "        if token.strip() and\n",
        "        ((token.isalpha() and\n",
        "          token not in russian_stopwords) or\n",
        "         token.isdigit())\n",
        "    ]\n",
        "    return tokens"
      ]
    },
    {
      "cell_type": "code",
      "execution_count": 3,
      "metadata": {
        "id": "9n_RFUcVeLiJ"
      },
      "outputs": [],
      "source": [
        "tfidf_vectorizer = TfidfVectorizer(\n",
        "    tokenizer=mystem_tokenizer,\n",
        "    ngram_range=(1, 2)\n",
        ")"
      ]
    },
    {
      "cell_type": "code",
      "execution_count": 4,
      "metadata": {
        "id": "T3O-5mWEeLiJ"
      },
      "outputs": [],
      "source": [
        "# две функции для считывания данных из файлов\n",
        "def build_feature_DaNetQA(row):\n",
        "    res = str(row[\"question\"]).strip()\n",
        "    label = row.get(\"label\")\n",
        "    return res, label\n",
        "\n",
        "\n",
        "def read_data_DaNetQA(path):\n",
        "    with codecs.open(path, encoding='utf-8-sig') as reader:\n",
        "        lines = reader.read().split(\"\\n\")\n",
        "        lines = list(map(json.loads, filter(None, lines)))\n",
        "    res = list(map(build_feature_DaNetQA, lines))\n",
        "    texts = list(map(lambda x: x[0], res))\n",
        "    labels = list(map(lambda x: x[1], res))\n",
        "    ids = [x[\"idx\"] for x in lines]\n",
        "    return texts, labels, ids\n",
        "\n",
        "\n",
        "# векторизация tf_idf\n",
        "def build_features_DaNetQA(path, vect, fit=False):\n",
        "    texts, labels, ids = read_data_DaNetQA(path)\n",
        "    if fit:\n",
        "        features = vect.fit_transform(texts)\n",
        "    else:\n",
        "        features = vect.transform(texts)\n",
        "    return (features, labels), ids\n",
        "\n",
        "\n",
        "# логистическая регрессия\n",
        "def fit_DaNetQA(train, labels):\n",
        "    clf = LogisticRegression(random_state=42)\n",
        "    return clf.fit(train, labels)\n",
        "\n",
        "\n",
        "# векторизация считанных данных, обучение логистической регрессии,\n",
        "# предсказание и оценка качества\n",
        "def eval_DaNetQA(train_path, val_path, test_path, vectorizer):\n",
        "    train, train_ids = build_features_DaNetQA(train_path, vectorizer, fit=True)\n",
        "    val, val_ids = build_features_DaNetQA(val_path, vectorizer, fit=False)\n",
        "    test, test_ids = build_features_DaNetQA(test_path, vectorizer, fit=False)\n",
        "\n",
        "    clf = fit_DaNetQA(*train)\n",
        "\n",
        "    train_pred = clf.predict(train[0])\n",
        "    val_pred = clf.predict(val[0])\n",
        "    test_pred = clf.predict(test[0])\n",
        "\n",
        "    return clf, {\n",
        "        \"train\": classification_report(\n",
        "            train[1], train_pred, target_names=[\n",
        "                'False', 'True']), \"val\": classification_report(\n",
        "            val[1], val_pred, target_names=[\n",
        "                'False', 'True']), \"test\": classification_report(\n",
        "            test[1], test_pred, target_names=['False', 'True'])}"
      ]
    },
    {
      "cell_type": "code",
      "execution_count": 5,
      "metadata": {
        "id": "KR9e0ZwbeLiJ",
        "outputId": "e1d9631e-7774-47b7-ce67-5bdf5e69c86c"
      },
      "outputs": [
        {
          "name": "stderr",
          "output_type": "stream",
          "text": [
            "/home/futyn/miniconda3/lib/python3.12/site-packages/sklearn/feature_extraction/text.py:521: UserWarning: The parameter 'token_pattern' will not be used since 'tokenizer' is not None'\n",
            "  warnings.warn(\n"
          ]
        },
        {
          "name": "stdout",
          "output_type": "stream",
          "text": [
            "Train scores:\n",
            "              precision    recall  f1-score   support\n",
            "\n",
            "       False       0.99      0.84      0.91       688\n",
            "        True       0.90      1.00      0.95      1061\n",
            "\n",
            "    accuracy                           0.93      1749\n",
            "   macro avg       0.95      0.92      0.93      1749\n",
            "weighted avg       0.94      0.93      0.93      1749\n",
            "\n",
            "\n",
            "Validation scores:\n",
            "              precision    recall  f1-score   support\n",
            "\n",
            "       False       0.79      0.17      0.28       204\n",
            "        True       0.54      0.96      0.69       206\n",
            "\n",
            "    accuracy                           0.56       410\n",
            "   macro avg       0.66      0.56      0.48       410\n",
            "weighted avg       0.66      0.56      0.48       410\n",
            "\n",
            "\n",
            "Test scores:\n",
            "              precision    recall  f1-score   support\n",
            "\n",
            "       False       0.79      0.15      0.25       205\n",
            "        True       0.53      0.96      0.69       206\n",
            "\n",
            "    accuracy                           0.56       411\n",
            "   macro avg       0.66      0.56      0.47       411\n",
            "weighted avg       0.66      0.56      0.47       411\n",
            "\n"
          ]
        }
      ],
      "source": [
        "# Обработка данных, оценка результата\n",
        "_, scores = eval_DaNetQA(\n",
        "    'final_data/train.jsonl',\n",
        "    'final_data/val.jsonl',\n",
        "    'final_data/test.jsonl',\n",
        "    tfidf_vectorizer\n",
        ")\n",
        "\n",
        "# Результаты для каждой выборки\n",
        "print(\"Train scores:\")\n",
        "print(scores['train'])\n",
        "print(\"\\nValidation scores:\")\n",
        "print(scores['val'])\n",
        "print(\"\\nTest scores:\")\n",
        "print(scores['test'])"
      ]
    },
    {
      "cell_type": "markdown",
      "metadata": {
        "id": "kOWuAk2WeLiJ"
      },
      "source": [
        "## Объединим тексты и вопросы\n",
        "\n",
        "Интуитивно кажется, что если в классифицируемом тексте будет информация, которая позволит верно определить ответ, то классификация пройдёт лучше, поэтому перепишим функцию `build_feature_DaNetQA` так, чтобы информационный текст и вопрос конкатинировались в единое целое - именно это мы будем подавать на вход классификатору как объект."
      ]
    },
    {
      "cell_type": "code",
      "execution_count": 6,
      "metadata": {
        "id": "Bwv6JSt0eLiK"
      },
      "outputs": [],
      "source": [
        "def build_feature_DaNetQA(row):\n",
        "    res = str(row[\"question\"]).strip() + \" \" + str(row[\"passage\"]).strip()\n",
        "    label = row.get(\"label\")\n",
        "    return res, label"
      ]
    },
    {
      "cell_type": "code",
      "execution_count": 7,
      "metadata": {
        "id": "wLLtZ_kEeLiK"
      },
      "outputs": [],
      "source": [
        "tfidf_vectorizer = TfidfVectorizer(\n",
        "    tokenizer=mystem_tokenizer,\n",
        "    ngram_range=(1, 2)\n",
        ")"
      ]
    },
    {
      "cell_type": "code",
      "execution_count": 8,
      "metadata": {
        "id": "PmN_EWQ6eLiK",
        "outputId": "d373fdfe-5b6c-45e4-c673-a66da7560e19"
      },
      "outputs": [
        {
          "name": "stderr",
          "output_type": "stream",
          "text": [
            "/home/futyn/miniconda3/lib/python3.12/site-packages/sklearn/feature_extraction/text.py:521: UserWarning: The parameter 'token_pattern' will not be used since 'tokenizer' is not None'\n",
            "  warnings.warn(\n"
          ]
        },
        {
          "name": "stdout",
          "output_type": "stream",
          "text": [
            "Train scores:\n",
            "              precision    recall  f1-score   support\n",
            "\n",
            "       False       0.99      0.77      0.86       688\n",
            "        True       0.87      0.99      0.93      1061\n",
            "\n",
            "    accuracy                           0.91      1749\n",
            "   macro avg       0.93      0.88      0.90      1749\n",
            "weighted avg       0.92      0.91      0.90      1749\n",
            "\n",
            "\n",
            "Validation scores:\n",
            "              precision    recall  f1-score   support\n",
            "\n",
            "       False       0.93      0.12      0.22       204\n",
            "        True       0.53      0.99      0.69       206\n",
            "\n",
            "    accuracy                           0.56       410\n",
            "   macro avg       0.73      0.56      0.45       410\n",
            "weighted avg       0.73      0.56      0.46       410\n",
            "\n",
            "\n",
            "Test scores:\n",
            "              precision    recall  f1-score   support\n",
            "\n",
            "       False       0.82      0.09      0.16       205\n",
            "        True       0.52      0.98      0.68       206\n",
            "\n",
            "    accuracy                           0.54       411\n",
            "   macro avg       0.67      0.53      0.42       411\n",
            "weighted avg       0.67      0.54      0.42       411\n",
            "\n"
          ]
        }
      ],
      "source": [
        "\n",
        "_, scores = eval_DaNetQA(\n",
        "    'final_data/train.jsonl',\n",
        "    'final_data/val.jsonl',\n",
        "    'final_data/test.jsonl',\n",
        "    tfidf_vectorizer\n",
        ")\n",
        "\n",
        "print(\"Train scores:\")\n",
        "print(scores['train'])\n",
        "print(\"\\nValidation scores:\")\n",
        "print(scores['val'])\n",
        "print(\"\\nTest scores:\")\n",
        "print(scores['test'])"
      ]
    },
    {
      "cell_type": "markdown",
      "metadata": {
        "id": "E26Tbw3seLiK"
      },
      "source": [
        "Во-первых, стоит сказать, что в обоих экспериментах мы наблюдаем жёсткое переобучение: метрики на тренировочном наборе данных намного выше, чем на тестовом и валидационном. Однако даже по метрикам на тренировочном наборе заметно, что модель чаще склонна говорить \"да\", даже если ответ на вопрос отрицательный - это видно по метрике recall. На тестовом и валидационном наборах данных \"yes-bias\" модели совсем критичный: для ответов \"да\" recall почти стопроцентный, тогда как для \"нет\" едва ли больше 10%, то есть модель почти всегда говорит \"да\". Видимо, это происходит из-за дисбаланса данных в тренировочной выборке, где вопросов с правильным утвердительным ответом больше.\n",
        "\n",
        "Во-вторых, вопреки ожиданиям, добавление дополнительной информации в виде фрагмента текста ухудшило результат. Это можно связать с тем, что логистическая регрессия не способна моделировать логические отношения между текстом и вопросом, да и представление TF-IDF для этого не подходит, потому что не содержит никакой информации о семантике - в итоге когда мы добавляем больше текста, появляется больше шума, а новой информации для обобщения не появляется.\n",
        "\n",
        "В целом, baseline-модель вообще не выучила никаких закономерностей и получилась почти константной, что говорит о том, что TF-IDF не подходит для моделирования логической связи между вопросом и текстом, в котором этот вопрос содержится, да и логистическая регрессия, видимо, тоже. Для решения задачи стоит задействовать глубокое обучение, как для получения адекватного представления текста, так и для классификации, или, что ещё лучше, перейти от задачи классификации к задаче генерации."
      ]
    },
    {
      "cell_type": "code",
      "execution_count": null,
      "metadata": {
        "id": "yuzTisKWeLiK"
      },
      "outputs": [],
      "source": [
        "!mkdir exp_preds"
      ]
    },
    {
      "cell_type": "markdown",
      "metadata": {
        "id": "yqULRsRueLiK"
      },
      "source": [
        "## 5. Классификация с помощью предобученного инструктивного энкодера и MLP\n",
        "\n",
        "Современные энкодеры способны эффективно вычислять эмбеддинги сразу для предложений. Они специально обучались на множестве датасетов под разные задачи: классификация, кластеризация, QA, информационный поиск и так далее. Есть несколько SOTA-энкодеров, которые обучались с использованием инструкций - это значит, что они могут строить разные эмбеддинги в зависимости от данных инструкций: одни будут больше подходить для классификации, другие - для кластеризации, и так далее. Мы можем взять одну из таких моделей, а именно, [multilingual-e5-large-instruct](https://huggingface.co/intfloat/multilingual-e5-large-instruct), составить инструкцию для бинарного QA, получить высококачественные эмбеддинги и обучить простой MLP-классификатор с их использованием.\n",
        "\n",
        "Это, во-первых, требует меньше памяти, чем fine-tuning трансформера, во-вторых, потенциально может дать даже лучший результат за счёт того, что модель обучена на разных supervised-датасетах и может производить высококачественные представления текста.\n",
        "\n",
        "При обучении будем подбирать гиперпараметры: learning rate, dropout и weight_decay - в надежде побороть переобучение. Подбирать будем последовательно в вышеперечисленном порядке."
      ]
    },
    {
      "cell_type": "code",
      "execution_count": null,
      "metadata": {
        "id": "T-1WHZQ6eLiK",
        "outputId": "1e55e55e-b737-420f-dee6-234fd1a0222d"
      },
      "outputs": [
        {
          "name": "stderr",
          "output_type": "stream",
          "text": [
            "2024-12-27 16:15:27.723090: I tensorflow/core/util/port.cc:153] oneDNN custom operations are on. You may see slightly different numerical results due to floating-point round-off errors from different computation orders. To turn them off, set the environment variable `TF_ENABLE_ONEDNN_OPTS=0`.\n",
            "2024-12-27 16:15:27.737539: E external/local_xla/xla/stream_executor/cuda/cuda_fft.cc:477] Unable to register cuFFT factory: Attempting to register factory for plugin cuFFT when one has already been registered\n",
            "WARNING: All log messages before absl::InitializeLog() is called are written to STDERR\n",
            "E0000 00:00:1735316127.754091  101887 cuda_dnn.cc:8310] Unable to register cuDNN factory: Attempting to register factory for plugin cuDNN when one has already been registered\n",
            "E0000 00:00:1735316127.759063  101887 cuda_blas.cc:1418] Unable to register cuBLAS factory: Attempting to register factory for plugin cuBLAS when one has already been registered\n",
            "2024-12-27 16:15:27.776770: I tensorflow/core/platform/cpu_feature_guard.cc:210] This TensorFlow binary is optimized to use available CPU instructions in performance-critical operations.\n",
            "To enable the following instructions: AVX2 AVX512F AVX512_VNNI FMA, in other operations, rebuild TensorFlow with the appropriate compiler flags.\n"
          ]
        }
      ],
      "source": [
        "import os\n",
        "import random\n",
        "import torch\n",
        "import torch.nn as nn\n",
        "import torch.nn.functional as F\n",
        "import pytorch_lightning as pl\n",
        "from torch.utils.data import DataLoader\n",
        "from torchmetrics.classification import BinaryF1Score, BinaryAccuracy\n",
        "from pytorch_lightning.callbacks.early_stopping import EarlyStopping\n",
        "from sentence_transformers import SentenceTransformer\n",
        "from sklearn.metrics import classification_report\n",
        "import pandas as pd\n",
        "import numpy as np\n",
        "from tqdm.auto import tqdm"
      ]
    },
    {
      "cell_type": "code",
      "execution_count": null,
      "metadata": {
        "id": "bienYvUdeLiK"
      },
      "outputs": [],
      "source": [
        "os.environ[\"TOKENIZERS_PARALLELISM\"] = \"false\""
      ]
    },
    {
      "cell_type": "code",
      "execution_count": null,
      "metadata": {
        "id": "nfUDuzJ8eLiL"
      },
      "outputs": [],
      "source": [
        "# Фиксируем seed везде, где можем\n",
        "def set_random_seed(seed):\n",
        "    torch.backends.cudnn.deterministic = True\n",
        "    torch.backends.cudnn.benchmark = False\n",
        "    torch.manual_seed(seed)\n",
        "    torch.cuda.manual_seed_all(seed)\n",
        "    np.random.seed(seed)\n",
        "    random.seed(seed)\n",
        "    os.environ[\"PYTHONHASHSEED\"] = str(seed)\n",
        "\n",
        "\n",
        "set_random_seed(42)"
      ]
    },
    {
      "cell_type": "code",
      "execution_count": null,
      "metadata": {
        "id": "0QR24iLfeLiL"
      },
      "outputs": [],
      "source": [
        "# Класс датасета\n",
        "class DaNetQADataset(torch.utils.data.Dataset):\n",
        "    def __init__(self, embeddings, labels):\n",
        "        self.embeddings = embeddings.cpu()\n",
        "        self.labels = labels\n",
        "\n",
        "    def __len__(self):\n",
        "        # Возвращаем количество объектов в датасете\n",
        "        return len(self.labels)\n",
        "\n",
        "    def __getitem__(self, idx):\n",
        "        # Возвращаем конкретный объект по индексу\n",
        "        return self.embeddings[idx], torch.tensor(\n",
        "            self.labels[idx], dtype=torch.long)"
      ]
    },
    {
      "cell_type": "code",
      "execution_count": null,
      "metadata": {
        "id": "Wh1sdSGCeLiL"
      },
      "outputs": [],
      "source": [
        "# Простая MLP-нейросеть\n",
        "class MLP(nn.Module):\n",
        "    def __init__(\n",
        "            self,\n",
        "            input_dim=1024,  # размер эмбеддинга\n",
        "            hidden_dim=512,  # скрытый слой\n",
        "            dropout_rate=0.3,  # регуляризация\n",
        "            num_classes=2):\n",
        "        super(MLP, self).__init__()\n",
        "        self.input_dim = input_dim\n",
        "        self.hidden_dim = hidden_dim\n",
        "\n",
        "        self.fc1 = nn.Linear(self.input_dim, self.hidden_dim)\n",
        "        self.fc2 = nn.Linear(self.hidden_dim, self.hidden_dim // 2)\n",
        "        self.fc3 = nn.Linear(self.hidden_dim // 2, num_classes)\n",
        "\n",
        "        self.norm1 = nn.LayerNorm(self.hidden_dim)\n",
        "        self.norm2 = nn.LayerNorm(self.hidden_dim // 2)\n",
        "        self.dropout = nn.Dropout(p=dropout_rate)\n",
        "\n",
        "    def forward(self, x):\n",
        "        x = self.dropout(F.relu(self.norm1(self.fc1(x))))\n",
        "        x = self.dropout(F.relu(self.norm2(self.fc2(x))))\n",
        "        x = self.fc3(x)\n",
        "        return F.log_softmax(x, dim=1)"
      ]
    },
    {
      "cell_type": "code",
      "execution_count": null,
      "metadata": {
        "id": "nQJBn54KeLiL"
      },
      "outputs": [],
      "source": [
        "# Классификатор на основе PyTorch-Lightning\n",
        "class DaNetQAClassifier(pl.LightningModule):\n",
        "    def __init__(\n",
        "            self,\n",
        "            train_dataset,\n",
        "            val_dataset,\n",
        "            batch_size=32,\n",
        "            lr=1e-3,\n",
        "            dropout_rate=0.3,\n",
        "            weight_decay=1e-5):\n",
        "        super().__init__()\n",
        "        self.train_dataset = train_dataset\n",
        "        self.val_dataset = val_dataset\n",
        "        self.batch_size = batch_size\n",
        "        self.lr = lr\n",
        "        self.weight_decay = weight_decay\n",
        "        self.f1_score = BinaryF1Score()\n",
        "        self.accuracy_score = BinaryAccuracy()\n",
        "\n",
        "        self.model = MLP(\n",
        "            input_dim=1024,\n",
        "            dropout_rate=dropout_rate,\n",
        "            num_classes=2)\n",
        "        self.save_hyperparameters(ignore=['train_dataset', 'val_dataset'])\n",
        "\n",
        "    def forward(self, x):\n",
        "        return self.model(x)\n",
        "\n",
        "    def training_step(self, batch, batch_idx):\n",
        "        x, y = batch\n",
        "        logits = self.model(x)\n",
        "        loss = F.nll_loss(logits, y)\n",
        "        preds = torch.argmax(logits, dim=1)\n",
        "        # Считаем и логируем метрики\n",
        "        f1 = self.f1_score(preds, y)\n",
        "        accuracy = self.accuracy_score(preds, y)\n",
        "        self.log('train_loss', loss, prog_bar=True)\n",
        "        self.log('train_f1', f1, prog_bar=True)\n",
        "        self.log('train_acc', accuracy, prog_bar=True)\n",
        "        return loss\n",
        "\n",
        "    def validation_step(self, batch, batch_idx):\n",
        "        x, y = batch\n",
        "        logits = self.model(x)\n",
        "        loss = F.nll_loss(logits, y)\n",
        "        preds = torch.argmax(logits, dim=1)\n",
        "        f1 = self.f1_score(preds, y)\n",
        "        accuracy = self.accuracy_score(preds, y)\n",
        "        # Считаем и логируем метрики\n",
        "        self.log('val_loss', loss, prog_bar=True)\n",
        "        self.log('val_f1', f1, prog_bar=True)\n",
        "        self.log('val_acc', accuracy, prog_bar=True)\n",
        "        return loss\n",
        "\n",
        "    def configure_optimizers(self):\n",
        "        optimizer = torch.optim.AdamW(\n",
        "            self.model.parameters(),\n",
        "            lr=self.lr,\n",
        "            weight_decay=self.weight_decay)\n",
        "        scheduler = torch.optim.lr_scheduler.ReduceLROnPlateau(\n",
        "            optimizer, mode='min', factor=0.5, patience=3, verbose=True\n",
        "        )\n",
        "        return {\n",
        "            \"optimizer\": optimizer,\n",
        "            \"lr_scheduler\": {\n",
        "                \"scheduler\": scheduler,\n",
        "                \"monitor\": \"val_acc\",\n",
        "                \"frequency\": 1\n",
        "            }\n",
        "        }\n",
        "\n",
        "    def train_dataloader(self):\n",
        "        return DataLoader(self.train_dataset, batch_size=self.batch_size,\n",
        "                          shuffle=True, num_workers=15, pin_memory=True)\n",
        "\n",
        "    def val_dataloader(self):\n",
        "        return DataLoader(\n",
        "            self.val_dataset,\n",
        "            shuffle=False,\n",
        "            batch_size=self.batch_size,\n",
        "            num_workers=15,\n",
        "            pin_memory=True)"
      ]
    },
    {
      "cell_type": "markdown",
      "metadata": {
        "id": "XvAmj6ZGeLiL"
      },
      "source": [
        "Наша инструкция будет выглядеть следующим образом:\n",
        "\n",
        "> Given a question and the passage, answer 'yes' or 'no' to this question based on the passage\n",
        "\n",
        "Далее мы объединим текстовый фрагмент и вопрос в формате `Passage: {passage}\\nQuestion: {question}`."
      ]
    },
    {
      "cell_type": "code",
      "execution_count": null,
      "metadata": {
        "id": "7AGWx5zweLiL"
      },
      "outputs": [],
      "source": [
        "# Функция для получения эмбеддингов\n",
        "def get_embeddings(questions, passages):\n",
        "    model = SentenceTransformer('intfloat/multilingual-e5-large-instruct')\n",
        "\n",
        "    instruction = \"Given a question and the passage, answer 'yes' or 'no' to this question based on the passage\"\n",
        "    formatted_inputs = [\n",
        "        f\"Instruct: {instruction}\\nQuery: Question: {q}\\nPassage: {p}\"\n",
        "        for q, p in zip(questions, passages)\n",
        "    ]\n",
        "\n",
        "    embeddings = model.encode(\n",
        "        formatted_inputs,\n",
        "        normalize_embeddings=True,\n",
        "        show_progress_bar=True,\n",
        "        batch_size=32,\n",
        "        convert_to_tensor=True\n",
        "    )\n",
        "    return embeddings"
      ]
    },
    {
      "cell_type": "code",
      "execution_count": null,
      "metadata": {
        "id": "EgtjrDYMeLiL"
      },
      "outputs": [],
      "source": [
        "train_df = pd.read_json('final_data/train.jsonl', lines=True)\n",
        "val_df = pd.read_json('final_data/val.jsonl', lines=True)\n",
        "test_df = pd.read_json('final_data/test.jsonl', lines=True)\n",
        "\n",
        "train_labels = train_df['label'].values\n",
        "val_labels = val_df['label'].values\n",
        "test_labels = test_df['label'].values"
      ]
    },
    {
      "cell_type": "code",
      "execution_count": null,
      "metadata": {
        "colab": {
          "referenced_widgets": [
            "e90ca738d2e949509d9b56a98901acf9"
          ]
        },
        "id": "KmyFtNxyeLiL",
        "outputId": "0b30f567-7514-4304-fa5b-99c8ef1ef563"
      },
      "outputs": [
        {
          "data": {
            "application/vnd.jupyter.widget-view+json": {
              "model_id": "e90ca738d2e949509d9b56a98901acf9",
              "version_major": 2,
              "version_minor": 0
            },
            "text/plain": [
              "Batches:   0%|          | 0/55 [00:00<?, ?it/s]"
            ]
          },
          "metadata": {},
          "output_type": "display_data"
        }
      ],
      "source": [
        "train_embeddings = get_embeddings(\n",
        "    train_df['question'].tolist(),\n",
        "    train_df['passage'].tolist())\n",
        "torch.save(train_embeddings, 'final_data/train_embeddings.pt')"
      ]
    },
    {
      "cell_type": "code",
      "execution_count": null,
      "metadata": {
        "colab": {
          "referenced_widgets": [
            "dff8261d0e6a4d22b3cc5ce2f66e14ce"
          ]
        },
        "id": "lliGzKWxeLiM",
        "outputId": "3d3b197a-5b0a-44b3-dc7c-0dcc3790ca8e"
      },
      "outputs": [
        {
          "data": {
            "application/vnd.jupyter.widget-view+json": {
              "model_id": "dff8261d0e6a4d22b3cc5ce2f66e14ce",
              "version_major": 2,
              "version_minor": 0
            },
            "text/plain": [
              "Batches:   0%|          | 0/13 [00:00<?, ?it/s]"
            ]
          },
          "metadata": {},
          "output_type": "display_data"
        }
      ],
      "source": [
        "val_embeddings = get_embeddings(\n",
        "    val_df['question'].tolist(),\n",
        "    val_df['passage'].tolist())\n",
        "torch.save(val_embeddings, 'final_data/val_embeddings.pt')"
      ]
    },
    {
      "cell_type": "code",
      "execution_count": null,
      "metadata": {
        "colab": {
          "referenced_widgets": [
            "81c4a9c1af2e422f9da50a7960506220"
          ]
        },
        "id": "mREByJJgeLiM",
        "outputId": "2128bcdd-2f6a-4deb-b091-4743b4a46492"
      },
      "outputs": [
        {
          "data": {
            "application/vnd.jupyter.widget-view+json": {
              "model_id": "81c4a9c1af2e422f9da50a7960506220",
              "version_major": 2,
              "version_minor": 0
            },
            "text/plain": [
              "Batches:   0%|          | 0/13 [00:00<?, ?it/s]"
            ]
          },
          "metadata": {},
          "output_type": "display_data"
        }
      ],
      "source": [
        "test_embeddings = get_embeddings(\n",
        "    test_df['question'].tolist(),\n",
        "    test_df['passage'].tolist())\n",
        "torch.save(test_embeddings, 'final_data/test_embeddings.pt')"
      ]
    },
    {
      "cell_type": "code",
      "execution_count": null,
      "metadata": {
        "id": "zx-GUUObeLiM",
        "outputId": "c586f629-f576-4875-d1b0-2a8ede81ba81"
      },
      "outputs": [
        {
          "name": "stderr",
          "output_type": "stream",
          "text": [
            "/tmp/ipykernel_101887/2589031526.py:1: FutureWarning: You are using `torch.load` with `weights_only=False` (the current default value), which uses the default pickle module implicitly. It is possible to construct malicious pickle data which will execute arbitrary code during unpickling (See https://github.com/pytorch/pytorch/blob/main/SECURITY.md#untrusted-models for more details). In a future release, the default value for `weights_only` will be flipped to `True`. This limits the functions that could be executed during unpickling. Arbitrary objects will no longer be allowed to be loaded via this mode unless they are explicitly allowlisted by the user via `torch.serialization.add_safe_globals`. We recommend you start setting `weights_only=True` for any use case where you don't have full control of the loaded file. Please open an issue on GitHub for any issues related to this experimental feature.\n",
            "  train_embeddings = torch.load('final_data/train_embeddings.pt')\n",
            "/tmp/ipykernel_101887/2589031526.py:2: FutureWarning: You are using `torch.load` with `weights_only=False` (the current default value), which uses the default pickle module implicitly. It is possible to construct malicious pickle data which will execute arbitrary code during unpickling (See https://github.com/pytorch/pytorch/blob/main/SECURITY.md#untrusted-models for more details). In a future release, the default value for `weights_only` will be flipped to `True`. This limits the functions that could be executed during unpickling. Arbitrary objects will no longer be allowed to be loaded via this mode unless they are explicitly allowlisted by the user via `torch.serialization.add_safe_globals`. We recommend you start setting `weights_only=True` for any use case where you don't have full control of the loaded file. Please open an issue on GitHub for any issues related to this experimental feature.\n",
            "  val_embeddings = torch.load('final_data/val_embeddings.pt')\n",
            "/tmp/ipykernel_101887/2589031526.py:3: FutureWarning: You are using `torch.load` with `weights_only=False` (the current default value), which uses the default pickle module implicitly. It is possible to construct malicious pickle data which will execute arbitrary code during unpickling (See https://github.com/pytorch/pytorch/blob/main/SECURITY.md#untrusted-models for more details). In a future release, the default value for `weights_only` will be flipped to `True`. This limits the functions that could be executed during unpickling. Arbitrary objects will no longer be allowed to be loaded via this mode unless they are explicitly allowlisted by the user via `torch.serialization.add_safe_globals`. We recommend you start setting `weights_only=True` for any use case where you don't have full control of the loaded file. Please open an issue on GitHub for any issues related to this experimental feature.\n",
            "  test_embeddings = torch.load('final_data/test_embeddings.pt')\n"
          ]
        }
      ],
      "source": [
        "# Загружаем сохранённые в файлы эмбеддинги\n",
        "train_embeddings = torch.load('final_data/train_embeddings.pt')\n",
        "val_embeddings = torch.load('final_data/val_embeddings.pt')\n",
        "test_embeddings = torch.load('final_data/test_embeddings.pt')\n",
        "\n",
        "train_dataset = DaNetQADataset(train_embeddings, train_labels)\n",
        "val_dataset = DaNetQADataset(val_embeddings, val_labels)\n",
        "test_dataset = DaNetQADataset(test_embeddings, test_labels)"
      ]
    },
    {
      "cell_type": "code",
      "execution_count": null,
      "metadata": {
        "colab": {
          "referenced_widgets": [
            "0ad2c69c01ce4dbfbdf387743e02f127",
            "9f439e11bddc4c29a4a9c7f01dc49bda",
            "a83994fabe7b4bbfb2683baab40a9a57",
            "dadf1627fa0648a6ab63ace5bc4892b4",
            "a5b80ca054f1451996e6511a83d84cc8",
            "210ace66c47b49ed8a68dde91443a45f",
            "af15891b27d241bea9b4ad6b1f6c31b7",
            "7c0a3512b0b4418d965c5f85be3bc045",
            "e19008189a394eb8a4b226e0b9335233",
            "d18d75d8ba1449e49011164fdff0fa7f",
            "6cb1f6f9149f4267a4b99533a6235965",
            "c5f4b05d30be418092d9bace951c32ed",
            "d31cc8a318b94983864620e8c31e618f",
            "a8bd5b70675f4689987c72e486f9b221",
            "55c3c6b2cace4e3f9f867afef8c99e70",
            "0aeeb3e066354525a14b908fc373bd8b",
            "e6ec0ccb3a58434a9a8b5fbfec866654",
            "0c029de9d58c44c1a53ff61475602512",
            "8c089df80a82455787e7261577c521e0",
            "9be68339f37e49b48c508b35cf1a0549",
            "9716a0f96fba46fca619cf9db674135d",
            "a7a489bdc50c43bebb3f1957349aa9fe",
            "4425f5253e0b4a5489698becea3c6ccf",
            "11141d93ce6345a19be7baff0bac7830",
            "8fb328b3422943bc853579461c1640dd",
            "a79dec1b219d40498f5ce8728208e37d",
            "28812c86cee64f1baf5ca0c7de7a34cb",
            "75525c8fd348475da5f406086745b6f3",
            "47629ee5fcf648bda8275ce9e4a75604",
            "bad94b336b044e2a971b1d819f8cb8bd",
            "0bbb08d719984c0a96ac353c9020198b",
            "bee3e071da1348bab4bd90d817b0ab65",
            "3e3b6e3637fd4e67ba3abf1071aef634",
            "131712e7e414477aa805874fa475f5c9",
            "4b0fe471740246898ef388f6aa92fa2e",
            "ed87c3e64f1a4d7f997b01d4bfc676c3",
            "adddaf4d55f64030beaa1b68cbd79410",
            "607927086c2942fca282c9b87e0967bb",
            "7805516adb3348e69fc4a00e9d825c50",
            "a6fcdcf89ca4409f984108108aba61b9",
            "41bca824f7f74782bd001fb09e0f6869",
            "322cafab7ff94a4e81b0b32b6bb51138",
            "f3f193beac9c47f9b94643a6b70f3740",
            "a440e786822846aabbdff8026411bce9",
            "ca9a3e263df94ed18daaa1fadef36658",
            "dd19f55b9df942db824021b925f74c7d",
            "3b83448c29c1443eae6fb99a1dee6a44",
            "c786956ba17c4e719bfb52e91b45e4dd",
            "3ce8a89649354b59bd3d3cc12477bb17",
            "095a454d38c6474a9b862b459724ee84",
            "beff3a2abb1245d0a881e89a93ac3ad7",
            "26590b5556d14c6faa0d250d938ecdec",
            "9df9a853a11645c0aa6cd1c98b863fb2",
            "4540a0b6a9024d07933ac3d6beee29f9",
            "879fa9909e73450e91e92dbbb2134b00",
            "caf1b6fd0529442a9fbf18cc7069fa74",
            "1893f15ddfe4439789755e98e3a70268",
            "a7cc2e2203b143b7bb190a47d90982fe",
            "a5f0512de3ec4609bab21926457693de",
            "a27974daa83f4284a8beb53f8b50a3aa",
            "150a904a35a9437e98f14f2f1e554d05",
            "9ac565f1012d4ba08d949ff6680ce3d4",
            "304bf7be4061404f90a001d0df61d13e",
            "50538e1a691e47ccb70e635b007fb4ea",
            "39756dda7a5d4449ab1d886070d86480",
            "42167ff737cc4cc29a5425b341c6235c",
            "70a5df2335f54165b9782aad3d3f0edc",
            "3d8b0e80a9fa4570bceb397f8c0c1956",
            "f0bb0d078bff4335a1749e48dc598c8a",
            "09a13c0c0f174707adbba631e5dfac3c",
            "e10a3a41b29d4850ad95ccbaa2432fba",
            "641b9e597f7a4b9ca75d7864ce83f323",
            "ad2bfc9ea0b84491ae65019c4f78724a",
            "9779b9af3352465c8d1759b3486967be",
            "0c779d01dc4747db97bb8a420197fe11",
            "4e5894c1ff3e42b1aead6bfc1fc05cde",
            "3de7f8180ca0487c8abe4bb4504ad02b",
            "59f0eb831cca446fad4df106aecae2a9",
            "c6ef44707a624e56bc1cd22a6a63fd01",
            "bc959e0c483140efa0b39d9abb4b571b",
            "eea1dc67c4314e10b724ac2fe6cb60cf",
            "9a267a979e064854988549b0df77f6d1",
            "68c133d1f5784169b147a52fd6a5e3af",
            "31d2d571049544f7a29de36eadc16869",
            "db7cdb3ead744b61964a7c41ec41bb7a",
            "4df223ba9c19411bacce9d27ebcf817c",
            "296ca1fceee44588bb148d779e84af54",
            "5a5918453fd64e34a8cfffbfec7eeb1f",
            "f2d180053cbf44dd9636ecc9e7663190",
            "1a648e7de3a040b9bd0b2489a05bb1cb",
            "481577b79dd749e989d93cfdfd6325c0",
            "660574523048434eacedb72cd6631116",
            "dd4ac9a7d6f34260bbfbfb9770585f48",
            "46d697c308c74a9b898db98f5632c690",
            "8d94609317524d239dfe74b8137be0e6",
            "ef1ca4079510442782b89cb511fa7cf3",
            "a90cc28de5b549d097c28d42e15eaab7",
            "865fa39a5b8949bfbde6739ef4a9d357",
            "82e0ea9b39f64a16b2628143870a9cda",
            "91a0ad9c1254499e9c89967614dd56cd",
            "06db2544a9e242839aaff84805304e52",
            "0ace74686b084c03b92dbb425761a0c4",
            "441099035d164ff89742c335dde740b1",
            "78e6231c648e453eaca19d76fd782eb1",
            "f5a84e9b708f4e9d9773199432446814",
            "afb8331539ba43a3b5c6d20a074eb2e4",
            "4343eafa8c094752bc203a6fecae0193",
            "155b250f7dc5432fa41831f90f8a5016",
            "8a64fdc28e244cf4aa1a25132faf5979",
            "5078126c967545da9dcf556d8adee6ad",
            "ecf8a3b0935349989104e1a1936b3dab",
            "6661c02578134eb9a94e8401cf266c05",
            "27163720201d464290f5f4f3f901d6e2",
            "f1efbf541b364e978a47344612af08d5",
            "784b6a2593964cb8b2a7a9f8c0d53cd3",
            "e8e2ce56e54849289ffba273d9ad0e66",
            "47b8431d1f6f410b8f5d85cc684f6236",
            "0042d834e26b4f39b64aae411cf58197",
            "cc155b20ee714e4a8f0ef3e0bb15194d",
            "a7ba54d6b06f494093eee48d35c081cb",
            "4e09d59739f544949fbf98ee2c7ed1ec",
            "b92e74860a2b4a57b4433bb624291075",
            "e074eff30d6f4730aac6fd3fcf288131",
            "bbc2606ea36d4d768a9fa6687b7a6384",
            "dd8b4e5950df4208ba3f163fa547598e",
            "6595f0272d794a539e351eacfbd3e7e1",
            "d9e7adae6de5459c964dbdd85891d177",
            "66ded71d294741dfafc5efbb5c1e1d9d",
            "598056670b75448c89b5e022a806e42c",
            "0bdc34ad593641ce8d32c9d52757cf41",
            "d5371214c89248a6ad1dc0ef56d1373e",
            "9c9aef0732e047528d6cd6b99e4175d6",
            "39df923f4bc6482dba531beb2bac06d8",
            "df89db9ff08b4904802c8dbc13e5641a",
            "9e4249e5b96c429c89e1b32cd48aa9d3",
            "10cb4a6c31994f9eb5dfd4e621899c35",
            "0298724e357a4dbc8683e72e195a5813",
            "6d31d95ec7c34f1dbdab0301d2163bcf"
          ]
        },
        "id": "KIS98fM3eLiM",
        "outputId": "56bb6a76-580c-4067-bcdd-5242d7669418"
      },
      "outputs": [
        {
          "name": "stderr",
          "output_type": "stream",
          "text": [
            "GPU available: True (cuda), used: True\n",
            "TPU available: False, using: 0 TPU cores\n",
            "HPU available: False, using: 0 HPUs\n",
            "You are using a CUDA device ('NVIDIA A100 80GB PCIe MIG 3g.40gb') that has Tensor Cores. To properly utilize them, you should set `torch.set_float32_matmul_precision('medium' | 'high')` which will trade-off precision for performance. For more details, read https://pytorch.org/docs/stable/generated/torch.set_float32_matmul_precision.html#torch.set_float32_matmul_precision\n",
            "LOCAL_RANK: 0 - CUDA_VISIBLE_DEVICES: [0]\n",
            "\n",
            "  | Name           | Type           | Params | Mode \n",
            "----------------------------------------------------------\n",
            "0 | f1_score       | BinaryF1Score  | 0      | train\n",
            "1 | accuracy_score | BinaryAccuracy | 0      | train\n",
            "2 | model          | MLP            | 658 K  | train\n",
            "----------------------------------------------------------\n",
            "658 K     Trainable params\n",
            "0         Non-trainable params\n",
            "658 K     Total params\n",
            "2.633     Total estimated model params size (MB)\n",
            "9         Modules in train mode\n",
            "0         Modules in eval mode\n"
          ]
        },
        {
          "name": "stdout",
          "output_type": "stream",
          "text": [
            "\n",
            "Training with learning rate: 1e-05\n"
          ]
        },
        {
          "data": {
            "application/vnd.jupyter.widget-view+json": {
              "model_id": "0ad2c69c01ce4dbfbdf387743e02f127",
              "version_major": 2,
              "version_minor": 0
            },
            "text/plain": [
              "Sanity Checking: |          | 0/? [00:00<?, ?it/s]"
            ]
          },
          "metadata": {},
          "output_type": "display_data"
        },
        {
          "data": {
            "application/vnd.jupyter.widget-view+json": {
              "model_id": "9f439e11bddc4c29a4a9c7f01dc49bda",
              "version_major": 2,
              "version_minor": 0
            },
            "text/plain": [
              "Training: |          | 0/? [00:00<?, ?it/s]"
            ]
          },
          "metadata": {},
          "output_type": "display_data"
        },
        {
          "data": {
            "application/vnd.jupyter.widget-view+json": {
              "model_id": "a83994fabe7b4bbfb2683baab40a9a57",
              "version_major": 2,
              "version_minor": 0
            },
            "text/plain": [
              "Validation: |          | 0/? [00:00<?, ?it/s]"
            ]
          },
          "metadata": {},
          "output_type": "display_data"
        },
        {
          "name": "stderr",
          "output_type": "stream",
          "text": [
            "Metric val_acc improved. New best score: 0.502\n"
          ]
        },
        {
          "data": {
            "application/vnd.jupyter.widget-view+json": {
              "model_id": "dadf1627fa0648a6ab63ace5bc4892b4",
              "version_major": 2,
              "version_minor": 0
            },
            "text/plain": [
              "Validation: |          | 0/? [00:00<?, ?it/s]"
            ]
          },
          "metadata": {},
          "output_type": "display_data"
        },
        {
          "name": "stderr",
          "output_type": "stream",
          "text": [
            "Metric val_acc improved by 0.002 >= min_delta = 0.0. New best score: 0.505\n"
          ]
        },
        {
          "data": {
            "application/vnd.jupyter.widget-view+json": {
              "model_id": "a5b80ca054f1451996e6511a83d84cc8",
              "version_major": 2,
              "version_minor": 0
            },
            "text/plain": [
              "Validation: |          | 0/? [00:00<?, ?it/s]"
            ]
          },
          "metadata": {},
          "output_type": "display_data"
        },
        {
          "data": {
            "application/vnd.jupyter.widget-view+json": {
              "model_id": "210ace66c47b49ed8a68dde91443a45f",
              "version_major": 2,
              "version_minor": 0
            },
            "text/plain": [
              "Validation: |          | 0/? [00:00<?, ?it/s]"
            ]
          },
          "metadata": {},
          "output_type": "display_data"
        },
        {
          "name": "stderr",
          "output_type": "stream",
          "text": [
            "Metric val_acc improved by 0.059 >= min_delta = 0.0. New best score: 0.563\n"
          ]
        },
        {
          "data": {
            "application/vnd.jupyter.widget-view+json": {
              "model_id": "af15891b27d241bea9b4ad6b1f6c31b7",
              "version_major": 2,
              "version_minor": 0
            },
            "text/plain": [
              "Validation: |          | 0/? [00:00<?, ?it/s]"
            ]
          },
          "metadata": {},
          "output_type": "display_data"
        },
        {
          "name": "stderr",
          "output_type": "stream",
          "text": [
            "Metric val_acc improved by 0.012 >= min_delta = 0.0. New best score: 0.576\n"
          ]
        },
        {
          "data": {
            "application/vnd.jupyter.widget-view+json": {
              "model_id": "7c0a3512b0b4418d965c5f85be3bc045",
              "version_major": 2,
              "version_minor": 0
            },
            "text/plain": [
              "Validation: |          | 0/? [00:00<?, ?it/s]"
            ]
          },
          "metadata": {},
          "output_type": "display_data"
        },
        {
          "data": {
            "application/vnd.jupyter.widget-view+json": {
              "model_id": "e19008189a394eb8a4b226e0b9335233",
              "version_major": 2,
              "version_minor": 0
            },
            "text/plain": [
              "Validation: |          | 0/? [00:00<?, ?it/s]"
            ]
          },
          "metadata": {},
          "output_type": "display_data"
        },
        {
          "data": {
            "application/vnd.jupyter.widget-view+json": {
              "model_id": "d18d75d8ba1449e49011164fdff0fa7f",
              "version_major": 2,
              "version_minor": 0
            },
            "text/plain": [
              "Validation: |          | 0/? [00:00<?, ?it/s]"
            ]
          },
          "metadata": {},
          "output_type": "display_data"
        },
        {
          "name": "stderr",
          "output_type": "stream",
          "text": [
            "Metric val_acc improved by 0.007 >= min_delta = 0.0. New best score: 0.583\n"
          ]
        },
        {
          "data": {
            "application/vnd.jupyter.widget-view+json": {
              "model_id": "6cb1f6f9149f4267a4b99533a6235965",
              "version_major": 2,
              "version_minor": 0
            },
            "text/plain": [
              "Validation: |          | 0/? [00:00<?, ?it/s]"
            ]
          },
          "metadata": {},
          "output_type": "display_data"
        },
        {
          "name": "stderr",
          "output_type": "stream",
          "text": [
            "Metric val_acc improved by 0.024 >= min_delta = 0.0. New best score: 0.607\n"
          ]
        },
        {
          "data": {
            "application/vnd.jupyter.widget-view+json": {
              "model_id": "c5f4b05d30be418092d9bace951c32ed",
              "version_major": 2,
              "version_minor": 0
            },
            "text/plain": [
              "Validation: |          | 0/? [00:00<?, ?it/s]"
            ]
          },
          "metadata": {},
          "output_type": "display_data"
        },
        {
          "data": {
            "application/vnd.jupyter.widget-view+json": {
              "model_id": "d31cc8a318b94983864620e8c31e618f",
              "version_major": 2,
              "version_minor": 0
            },
            "text/plain": [
              "Validation: |          | 0/? [00:00<?, ?it/s]"
            ]
          },
          "metadata": {},
          "output_type": "display_data"
        },
        {
          "name": "stderr",
          "output_type": "stream",
          "text": [
            "Metric val_acc improved by 0.005 >= min_delta = 0.0. New best score: 0.612\n"
          ]
        },
        {
          "data": {
            "application/vnd.jupyter.widget-view+json": {
              "model_id": "a8bd5b70675f4689987c72e486f9b221",
              "version_major": 2,
              "version_minor": 0
            },
            "text/plain": [
              "Validation: |          | 0/? [00:00<?, ?it/s]"
            ]
          },
          "metadata": {},
          "output_type": "display_data"
        },
        {
          "data": {
            "application/vnd.jupyter.widget-view+json": {
              "model_id": "55c3c6b2cace4e3f9f867afef8c99e70",
              "version_major": 2,
              "version_minor": 0
            },
            "text/plain": [
              "Validation: |          | 0/? [00:00<?, ?it/s]"
            ]
          },
          "metadata": {},
          "output_type": "display_data"
        },
        {
          "name": "stderr",
          "output_type": "stream",
          "text": [
            "Metric val_acc improved by 0.002 >= min_delta = 0.0. New best score: 0.615\n"
          ]
        },
        {
          "data": {
            "application/vnd.jupyter.widget-view+json": {
              "model_id": "0aeeb3e066354525a14b908fc373bd8b",
              "version_major": 2,
              "version_minor": 0
            },
            "text/plain": [
              "Validation: |          | 0/? [00:00<?, ?it/s]"
            ]
          },
          "metadata": {},
          "output_type": "display_data"
        },
        {
          "name": "stderr",
          "output_type": "stream",
          "text": [
            "Metric val_acc improved by 0.002 >= min_delta = 0.0. New best score: 0.617\n"
          ]
        },
        {
          "data": {
            "application/vnd.jupyter.widget-view+json": {
              "model_id": "e6ec0ccb3a58434a9a8b5fbfec866654",
              "version_major": 2,
              "version_minor": 0
            },
            "text/plain": [
              "Validation: |          | 0/? [00:00<?, ?it/s]"
            ]
          },
          "metadata": {},
          "output_type": "display_data"
        },
        {
          "data": {
            "application/vnd.jupyter.widget-view+json": {
              "model_id": "0c029de9d58c44c1a53ff61475602512",
              "version_major": 2,
              "version_minor": 0
            },
            "text/plain": [
              "Validation: |          | 0/? [00:00<?, ?it/s]"
            ]
          },
          "metadata": {},
          "output_type": "display_data"
        },
        {
          "data": {
            "application/vnd.jupyter.widget-view+json": {
              "model_id": "8c089df80a82455787e7261577c521e0",
              "version_major": 2,
              "version_minor": 0
            },
            "text/plain": [
              "Validation: |          | 0/? [00:00<?, ?it/s]"
            ]
          },
          "metadata": {},
          "output_type": "display_data"
        },
        {
          "data": {
            "application/vnd.jupyter.widget-view+json": {
              "model_id": "9be68339f37e49b48c508b35cf1a0549",
              "version_major": 2,
              "version_minor": 0
            },
            "text/plain": [
              "Validation: |          | 0/? [00:00<?, ?it/s]"
            ]
          },
          "metadata": {},
          "output_type": "display_data"
        },
        {
          "data": {
            "application/vnd.jupyter.widget-view+json": {
              "model_id": "9716a0f96fba46fca619cf9db674135d",
              "version_major": 2,
              "version_minor": 0
            },
            "text/plain": [
              "Validation: |          | 0/? [00:00<?, ?it/s]"
            ]
          },
          "metadata": {},
          "output_type": "display_data"
        },
        {
          "data": {
            "application/vnd.jupyter.widget-view+json": {
              "model_id": "a7a489bdc50c43bebb3f1957349aa9fe",
              "version_major": 2,
              "version_minor": 0
            },
            "text/plain": [
              "Validation: |          | 0/? [00:00<?, ?it/s]"
            ]
          },
          "metadata": {},
          "output_type": "display_data"
        },
        {
          "data": {
            "application/vnd.jupyter.widget-view+json": {
              "model_id": "4425f5253e0b4a5489698becea3c6ccf",
              "version_major": 2,
              "version_minor": 0
            },
            "text/plain": [
              "Validation: |          | 0/? [00:00<?, ?it/s]"
            ]
          },
          "metadata": {},
          "output_type": "display_data"
        },
        {
          "data": {
            "application/vnd.jupyter.widget-view+json": {
              "model_id": "11141d93ce6345a19be7baff0bac7830",
              "version_major": 2,
              "version_minor": 0
            },
            "text/plain": [
              "Validation: |          | 0/? [00:00<?, ?it/s]"
            ]
          },
          "metadata": {},
          "output_type": "display_data"
        },
        {
          "data": {
            "application/vnd.jupyter.widget-view+json": {
              "model_id": "8fb328b3422943bc853579461c1640dd",
              "version_major": 2,
              "version_minor": 0
            },
            "text/plain": [
              "Validation: |          | 0/? [00:00<?, ?it/s]"
            ]
          },
          "metadata": {},
          "output_type": "display_data"
        },
        {
          "name": "stderr",
          "output_type": "stream",
          "text": [
            "Metric val_acc improved by 0.002 >= min_delta = 0.0. New best score: 0.620\n"
          ]
        },
        {
          "data": {
            "application/vnd.jupyter.widget-view+json": {
              "model_id": "a79dec1b219d40498f5ce8728208e37d",
              "version_major": 2,
              "version_minor": 0
            },
            "text/plain": [
              "Validation: |          | 0/? [00:00<?, ?it/s]"
            ]
          },
          "metadata": {},
          "output_type": "display_data"
        },
        {
          "data": {
            "application/vnd.jupyter.widget-view+json": {
              "model_id": "28812c86cee64f1baf5ca0c7de7a34cb",
              "version_major": 2,
              "version_minor": 0
            },
            "text/plain": [
              "Validation: |          | 0/? [00:00<?, ?it/s]"
            ]
          },
          "metadata": {},
          "output_type": "display_data"
        },
        {
          "data": {
            "application/vnd.jupyter.widget-view+json": {
              "model_id": "75525c8fd348475da5f406086745b6f3",
              "version_major": 2,
              "version_minor": 0
            },
            "text/plain": [
              "Validation: |          | 0/? [00:00<?, ?it/s]"
            ]
          },
          "metadata": {},
          "output_type": "display_data"
        },
        {
          "data": {
            "application/vnd.jupyter.widget-view+json": {
              "model_id": "47629ee5fcf648bda8275ce9e4a75604",
              "version_major": 2,
              "version_minor": 0
            },
            "text/plain": [
              "Validation: |          | 0/? [00:00<?, ?it/s]"
            ]
          },
          "metadata": {},
          "output_type": "display_data"
        },
        {
          "data": {
            "application/vnd.jupyter.widget-view+json": {
              "model_id": "bad94b336b044e2a971b1d819f8cb8bd",
              "version_major": 2,
              "version_minor": 0
            },
            "text/plain": [
              "Validation: |          | 0/? [00:00<?, ?it/s]"
            ]
          },
          "metadata": {},
          "output_type": "display_data"
        },
        {
          "data": {
            "application/vnd.jupyter.widget-view+json": {
              "model_id": "0bbb08d719984c0a96ac353c9020198b",
              "version_major": 2,
              "version_minor": 0
            },
            "text/plain": [
              "Validation: |          | 0/? [00:00<?, ?it/s]"
            ]
          },
          "metadata": {},
          "output_type": "display_data"
        },
        {
          "data": {
            "application/vnd.jupyter.widget-view+json": {
              "model_id": "bee3e071da1348bab4bd90d817b0ab65",
              "version_major": 2,
              "version_minor": 0
            },
            "text/plain": [
              "Validation: |          | 0/? [00:00<?, ?it/s]"
            ]
          },
          "metadata": {},
          "output_type": "display_data"
        },
        {
          "data": {
            "application/vnd.jupyter.widget-view+json": {
              "model_id": "3e3b6e3637fd4e67ba3abf1071aef634",
              "version_major": 2,
              "version_minor": 0
            },
            "text/plain": [
              "Validation: |          | 0/? [00:00<?, ?it/s]"
            ]
          },
          "metadata": {},
          "output_type": "display_data"
        },
        {
          "data": {
            "application/vnd.jupyter.widget-view+json": {
              "model_id": "131712e7e414477aa805874fa475f5c9",
              "version_major": 2,
              "version_minor": 0
            },
            "text/plain": [
              "Validation: |          | 0/? [00:00<?, ?it/s]"
            ]
          },
          "metadata": {},
          "output_type": "display_data"
        },
        {
          "data": {
            "application/vnd.jupyter.widget-view+json": {
              "model_id": "4b0fe471740246898ef388f6aa92fa2e",
              "version_major": 2,
              "version_minor": 0
            },
            "text/plain": [
              "Validation: |          | 0/? [00:00<?, ?it/s]"
            ]
          },
          "metadata": {},
          "output_type": "display_data"
        },
        {
          "name": "stderr",
          "output_type": "stream",
          "text": [
            "Monitored metric val_acc did not improve in the last 10 records. Best score: 0.620. Signaling Trainer to stop.\n",
            "GPU available: True (cuda), used: True\n",
            "TPU available: False, using: 0 TPU cores\n",
            "HPU available: False, using: 0 HPUs\n",
            "LOCAL_RANK: 0 - CUDA_VISIBLE_DEVICES: [0]\n",
            "\n",
            "  | Name           | Type           | Params | Mode \n",
            "----------------------------------------------------------\n",
            "0 | f1_score       | BinaryF1Score  | 0      | train\n",
            "1 | accuracy_score | BinaryAccuracy | 0      | train\n",
            "2 | model          | MLP            | 658 K  | train\n",
            "----------------------------------------------------------\n",
            "658 K     Trainable params\n",
            "0         Non-trainable params\n",
            "658 K     Total params\n",
            "2.633     Total estimated model params size (MB)\n",
            "9         Modules in train mode\n",
            "0         Modules in eval mode\n"
          ]
        },
        {
          "name": "stdout",
          "output_type": "stream",
          "text": [
            "\n",
            "Training with learning rate: 5e-05\n"
          ]
        },
        {
          "data": {
            "application/vnd.jupyter.widget-view+json": {
              "model_id": "ed87c3e64f1a4d7f997b01d4bfc676c3",
              "version_major": 2,
              "version_minor": 0
            },
            "text/plain": [
              "Sanity Checking: |          | 0/? [00:00<?, ?it/s]"
            ]
          },
          "metadata": {},
          "output_type": "display_data"
        },
        {
          "data": {
            "application/vnd.jupyter.widget-view+json": {
              "model_id": "adddaf4d55f64030beaa1b68cbd79410",
              "version_major": 2,
              "version_minor": 0
            },
            "text/plain": [
              "Training: |          | 0/? [00:00<?, ?it/s]"
            ]
          },
          "metadata": {},
          "output_type": "display_data"
        },
        {
          "data": {
            "application/vnd.jupyter.widget-view+json": {
              "model_id": "607927086c2942fca282c9b87e0967bb",
              "version_major": 2,
              "version_minor": 0
            },
            "text/plain": [
              "Validation: |          | 0/? [00:00<?, ?it/s]"
            ]
          },
          "metadata": {},
          "output_type": "display_data"
        },
        {
          "name": "stderr",
          "output_type": "stream",
          "text": [
            "Metric val_acc improved. New best score: 0.502\n"
          ]
        },
        {
          "data": {
            "application/vnd.jupyter.widget-view+json": {
              "model_id": "7805516adb3348e69fc4a00e9d825c50",
              "version_major": 2,
              "version_minor": 0
            },
            "text/plain": [
              "Validation: |          | 0/? [00:00<?, ?it/s]"
            ]
          },
          "metadata": {},
          "output_type": "display_data"
        },
        {
          "name": "stderr",
          "output_type": "stream",
          "text": [
            "Metric val_acc improved by 0.144 >= min_delta = 0.0. New best score: 0.646\n"
          ]
        },
        {
          "data": {
            "application/vnd.jupyter.widget-view+json": {
              "model_id": "a6fcdcf89ca4409f984108108aba61b9",
              "version_major": 2,
              "version_minor": 0
            },
            "text/plain": [
              "Validation: |          | 0/? [00:00<?, ?it/s]"
            ]
          },
          "metadata": {},
          "output_type": "display_data"
        },
        {
          "data": {
            "application/vnd.jupyter.widget-view+json": {
              "model_id": "41bca824f7f74782bd001fb09e0f6869",
              "version_major": 2,
              "version_minor": 0
            },
            "text/plain": [
              "Validation: |          | 0/? [00:00<?, ?it/s]"
            ]
          },
          "metadata": {},
          "output_type": "display_data"
        },
        {
          "name": "stderr",
          "output_type": "stream",
          "text": [
            "Metric val_acc improved by 0.078 >= min_delta = 0.0. New best score: 0.724\n"
          ]
        },
        {
          "data": {
            "application/vnd.jupyter.widget-view+json": {
              "model_id": "322cafab7ff94a4e81b0b32b6bb51138",
              "version_major": 2,
              "version_minor": 0
            },
            "text/plain": [
              "Validation: |          | 0/? [00:00<?, ?it/s]"
            ]
          },
          "metadata": {},
          "output_type": "display_data"
        },
        {
          "data": {
            "application/vnd.jupyter.widget-view+json": {
              "model_id": "f3f193beac9c47f9b94643a6b70f3740",
              "version_major": 2,
              "version_minor": 0
            },
            "text/plain": [
              "Validation: |          | 0/? [00:00<?, ?it/s]"
            ]
          },
          "metadata": {},
          "output_type": "display_data"
        },
        {
          "data": {
            "application/vnd.jupyter.widget-view+json": {
              "model_id": "a440e786822846aabbdff8026411bce9",
              "version_major": 2,
              "version_minor": 0
            },
            "text/plain": [
              "Validation: |          | 0/? [00:00<?, ?it/s]"
            ]
          },
          "metadata": {},
          "output_type": "display_data"
        },
        {
          "data": {
            "application/vnd.jupyter.widget-view+json": {
              "model_id": "ca9a3e263df94ed18daaa1fadef36658",
              "version_major": 2,
              "version_minor": 0
            },
            "text/plain": [
              "Validation: |          | 0/? [00:00<?, ?it/s]"
            ]
          },
          "metadata": {},
          "output_type": "display_data"
        },
        {
          "data": {
            "application/vnd.jupyter.widget-view+json": {
              "model_id": "dd19f55b9df942db824021b925f74c7d",
              "version_major": 2,
              "version_minor": 0
            },
            "text/plain": [
              "Validation: |          | 0/? [00:00<?, ?it/s]"
            ]
          },
          "metadata": {},
          "output_type": "display_data"
        },
        {
          "data": {
            "application/vnd.jupyter.widget-view+json": {
              "model_id": "3b83448c29c1443eae6fb99a1dee6a44",
              "version_major": 2,
              "version_minor": 0
            },
            "text/plain": [
              "Validation: |          | 0/? [00:00<?, ?it/s]"
            ]
          },
          "metadata": {},
          "output_type": "display_data"
        },
        {
          "data": {
            "application/vnd.jupyter.widget-view+json": {
              "model_id": "c786956ba17c4e719bfb52e91b45e4dd",
              "version_major": 2,
              "version_minor": 0
            },
            "text/plain": [
              "Validation: |          | 0/? [00:00<?, ?it/s]"
            ]
          },
          "metadata": {},
          "output_type": "display_data"
        },
        {
          "data": {
            "application/vnd.jupyter.widget-view+json": {
              "model_id": "3ce8a89649354b59bd3d3cc12477bb17",
              "version_major": 2,
              "version_minor": 0
            },
            "text/plain": [
              "Validation: |          | 0/? [00:00<?, ?it/s]"
            ]
          },
          "metadata": {},
          "output_type": "display_data"
        },
        {
          "data": {
            "application/vnd.jupyter.widget-view+json": {
              "model_id": "095a454d38c6474a9b862b459724ee84",
              "version_major": 2,
              "version_minor": 0
            },
            "text/plain": [
              "Validation: |          | 0/? [00:00<?, ?it/s]"
            ]
          },
          "metadata": {},
          "output_type": "display_data"
        },
        {
          "data": {
            "application/vnd.jupyter.widget-view+json": {
              "model_id": "beff3a2abb1245d0a881e89a93ac3ad7",
              "version_major": 2,
              "version_minor": 0
            },
            "text/plain": [
              "Validation: |          | 0/? [00:00<?, ?it/s]"
            ]
          },
          "metadata": {},
          "output_type": "display_data"
        },
        {
          "name": "stderr",
          "output_type": "stream",
          "text": [
            "Monitored metric val_acc did not improve in the last 10 records. Best score: 0.724. Signaling Trainer to stop.\n",
            "GPU available: True (cuda), used: True\n",
            "TPU available: False, using: 0 TPU cores\n",
            "HPU available: False, using: 0 HPUs\n",
            "LOCAL_RANK: 0 - CUDA_VISIBLE_DEVICES: [0]\n",
            "\n",
            "  | Name           | Type           | Params | Mode \n",
            "----------------------------------------------------------\n",
            "0 | f1_score       | BinaryF1Score  | 0      | train\n",
            "1 | accuracy_score | BinaryAccuracy | 0      | train\n",
            "2 | model          | MLP            | 658 K  | train\n",
            "----------------------------------------------------------\n",
            "658 K     Trainable params\n",
            "0         Non-trainable params\n",
            "658 K     Total params\n",
            "2.633     Total estimated model params size (MB)\n",
            "9         Modules in train mode\n",
            "0         Modules in eval mode\n"
          ]
        },
        {
          "name": "stdout",
          "output_type": "stream",
          "text": [
            "\n",
            "Training with learning rate: 0.0001\n"
          ]
        },
        {
          "data": {
            "application/vnd.jupyter.widget-view+json": {
              "model_id": "26590b5556d14c6faa0d250d938ecdec",
              "version_major": 2,
              "version_minor": 0
            },
            "text/plain": [
              "Sanity Checking: |          | 0/? [00:00<?, ?it/s]"
            ]
          },
          "metadata": {},
          "output_type": "display_data"
        },
        {
          "data": {
            "application/vnd.jupyter.widget-view+json": {
              "model_id": "9df9a853a11645c0aa6cd1c98b863fb2",
              "version_major": 2,
              "version_minor": 0
            },
            "text/plain": [
              "Training: |          | 0/? [00:00<?, ?it/s]"
            ]
          },
          "metadata": {},
          "output_type": "display_data"
        },
        {
          "data": {
            "application/vnd.jupyter.widget-view+json": {
              "model_id": "4540a0b6a9024d07933ac3d6beee29f9",
              "version_major": 2,
              "version_minor": 0
            },
            "text/plain": [
              "Validation: |          | 0/? [00:00<?, ?it/s]"
            ]
          },
          "metadata": {},
          "output_type": "display_data"
        },
        {
          "name": "stderr",
          "output_type": "stream",
          "text": [
            "Metric val_acc improved. New best score: 0.556\n"
          ]
        },
        {
          "data": {
            "application/vnd.jupyter.widget-view+json": {
              "model_id": "879fa9909e73450e91e92dbbb2134b00",
              "version_major": 2,
              "version_minor": 0
            },
            "text/plain": [
              "Validation: |          | 0/? [00:00<?, ?it/s]"
            ]
          },
          "metadata": {},
          "output_type": "display_data"
        },
        {
          "name": "stderr",
          "output_type": "stream",
          "text": [
            "Metric val_acc improved by 0.005 >= min_delta = 0.0. New best score: 0.561\n"
          ]
        },
        {
          "data": {
            "application/vnd.jupyter.widget-view+json": {
              "model_id": "caf1b6fd0529442a9fbf18cc7069fa74",
              "version_major": 2,
              "version_minor": 0
            },
            "text/plain": [
              "Validation: |          | 0/? [00:00<?, ?it/s]"
            ]
          },
          "metadata": {},
          "output_type": "display_data"
        },
        {
          "name": "stderr",
          "output_type": "stream",
          "text": [
            "Metric val_acc improved by 0.120 >= min_delta = 0.0. New best score: 0.680\n"
          ]
        },
        {
          "data": {
            "application/vnd.jupyter.widget-view+json": {
              "model_id": "1893f15ddfe4439789755e98e3a70268",
              "version_major": 2,
              "version_minor": 0
            },
            "text/plain": [
              "Validation: |          | 0/? [00:00<?, ?it/s]"
            ]
          },
          "metadata": {},
          "output_type": "display_data"
        },
        {
          "data": {
            "application/vnd.jupyter.widget-view+json": {
              "model_id": "a7cc2e2203b143b7bb190a47d90982fe",
              "version_major": 2,
              "version_minor": 0
            },
            "text/plain": [
              "Validation: |          | 0/? [00:00<?, ?it/s]"
            ]
          },
          "metadata": {},
          "output_type": "display_data"
        },
        {
          "data": {
            "application/vnd.jupyter.widget-view+json": {
              "model_id": "a5f0512de3ec4609bab21926457693de",
              "version_major": 2,
              "version_minor": 0
            },
            "text/plain": [
              "Validation: |          | 0/? [00:00<?, ?it/s]"
            ]
          },
          "metadata": {},
          "output_type": "display_data"
        },
        {
          "name": "stderr",
          "output_type": "stream",
          "text": [
            "Metric val_acc improved by 0.010 >= min_delta = 0.0. New best score: 0.690\n"
          ]
        },
        {
          "data": {
            "application/vnd.jupyter.widget-view+json": {
              "model_id": "a27974daa83f4284a8beb53f8b50a3aa",
              "version_major": 2,
              "version_minor": 0
            },
            "text/plain": [
              "Validation: |          | 0/? [00:00<?, ?it/s]"
            ]
          },
          "metadata": {},
          "output_type": "display_data"
        },
        {
          "name": "stderr",
          "output_type": "stream",
          "text": [
            "Metric val_acc improved by 0.041 >= min_delta = 0.0. New best score: 0.732\n"
          ]
        },
        {
          "data": {
            "application/vnd.jupyter.widget-view+json": {
              "model_id": "150a904a35a9437e98f14f2f1e554d05",
              "version_major": 2,
              "version_minor": 0
            },
            "text/plain": [
              "Validation: |          | 0/? [00:00<?, ?it/s]"
            ]
          },
          "metadata": {},
          "output_type": "display_data"
        },
        {
          "data": {
            "application/vnd.jupyter.widget-view+json": {
              "model_id": "9ac565f1012d4ba08d949ff6680ce3d4",
              "version_major": 2,
              "version_minor": 0
            },
            "text/plain": [
              "Validation: |          | 0/? [00:00<?, ?it/s]"
            ]
          },
          "metadata": {},
          "output_type": "display_data"
        },
        {
          "data": {
            "application/vnd.jupyter.widget-view+json": {
              "model_id": "304bf7be4061404f90a001d0df61d13e",
              "version_major": 2,
              "version_minor": 0
            },
            "text/plain": [
              "Validation: |          | 0/? [00:00<?, ?it/s]"
            ]
          },
          "metadata": {},
          "output_type": "display_data"
        },
        {
          "data": {
            "application/vnd.jupyter.widget-view+json": {
              "model_id": "50538e1a691e47ccb70e635b007fb4ea",
              "version_major": 2,
              "version_minor": 0
            },
            "text/plain": [
              "Validation: |          | 0/? [00:00<?, ?it/s]"
            ]
          },
          "metadata": {},
          "output_type": "display_data"
        },
        {
          "data": {
            "application/vnd.jupyter.widget-view+json": {
              "model_id": "39756dda7a5d4449ab1d886070d86480",
              "version_major": 2,
              "version_minor": 0
            },
            "text/plain": [
              "Validation: |          | 0/? [00:00<?, ?it/s]"
            ]
          },
          "metadata": {},
          "output_type": "display_data"
        },
        {
          "data": {
            "application/vnd.jupyter.widget-view+json": {
              "model_id": "42167ff737cc4cc29a5425b341c6235c",
              "version_major": 2,
              "version_minor": 0
            },
            "text/plain": [
              "Validation: |          | 0/? [00:00<?, ?it/s]"
            ]
          },
          "metadata": {},
          "output_type": "display_data"
        },
        {
          "name": "stderr",
          "output_type": "stream",
          "text": [
            "Metric val_acc improved by 0.005 >= min_delta = 0.0. New best score: 0.737\n"
          ]
        },
        {
          "data": {
            "application/vnd.jupyter.widget-view+json": {
              "model_id": "70a5df2335f54165b9782aad3d3f0edc",
              "version_major": 2,
              "version_minor": 0
            },
            "text/plain": [
              "Validation: |          | 0/? [00:00<?, ?it/s]"
            ]
          },
          "metadata": {},
          "output_type": "display_data"
        },
        {
          "data": {
            "application/vnd.jupyter.widget-view+json": {
              "model_id": "3d8b0e80a9fa4570bceb397f8c0c1956",
              "version_major": 2,
              "version_minor": 0
            },
            "text/plain": [
              "Validation: |          | 0/? [00:00<?, ?it/s]"
            ]
          },
          "metadata": {},
          "output_type": "display_data"
        },
        {
          "data": {
            "application/vnd.jupyter.widget-view+json": {
              "model_id": "f0bb0d078bff4335a1749e48dc598c8a",
              "version_major": 2,
              "version_minor": 0
            },
            "text/plain": [
              "Validation: |          | 0/? [00:00<?, ?it/s]"
            ]
          },
          "metadata": {},
          "output_type": "display_data"
        },
        {
          "data": {
            "application/vnd.jupyter.widget-view+json": {
              "model_id": "09a13c0c0f174707adbba631e5dfac3c",
              "version_major": 2,
              "version_minor": 0
            },
            "text/plain": [
              "Validation: |          | 0/? [00:00<?, ?it/s]"
            ]
          },
          "metadata": {},
          "output_type": "display_data"
        },
        {
          "data": {
            "application/vnd.jupyter.widget-view+json": {
              "model_id": "e10a3a41b29d4850ad95ccbaa2432fba",
              "version_major": 2,
              "version_minor": 0
            },
            "text/plain": [
              "Validation: |          | 0/? [00:00<?, ?it/s]"
            ]
          },
          "metadata": {},
          "output_type": "display_data"
        },
        {
          "data": {
            "application/vnd.jupyter.widget-view+json": {
              "model_id": "641b9e597f7a4b9ca75d7864ce83f323",
              "version_major": 2,
              "version_minor": 0
            },
            "text/plain": [
              "Validation: |          | 0/? [00:00<?, ?it/s]"
            ]
          },
          "metadata": {},
          "output_type": "display_data"
        },
        {
          "data": {
            "application/vnd.jupyter.widget-view+json": {
              "model_id": "ad2bfc9ea0b84491ae65019c4f78724a",
              "version_major": 2,
              "version_minor": 0
            },
            "text/plain": [
              "Validation: |          | 0/? [00:00<?, ?it/s]"
            ]
          },
          "metadata": {},
          "output_type": "display_data"
        },
        {
          "data": {
            "application/vnd.jupyter.widget-view+json": {
              "model_id": "9779b9af3352465c8d1759b3486967be",
              "version_major": 2,
              "version_minor": 0
            },
            "text/plain": [
              "Validation: |          | 0/? [00:00<?, ?it/s]"
            ]
          },
          "metadata": {},
          "output_type": "display_data"
        },
        {
          "data": {
            "application/vnd.jupyter.widget-view+json": {
              "model_id": "0c779d01dc4747db97bb8a420197fe11",
              "version_major": 2,
              "version_minor": 0
            },
            "text/plain": [
              "Validation: |          | 0/? [00:00<?, ?it/s]"
            ]
          },
          "metadata": {},
          "output_type": "display_data"
        },
        {
          "data": {
            "application/vnd.jupyter.widget-view+json": {
              "model_id": "4e5894c1ff3e42b1aead6bfc1fc05cde",
              "version_major": 2,
              "version_minor": 0
            },
            "text/plain": [
              "Validation: |          | 0/? [00:00<?, ?it/s]"
            ]
          },
          "metadata": {},
          "output_type": "display_data"
        },
        {
          "name": "stderr",
          "output_type": "stream",
          "text": [
            "Monitored metric val_acc did not improve in the last 10 records. Best score: 0.737. Signaling Trainer to stop.\n",
            "GPU available: True (cuda), used: True\n",
            "TPU available: False, using: 0 TPU cores\n",
            "HPU available: False, using: 0 HPUs\n",
            "LOCAL_RANK: 0 - CUDA_VISIBLE_DEVICES: [0]\n",
            "\n",
            "  | Name           | Type           | Params | Mode \n",
            "----------------------------------------------------------\n",
            "0 | f1_score       | BinaryF1Score  | 0      | train\n",
            "1 | accuracy_score | BinaryAccuracy | 0      | train\n",
            "2 | model          | MLP            | 658 K  | train\n",
            "----------------------------------------------------------\n",
            "658 K     Trainable params\n",
            "0         Non-trainable params\n",
            "658 K     Total params\n",
            "2.633     Total estimated model params size (MB)\n",
            "9         Modules in train mode\n",
            "0         Modules in eval mode\n"
          ]
        },
        {
          "name": "stdout",
          "output_type": "stream",
          "text": [
            "\n",
            "Training with learning rate: 0.0005\n"
          ]
        },
        {
          "data": {
            "application/vnd.jupyter.widget-view+json": {
              "model_id": "3de7f8180ca0487c8abe4bb4504ad02b",
              "version_major": 2,
              "version_minor": 0
            },
            "text/plain": [
              "Sanity Checking: |          | 0/? [00:00<?, ?it/s]"
            ]
          },
          "metadata": {},
          "output_type": "display_data"
        },
        {
          "data": {
            "application/vnd.jupyter.widget-view+json": {
              "model_id": "59f0eb831cca446fad4df106aecae2a9",
              "version_major": 2,
              "version_minor": 0
            },
            "text/plain": [
              "Training: |          | 0/? [00:00<?, ?it/s]"
            ]
          },
          "metadata": {},
          "output_type": "display_data"
        },
        {
          "data": {
            "application/vnd.jupyter.widget-view+json": {
              "model_id": "c6ef44707a624e56bc1cd22a6a63fd01",
              "version_major": 2,
              "version_minor": 0
            },
            "text/plain": [
              "Validation: |          | 0/? [00:00<?, ?it/s]"
            ]
          },
          "metadata": {},
          "output_type": "display_data"
        },
        {
          "name": "stderr",
          "output_type": "stream",
          "text": [
            "Metric val_acc improved. New best score: 0.546\n"
          ]
        },
        {
          "data": {
            "application/vnd.jupyter.widget-view+json": {
              "model_id": "bc959e0c483140efa0b39d9abb4b571b",
              "version_major": 2,
              "version_minor": 0
            },
            "text/plain": [
              "Validation: |          | 0/? [00:00<?, ?it/s]"
            ]
          },
          "metadata": {},
          "output_type": "display_data"
        },
        {
          "name": "stderr",
          "output_type": "stream",
          "text": [
            "Metric val_acc improved by 0.168 >= min_delta = 0.0. New best score: 0.715\n"
          ]
        },
        {
          "data": {
            "application/vnd.jupyter.widget-view+json": {
              "model_id": "eea1dc67c4314e10b724ac2fe6cb60cf",
              "version_major": 2,
              "version_minor": 0
            },
            "text/plain": [
              "Validation: |          | 0/? [00:00<?, ?it/s]"
            ]
          },
          "metadata": {},
          "output_type": "display_data"
        },
        {
          "data": {
            "application/vnd.jupyter.widget-view+json": {
              "model_id": "9a267a979e064854988549b0df77f6d1",
              "version_major": 2,
              "version_minor": 0
            },
            "text/plain": [
              "Validation: |          | 0/? [00:00<?, ?it/s]"
            ]
          },
          "metadata": {},
          "output_type": "display_data"
        },
        {
          "name": "stderr",
          "output_type": "stream",
          "text": [
            "Metric val_acc improved by 0.010 >= min_delta = 0.0. New best score: 0.724\n"
          ]
        },
        {
          "data": {
            "application/vnd.jupyter.widget-view+json": {
              "model_id": "68c133d1f5784169b147a52fd6a5e3af",
              "version_major": 2,
              "version_minor": 0
            },
            "text/plain": [
              "Validation: |          | 0/? [00:00<?, ?it/s]"
            ]
          },
          "metadata": {},
          "output_type": "display_data"
        },
        {
          "data": {
            "application/vnd.jupyter.widget-view+json": {
              "model_id": "31d2d571049544f7a29de36eadc16869",
              "version_major": 2,
              "version_minor": 0
            },
            "text/plain": [
              "Validation: |          | 0/? [00:00<?, ?it/s]"
            ]
          },
          "metadata": {},
          "output_type": "display_data"
        },
        {
          "name": "stderr",
          "output_type": "stream",
          "text": [
            "Metric val_acc improved by 0.022 >= min_delta = 0.0. New best score: 0.746\n"
          ]
        },
        {
          "data": {
            "application/vnd.jupyter.widget-view+json": {
              "model_id": "db7cdb3ead744b61964a7c41ec41bb7a",
              "version_major": 2,
              "version_minor": 0
            },
            "text/plain": [
              "Validation: |          | 0/? [00:00<?, ?it/s]"
            ]
          },
          "metadata": {},
          "output_type": "display_data"
        },
        {
          "data": {
            "application/vnd.jupyter.widget-view+json": {
              "model_id": "4df223ba9c19411bacce9d27ebcf817c",
              "version_major": 2,
              "version_minor": 0
            },
            "text/plain": [
              "Validation: |          | 0/? [00:00<?, ?it/s]"
            ]
          },
          "metadata": {},
          "output_type": "display_data"
        },
        {
          "data": {
            "application/vnd.jupyter.widget-view+json": {
              "model_id": "296ca1fceee44588bb148d779e84af54",
              "version_major": 2,
              "version_minor": 0
            },
            "text/plain": [
              "Validation: |          | 0/? [00:00<?, ?it/s]"
            ]
          },
          "metadata": {},
          "output_type": "display_data"
        },
        {
          "data": {
            "application/vnd.jupyter.widget-view+json": {
              "model_id": "5a5918453fd64e34a8cfffbfec7eeb1f",
              "version_major": 2,
              "version_minor": 0
            },
            "text/plain": [
              "Validation: |          | 0/? [00:00<?, ?it/s]"
            ]
          },
          "metadata": {},
          "output_type": "display_data"
        },
        {
          "data": {
            "application/vnd.jupyter.widget-view+json": {
              "model_id": "f2d180053cbf44dd9636ecc9e7663190",
              "version_major": 2,
              "version_minor": 0
            },
            "text/plain": [
              "Validation: |          | 0/? [00:00<?, ?it/s]"
            ]
          },
          "metadata": {},
          "output_type": "display_data"
        },
        {
          "data": {
            "application/vnd.jupyter.widget-view+json": {
              "model_id": "1a648e7de3a040b9bd0b2489a05bb1cb",
              "version_major": 2,
              "version_minor": 0
            },
            "text/plain": [
              "Validation: |          | 0/? [00:00<?, ?it/s]"
            ]
          },
          "metadata": {},
          "output_type": "display_data"
        },
        {
          "data": {
            "application/vnd.jupyter.widget-view+json": {
              "model_id": "481577b79dd749e989d93cfdfd6325c0",
              "version_major": 2,
              "version_minor": 0
            },
            "text/plain": [
              "Validation: |          | 0/? [00:00<?, ?it/s]"
            ]
          },
          "metadata": {},
          "output_type": "display_data"
        },
        {
          "data": {
            "application/vnd.jupyter.widget-view+json": {
              "model_id": "660574523048434eacedb72cd6631116",
              "version_major": 2,
              "version_minor": 0
            },
            "text/plain": [
              "Validation: |          | 0/? [00:00<?, ?it/s]"
            ]
          },
          "metadata": {},
          "output_type": "display_data"
        },
        {
          "data": {
            "application/vnd.jupyter.widget-view+json": {
              "model_id": "dd4ac9a7d6f34260bbfbfb9770585f48",
              "version_major": 2,
              "version_minor": 0
            },
            "text/plain": [
              "Validation: |          | 0/? [00:00<?, ?it/s]"
            ]
          },
          "metadata": {},
          "output_type": "display_data"
        },
        {
          "data": {
            "application/vnd.jupyter.widget-view+json": {
              "model_id": "46d697c308c74a9b898db98f5632c690",
              "version_major": 2,
              "version_minor": 0
            },
            "text/plain": [
              "Validation: |          | 0/? [00:00<?, ?it/s]"
            ]
          },
          "metadata": {},
          "output_type": "display_data"
        },
        {
          "name": "stderr",
          "output_type": "stream",
          "text": [
            "Monitored metric val_acc did not improve in the last 10 records. Best score: 0.746. Signaling Trainer to stop.\n",
            "GPU available: True (cuda), used: True\n",
            "TPU available: False, using: 0 TPU cores\n",
            "HPU available: False, using: 0 HPUs\n",
            "LOCAL_RANK: 0 - CUDA_VISIBLE_DEVICES: [0]\n",
            "\n",
            "  | Name           | Type           | Params | Mode \n",
            "----------------------------------------------------------\n",
            "0 | f1_score       | BinaryF1Score  | 0      | train\n",
            "1 | accuracy_score | BinaryAccuracy | 0      | train\n",
            "2 | model          | MLP            | 658 K  | train\n",
            "----------------------------------------------------------\n",
            "658 K     Trainable params\n",
            "0         Non-trainable params\n",
            "658 K     Total params\n",
            "2.633     Total estimated model params size (MB)\n",
            "9         Modules in train mode\n",
            "0         Modules in eval mode\n"
          ]
        },
        {
          "name": "stdout",
          "output_type": "stream",
          "text": [
            "\n",
            "Training with learning rate: 0.001\n"
          ]
        },
        {
          "data": {
            "application/vnd.jupyter.widget-view+json": {
              "model_id": "8d94609317524d239dfe74b8137be0e6",
              "version_major": 2,
              "version_minor": 0
            },
            "text/plain": [
              "Sanity Checking: |          | 0/? [00:00<?, ?it/s]"
            ]
          },
          "metadata": {},
          "output_type": "display_data"
        },
        {
          "data": {
            "application/vnd.jupyter.widget-view+json": {
              "model_id": "ef1ca4079510442782b89cb511fa7cf3",
              "version_major": 2,
              "version_minor": 0
            },
            "text/plain": [
              "Training: |          | 0/? [00:00<?, ?it/s]"
            ]
          },
          "metadata": {},
          "output_type": "display_data"
        },
        {
          "data": {
            "application/vnd.jupyter.widget-view+json": {
              "model_id": "a90cc28de5b549d097c28d42e15eaab7",
              "version_major": 2,
              "version_minor": 0
            },
            "text/plain": [
              "Validation: |          | 0/? [00:00<?, ?it/s]"
            ]
          },
          "metadata": {},
          "output_type": "display_data"
        },
        {
          "name": "stderr",
          "output_type": "stream",
          "text": [
            "Metric val_acc improved. New best score: 0.551\n"
          ]
        },
        {
          "data": {
            "application/vnd.jupyter.widget-view+json": {
              "model_id": "865fa39a5b8949bfbde6739ef4a9d357",
              "version_major": 2,
              "version_minor": 0
            },
            "text/plain": [
              "Validation: |          | 0/? [00:00<?, ?it/s]"
            ]
          },
          "metadata": {},
          "output_type": "display_data"
        },
        {
          "name": "stderr",
          "output_type": "stream",
          "text": [
            "Metric val_acc improved by 0.154 >= min_delta = 0.0. New best score: 0.705\n"
          ]
        },
        {
          "data": {
            "application/vnd.jupyter.widget-view+json": {
              "model_id": "82e0ea9b39f64a16b2628143870a9cda",
              "version_major": 2,
              "version_minor": 0
            },
            "text/plain": [
              "Validation: |          | 0/? [00:00<?, ?it/s]"
            ]
          },
          "metadata": {},
          "output_type": "display_data"
        },
        {
          "data": {
            "application/vnd.jupyter.widget-view+json": {
              "model_id": "91a0ad9c1254499e9c89967614dd56cd",
              "version_major": 2,
              "version_minor": 0
            },
            "text/plain": [
              "Validation: |          | 0/? [00:00<?, ?it/s]"
            ]
          },
          "metadata": {},
          "output_type": "display_data"
        },
        {
          "data": {
            "application/vnd.jupyter.widget-view+json": {
              "model_id": "06db2544a9e242839aaff84805304e52",
              "version_major": 2,
              "version_minor": 0
            },
            "text/plain": [
              "Validation: |          | 0/? [00:00<?, ?it/s]"
            ]
          },
          "metadata": {},
          "output_type": "display_data"
        },
        {
          "data": {
            "application/vnd.jupyter.widget-view+json": {
              "model_id": "0ace74686b084c03b92dbb425761a0c4",
              "version_major": 2,
              "version_minor": 0
            },
            "text/plain": [
              "Validation: |          | 0/? [00:00<?, ?it/s]"
            ]
          },
          "metadata": {},
          "output_type": "display_data"
        },
        {
          "data": {
            "application/vnd.jupyter.widget-view+json": {
              "model_id": "441099035d164ff89742c335dde740b1",
              "version_major": 2,
              "version_minor": 0
            },
            "text/plain": [
              "Validation: |          | 0/? [00:00<?, ?it/s]"
            ]
          },
          "metadata": {},
          "output_type": "display_data"
        },
        {
          "name": "stderr",
          "output_type": "stream",
          "text": [
            "Metric val_acc improved by 0.034 >= min_delta = 0.0. New best score: 0.739\n"
          ]
        },
        {
          "data": {
            "application/vnd.jupyter.widget-view+json": {
              "model_id": "78e6231c648e453eaca19d76fd782eb1",
              "version_major": 2,
              "version_minor": 0
            },
            "text/plain": [
              "Validation: |          | 0/? [00:00<?, ?it/s]"
            ]
          },
          "metadata": {},
          "output_type": "display_data"
        },
        {
          "data": {
            "application/vnd.jupyter.widget-view+json": {
              "model_id": "f5a84e9b708f4e9d9773199432446814",
              "version_major": 2,
              "version_minor": 0
            },
            "text/plain": [
              "Validation: |          | 0/? [00:00<?, ?it/s]"
            ]
          },
          "metadata": {},
          "output_type": "display_data"
        },
        {
          "data": {
            "application/vnd.jupyter.widget-view+json": {
              "model_id": "afb8331539ba43a3b5c6d20a074eb2e4",
              "version_major": 2,
              "version_minor": 0
            },
            "text/plain": [
              "Validation: |          | 0/? [00:00<?, ?it/s]"
            ]
          },
          "metadata": {},
          "output_type": "display_data"
        },
        {
          "data": {
            "application/vnd.jupyter.widget-view+json": {
              "model_id": "4343eafa8c094752bc203a6fecae0193",
              "version_major": 2,
              "version_minor": 0
            },
            "text/plain": [
              "Validation: |          | 0/? [00:00<?, ?it/s]"
            ]
          },
          "metadata": {},
          "output_type": "display_data"
        },
        {
          "data": {
            "application/vnd.jupyter.widget-view+json": {
              "model_id": "155b250f7dc5432fa41831f90f8a5016",
              "version_major": 2,
              "version_minor": 0
            },
            "text/plain": [
              "Validation: |          | 0/? [00:00<?, ?it/s]"
            ]
          },
          "metadata": {},
          "output_type": "display_data"
        },
        {
          "data": {
            "application/vnd.jupyter.widget-view+json": {
              "model_id": "8a64fdc28e244cf4aa1a25132faf5979",
              "version_major": 2,
              "version_minor": 0
            },
            "text/plain": [
              "Validation: |          | 0/? [00:00<?, ?it/s]"
            ]
          },
          "metadata": {},
          "output_type": "display_data"
        },
        {
          "data": {
            "application/vnd.jupyter.widget-view+json": {
              "model_id": "5078126c967545da9dcf556d8adee6ad",
              "version_major": 2,
              "version_minor": 0
            },
            "text/plain": [
              "Validation: |          | 0/? [00:00<?, ?it/s]"
            ]
          },
          "metadata": {},
          "output_type": "display_data"
        },
        {
          "data": {
            "application/vnd.jupyter.widget-view+json": {
              "model_id": "ecf8a3b0935349989104e1a1936b3dab",
              "version_major": 2,
              "version_minor": 0
            },
            "text/plain": [
              "Validation: |          | 0/? [00:00<?, ?it/s]"
            ]
          },
          "metadata": {},
          "output_type": "display_data"
        },
        {
          "data": {
            "application/vnd.jupyter.widget-view+json": {
              "model_id": "6661c02578134eb9a94e8401cf266c05",
              "version_major": 2,
              "version_minor": 0
            },
            "text/plain": [
              "Validation: |          | 0/? [00:00<?, ?it/s]"
            ]
          },
          "metadata": {},
          "output_type": "display_data"
        },
        {
          "data": {
            "application/vnd.jupyter.widget-view+json": {
              "model_id": "27163720201d464290f5f4f3f901d6e2",
              "version_major": 2,
              "version_minor": 0
            },
            "text/plain": [
              "Validation: |          | 0/? [00:00<?, ?it/s]"
            ]
          },
          "metadata": {},
          "output_type": "display_data"
        },
        {
          "name": "stderr",
          "output_type": "stream",
          "text": [
            "Monitored metric val_acc did not improve in the last 10 records. Best score: 0.739. Signaling Trainer to stop.\n",
            "GPU available: True (cuda), used: True\n",
            "TPU available: False, using: 0 TPU cores\n",
            "HPU available: False, using: 0 HPUs\n",
            "LOCAL_RANK: 0 - CUDA_VISIBLE_DEVICES: [0]\n",
            "\n",
            "  | Name           | Type           | Params | Mode \n",
            "----------------------------------------------------------\n",
            "0 | f1_score       | BinaryF1Score  | 0      | train\n",
            "1 | accuracy_score | BinaryAccuracy | 0      | train\n",
            "2 | model          | MLP            | 658 K  | train\n",
            "----------------------------------------------------------\n",
            "658 K     Trainable params\n",
            "0         Non-trainable params\n",
            "658 K     Total params\n",
            "2.633     Total estimated model params size (MB)\n",
            "9         Modules in train mode\n",
            "0         Modules in eval mode\n"
          ]
        },
        {
          "name": "stdout",
          "output_type": "stream",
          "text": [
            "\n",
            "Training with learning rate: 2e-05\n"
          ]
        },
        {
          "data": {
            "application/vnd.jupyter.widget-view+json": {
              "model_id": "f1efbf541b364e978a47344612af08d5",
              "version_major": 2,
              "version_minor": 0
            },
            "text/plain": [
              "Sanity Checking: |          | 0/? [00:00<?, ?it/s]"
            ]
          },
          "metadata": {},
          "output_type": "display_data"
        },
        {
          "data": {
            "application/vnd.jupyter.widget-view+json": {
              "model_id": "784b6a2593964cb8b2a7a9f8c0d53cd3",
              "version_major": 2,
              "version_minor": 0
            },
            "text/plain": [
              "Training: |          | 0/? [00:00<?, ?it/s]"
            ]
          },
          "metadata": {},
          "output_type": "display_data"
        },
        {
          "data": {
            "application/vnd.jupyter.widget-view+json": {
              "model_id": "e8e2ce56e54849289ffba273d9ad0e66",
              "version_major": 2,
              "version_minor": 0
            },
            "text/plain": [
              "Validation: |          | 0/? [00:00<?, ?it/s]"
            ]
          },
          "metadata": {},
          "output_type": "display_data"
        },
        {
          "name": "stderr",
          "output_type": "stream",
          "text": [
            "Metric val_acc improved. New best score: 0.502\n"
          ]
        },
        {
          "data": {
            "application/vnd.jupyter.widget-view+json": {
              "model_id": "47b8431d1f6f410b8f5d85cc684f6236",
              "version_major": 2,
              "version_minor": 0
            },
            "text/plain": [
              "Validation: |          | 0/? [00:00<?, ?it/s]"
            ]
          },
          "metadata": {},
          "output_type": "display_data"
        },
        {
          "name": "stderr",
          "output_type": "stream",
          "text": [
            "Metric val_acc improved by 0.015 >= min_delta = 0.0. New best score: 0.517\n"
          ]
        },
        {
          "data": {
            "application/vnd.jupyter.widget-view+json": {
              "model_id": "0042d834e26b4f39b64aae411cf58197",
              "version_major": 2,
              "version_minor": 0
            },
            "text/plain": [
              "Validation: |          | 0/? [00:00<?, ?it/s]"
            ]
          },
          "metadata": {},
          "output_type": "display_data"
        },
        {
          "name": "stderr",
          "output_type": "stream",
          "text": [
            "Metric val_acc improved by 0.120 >= min_delta = 0.0. New best score: 0.637\n"
          ]
        },
        {
          "data": {
            "application/vnd.jupyter.widget-view+json": {
              "model_id": "cc155b20ee714e4a8f0ef3e0bb15194d",
              "version_major": 2,
              "version_minor": 0
            },
            "text/plain": [
              "Validation: |          | 0/? [00:00<?, ?it/s]"
            ]
          },
          "metadata": {},
          "output_type": "display_data"
        },
        {
          "data": {
            "application/vnd.jupyter.widget-view+json": {
              "model_id": "a7ba54d6b06f494093eee48d35c081cb",
              "version_major": 2,
              "version_minor": 0
            },
            "text/plain": [
              "Validation: |          | 0/? [00:00<?, ?it/s]"
            ]
          },
          "metadata": {},
          "output_type": "display_data"
        },
        {
          "name": "stderr",
          "output_type": "stream",
          "text": [
            "Metric val_acc improved by 0.046 >= min_delta = 0.0. New best score: 0.683\n"
          ]
        },
        {
          "data": {
            "application/vnd.jupyter.widget-view+json": {
              "model_id": "4e09d59739f544949fbf98ee2c7ed1ec",
              "version_major": 2,
              "version_minor": 0
            },
            "text/plain": [
              "Validation: |          | 0/? [00:00<?, ?it/s]"
            ]
          },
          "metadata": {},
          "output_type": "display_data"
        },
        {
          "data": {
            "application/vnd.jupyter.widget-view+json": {
              "model_id": "b92e74860a2b4a57b4433bb624291075",
              "version_major": 2,
              "version_minor": 0
            },
            "text/plain": [
              "Validation: |          | 0/? [00:00<?, ?it/s]"
            ]
          },
          "metadata": {},
          "output_type": "display_data"
        },
        {
          "data": {
            "application/vnd.jupyter.widget-view+json": {
              "model_id": "e074eff30d6f4730aac6fd3fcf288131",
              "version_major": 2,
              "version_minor": 0
            },
            "text/plain": [
              "Validation: |          | 0/? [00:00<?, ?it/s]"
            ]
          },
          "metadata": {},
          "output_type": "display_data"
        },
        {
          "data": {
            "application/vnd.jupyter.widget-view+json": {
              "model_id": "bbc2606ea36d4d768a9fa6687b7a6384",
              "version_major": 2,
              "version_minor": 0
            },
            "text/plain": [
              "Validation: |          | 0/? [00:00<?, ?it/s]"
            ]
          },
          "metadata": {},
          "output_type": "display_data"
        },
        {
          "data": {
            "application/vnd.jupyter.widget-view+json": {
              "model_id": "dd8b4e5950df4208ba3f163fa547598e",
              "version_major": 2,
              "version_minor": 0
            },
            "text/plain": [
              "Validation: |          | 0/? [00:00<?, ?it/s]"
            ]
          },
          "metadata": {},
          "output_type": "display_data"
        },
        {
          "data": {
            "application/vnd.jupyter.widget-view+json": {
              "model_id": "6595f0272d794a539e351eacfbd3e7e1",
              "version_major": 2,
              "version_minor": 0
            },
            "text/plain": [
              "Validation: |          | 0/? [00:00<?, ?it/s]"
            ]
          },
          "metadata": {},
          "output_type": "display_data"
        },
        {
          "data": {
            "application/vnd.jupyter.widget-view+json": {
              "model_id": "d9e7adae6de5459c964dbdd85891d177",
              "version_major": 2,
              "version_minor": 0
            },
            "text/plain": [
              "Validation: |          | 0/? [00:00<?, ?it/s]"
            ]
          },
          "metadata": {},
          "output_type": "display_data"
        },
        {
          "data": {
            "application/vnd.jupyter.widget-view+json": {
              "model_id": "66ded71d294741dfafc5efbb5c1e1d9d",
              "version_major": 2,
              "version_minor": 0
            },
            "text/plain": [
              "Validation: |          | 0/? [00:00<?, ?it/s]"
            ]
          },
          "metadata": {},
          "output_type": "display_data"
        },
        {
          "name": "stderr",
          "output_type": "stream",
          "text": [
            "Metric val_acc improved by 0.002 >= min_delta = 0.0. New best score: 0.685\n"
          ]
        },
        {
          "data": {
            "application/vnd.jupyter.widget-view+json": {
              "model_id": "598056670b75448c89b5e022a806e42c",
              "version_major": 2,
              "version_minor": 0
            },
            "text/plain": [
              "Validation: |          | 0/? [00:00<?, ?it/s]"
            ]
          },
          "metadata": {},
          "output_type": "display_data"
        },
        {
          "data": {
            "application/vnd.jupyter.widget-view+json": {
              "model_id": "0bdc34ad593641ce8d32c9d52757cf41",
              "version_major": 2,
              "version_minor": 0
            },
            "text/plain": [
              "Validation: |          | 0/? [00:00<?, ?it/s]"
            ]
          },
          "metadata": {},
          "output_type": "display_data"
        },
        {
          "data": {
            "application/vnd.jupyter.widget-view+json": {
              "model_id": "d5371214c89248a6ad1dc0ef56d1373e",
              "version_major": 2,
              "version_minor": 0
            },
            "text/plain": [
              "Validation: |          | 0/? [00:00<?, ?it/s]"
            ]
          },
          "metadata": {},
          "output_type": "display_data"
        },
        {
          "data": {
            "application/vnd.jupyter.widget-view+json": {
              "model_id": "9c9aef0732e047528d6cd6b99e4175d6",
              "version_major": 2,
              "version_minor": 0
            },
            "text/plain": [
              "Validation: |          | 0/? [00:00<?, ?it/s]"
            ]
          },
          "metadata": {},
          "output_type": "display_data"
        },
        {
          "data": {
            "application/vnd.jupyter.widget-view+json": {
              "model_id": "39df923f4bc6482dba531beb2bac06d8",
              "version_major": 2,
              "version_minor": 0
            },
            "text/plain": [
              "Validation: |          | 0/? [00:00<?, ?it/s]"
            ]
          },
          "metadata": {},
          "output_type": "display_data"
        },
        {
          "data": {
            "application/vnd.jupyter.widget-view+json": {
              "model_id": "df89db9ff08b4904802c8dbc13e5641a",
              "version_major": 2,
              "version_minor": 0
            },
            "text/plain": [
              "Validation: |          | 0/? [00:00<?, ?it/s]"
            ]
          },
          "metadata": {},
          "output_type": "display_data"
        },
        {
          "data": {
            "application/vnd.jupyter.widget-view+json": {
              "model_id": "9e4249e5b96c429c89e1b32cd48aa9d3",
              "version_major": 2,
              "version_minor": 0
            },
            "text/plain": [
              "Validation: |          | 0/? [00:00<?, ?it/s]"
            ]
          },
          "metadata": {},
          "output_type": "display_data"
        },
        {
          "data": {
            "application/vnd.jupyter.widget-view+json": {
              "model_id": "10cb4a6c31994f9eb5dfd4e621899c35",
              "version_major": 2,
              "version_minor": 0
            },
            "text/plain": [
              "Validation: |          | 0/? [00:00<?, ?it/s]"
            ]
          },
          "metadata": {},
          "output_type": "display_data"
        },
        {
          "data": {
            "application/vnd.jupyter.widget-view+json": {
              "model_id": "0298724e357a4dbc8683e72e195a5813",
              "version_major": 2,
              "version_minor": 0
            },
            "text/plain": [
              "Validation: |          | 0/? [00:00<?, ?it/s]"
            ]
          },
          "metadata": {},
          "output_type": "display_data"
        },
        {
          "data": {
            "application/vnd.jupyter.widget-view+json": {
              "model_id": "6d31d95ec7c34f1dbdab0301d2163bcf",
              "version_major": 2,
              "version_minor": 0
            },
            "text/plain": [
              "Validation: |          | 0/? [00:00<?, ?it/s]"
            ]
          },
          "metadata": {},
          "output_type": "display_data"
        },
        {
          "name": "stderr",
          "output_type": "stream",
          "text": [
            "Monitored metric val_acc did not improve in the last 10 records. Best score: 0.685. Signaling Trainer to stop.\n"
          ]
        },
        {
          "name": "stdout",
          "output_type": "stream",
          "text": [
            "\n",
            "Best learning rate: 0.0005 (accuracy: 0.7244)\n"
          ]
        }
      ],
      "source": [
        "# Подбираем learning rate\n",
        "learning_rates = [1e-5, 5e-5, 1e-4, 5e-4, 1e-3, 2e-5]\n",
        "best_acc = 0\n",
        "best_lr = None\n",
        "\n",
        "for lr in learning_rates:\n",
        "    print(f\"\\nTraining with learning rate: {lr}\")\n",
        "\n",
        "    early_stop_callback = EarlyStopping(\n",
        "        monitor='val_acc',\n",
        "        min_delta=0.00,\n",
        "        patience=10,\n",
        "        verbose=True,\n",
        "        mode='max'\n",
        "    )\n",
        "\n",
        "    model = DaNetQAClassifier(\n",
        "        train_dataset=train_dataset,\n",
        "        val_dataset=val_dataset,\n",
        "        batch_size=32,\n",
        "        lr=lr\n",
        "    )\n",
        "\n",
        "    trainer = pl.Trainer(\n",
        "        max_epochs=100,\n",
        "        accelerator='auto',\n",
        "        devices=1,\n",
        "        callbacks=[early_stop_callback],\n",
        "        enable_progress_bar=True\n",
        "    )\n",
        "\n",
        "    trainer.fit(model)\n",
        "\n",
        "    if trainer.callback_metrics['val_acc'].item() > best_acc:\n",
        "        best_acc = trainer.callback_metrics['val_acc'].item()\n",
        "        best_lr = lr\n",
        "\n",
        "print(f\"\\nBest learning rate: {best_lr} (accuracy: {best_acc:.4f})\")"
      ]
    },
    {
      "cell_type": "code",
      "execution_count": null,
      "metadata": {
        "colab": {
          "referenced_widgets": [
            "fb9efe524f1b4db5a2a59aaf9a016d9b",
            "5264e00846e1477ca422cc688de66c78",
            "19c2f297b01141a8ba086d883783153e",
            "1bdb8577a3c04f03beca12ad34a61111",
            "a60fb5b52ca24503bd4eea123b80b132",
            "9753ce0336a2464fae5e8db32e8aca3e",
            "18c9b91b604d42d59ac03b228697bb1f",
            "5c28455f7fcf471cb8dbbd4d4a3e42f2",
            "d67e05095f29456cb46b9a3dba854d35",
            "af03f1938f5547949cab01f541355473",
            "551a69bbcf3f49438db46701bfc31345",
            "3ea28fc7c2ba4100a3574c87d7763a70",
            "e9cace72a17743df9ed4ca2da8da66b2",
            "e80cb992c156487594d3aa4831c699f1",
            "ef7faa18c3394fdfa6c9ae03b4cf43ec",
            "fbbfd72e1ac04dcbaba123559c26a1b8",
            "388f8c719929475a9c5f6ee71854deed",
            "aa370a1a8ff145ea92271bfccd1f1e6a",
            "27e8c8ac14c947bfa72ab449a05e357e",
            "4d55083ad8ad4ba0b87391582358b4c9",
            "a92c5355275f49e49ae88ef8eec61665",
            "8afb68de89c4431196c35d6e8f4db6fc",
            "45581b7adef84f5c8cb4beb74ac1029a",
            "2082f5fb8aac467c8a130c713dd055cf",
            "96d9a9e4a1104a06b572df6c37f85cea",
            "9e59e44a83f843f19a5b33f55eef2f89",
            "053a53711f2e4c6f93d7b729dbed6145",
            "30c9015f226e4f49b06c21ce16761225",
            "f5bd8d90d1ea44d79bc5399204b1fe27",
            "dd9d10cd8376407cbeaf889998a6f837",
            "02c0e265eea44d77b29057a6a4794769",
            "e64edcbfd6384290b658770fb2c8b9d5",
            "3026cc96f84744c894221f9faf24a8e7",
            "036a6c63d8994b9eaf08e24fe8f5c31c",
            "5e01ffdbd3ae4728925db588d3d2692a",
            "3bf19ddb3b3c456e946ba66140c88196",
            "a386f1b0ff984d2eb5adcde9d01eb7b7",
            "bb274ff9ec2e48b4b0bca1ec4736cc54",
            "7a11c5b410a14ee0a70c66e71dd6f394",
            "95a555b68b2246b6bf142047a3c3812a",
            "97e70d5d92cb430a96f2b0f8fcb9ddd0",
            "f386c509534a42e2b358ec4d629a7c71",
            "b390a4aa0946447e816174c5ea5fcec0",
            "f0697d5dcfe04a8c86ff4d52420f95b1",
            "29b0a1ec31ec4eeaa49291aaafa10632",
            "5ef9099978e94762901bfe04536f42cb",
            "52d93dddb4ed43f48c5fdd767ffd30e0",
            "60f5ae460b0243d2a430e7d2570edafa",
            "f8d5ad4e482e400384f71af3095d551b",
            "af9e166f16b3433182b7553dd92b4cf3",
            "75dab0669e2545ee939ffa3a6a5df6f0",
            "12b4c488a529422bb8143a9c4996c491",
            "172ed45d6a2d40008c0df3495e2f20f3",
            "c086652470624c819915abbe15d8cfab",
            "ea5f5ea4497141c8b58dfeef28457fb6",
            "18df8135891f4f62ba4522de445e0d53",
            "c5b57ee0dcd4459c90030fd90dfa0d57",
            "3bd0e2bf6bdb4a6290e424f5f50c1866",
            "6e9cdbc40da046879a98d25e19dbdc09",
            "c2c9cc466f254c9a82aef89e705ef0bb",
            "31606caf22334b6f944ed30d0ea195f0",
            "a809f4ec24b64c1a9928f0c06c99717b",
            "092c4171b3aa4c76b64e465fd291092d",
            "d5624dbd88e94404a5cda41d27a703b2",
            "9bca2655645e43ae8eea8b8783659a28",
            "67f7d87829514128a9229350bc1cad06",
            "03e9648b3f0d4d569ce8ed99caa1350d",
            "2e8eb2889f084f65b2a43ff56e46015f",
            "865cee0885ea4c2ab5ecff03fbc397b0",
            "58b9f8fa6ca9459593540cf85161dc0d",
            "0240e341d1c54359b67bccc9375cce13",
            "86a360b9ff0d4f589e1b30c4cbea43e3",
            "12696f4292a040d4961ca3eb881de0a3",
            "45d262fc18c646898ca96a5149216aa2",
            "9e105745dfd54eb691e7da3c54ad3629",
            "d1d7f4fe2e474fc49c25bbc9d8ae8b8e",
            "edbd3d07c15f414d9aac0d3697efa6cc",
            "3f4a41e9686f4dfaa9e88a49592a1df1",
            "fe277a1d49434e4aabb37549c47cded2",
            "64f7874d222847cea53dcf1709f4c16f",
            "4640d52efbd44e0388b5d408bc041827",
            "8048de99bec34d278ecca1c6000767f3",
            "697bde042988453aa12736d9565ce2c0",
            "d451905108b7467d838142e5264497fe",
            "5a38c5e547734b0698ff1e7bb0d23196",
            "5cc80e1b1ebd4bac8bfd99d735f9b629",
            "c36448a31a31480b82a8f0af0e1ac29f",
            "a85155b19bc8413cb9ae4b7a004dd7f5",
            "32fc7563b5944e3fb863f5becac7ccab",
            "e14bbb64b06e4e98b2b5939c16bd5735",
            "3681fee09d264d2b9e8b1b7fb5ea5f9b",
            "1b8748944f654011966febc811b396b8",
            "3e72dea141bb40a9ba3688a9cb15761f",
            "e996b5be3b614f6d9ebeb90a9fa0a4bd",
            "53ca17d8d1f042e98e54bde96844a8ed",
            "2f33e27d36bc4fab859396a6eafd349f",
            "f337abbb082a4cbd8a85b17f2659337d",
            "e42a7682747b4c4698339b9b6d47ef1f",
            "bca9103670b940178011de0efb2e37d5",
            "1a35d951612249aa865f26369524f8c0",
            "39319acd47024b64962d2bf1477d62ce",
            "62a47b08ca1d4ca481eb9f516f87456b",
            "d237dc06c6e044309763cab6641af5c8",
            "ede43e83c60c4b54bd7c4cb152cb28ea",
            "37d1605ae5e74671a4cc2b0d962756ae",
            "dc448c0083dc45e7b47010d0ec8cd145"
          ]
        },
        "id": "fgcE-QWfeLiM",
        "outputId": "d9559f35-355e-4e8d-92da-872d695cba50"
      },
      "outputs": [
        {
          "name": "stderr",
          "output_type": "stream",
          "text": [
            "GPU available: True (cuda), used: True\n",
            "TPU available: False, using: 0 TPU cores\n",
            "HPU available: False, using: 0 HPUs\n",
            "LOCAL_RANK: 0 - CUDA_VISIBLE_DEVICES: [0]\n"
          ]
        },
        {
          "name": "stdout",
          "output_type": "stream",
          "text": [
            "\n",
            "Training with dropout rate: 0.1\n"
          ]
        },
        {
          "data": {
            "application/vnd.jupyter.widget-view+json": {
              "model_id": "fb9efe524f1b4db5a2a59aaf9a016d9b",
              "version_major": 2,
              "version_minor": 0
            },
            "text/plain": [
              "Sanity Checking: |          | 0/? [00:00<?, ?it/s]"
            ]
          },
          "metadata": {},
          "output_type": "display_data"
        },
        {
          "data": {
            "application/vnd.jupyter.widget-view+json": {
              "model_id": "5264e00846e1477ca422cc688de66c78",
              "version_major": 2,
              "version_minor": 0
            },
            "text/plain": [
              "Training: |          | 0/? [00:00<?, ?it/s]"
            ]
          },
          "metadata": {},
          "output_type": "display_data"
        },
        {
          "data": {
            "application/vnd.jupyter.widget-view+json": {
              "model_id": "19c2f297b01141a8ba086d883783153e",
              "version_major": 2,
              "version_minor": 0
            },
            "text/plain": [
              "Validation: |          | 0/? [00:00<?, ?it/s]"
            ]
          },
          "metadata": {},
          "output_type": "display_data"
        },
        {
          "data": {
            "application/vnd.jupyter.widget-view+json": {
              "model_id": "1bdb8577a3c04f03beca12ad34a61111",
              "version_major": 2,
              "version_minor": 0
            },
            "text/plain": [
              "Validation: |          | 0/? [00:00<?, ?it/s]"
            ]
          },
          "metadata": {},
          "output_type": "display_data"
        },
        {
          "data": {
            "application/vnd.jupyter.widget-view+json": {
              "model_id": "a60fb5b52ca24503bd4eea123b80b132",
              "version_major": 2,
              "version_minor": 0
            },
            "text/plain": [
              "Validation: |          | 0/? [00:00<?, ?it/s]"
            ]
          },
          "metadata": {},
          "output_type": "display_data"
        },
        {
          "data": {
            "application/vnd.jupyter.widget-view+json": {
              "model_id": "9753ce0336a2464fae5e8db32e8aca3e",
              "version_major": 2,
              "version_minor": 0
            },
            "text/plain": [
              "Validation: |          | 0/? [00:00<?, ?it/s]"
            ]
          },
          "metadata": {},
          "output_type": "display_data"
        },
        {
          "data": {
            "application/vnd.jupyter.widget-view+json": {
              "model_id": "18c9b91b604d42d59ac03b228697bb1f",
              "version_major": 2,
              "version_minor": 0
            },
            "text/plain": [
              "Validation: |          | 0/? [00:00<?, ?it/s]"
            ]
          },
          "metadata": {},
          "output_type": "display_data"
        },
        {
          "data": {
            "application/vnd.jupyter.widget-view+json": {
              "model_id": "5c28455f7fcf471cb8dbbd4d4a3e42f2",
              "version_major": 2,
              "version_minor": 0
            },
            "text/plain": [
              "Validation: |          | 0/? [00:00<?, ?it/s]"
            ]
          },
          "metadata": {},
          "output_type": "display_data"
        },
        {
          "data": {
            "application/vnd.jupyter.widget-view+json": {
              "model_id": "d67e05095f29456cb46b9a3dba854d35",
              "version_major": 2,
              "version_minor": 0
            },
            "text/plain": [
              "Validation: |          | 0/? [00:00<?, ?it/s]"
            ]
          },
          "metadata": {},
          "output_type": "display_data"
        },
        {
          "data": {
            "application/vnd.jupyter.widget-view+json": {
              "model_id": "af03f1938f5547949cab01f541355473",
              "version_major": 2,
              "version_minor": 0
            },
            "text/plain": [
              "Validation: |          | 0/? [00:00<?, ?it/s]"
            ]
          },
          "metadata": {},
          "output_type": "display_data"
        },
        {
          "data": {
            "application/vnd.jupyter.widget-view+json": {
              "model_id": "551a69bbcf3f49438db46701bfc31345",
              "version_major": 2,
              "version_minor": 0
            },
            "text/plain": [
              "Validation: |          | 0/? [00:00<?, ?it/s]"
            ]
          },
          "metadata": {},
          "output_type": "display_data"
        },
        {
          "data": {
            "application/vnd.jupyter.widget-view+json": {
              "model_id": "3ea28fc7c2ba4100a3574c87d7763a70",
              "version_major": 2,
              "version_minor": 0
            },
            "text/plain": [
              "Validation: |          | 0/? [00:00<?, ?it/s]"
            ]
          },
          "metadata": {},
          "output_type": "display_data"
        },
        {
          "data": {
            "application/vnd.jupyter.widget-view+json": {
              "model_id": "e9cace72a17743df9ed4ca2da8da66b2",
              "version_major": 2,
              "version_minor": 0
            },
            "text/plain": [
              "Validation: |          | 0/? [00:00<?, ?it/s]"
            ]
          },
          "metadata": {},
          "output_type": "display_data"
        },
        {
          "data": {
            "application/vnd.jupyter.widget-view+json": {
              "model_id": "e80cb992c156487594d3aa4831c699f1",
              "version_major": 2,
              "version_minor": 0
            },
            "text/plain": [
              "Validation: |          | 0/? [00:00<?, ?it/s]"
            ]
          },
          "metadata": {},
          "output_type": "display_data"
        },
        {
          "data": {
            "application/vnd.jupyter.widget-view+json": {
              "model_id": "ef7faa18c3394fdfa6c9ae03b4cf43ec",
              "version_major": 2,
              "version_minor": 0
            },
            "text/plain": [
              "Validation: |          | 0/? [00:00<?, ?it/s]"
            ]
          },
          "metadata": {},
          "output_type": "display_data"
        },
        {
          "data": {
            "application/vnd.jupyter.widget-view+json": {
              "model_id": "fbbfd72e1ac04dcbaba123559c26a1b8",
              "version_major": 2,
              "version_minor": 0
            },
            "text/plain": [
              "Validation: |          | 0/? [00:00<?, ?it/s]"
            ]
          },
          "metadata": {},
          "output_type": "display_data"
        },
        {
          "name": "stderr",
          "output_type": "stream",
          "text": [
            "GPU available: True (cuda), used: True\n",
            "TPU available: False, using: 0 TPU cores\n",
            "HPU available: False, using: 0 HPUs\n",
            "LOCAL_RANK: 0 - CUDA_VISIBLE_DEVICES: [0]\n"
          ]
        },
        {
          "name": "stdout",
          "output_type": "stream",
          "text": [
            "\n",
            "Training with dropout rate: 0.2\n"
          ]
        },
        {
          "data": {
            "application/vnd.jupyter.widget-view+json": {
              "model_id": "388f8c719929475a9c5f6ee71854deed",
              "version_major": 2,
              "version_minor": 0
            },
            "text/plain": [
              "Sanity Checking: |          | 0/? [00:00<?, ?it/s]"
            ]
          },
          "metadata": {},
          "output_type": "display_data"
        },
        {
          "data": {
            "application/vnd.jupyter.widget-view+json": {
              "model_id": "aa370a1a8ff145ea92271bfccd1f1e6a",
              "version_major": 2,
              "version_minor": 0
            },
            "text/plain": [
              "Training: |          | 0/? [00:00<?, ?it/s]"
            ]
          },
          "metadata": {},
          "output_type": "display_data"
        },
        {
          "data": {
            "application/vnd.jupyter.widget-view+json": {
              "model_id": "27e8c8ac14c947bfa72ab449a05e357e",
              "version_major": 2,
              "version_minor": 0
            },
            "text/plain": [
              "Validation: |          | 0/? [00:00<?, ?it/s]"
            ]
          },
          "metadata": {},
          "output_type": "display_data"
        },
        {
          "data": {
            "application/vnd.jupyter.widget-view+json": {
              "model_id": "4d55083ad8ad4ba0b87391582358b4c9",
              "version_major": 2,
              "version_minor": 0
            },
            "text/plain": [
              "Validation: |          | 0/? [00:00<?, ?it/s]"
            ]
          },
          "metadata": {},
          "output_type": "display_data"
        },
        {
          "data": {
            "application/vnd.jupyter.widget-view+json": {
              "model_id": "a92c5355275f49e49ae88ef8eec61665",
              "version_major": 2,
              "version_minor": 0
            },
            "text/plain": [
              "Validation: |          | 0/? [00:00<?, ?it/s]"
            ]
          },
          "metadata": {},
          "output_type": "display_data"
        },
        {
          "data": {
            "application/vnd.jupyter.widget-view+json": {
              "model_id": "8afb68de89c4431196c35d6e8f4db6fc",
              "version_major": 2,
              "version_minor": 0
            },
            "text/plain": [
              "Validation: |          | 0/? [00:00<?, ?it/s]"
            ]
          },
          "metadata": {},
          "output_type": "display_data"
        },
        {
          "data": {
            "application/vnd.jupyter.widget-view+json": {
              "model_id": "45581b7adef84f5c8cb4beb74ac1029a",
              "version_major": 2,
              "version_minor": 0
            },
            "text/plain": [
              "Validation: |          | 0/? [00:00<?, ?it/s]"
            ]
          },
          "metadata": {},
          "output_type": "display_data"
        },
        {
          "data": {
            "application/vnd.jupyter.widget-view+json": {
              "model_id": "2082f5fb8aac467c8a130c713dd055cf",
              "version_major": 2,
              "version_minor": 0
            },
            "text/plain": [
              "Validation: |          | 0/? [00:00<?, ?it/s]"
            ]
          },
          "metadata": {},
          "output_type": "display_data"
        },
        {
          "data": {
            "application/vnd.jupyter.widget-view+json": {
              "model_id": "96d9a9e4a1104a06b572df6c37f85cea",
              "version_major": 2,
              "version_minor": 0
            },
            "text/plain": [
              "Validation: |          | 0/? [00:00<?, ?it/s]"
            ]
          },
          "metadata": {},
          "output_type": "display_data"
        },
        {
          "data": {
            "application/vnd.jupyter.widget-view+json": {
              "model_id": "9e59e44a83f843f19a5b33f55eef2f89",
              "version_major": 2,
              "version_minor": 0
            },
            "text/plain": [
              "Validation: |          | 0/? [00:00<?, ?it/s]"
            ]
          },
          "metadata": {},
          "output_type": "display_data"
        },
        {
          "data": {
            "application/vnd.jupyter.widget-view+json": {
              "model_id": "053a53711f2e4c6f93d7b729dbed6145",
              "version_major": 2,
              "version_minor": 0
            },
            "text/plain": [
              "Validation: |          | 0/? [00:00<?, ?it/s]"
            ]
          },
          "metadata": {},
          "output_type": "display_data"
        },
        {
          "data": {
            "application/vnd.jupyter.widget-view+json": {
              "model_id": "30c9015f226e4f49b06c21ce16761225",
              "version_major": 2,
              "version_minor": 0
            },
            "text/plain": [
              "Validation: |          | 0/? [00:00<?, ?it/s]"
            ]
          },
          "metadata": {},
          "output_type": "display_data"
        },
        {
          "data": {
            "application/vnd.jupyter.widget-view+json": {
              "model_id": "f5bd8d90d1ea44d79bc5399204b1fe27",
              "version_major": 2,
              "version_minor": 0
            },
            "text/plain": [
              "Validation: |          | 0/? [00:00<?, ?it/s]"
            ]
          },
          "metadata": {},
          "output_type": "display_data"
        },
        {
          "data": {
            "application/vnd.jupyter.widget-view+json": {
              "model_id": "dd9d10cd8376407cbeaf889998a6f837",
              "version_major": 2,
              "version_minor": 0
            },
            "text/plain": [
              "Validation: |          | 0/? [00:00<?, ?it/s]"
            ]
          },
          "metadata": {},
          "output_type": "display_data"
        },
        {
          "data": {
            "application/vnd.jupyter.widget-view+json": {
              "model_id": "02c0e265eea44d77b29057a6a4794769",
              "version_major": 2,
              "version_minor": 0
            },
            "text/plain": [
              "Validation: |          | 0/? [00:00<?, ?it/s]"
            ]
          },
          "metadata": {},
          "output_type": "display_data"
        },
        {
          "data": {
            "application/vnd.jupyter.widget-view+json": {
              "model_id": "e64edcbfd6384290b658770fb2c8b9d5",
              "version_major": 2,
              "version_minor": 0
            },
            "text/plain": [
              "Validation: |          | 0/? [00:00<?, ?it/s]"
            ]
          },
          "metadata": {},
          "output_type": "display_data"
        },
        {
          "data": {
            "application/vnd.jupyter.widget-view+json": {
              "model_id": "3026cc96f84744c894221f9faf24a8e7",
              "version_major": 2,
              "version_minor": 0
            },
            "text/plain": [
              "Validation: |          | 0/? [00:00<?, ?it/s]"
            ]
          },
          "metadata": {},
          "output_type": "display_data"
        },
        {
          "data": {
            "application/vnd.jupyter.widget-view+json": {
              "model_id": "036a6c63d8994b9eaf08e24fe8f5c31c",
              "version_major": 2,
              "version_minor": 0
            },
            "text/plain": [
              "Validation: |          | 0/? [00:00<?, ?it/s]"
            ]
          },
          "metadata": {},
          "output_type": "display_data"
        },
        {
          "data": {
            "application/vnd.jupyter.widget-view+json": {
              "model_id": "5e01ffdbd3ae4728925db588d3d2692a",
              "version_major": 2,
              "version_minor": 0
            },
            "text/plain": [
              "Validation: |          | 0/? [00:00<?, ?it/s]"
            ]
          },
          "metadata": {},
          "output_type": "display_data"
        },
        {
          "data": {
            "application/vnd.jupyter.widget-view+json": {
              "model_id": "3bf19ddb3b3c456e946ba66140c88196",
              "version_major": 2,
              "version_minor": 0
            },
            "text/plain": [
              "Validation: |          | 0/? [00:00<?, ?it/s]"
            ]
          },
          "metadata": {},
          "output_type": "display_data"
        },
        {
          "data": {
            "application/vnd.jupyter.widget-view+json": {
              "model_id": "a386f1b0ff984d2eb5adcde9d01eb7b7",
              "version_major": 2,
              "version_minor": 0
            },
            "text/plain": [
              "Validation: |          | 0/? [00:00<?, ?it/s]"
            ]
          },
          "metadata": {},
          "output_type": "display_data"
        },
        {
          "name": "stderr",
          "output_type": "stream",
          "text": [
            "GPU available: True (cuda), used: True\n",
            "TPU available: False, using: 0 TPU cores\n",
            "HPU available: False, using: 0 HPUs\n",
            "LOCAL_RANK: 0 - CUDA_VISIBLE_DEVICES: [0]\n"
          ]
        },
        {
          "name": "stdout",
          "output_type": "stream",
          "text": [
            "\n",
            "Training with dropout rate: 0.3\n"
          ]
        },
        {
          "data": {
            "application/vnd.jupyter.widget-view+json": {
              "model_id": "bb274ff9ec2e48b4b0bca1ec4736cc54",
              "version_major": 2,
              "version_minor": 0
            },
            "text/plain": [
              "Sanity Checking: |          | 0/? [00:00<?, ?it/s]"
            ]
          },
          "metadata": {},
          "output_type": "display_data"
        },
        {
          "data": {
            "application/vnd.jupyter.widget-view+json": {
              "model_id": "7a11c5b410a14ee0a70c66e71dd6f394",
              "version_major": 2,
              "version_minor": 0
            },
            "text/plain": [
              "Training: |          | 0/? [00:00<?, ?it/s]"
            ]
          },
          "metadata": {},
          "output_type": "display_data"
        },
        {
          "data": {
            "application/vnd.jupyter.widget-view+json": {
              "model_id": "95a555b68b2246b6bf142047a3c3812a",
              "version_major": 2,
              "version_minor": 0
            },
            "text/plain": [
              "Validation: |          | 0/? [00:00<?, ?it/s]"
            ]
          },
          "metadata": {},
          "output_type": "display_data"
        },
        {
          "data": {
            "application/vnd.jupyter.widget-view+json": {
              "model_id": "97e70d5d92cb430a96f2b0f8fcb9ddd0",
              "version_major": 2,
              "version_minor": 0
            },
            "text/plain": [
              "Validation: |          | 0/? [00:00<?, ?it/s]"
            ]
          },
          "metadata": {},
          "output_type": "display_data"
        },
        {
          "data": {
            "application/vnd.jupyter.widget-view+json": {
              "model_id": "f386c509534a42e2b358ec4d629a7c71",
              "version_major": 2,
              "version_minor": 0
            },
            "text/plain": [
              "Validation: |          | 0/? [00:00<?, ?it/s]"
            ]
          },
          "metadata": {},
          "output_type": "display_data"
        },
        {
          "data": {
            "application/vnd.jupyter.widget-view+json": {
              "model_id": "b390a4aa0946447e816174c5ea5fcec0",
              "version_major": 2,
              "version_minor": 0
            },
            "text/plain": [
              "Validation: |          | 0/? [00:00<?, ?it/s]"
            ]
          },
          "metadata": {},
          "output_type": "display_data"
        },
        {
          "data": {
            "application/vnd.jupyter.widget-view+json": {
              "model_id": "f0697d5dcfe04a8c86ff4d52420f95b1",
              "version_major": 2,
              "version_minor": 0
            },
            "text/plain": [
              "Validation: |          | 0/? [00:00<?, ?it/s]"
            ]
          },
          "metadata": {},
          "output_type": "display_data"
        },
        {
          "data": {
            "application/vnd.jupyter.widget-view+json": {
              "model_id": "29b0a1ec31ec4eeaa49291aaafa10632",
              "version_major": 2,
              "version_minor": 0
            },
            "text/plain": [
              "Validation: |          | 0/? [00:00<?, ?it/s]"
            ]
          },
          "metadata": {},
          "output_type": "display_data"
        },
        {
          "data": {
            "application/vnd.jupyter.widget-view+json": {
              "model_id": "5ef9099978e94762901bfe04536f42cb",
              "version_major": 2,
              "version_minor": 0
            },
            "text/plain": [
              "Validation: |          | 0/? [00:00<?, ?it/s]"
            ]
          },
          "metadata": {},
          "output_type": "display_data"
        },
        {
          "data": {
            "application/vnd.jupyter.widget-view+json": {
              "model_id": "52d93dddb4ed43f48c5fdd767ffd30e0",
              "version_major": 2,
              "version_minor": 0
            },
            "text/plain": [
              "Validation: |          | 0/? [00:00<?, ?it/s]"
            ]
          },
          "metadata": {},
          "output_type": "display_data"
        },
        {
          "data": {
            "application/vnd.jupyter.widget-view+json": {
              "model_id": "60f5ae460b0243d2a430e7d2570edafa",
              "version_major": 2,
              "version_minor": 0
            },
            "text/plain": [
              "Validation: |          | 0/? [00:00<?, ?it/s]"
            ]
          },
          "metadata": {},
          "output_type": "display_data"
        },
        {
          "data": {
            "application/vnd.jupyter.widget-view+json": {
              "model_id": "f8d5ad4e482e400384f71af3095d551b",
              "version_major": 2,
              "version_minor": 0
            },
            "text/plain": [
              "Validation: |          | 0/? [00:00<?, ?it/s]"
            ]
          },
          "metadata": {},
          "output_type": "display_data"
        },
        {
          "data": {
            "application/vnd.jupyter.widget-view+json": {
              "model_id": "af9e166f16b3433182b7553dd92b4cf3",
              "version_major": 2,
              "version_minor": 0
            },
            "text/plain": [
              "Validation: |          | 0/? [00:00<?, ?it/s]"
            ]
          },
          "metadata": {},
          "output_type": "display_data"
        },
        {
          "data": {
            "application/vnd.jupyter.widget-view+json": {
              "model_id": "75dab0669e2545ee939ffa3a6a5df6f0",
              "version_major": 2,
              "version_minor": 0
            },
            "text/plain": [
              "Validation: |          | 0/? [00:00<?, ?it/s]"
            ]
          },
          "metadata": {},
          "output_type": "display_data"
        },
        {
          "data": {
            "application/vnd.jupyter.widget-view+json": {
              "model_id": "12b4c488a529422bb8143a9c4996c491",
              "version_major": 2,
              "version_minor": 0
            },
            "text/plain": [
              "Validation: |          | 0/? [00:00<?, ?it/s]"
            ]
          },
          "metadata": {},
          "output_type": "display_data"
        },
        {
          "data": {
            "application/vnd.jupyter.widget-view+json": {
              "model_id": "172ed45d6a2d40008c0df3495e2f20f3",
              "version_major": 2,
              "version_minor": 0
            },
            "text/plain": [
              "Validation: |          | 0/? [00:00<?, ?it/s]"
            ]
          },
          "metadata": {},
          "output_type": "display_data"
        },
        {
          "data": {
            "application/vnd.jupyter.widget-view+json": {
              "model_id": "c086652470624c819915abbe15d8cfab",
              "version_major": 2,
              "version_minor": 0
            },
            "text/plain": [
              "Validation: |          | 0/? [00:00<?, ?it/s]"
            ]
          },
          "metadata": {},
          "output_type": "display_data"
        },
        {
          "data": {
            "application/vnd.jupyter.widget-view+json": {
              "model_id": "ea5f5ea4497141c8b58dfeef28457fb6",
              "version_major": 2,
              "version_minor": 0
            },
            "text/plain": [
              "Validation: |          | 0/? [00:00<?, ?it/s]"
            ]
          },
          "metadata": {},
          "output_type": "display_data"
        },
        {
          "data": {
            "application/vnd.jupyter.widget-view+json": {
              "model_id": "18df8135891f4f62ba4522de445e0d53",
              "version_major": 2,
              "version_minor": 0
            },
            "text/plain": [
              "Validation: |          | 0/? [00:00<?, ?it/s]"
            ]
          },
          "metadata": {},
          "output_type": "display_data"
        },
        {
          "data": {
            "application/vnd.jupyter.widget-view+json": {
              "model_id": "c5b57ee0dcd4459c90030fd90dfa0d57",
              "version_major": 2,
              "version_minor": 0
            },
            "text/plain": [
              "Validation: |          | 0/? [00:00<?, ?it/s]"
            ]
          },
          "metadata": {},
          "output_type": "display_data"
        },
        {
          "data": {
            "application/vnd.jupyter.widget-view+json": {
              "model_id": "3bd0e2bf6bdb4a6290e424f5f50c1866",
              "version_major": 2,
              "version_minor": 0
            },
            "text/plain": [
              "Validation: |          | 0/? [00:00<?, ?it/s]"
            ]
          },
          "metadata": {},
          "output_type": "display_data"
        },
        {
          "data": {
            "application/vnd.jupyter.widget-view+json": {
              "model_id": "6e9cdbc40da046879a98d25e19dbdc09",
              "version_major": 2,
              "version_minor": 0
            },
            "text/plain": [
              "Validation: |          | 0/? [00:00<?, ?it/s]"
            ]
          },
          "metadata": {},
          "output_type": "display_data"
        },
        {
          "data": {
            "application/vnd.jupyter.widget-view+json": {
              "model_id": "c2c9cc466f254c9a82aef89e705ef0bb",
              "version_major": 2,
              "version_minor": 0
            },
            "text/plain": [
              "Validation: |          | 0/? [00:00<?, ?it/s]"
            ]
          },
          "metadata": {},
          "output_type": "display_data"
        },
        {
          "name": "stderr",
          "output_type": "stream",
          "text": [
            "GPU available: True (cuda), used: True\n",
            "TPU available: False, using: 0 TPU cores\n",
            "HPU available: False, using: 0 HPUs\n",
            "LOCAL_RANK: 0 - CUDA_VISIBLE_DEVICES: [0]\n"
          ]
        },
        {
          "name": "stdout",
          "output_type": "stream",
          "text": [
            "\n",
            "Training with dropout rate: 0.4\n"
          ]
        },
        {
          "data": {
            "application/vnd.jupyter.widget-view+json": {
              "model_id": "31606caf22334b6f944ed30d0ea195f0",
              "version_major": 2,
              "version_minor": 0
            },
            "text/plain": [
              "Sanity Checking: |          | 0/? [00:00<?, ?it/s]"
            ]
          },
          "metadata": {},
          "output_type": "display_data"
        },
        {
          "data": {
            "application/vnd.jupyter.widget-view+json": {
              "model_id": "a809f4ec24b64c1a9928f0c06c99717b",
              "version_major": 2,
              "version_minor": 0
            },
            "text/plain": [
              "Training: |          | 0/? [00:00<?, ?it/s]"
            ]
          },
          "metadata": {},
          "output_type": "display_data"
        },
        {
          "data": {
            "application/vnd.jupyter.widget-view+json": {
              "model_id": "092c4171b3aa4c76b64e465fd291092d",
              "version_major": 2,
              "version_minor": 0
            },
            "text/plain": [
              "Validation: |          | 0/? [00:00<?, ?it/s]"
            ]
          },
          "metadata": {},
          "output_type": "display_data"
        },
        {
          "data": {
            "application/vnd.jupyter.widget-view+json": {
              "model_id": "d5624dbd88e94404a5cda41d27a703b2",
              "version_major": 2,
              "version_minor": 0
            },
            "text/plain": [
              "Validation: |          | 0/? [00:00<?, ?it/s]"
            ]
          },
          "metadata": {},
          "output_type": "display_data"
        },
        {
          "data": {
            "application/vnd.jupyter.widget-view+json": {
              "model_id": "9bca2655645e43ae8eea8b8783659a28",
              "version_major": 2,
              "version_minor": 0
            },
            "text/plain": [
              "Validation: |          | 0/? [00:00<?, ?it/s]"
            ]
          },
          "metadata": {},
          "output_type": "display_data"
        },
        {
          "data": {
            "application/vnd.jupyter.widget-view+json": {
              "model_id": "67f7d87829514128a9229350bc1cad06",
              "version_major": 2,
              "version_minor": 0
            },
            "text/plain": [
              "Validation: |          | 0/? [00:00<?, ?it/s]"
            ]
          },
          "metadata": {},
          "output_type": "display_data"
        },
        {
          "data": {
            "application/vnd.jupyter.widget-view+json": {
              "model_id": "03e9648b3f0d4d569ce8ed99caa1350d",
              "version_major": 2,
              "version_minor": 0
            },
            "text/plain": [
              "Validation: |          | 0/? [00:00<?, ?it/s]"
            ]
          },
          "metadata": {},
          "output_type": "display_data"
        },
        {
          "data": {
            "application/vnd.jupyter.widget-view+json": {
              "model_id": "2e8eb2889f084f65b2a43ff56e46015f",
              "version_major": 2,
              "version_minor": 0
            },
            "text/plain": [
              "Validation: |          | 0/? [00:00<?, ?it/s]"
            ]
          },
          "metadata": {},
          "output_type": "display_data"
        },
        {
          "data": {
            "application/vnd.jupyter.widget-view+json": {
              "model_id": "865cee0885ea4c2ab5ecff03fbc397b0",
              "version_major": 2,
              "version_minor": 0
            },
            "text/plain": [
              "Validation: |          | 0/? [00:00<?, ?it/s]"
            ]
          },
          "metadata": {},
          "output_type": "display_data"
        },
        {
          "data": {
            "application/vnd.jupyter.widget-view+json": {
              "model_id": "58b9f8fa6ca9459593540cf85161dc0d",
              "version_major": 2,
              "version_minor": 0
            },
            "text/plain": [
              "Validation: |          | 0/? [00:00<?, ?it/s]"
            ]
          },
          "metadata": {},
          "output_type": "display_data"
        },
        {
          "data": {
            "application/vnd.jupyter.widget-view+json": {
              "model_id": "0240e341d1c54359b67bccc9375cce13",
              "version_major": 2,
              "version_minor": 0
            },
            "text/plain": [
              "Validation: |          | 0/? [00:00<?, ?it/s]"
            ]
          },
          "metadata": {},
          "output_type": "display_data"
        },
        {
          "data": {
            "application/vnd.jupyter.widget-view+json": {
              "model_id": "86a360b9ff0d4f589e1b30c4cbea43e3",
              "version_major": 2,
              "version_minor": 0
            },
            "text/plain": [
              "Validation: |          | 0/? [00:00<?, ?it/s]"
            ]
          },
          "metadata": {},
          "output_type": "display_data"
        },
        {
          "data": {
            "application/vnd.jupyter.widget-view+json": {
              "model_id": "12696f4292a040d4961ca3eb881de0a3",
              "version_major": 2,
              "version_minor": 0
            },
            "text/plain": [
              "Validation: |          | 0/? [00:00<?, ?it/s]"
            ]
          },
          "metadata": {},
          "output_type": "display_data"
        },
        {
          "data": {
            "application/vnd.jupyter.widget-view+json": {
              "model_id": "45d262fc18c646898ca96a5149216aa2",
              "version_major": 2,
              "version_minor": 0
            },
            "text/plain": [
              "Validation: |          | 0/? [00:00<?, ?it/s]"
            ]
          },
          "metadata": {},
          "output_type": "display_data"
        },
        {
          "data": {
            "application/vnd.jupyter.widget-view+json": {
              "model_id": "9e105745dfd54eb691e7da3c54ad3629",
              "version_major": 2,
              "version_minor": 0
            },
            "text/plain": [
              "Validation: |          | 0/? [00:00<?, ?it/s]"
            ]
          },
          "metadata": {},
          "output_type": "display_data"
        },
        {
          "data": {
            "application/vnd.jupyter.widget-view+json": {
              "model_id": "d1d7f4fe2e474fc49c25bbc9d8ae8b8e",
              "version_major": 2,
              "version_minor": 0
            },
            "text/plain": [
              "Validation: |          | 0/? [00:00<?, ?it/s]"
            ]
          },
          "metadata": {},
          "output_type": "display_data"
        },
        {
          "data": {
            "application/vnd.jupyter.widget-view+json": {
              "model_id": "edbd3d07c15f414d9aac0d3697efa6cc",
              "version_major": 2,
              "version_minor": 0
            },
            "text/plain": [
              "Validation: |          | 0/? [00:00<?, ?it/s]"
            ]
          },
          "metadata": {},
          "output_type": "display_data"
        },
        {
          "data": {
            "application/vnd.jupyter.widget-view+json": {
              "model_id": "3f4a41e9686f4dfaa9e88a49592a1df1",
              "version_major": 2,
              "version_minor": 0
            },
            "text/plain": [
              "Validation: |          | 0/? [00:00<?, ?it/s]"
            ]
          },
          "metadata": {},
          "output_type": "display_data"
        },
        {
          "data": {
            "application/vnd.jupyter.widget-view+json": {
              "model_id": "fe277a1d49434e4aabb37549c47cded2",
              "version_major": 2,
              "version_minor": 0
            },
            "text/plain": [
              "Validation: |          | 0/? [00:00<?, ?it/s]"
            ]
          },
          "metadata": {},
          "output_type": "display_data"
        },
        {
          "data": {
            "application/vnd.jupyter.widget-view+json": {
              "model_id": "64f7874d222847cea53dcf1709f4c16f",
              "version_major": 2,
              "version_minor": 0
            },
            "text/plain": [
              "Validation: |          | 0/? [00:00<?, ?it/s]"
            ]
          },
          "metadata": {},
          "output_type": "display_data"
        },
        {
          "data": {
            "application/vnd.jupyter.widget-view+json": {
              "model_id": "4640d52efbd44e0388b5d408bc041827",
              "version_major": 2,
              "version_minor": 0
            },
            "text/plain": [
              "Validation: |          | 0/? [00:00<?, ?it/s]"
            ]
          },
          "metadata": {},
          "output_type": "display_data"
        },
        {
          "data": {
            "application/vnd.jupyter.widget-view+json": {
              "model_id": "8048de99bec34d278ecca1c6000767f3",
              "version_major": 2,
              "version_minor": 0
            },
            "text/plain": [
              "Validation: |          | 0/? [00:00<?, ?it/s]"
            ]
          },
          "metadata": {},
          "output_type": "display_data"
        },
        {
          "data": {
            "application/vnd.jupyter.widget-view+json": {
              "model_id": "697bde042988453aa12736d9565ce2c0",
              "version_major": 2,
              "version_minor": 0
            },
            "text/plain": [
              "Validation: |          | 0/? [00:00<?, ?it/s]"
            ]
          },
          "metadata": {},
          "output_type": "display_data"
        },
        {
          "name": "stderr",
          "output_type": "stream",
          "text": [
            "GPU available: True (cuda), used: True\n",
            "TPU available: False, using: 0 TPU cores\n",
            "HPU available: False, using: 0 HPUs\n",
            "LOCAL_RANK: 0 - CUDA_VISIBLE_DEVICES: [0]\n"
          ]
        },
        {
          "name": "stdout",
          "output_type": "stream",
          "text": [
            "\n",
            "Training with dropout rate: 0.5\n"
          ]
        },
        {
          "data": {
            "application/vnd.jupyter.widget-view+json": {
              "model_id": "d451905108b7467d838142e5264497fe",
              "version_major": 2,
              "version_minor": 0
            },
            "text/plain": [
              "Sanity Checking: |          | 0/? [00:00<?, ?it/s]"
            ]
          },
          "metadata": {},
          "output_type": "display_data"
        },
        {
          "data": {
            "application/vnd.jupyter.widget-view+json": {
              "model_id": "5a38c5e547734b0698ff1e7bb0d23196",
              "version_major": 2,
              "version_minor": 0
            },
            "text/plain": [
              "Training: |          | 0/? [00:00<?, ?it/s]"
            ]
          },
          "metadata": {},
          "output_type": "display_data"
        },
        {
          "data": {
            "application/vnd.jupyter.widget-view+json": {
              "model_id": "5cc80e1b1ebd4bac8bfd99d735f9b629",
              "version_major": 2,
              "version_minor": 0
            },
            "text/plain": [
              "Validation: |          | 0/? [00:00<?, ?it/s]"
            ]
          },
          "metadata": {},
          "output_type": "display_data"
        },
        {
          "data": {
            "application/vnd.jupyter.widget-view+json": {
              "model_id": "c36448a31a31480b82a8f0af0e1ac29f",
              "version_major": 2,
              "version_minor": 0
            },
            "text/plain": [
              "Validation: |          | 0/? [00:00<?, ?it/s]"
            ]
          },
          "metadata": {},
          "output_type": "display_data"
        },
        {
          "data": {
            "application/vnd.jupyter.widget-view+json": {
              "model_id": "a85155b19bc8413cb9ae4b7a004dd7f5",
              "version_major": 2,
              "version_minor": 0
            },
            "text/plain": [
              "Validation: |          | 0/? [00:00<?, ?it/s]"
            ]
          },
          "metadata": {},
          "output_type": "display_data"
        },
        {
          "data": {
            "application/vnd.jupyter.widget-view+json": {
              "model_id": "32fc7563b5944e3fb863f5becac7ccab",
              "version_major": 2,
              "version_minor": 0
            },
            "text/plain": [
              "Validation: |          | 0/? [00:00<?, ?it/s]"
            ]
          },
          "metadata": {},
          "output_type": "display_data"
        },
        {
          "data": {
            "application/vnd.jupyter.widget-view+json": {
              "model_id": "e14bbb64b06e4e98b2b5939c16bd5735",
              "version_major": 2,
              "version_minor": 0
            },
            "text/plain": [
              "Validation: |          | 0/? [00:00<?, ?it/s]"
            ]
          },
          "metadata": {},
          "output_type": "display_data"
        },
        {
          "data": {
            "application/vnd.jupyter.widget-view+json": {
              "model_id": "3681fee09d264d2b9e8b1b7fb5ea5f9b",
              "version_major": 2,
              "version_minor": 0
            },
            "text/plain": [
              "Validation: |          | 0/? [00:00<?, ?it/s]"
            ]
          },
          "metadata": {},
          "output_type": "display_data"
        },
        {
          "data": {
            "application/vnd.jupyter.widget-view+json": {
              "model_id": "1b8748944f654011966febc811b396b8",
              "version_major": 2,
              "version_minor": 0
            },
            "text/plain": [
              "Validation: |          | 0/? [00:00<?, ?it/s]"
            ]
          },
          "metadata": {},
          "output_type": "display_data"
        },
        {
          "data": {
            "application/vnd.jupyter.widget-view+json": {
              "model_id": "3e72dea141bb40a9ba3688a9cb15761f",
              "version_major": 2,
              "version_minor": 0
            },
            "text/plain": [
              "Validation: |          | 0/? [00:00<?, ?it/s]"
            ]
          },
          "metadata": {},
          "output_type": "display_data"
        },
        {
          "data": {
            "application/vnd.jupyter.widget-view+json": {
              "model_id": "e996b5be3b614f6d9ebeb90a9fa0a4bd",
              "version_major": 2,
              "version_minor": 0
            },
            "text/plain": [
              "Validation: |          | 0/? [00:00<?, ?it/s]"
            ]
          },
          "metadata": {},
          "output_type": "display_data"
        },
        {
          "data": {
            "application/vnd.jupyter.widget-view+json": {
              "model_id": "53ca17d8d1f042e98e54bde96844a8ed",
              "version_major": 2,
              "version_minor": 0
            },
            "text/plain": [
              "Validation: |          | 0/? [00:00<?, ?it/s]"
            ]
          },
          "metadata": {},
          "output_type": "display_data"
        },
        {
          "data": {
            "application/vnd.jupyter.widget-view+json": {
              "model_id": "2f33e27d36bc4fab859396a6eafd349f",
              "version_major": 2,
              "version_minor": 0
            },
            "text/plain": [
              "Validation: |          | 0/? [00:00<?, ?it/s]"
            ]
          },
          "metadata": {},
          "output_type": "display_data"
        },
        {
          "data": {
            "application/vnd.jupyter.widget-view+json": {
              "model_id": "f337abbb082a4cbd8a85b17f2659337d",
              "version_major": 2,
              "version_minor": 0
            },
            "text/plain": [
              "Validation: |          | 0/? [00:00<?, ?it/s]"
            ]
          },
          "metadata": {},
          "output_type": "display_data"
        },
        {
          "data": {
            "application/vnd.jupyter.widget-view+json": {
              "model_id": "e42a7682747b4c4698339b9b6d47ef1f",
              "version_major": 2,
              "version_minor": 0
            },
            "text/plain": [
              "Validation: |          | 0/? [00:00<?, ?it/s]"
            ]
          },
          "metadata": {},
          "output_type": "display_data"
        },
        {
          "data": {
            "application/vnd.jupyter.widget-view+json": {
              "model_id": "bca9103670b940178011de0efb2e37d5",
              "version_major": 2,
              "version_minor": 0
            },
            "text/plain": [
              "Validation: |          | 0/? [00:00<?, ?it/s]"
            ]
          },
          "metadata": {},
          "output_type": "display_data"
        },
        {
          "data": {
            "application/vnd.jupyter.widget-view+json": {
              "model_id": "1a35d951612249aa865f26369524f8c0",
              "version_major": 2,
              "version_minor": 0
            },
            "text/plain": [
              "Validation: |          | 0/? [00:00<?, ?it/s]"
            ]
          },
          "metadata": {},
          "output_type": "display_data"
        },
        {
          "data": {
            "application/vnd.jupyter.widget-view+json": {
              "model_id": "39319acd47024b64962d2bf1477d62ce",
              "version_major": 2,
              "version_minor": 0
            },
            "text/plain": [
              "Validation: |          | 0/? [00:00<?, ?it/s]"
            ]
          },
          "metadata": {},
          "output_type": "display_data"
        },
        {
          "data": {
            "application/vnd.jupyter.widget-view+json": {
              "model_id": "62a47b08ca1d4ca481eb9f516f87456b",
              "version_major": 2,
              "version_minor": 0
            },
            "text/plain": [
              "Validation: |          | 0/? [00:00<?, ?it/s]"
            ]
          },
          "metadata": {},
          "output_type": "display_data"
        },
        {
          "data": {
            "application/vnd.jupyter.widget-view+json": {
              "model_id": "d237dc06c6e044309763cab6641af5c8",
              "version_major": 2,
              "version_minor": 0
            },
            "text/plain": [
              "Validation: |          | 0/? [00:00<?, ?it/s]"
            ]
          },
          "metadata": {},
          "output_type": "display_data"
        },
        {
          "data": {
            "application/vnd.jupyter.widget-view+json": {
              "model_id": "ede43e83c60c4b54bd7c4cb152cb28ea",
              "version_major": 2,
              "version_minor": 0
            },
            "text/plain": [
              "Validation: |          | 0/? [00:00<?, ?it/s]"
            ]
          },
          "metadata": {},
          "output_type": "display_data"
        },
        {
          "data": {
            "application/vnd.jupyter.widget-view+json": {
              "model_id": "37d1605ae5e74671a4cc2b0d962756ae",
              "version_major": 2,
              "version_minor": 0
            },
            "text/plain": [
              "Validation: |          | 0/? [00:00<?, ?it/s]"
            ]
          },
          "metadata": {},
          "output_type": "display_data"
        },
        {
          "data": {
            "application/vnd.jupyter.widget-view+json": {
              "model_id": "dc448c0083dc45e7b47010d0ec8cd145",
              "version_major": 2,
              "version_minor": 0
            },
            "text/plain": [
              "Validation: |          | 0/? [00:00<?, ?it/s]"
            ]
          },
          "metadata": {},
          "output_type": "display_data"
        },
        {
          "name": "stdout",
          "output_type": "stream",
          "text": [
            "\n",
            "Best dropout rate: 0.2 (accuracy: 0.7244)\n"
          ]
        }
      ],
      "source": [
        "# Подбираем dropout\n",
        "dropout_rates = [0.1, 0.2, 0.3, 0.4, 0.5]\n",
        "best_acc = 0\n",
        "best_dropout = None\n",
        "\n",
        "for dropout in dropout_rates:\n",
        "    print(f\"\\nTraining with dropout rate: {dropout}\")\n",
        "\n",
        "    early_stop_callback = EarlyStopping(\n",
        "        monitor='val_acc',\n",
        "        min_delta=0.00,\n",
        "        patience=10,\n",
        "        verbose=False,\n",
        "        mode='max'\n",
        "    )\n",
        "\n",
        "    model = DaNetQAClassifier(\n",
        "        train_dataset=train_dataset,\n",
        "        val_dataset=val_dataset,\n",
        "        batch_size=32,\n",
        "        lr=best_lr,\n",
        "        dropout_rate=dropout\n",
        "    )\n",
        "\n",
        "    trainer = pl.Trainer(\n",
        "        max_epochs=100,\n",
        "        accelerator='auto',\n",
        "        devices=1,\n",
        "        callbacks=[early_stop_callback],\n",
        "        enable_progress_bar=True,\n",
        "        enable_model_summary=False\n",
        "    )\n",
        "\n",
        "    trainer.fit(model)\n",
        "\n",
        "    if trainer.callback_metrics['val_acc'].item() > best_acc:\n",
        "        best_acc = trainer.callback_metrics['val_acc'].item()\n",
        "        best_dropout = dropout\n",
        "\n",
        "print(f\"\\nBest dropout rate: {best_dropout} (accuracy: {best_acc:.4f})\")"
      ]
    },
    {
      "cell_type": "code",
      "execution_count": null,
      "metadata": {
        "colab": {
          "referenced_widgets": [
            "3c2a8280e00245f38780bb17c943090d",
            "c74c5fe2e0c143899a5a68165075b980",
            "7c34eedcc62c4592a8bfdf069bb23d4f",
            "c41bb2935dc84324831acf22c0e256c2",
            "b4c7d000a75c45278001c4b8d4c68285",
            "f25d75a686324372bbb8e6e7eec21da5",
            "1d82008470094261b9d698c94f6ee747",
            "29946f383e0f48248e607cbfbc0374b8",
            "8fd459b505a14709be936ec8e9f8ba94",
            "e65a755efb274fd6b4febbe93dd30e85",
            "02a82f9a8e2c4c2ab787e5771194cb62",
            "14fd0ad504324dc59252dab947e47a18",
            "3439ff6bbe9d463999edab12a86f1fb8",
            "0bab93a8d84c4be6adb544ae8112fa0b",
            "4fedafba964247e7ae4c352f8c18b604",
            "f2efef09a20f4631a27801c7c6921be4",
            "89985b1896b34747a11b3e05f3fb24b4",
            "f6283ea8eeb74657a94ae6a4210d4123",
            "525cb12bcd74416c972276a38e5fe5ef",
            "3e0d88c8adc54ea18b0e8bcc996bf22f",
            "df95fa069dc24ed68e2fec6785e9a5ed",
            "d10f34dec2ce40e79ab9ef94fdb6e227",
            "d5a7b6e462c9430cac3cb38bf994b3b7",
            "336ad242d74249d8a9d9822a6b894497",
            "631473cc4ddc462ba6c10a3e94bb5b48",
            "a2f3a0690a6d405ebee71878d6d696f1",
            "20736faa3f834894ba551a6e2bfa8c2d",
            "145e15aa71fc4f04bc4c47a688a1e55a",
            "009bd4b40d3c497198959bfbe68337c2",
            "980ac2e40cce42c4a0d41ff761842b49",
            "4efd6109fe48429fb6031ed3f282ead3",
            "778cb17a23ab45f3a2b80848233dce44",
            "45a7a88b365a43808988186e806dde91",
            "3e78a4123dd5450f82e0ed73273592a3",
            "a361fcd833bf460dbecc9b9758a00b16",
            "43dfc2d56c464bde8ee2f527fd0a4021",
            "017b73411f494ffebca70dd9275c0aa3",
            "75ec75bdf72a48a091ede7f4962e941d",
            "607ded2b726945b3a8b5ebde18233649",
            "410ff1887846455083f13f82c1b0ef9b",
            "128957f1dc534d9c87361bc3b52863f4",
            "cb8209d44fd444c481f9d9e96e455568",
            "455c8fba591848308bbbd5661f4e3818",
            "9a546c32117540f6b9518d0da645066f",
            "c6c3f43bbbd742a3be5541d7ff87a296",
            "b4251e57e80342aabbd5706d0ace4d5a",
            "0a3efae12a304df3b7a112d422f4d4ca",
            "bd97f82582b74386839d541ed94ce15e",
            "3220626b226744c19c401bba3e237fdd",
            "a1c78aac851b4263a4e2e9f7905e3226",
            "0e7f812040234873acd5c83ce745cb30",
            "d998e25a763b47d1bb20f252364b4948",
            "79ddb6840e96412abc3ab8be6bdc6b5c",
            "93b9d4943c524f6f80373791c4543091",
            "c368442956af485494a8fbeed7707dc4",
            "9543f3f759a94096b3cab1fc718efc59",
            "6d938d8770f743729b0e12dabedab3ae",
            "dc8040bf8bdb45d7a1a605e7d7d4db4a",
            "b900046317984690b51d6ab7d4b0cef4",
            "91c08dc05cc14fa29d61593934aa15d6",
            "c977a67e53f7443f9831fd28aa130f32",
            "6ff76676fe9f46a5bc8f7ee7ccc16bae",
            "f0cbea33a1ac46a5b3637e2cac9ee1a1",
            "3232585644144b8cab4de648d9c1f852",
            "739832065d1d402d98edebad0f65c8cf",
            "cd48801f28974f99b45e84f5d33b0d68",
            "b00cb4b7a44b42698e4c05bcb6ed301a",
            "5fe3ac99931b44778d8ebf4d5a93f664",
            "b7a438cf0f934c0a9a9f2f2d06eacad5",
            "8a07203a66bd486b8d2a858184840a35",
            "b942da4d405549908b0a7458996ec0d7",
            "36384364a7314a7f9178ee8093e1d36c",
            "3a322dfc1a374352b98400176602700f",
            "f3e09b17c58743e3979aaba679d09818",
            "bb086cc98e464cfa9732aa2d130240c6",
            "4ce7c7e8966c48d5889d49e69b622877",
            "3764e756ec6f4ff482b91f2e7111bde8",
            "a991bd149dc541479d1acaaa5bdfc2f7",
            "31dbdd009d194951a4ae6b182075225d",
            "81fbc4e58e774dcda92c0c972c8c2d1d",
            "8840341a076b45bfb8bf1d1efea001c0",
            "3cf18f3568b241f88ce4cc61ba5e7079",
            "b7a0ef9ee8cc4753a4ba35d27e24d735",
            "e3e1359d57124d7e90e8f19bc4e63e25",
            "51248bcfe43942bea52e91ac81e8be9e",
            "12dd3f3df7504de3bfaf04ee0c8edbe7",
            "b4327db217c94dd58eb3ccc86ca4f4d3",
            "fb35dd72706a483b85bd3363838dc247",
            "3ba689e9d85c49c49b0fe4a2acf26ac8",
            "8445facee7fb44faacfe1441b0438b7f",
            "d6f5633da4fa4f94a04acf909923cfd8",
            "5ea3eb9eccbc43dd9c0ac3110946c056",
            "0aa4947a10d9443087c9e4fec155b0a6",
            "4f6ed7bf9d5c451dbab7f5111873f19b",
            "d55dbf7590d34a67a4dba2eb7f18272d",
            "4a06eb04c48f42cf914921c454d0b1ca",
            "2736db09655243e796986b8ae0bb9d84",
            "964d5f7d9f784897b600ae424d618a50",
            "777275f5c79740d49c5f28c2049f2140",
            "31f86118b0e8487e816114c4ac5f4916",
            "3c14b04d13024f0585fc54c048c32934",
            "30530362e60b42bf8cf798d856ce93ad",
            "3ef36b03ff014dc89414ba27f9e9bdf8",
            "6afcd7f960344e52863e700170855847",
            "e7817222b58b4fcb897b418ec7263d0e",
            "7824c218bb354caeb1ef1390f8effdb9",
            "24c7b705ef5643eb8ba01d3a21bcb052",
            "55332e8680bb4f9bb232f66e347d3993",
            "a75d893d971342b4bd6287f364c98137",
            "be0f6e63daf84f2eb225404c922a4e77",
            "319d502338ab42739ba05a9d2ddb4db2",
            "3779f1a60ed946c1b1ce210be7fa6f3f",
            "87f1f7d70a7344c6bf5668a9ead4e9f5",
            "1f7c25a800c445cb9a9b3ee99666050e",
            "2e40dd25e4c548e78f34598537a73ee2",
            "7070af2a2134421ebc35f2495590a949",
            "83fe7170dc2d4da794e80b7045b5f0b1",
            "0cdc4b7a908a4c809efe641fe0c7c589",
            "e50fb7835bdf43d1965212dcd8795681",
            "17333e14b6a04f64abe7deccd02e900a",
            "79877c748fc3494d91def0411621aa6e",
            "0ab1b641993a4097be723637a69abae8",
            "93c4051ceb304734bb332b993812d793",
            "361fbba60b25428084afaae89304bcb9",
            "ae97cf7efdd34b5aa1a3ce672589bc31",
            "997f6abc5bcf41c69e6cb9504288158e",
            "7e354dbb8473456ea0b3aa0cdbde9666",
            "cd2f895ae0514d3aafa68cdf7d567799",
            "948cc1be8776499bbad5839e61fefce8",
            "904c59f87cf848bcb924b90fe0686d40",
            "ca37a32ffe6a4954b3d178a02f9b9d65",
            "1f64565d48a44a0985cd948a9f43d58f",
            "507fab14654e478d9c9e1bb9df578ed0",
            "762089d75f694679a102662a1062dec9",
            "280957a3899f41c892fa23278c06821a",
            "a2c79dd148a44d278718e432111fc3b0",
            "6ea4e43250084c50b423c6cc5cc8d888",
            "6ad1671976f3410690973a5ec6c364c8",
            "b2c6d62719aa4dc9ae7e24526934a067"
          ]
        },
        "id": "IiRefyQ6eLiM",
        "outputId": "a56f19cf-14e6-4e14-f2e2-d0dbc7cfada4"
      },
      "outputs": [
        {
          "name": "stderr",
          "output_type": "stream",
          "text": [
            "GPU available: True (cuda), used: True\n",
            "TPU available: False, using: 0 TPU cores\n",
            "HPU available: False, using: 0 HPUs\n",
            "LOCAL_RANK: 0 - CUDA_VISIBLE_DEVICES: [0]\n"
          ]
        },
        {
          "name": "stdout",
          "output_type": "stream",
          "text": [
            "\n",
            "Training with weight decay: 1e-05\n"
          ]
        },
        {
          "data": {
            "application/vnd.jupyter.widget-view+json": {
              "model_id": "3c2a8280e00245f38780bb17c943090d",
              "version_major": 2,
              "version_minor": 0
            },
            "text/plain": [
              "Sanity Checking: |          | 0/? [00:00<?, ?it/s]"
            ]
          },
          "metadata": {},
          "output_type": "display_data"
        },
        {
          "data": {
            "application/vnd.jupyter.widget-view+json": {
              "model_id": "c74c5fe2e0c143899a5a68165075b980",
              "version_major": 2,
              "version_minor": 0
            },
            "text/plain": [
              "Training: |          | 0/? [00:00<?, ?it/s]"
            ]
          },
          "metadata": {},
          "output_type": "display_data"
        },
        {
          "data": {
            "application/vnd.jupyter.widget-view+json": {
              "model_id": "7c34eedcc62c4592a8bfdf069bb23d4f",
              "version_major": 2,
              "version_minor": 0
            },
            "text/plain": [
              "Validation: |          | 0/? [00:00<?, ?it/s]"
            ]
          },
          "metadata": {},
          "output_type": "display_data"
        },
        {
          "data": {
            "application/vnd.jupyter.widget-view+json": {
              "model_id": "c41bb2935dc84324831acf22c0e256c2",
              "version_major": 2,
              "version_minor": 0
            },
            "text/plain": [
              "Validation: |          | 0/? [00:00<?, ?it/s]"
            ]
          },
          "metadata": {},
          "output_type": "display_data"
        },
        {
          "data": {
            "application/vnd.jupyter.widget-view+json": {
              "model_id": "b4c7d000a75c45278001c4b8d4c68285",
              "version_major": 2,
              "version_minor": 0
            },
            "text/plain": [
              "Validation: |          | 0/? [00:00<?, ?it/s]"
            ]
          },
          "metadata": {},
          "output_type": "display_data"
        },
        {
          "data": {
            "application/vnd.jupyter.widget-view+json": {
              "model_id": "f25d75a686324372bbb8e6e7eec21da5",
              "version_major": 2,
              "version_minor": 0
            },
            "text/plain": [
              "Validation: |          | 0/? [00:00<?, ?it/s]"
            ]
          },
          "metadata": {},
          "output_type": "display_data"
        },
        {
          "data": {
            "application/vnd.jupyter.widget-view+json": {
              "model_id": "1d82008470094261b9d698c94f6ee747",
              "version_major": 2,
              "version_minor": 0
            },
            "text/plain": [
              "Validation: |          | 0/? [00:00<?, ?it/s]"
            ]
          },
          "metadata": {},
          "output_type": "display_data"
        },
        {
          "data": {
            "application/vnd.jupyter.widget-view+json": {
              "model_id": "29946f383e0f48248e607cbfbc0374b8",
              "version_major": 2,
              "version_minor": 0
            },
            "text/plain": [
              "Validation: |          | 0/? [00:00<?, ?it/s]"
            ]
          },
          "metadata": {},
          "output_type": "display_data"
        },
        {
          "data": {
            "application/vnd.jupyter.widget-view+json": {
              "model_id": "8fd459b505a14709be936ec8e9f8ba94",
              "version_major": 2,
              "version_minor": 0
            },
            "text/plain": [
              "Validation: |          | 0/? [00:00<?, ?it/s]"
            ]
          },
          "metadata": {},
          "output_type": "display_data"
        },
        {
          "data": {
            "application/vnd.jupyter.widget-view+json": {
              "model_id": "e65a755efb274fd6b4febbe93dd30e85",
              "version_major": 2,
              "version_minor": 0
            },
            "text/plain": [
              "Validation: |          | 0/? [00:00<?, ?it/s]"
            ]
          },
          "metadata": {},
          "output_type": "display_data"
        },
        {
          "data": {
            "application/vnd.jupyter.widget-view+json": {
              "model_id": "02a82f9a8e2c4c2ab787e5771194cb62",
              "version_major": 2,
              "version_minor": 0
            },
            "text/plain": [
              "Validation: |          | 0/? [00:00<?, ?it/s]"
            ]
          },
          "metadata": {},
          "output_type": "display_data"
        },
        {
          "data": {
            "application/vnd.jupyter.widget-view+json": {
              "model_id": "14fd0ad504324dc59252dab947e47a18",
              "version_major": 2,
              "version_minor": 0
            },
            "text/plain": [
              "Validation: |          | 0/? [00:00<?, ?it/s]"
            ]
          },
          "metadata": {},
          "output_type": "display_data"
        },
        {
          "data": {
            "application/vnd.jupyter.widget-view+json": {
              "model_id": "3439ff6bbe9d463999edab12a86f1fb8",
              "version_major": 2,
              "version_minor": 0
            },
            "text/plain": [
              "Validation: |          | 0/? [00:00<?, ?it/s]"
            ]
          },
          "metadata": {},
          "output_type": "display_data"
        },
        {
          "data": {
            "application/vnd.jupyter.widget-view+json": {
              "model_id": "0bab93a8d84c4be6adb544ae8112fa0b",
              "version_major": 2,
              "version_minor": 0
            },
            "text/plain": [
              "Validation: |          | 0/? [00:00<?, ?it/s]"
            ]
          },
          "metadata": {},
          "output_type": "display_data"
        },
        {
          "data": {
            "application/vnd.jupyter.widget-view+json": {
              "model_id": "4fedafba964247e7ae4c352f8c18b604",
              "version_major": 2,
              "version_minor": 0
            },
            "text/plain": [
              "Validation: |          | 0/? [00:00<?, ?it/s]"
            ]
          },
          "metadata": {},
          "output_type": "display_data"
        },
        {
          "data": {
            "application/vnd.jupyter.widget-view+json": {
              "model_id": "f2efef09a20f4631a27801c7c6921be4",
              "version_major": 2,
              "version_minor": 0
            },
            "text/plain": [
              "Validation: |          | 0/? [00:00<?, ?it/s]"
            ]
          },
          "metadata": {},
          "output_type": "display_data"
        },
        {
          "data": {
            "application/vnd.jupyter.widget-view+json": {
              "model_id": "89985b1896b34747a11b3e05f3fb24b4",
              "version_major": 2,
              "version_minor": 0
            },
            "text/plain": [
              "Validation: |          | 0/? [00:00<?, ?it/s]"
            ]
          },
          "metadata": {},
          "output_type": "display_data"
        },
        {
          "data": {
            "application/vnd.jupyter.widget-view+json": {
              "model_id": "f6283ea8eeb74657a94ae6a4210d4123",
              "version_major": 2,
              "version_minor": 0
            },
            "text/plain": [
              "Validation: |          | 0/? [00:00<?, ?it/s]"
            ]
          },
          "metadata": {},
          "output_type": "display_data"
        },
        {
          "data": {
            "application/vnd.jupyter.widget-view+json": {
              "model_id": "525cb12bcd74416c972276a38e5fe5ef",
              "version_major": 2,
              "version_minor": 0
            },
            "text/plain": [
              "Validation: |          | 0/? [00:00<?, ?it/s]"
            ]
          },
          "metadata": {},
          "output_type": "display_data"
        },
        {
          "data": {
            "application/vnd.jupyter.widget-view+json": {
              "model_id": "3e0d88c8adc54ea18b0e8bcc996bf22f",
              "version_major": 2,
              "version_minor": 0
            },
            "text/plain": [
              "Validation: |          | 0/? [00:00<?, ?it/s]"
            ]
          },
          "metadata": {},
          "output_type": "display_data"
        },
        {
          "data": {
            "application/vnd.jupyter.widget-view+json": {
              "model_id": "df95fa069dc24ed68e2fec6785e9a5ed",
              "version_major": 2,
              "version_minor": 0
            },
            "text/plain": [
              "Validation: |          | 0/? [00:00<?, ?it/s]"
            ]
          },
          "metadata": {},
          "output_type": "display_data"
        },
        {
          "data": {
            "application/vnd.jupyter.widget-view+json": {
              "model_id": "d10f34dec2ce40e79ab9ef94fdb6e227",
              "version_major": 2,
              "version_minor": 0
            },
            "text/plain": [
              "Validation: |          | 0/? [00:00<?, ?it/s]"
            ]
          },
          "metadata": {},
          "output_type": "display_data"
        },
        {
          "data": {
            "application/vnd.jupyter.widget-view+json": {
              "model_id": "d5a7b6e462c9430cac3cb38bf994b3b7",
              "version_major": 2,
              "version_minor": 0
            },
            "text/plain": [
              "Validation: |          | 0/? [00:00<?, ?it/s]"
            ]
          },
          "metadata": {},
          "output_type": "display_data"
        },
        {
          "data": {
            "application/vnd.jupyter.widget-view+json": {
              "model_id": "336ad242d74249d8a9d9822a6b894497",
              "version_major": 2,
              "version_minor": 0
            },
            "text/plain": [
              "Validation: |          | 0/? [00:00<?, ?it/s]"
            ]
          },
          "metadata": {},
          "output_type": "display_data"
        },
        {
          "data": {
            "application/vnd.jupyter.widget-view+json": {
              "model_id": "631473cc4ddc462ba6c10a3e94bb5b48",
              "version_major": 2,
              "version_minor": 0
            },
            "text/plain": [
              "Validation: |          | 0/? [00:00<?, ?it/s]"
            ]
          },
          "metadata": {},
          "output_type": "display_data"
        },
        {
          "data": {
            "application/vnd.jupyter.widget-view+json": {
              "model_id": "a2f3a0690a6d405ebee71878d6d696f1",
              "version_major": 2,
              "version_minor": 0
            },
            "text/plain": [
              "Validation: |          | 0/? [00:00<?, ?it/s]"
            ]
          },
          "metadata": {},
          "output_type": "display_data"
        },
        {
          "data": {
            "application/vnd.jupyter.widget-view+json": {
              "model_id": "20736faa3f834894ba551a6e2bfa8c2d",
              "version_major": 2,
              "version_minor": 0
            },
            "text/plain": [
              "Validation: |          | 0/? [00:00<?, ?it/s]"
            ]
          },
          "metadata": {},
          "output_type": "display_data"
        },
        {
          "data": {
            "application/vnd.jupyter.widget-view+json": {
              "model_id": "145e15aa71fc4f04bc4c47a688a1e55a",
              "version_major": 2,
              "version_minor": 0
            },
            "text/plain": [
              "Validation: |          | 0/? [00:00<?, ?it/s]"
            ]
          },
          "metadata": {},
          "output_type": "display_data"
        },
        {
          "data": {
            "application/vnd.jupyter.widget-view+json": {
              "model_id": "009bd4b40d3c497198959bfbe68337c2",
              "version_major": 2,
              "version_minor": 0
            },
            "text/plain": [
              "Validation: |          | 0/? [00:00<?, ?it/s]"
            ]
          },
          "metadata": {},
          "output_type": "display_data"
        },
        {
          "data": {
            "application/vnd.jupyter.widget-view+json": {
              "model_id": "980ac2e40cce42c4a0d41ff761842b49",
              "version_major": 2,
              "version_minor": 0
            },
            "text/plain": [
              "Validation: |          | 0/? [00:00<?, ?it/s]"
            ]
          },
          "metadata": {},
          "output_type": "display_data"
        },
        {
          "name": "stderr",
          "output_type": "stream",
          "text": [
            "GPU available: True (cuda), used: True\n",
            "TPU available: False, using: 0 TPU cores\n",
            "HPU available: False, using: 0 HPUs\n",
            "LOCAL_RANK: 0 - CUDA_VISIBLE_DEVICES: [0]\n"
          ]
        },
        {
          "name": "stdout",
          "output_type": "stream",
          "text": [
            "\n",
            "Training with weight decay: 0.0001\n"
          ]
        },
        {
          "data": {
            "application/vnd.jupyter.widget-view+json": {
              "model_id": "4efd6109fe48429fb6031ed3f282ead3",
              "version_major": 2,
              "version_minor": 0
            },
            "text/plain": [
              "Sanity Checking: |          | 0/? [00:00<?, ?it/s]"
            ]
          },
          "metadata": {},
          "output_type": "display_data"
        },
        {
          "data": {
            "application/vnd.jupyter.widget-view+json": {
              "model_id": "778cb17a23ab45f3a2b80848233dce44",
              "version_major": 2,
              "version_minor": 0
            },
            "text/plain": [
              "Training: |          | 0/? [00:00<?, ?it/s]"
            ]
          },
          "metadata": {},
          "output_type": "display_data"
        },
        {
          "data": {
            "application/vnd.jupyter.widget-view+json": {
              "model_id": "45a7a88b365a43808988186e806dde91",
              "version_major": 2,
              "version_minor": 0
            },
            "text/plain": [
              "Validation: |          | 0/? [00:00<?, ?it/s]"
            ]
          },
          "metadata": {},
          "output_type": "display_data"
        },
        {
          "data": {
            "application/vnd.jupyter.widget-view+json": {
              "model_id": "3e78a4123dd5450f82e0ed73273592a3",
              "version_major": 2,
              "version_minor": 0
            },
            "text/plain": [
              "Validation: |          | 0/? [00:00<?, ?it/s]"
            ]
          },
          "metadata": {},
          "output_type": "display_data"
        },
        {
          "data": {
            "application/vnd.jupyter.widget-view+json": {
              "model_id": "a361fcd833bf460dbecc9b9758a00b16",
              "version_major": 2,
              "version_minor": 0
            },
            "text/plain": [
              "Validation: |          | 0/? [00:00<?, ?it/s]"
            ]
          },
          "metadata": {},
          "output_type": "display_data"
        },
        {
          "data": {
            "application/vnd.jupyter.widget-view+json": {
              "model_id": "43dfc2d56c464bde8ee2f527fd0a4021",
              "version_major": 2,
              "version_minor": 0
            },
            "text/plain": [
              "Validation: |          | 0/? [00:00<?, ?it/s]"
            ]
          },
          "metadata": {},
          "output_type": "display_data"
        },
        {
          "data": {
            "application/vnd.jupyter.widget-view+json": {
              "model_id": "017b73411f494ffebca70dd9275c0aa3",
              "version_major": 2,
              "version_minor": 0
            },
            "text/plain": [
              "Validation: |          | 0/? [00:00<?, ?it/s]"
            ]
          },
          "metadata": {},
          "output_type": "display_data"
        },
        {
          "data": {
            "application/vnd.jupyter.widget-view+json": {
              "model_id": "75ec75bdf72a48a091ede7f4962e941d",
              "version_major": 2,
              "version_minor": 0
            },
            "text/plain": [
              "Validation: |          | 0/? [00:00<?, ?it/s]"
            ]
          },
          "metadata": {},
          "output_type": "display_data"
        },
        {
          "data": {
            "application/vnd.jupyter.widget-view+json": {
              "model_id": "607ded2b726945b3a8b5ebde18233649",
              "version_major": 2,
              "version_minor": 0
            },
            "text/plain": [
              "Validation: |          | 0/? [00:00<?, ?it/s]"
            ]
          },
          "metadata": {},
          "output_type": "display_data"
        },
        {
          "data": {
            "application/vnd.jupyter.widget-view+json": {
              "model_id": "410ff1887846455083f13f82c1b0ef9b",
              "version_major": 2,
              "version_minor": 0
            },
            "text/plain": [
              "Validation: |          | 0/? [00:00<?, ?it/s]"
            ]
          },
          "metadata": {},
          "output_type": "display_data"
        },
        {
          "data": {
            "application/vnd.jupyter.widget-view+json": {
              "model_id": "128957f1dc534d9c87361bc3b52863f4",
              "version_major": 2,
              "version_minor": 0
            },
            "text/plain": [
              "Validation: |          | 0/? [00:00<?, ?it/s]"
            ]
          },
          "metadata": {},
          "output_type": "display_data"
        },
        {
          "data": {
            "application/vnd.jupyter.widget-view+json": {
              "model_id": "cb8209d44fd444c481f9d9e96e455568",
              "version_major": 2,
              "version_minor": 0
            },
            "text/plain": [
              "Validation: |          | 0/? [00:00<?, ?it/s]"
            ]
          },
          "metadata": {},
          "output_type": "display_data"
        },
        {
          "data": {
            "application/vnd.jupyter.widget-view+json": {
              "model_id": "455c8fba591848308bbbd5661f4e3818",
              "version_major": 2,
              "version_minor": 0
            },
            "text/plain": [
              "Validation: |          | 0/? [00:00<?, ?it/s]"
            ]
          },
          "metadata": {},
          "output_type": "display_data"
        },
        {
          "data": {
            "application/vnd.jupyter.widget-view+json": {
              "model_id": "9a546c32117540f6b9518d0da645066f",
              "version_major": 2,
              "version_minor": 0
            },
            "text/plain": [
              "Validation: |          | 0/? [00:00<?, ?it/s]"
            ]
          },
          "metadata": {},
          "output_type": "display_data"
        },
        {
          "data": {
            "application/vnd.jupyter.widget-view+json": {
              "model_id": "c6c3f43bbbd742a3be5541d7ff87a296",
              "version_major": 2,
              "version_minor": 0
            },
            "text/plain": [
              "Validation: |          | 0/? [00:00<?, ?it/s]"
            ]
          },
          "metadata": {},
          "output_type": "display_data"
        },
        {
          "data": {
            "application/vnd.jupyter.widget-view+json": {
              "model_id": "b4251e57e80342aabbd5706d0ace4d5a",
              "version_major": 2,
              "version_minor": 0
            },
            "text/plain": [
              "Validation: |          | 0/? [00:00<?, ?it/s]"
            ]
          },
          "metadata": {},
          "output_type": "display_data"
        },
        {
          "data": {
            "application/vnd.jupyter.widget-view+json": {
              "model_id": "0a3efae12a304df3b7a112d422f4d4ca",
              "version_major": 2,
              "version_minor": 0
            },
            "text/plain": [
              "Validation: |          | 0/? [00:00<?, ?it/s]"
            ]
          },
          "metadata": {},
          "output_type": "display_data"
        },
        {
          "data": {
            "application/vnd.jupyter.widget-view+json": {
              "model_id": "bd97f82582b74386839d541ed94ce15e",
              "version_major": 2,
              "version_minor": 0
            },
            "text/plain": [
              "Validation: |          | 0/? [00:00<?, ?it/s]"
            ]
          },
          "metadata": {},
          "output_type": "display_data"
        },
        {
          "data": {
            "application/vnd.jupyter.widget-view+json": {
              "model_id": "3220626b226744c19c401bba3e237fdd",
              "version_major": 2,
              "version_minor": 0
            },
            "text/plain": [
              "Validation: |          | 0/? [00:00<?, ?it/s]"
            ]
          },
          "metadata": {},
          "output_type": "display_data"
        },
        {
          "data": {
            "application/vnd.jupyter.widget-view+json": {
              "model_id": "a1c78aac851b4263a4e2e9f7905e3226",
              "version_major": 2,
              "version_minor": 0
            },
            "text/plain": [
              "Validation: |          | 0/? [00:00<?, ?it/s]"
            ]
          },
          "metadata": {},
          "output_type": "display_data"
        },
        {
          "name": "stderr",
          "output_type": "stream",
          "text": [
            "GPU available: True (cuda), used: True\n",
            "TPU available: False, using: 0 TPU cores\n",
            "HPU available: False, using: 0 HPUs\n",
            "LOCAL_RANK: 0 - CUDA_VISIBLE_DEVICES: [0]\n"
          ]
        },
        {
          "name": "stdout",
          "output_type": "stream",
          "text": [
            "\n",
            "Training with weight decay: 0.001\n"
          ]
        },
        {
          "data": {
            "application/vnd.jupyter.widget-view+json": {
              "model_id": "0e7f812040234873acd5c83ce745cb30",
              "version_major": 2,
              "version_minor": 0
            },
            "text/plain": [
              "Sanity Checking: |          | 0/? [00:00<?, ?it/s]"
            ]
          },
          "metadata": {},
          "output_type": "display_data"
        },
        {
          "data": {
            "application/vnd.jupyter.widget-view+json": {
              "model_id": "d998e25a763b47d1bb20f252364b4948",
              "version_major": 2,
              "version_minor": 0
            },
            "text/plain": [
              "Training: |          | 0/? [00:00<?, ?it/s]"
            ]
          },
          "metadata": {},
          "output_type": "display_data"
        },
        {
          "data": {
            "application/vnd.jupyter.widget-view+json": {
              "model_id": "79ddb6840e96412abc3ab8be6bdc6b5c",
              "version_major": 2,
              "version_minor": 0
            },
            "text/plain": [
              "Validation: |          | 0/? [00:00<?, ?it/s]"
            ]
          },
          "metadata": {},
          "output_type": "display_data"
        },
        {
          "data": {
            "application/vnd.jupyter.widget-view+json": {
              "model_id": "93b9d4943c524f6f80373791c4543091",
              "version_major": 2,
              "version_minor": 0
            },
            "text/plain": [
              "Validation: |          | 0/? [00:00<?, ?it/s]"
            ]
          },
          "metadata": {},
          "output_type": "display_data"
        },
        {
          "data": {
            "application/vnd.jupyter.widget-view+json": {
              "model_id": "c368442956af485494a8fbeed7707dc4",
              "version_major": 2,
              "version_minor": 0
            },
            "text/plain": [
              "Validation: |          | 0/? [00:00<?, ?it/s]"
            ]
          },
          "metadata": {},
          "output_type": "display_data"
        },
        {
          "data": {
            "application/vnd.jupyter.widget-view+json": {
              "model_id": "9543f3f759a94096b3cab1fc718efc59",
              "version_major": 2,
              "version_minor": 0
            },
            "text/plain": [
              "Validation: |          | 0/? [00:00<?, ?it/s]"
            ]
          },
          "metadata": {},
          "output_type": "display_data"
        },
        {
          "data": {
            "application/vnd.jupyter.widget-view+json": {
              "model_id": "6d938d8770f743729b0e12dabedab3ae",
              "version_major": 2,
              "version_minor": 0
            },
            "text/plain": [
              "Validation: |          | 0/? [00:00<?, ?it/s]"
            ]
          },
          "metadata": {},
          "output_type": "display_data"
        },
        {
          "data": {
            "application/vnd.jupyter.widget-view+json": {
              "model_id": "dc8040bf8bdb45d7a1a605e7d7d4db4a",
              "version_major": 2,
              "version_minor": 0
            },
            "text/plain": [
              "Validation: |          | 0/? [00:00<?, ?it/s]"
            ]
          },
          "metadata": {},
          "output_type": "display_data"
        },
        {
          "data": {
            "application/vnd.jupyter.widget-view+json": {
              "model_id": "b900046317984690b51d6ab7d4b0cef4",
              "version_major": 2,
              "version_minor": 0
            },
            "text/plain": [
              "Validation: |          | 0/? [00:00<?, ?it/s]"
            ]
          },
          "metadata": {},
          "output_type": "display_data"
        },
        {
          "data": {
            "application/vnd.jupyter.widget-view+json": {
              "model_id": "91c08dc05cc14fa29d61593934aa15d6",
              "version_major": 2,
              "version_minor": 0
            },
            "text/plain": [
              "Validation: |          | 0/? [00:00<?, ?it/s]"
            ]
          },
          "metadata": {},
          "output_type": "display_data"
        },
        {
          "data": {
            "application/vnd.jupyter.widget-view+json": {
              "model_id": "c977a67e53f7443f9831fd28aa130f32",
              "version_major": 2,
              "version_minor": 0
            },
            "text/plain": [
              "Validation: |          | 0/? [00:00<?, ?it/s]"
            ]
          },
          "metadata": {},
          "output_type": "display_data"
        },
        {
          "data": {
            "application/vnd.jupyter.widget-view+json": {
              "model_id": "6ff76676fe9f46a5bc8f7ee7ccc16bae",
              "version_major": 2,
              "version_minor": 0
            },
            "text/plain": [
              "Validation: |          | 0/? [00:00<?, ?it/s]"
            ]
          },
          "metadata": {},
          "output_type": "display_data"
        },
        {
          "data": {
            "application/vnd.jupyter.widget-view+json": {
              "model_id": "f0cbea33a1ac46a5b3637e2cac9ee1a1",
              "version_major": 2,
              "version_minor": 0
            },
            "text/plain": [
              "Validation: |          | 0/? [00:00<?, ?it/s]"
            ]
          },
          "metadata": {},
          "output_type": "display_data"
        },
        {
          "data": {
            "application/vnd.jupyter.widget-view+json": {
              "model_id": "3232585644144b8cab4de648d9c1f852",
              "version_major": 2,
              "version_minor": 0
            },
            "text/plain": [
              "Validation: |          | 0/? [00:00<?, ?it/s]"
            ]
          },
          "metadata": {},
          "output_type": "display_data"
        },
        {
          "data": {
            "application/vnd.jupyter.widget-view+json": {
              "model_id": "739832065d1d402d98edebad0f65c8cf",
              "version_major": 2,
              "version_minor": 0
            },
            "text/plain": [
              "Validation: |          | 0/? [00:00<?, ?it/s]"
            ]
          },
          "metadata": {},
          "output_type": "display_data"
        },
        {
          "data": {
            "application/vnd.jupyter.widget-view+json": {
              "model_id": "cd48801f28974f99b45e84f5d33b0d68",
              "version_major": 2,
              "version_minor": 0
            },
            "text/plain": [
              "Validation: |          | 0/? [00:00<?, ?it/s]"
            ]
          },
          "metadata": {},
          "output_type": "display_data"
        },
        {
          "data": {
            "application/vnd.jupyter.widget-view+json": {
              "model_id": "b00cb4b7a44b42698e4c05bcb6ed301a",
              "version_major": 2,
              "version_minor": 0
            },
            "text/plain": [
              "Validation: |          | 0/? [00:00<?, ?it/s]"
            ]
          },
          "metadata": {},
          "output_type": "display_data"
        },
        {
          "data": {
            "application/vnd.jupyter.widget-view+json": {
              "model_id": "5fe3ac99931b44778d8ebf4d5a93f664",
              "version_major": 2,
              "version_minor": 0
            },
            "text/plain": [
              "Validation: |          | 0/? [00:00<?, ?it/s]"
            ]
          },
          "metadata": {},
          "output_type": "display_data"
        },
        {
          "name": "stderr",
          "output_type": "stream",
          "text": [
            "GPU available: True (cuda), used: True\n",
            "TPU available: False, using: 0 TPU cores\n",
            "HPU available: False, using: 0 HPUs\n",
            "LOCAL_RANK: 0 - CUDA_VISIBLE_DEVICES: [0]\n"
          ]
        },
        {
          "name": "stdout",
          "output_type": "stream",
          "text": [
            "\n",
            "Training with weight decay: 0.05\n"
          ]
        },
        {
          "data": {
            "application/vnd.jupyter.widget-view+json": {
              "model_id": "b7a438cf0f934c0a9a9f2f2d06eacad5",
              "version_major": 2,
              "version_minor": 0
            },
            "text/plain": [
              "Sanity Checking: |          | 0/? [00:00<?, ?it/s]"
            ]
          },
          "metadata": {},
          "output_type": "display_data"
        },
        {
          "data": {
            "application/vnd.jupyter.widget-view+json": {
              "model_id": "8a07203a66bd486b8d2a858184840a35",
              "version_major": 2,
              "version_minor": 0
            },
            "text/plain": [
              "Training: |          | 0/? [00:00<?, ?it/s]"
            ]
          },
          "metadata": {},
          "output_type": "display_data"
        },
        {
          "data": {
            "application/vnd.jupyter.widget-view+json": {
              "model_id": "b942da4d405549908b0a7458996ec0d7",
              "version_major": 2,
              "version_minor": 0
            },
            "text/plain": [
              "Validation: |          | 0/? [00:00<?, ?it/s]"
            ]
          },
          "metadata": {},
          "output_type": "display_data"
        },
        {
          "data": {
            "application/vnd.jupyter.widget-view+json": {
              "model_id": "36384364a7314a7f9178ee8093e1d36c",
              "version_major": 2,
              "version_minor": 0
            },
            "text/plain": [
              "Validation: |          | 0/? [00:00<?, ?it/s]"
            ]
          },
          "metadata": {},
          "output_type": "display_data"
        },
        {
          "data": {
            "application/vnd.jupyter.widget-view+json": {
              "model_id": "3a322dfc1a374352b98400176602700f",
              "version_major": 2,
              "version_minor": 0
            },
            "text/plain": [
              "Validation: |          | 0/? [00:00<?, ?it/s]"
            ]
          },
          "metadata": {},
          "output_type": "display_data"
        },
        {
          "data": {
            "application/vnd.jupyter.widget-view+json": {
              "model_id": "f3e09b17c58743e3979aaba679d09818",
              "version_major": 2,
              "version_minor": 0
            },
            "text/plain": [
              "Validation: |          | 0/? [00:00<?, ?it/s]"
            ]
          },
          "metadata": {},
          "output_type": "display_data"
        },
        {
          "data": {
            "application/vnd.jupyter.widget-view+json": {
              "model_id": "bb086cc98e464cfa9732aa2d130240c6",
              "version_major": 2,
              "version_minor": 0
            },
            "text/plain": [
              "Validation: |          | 0/? [00:00<?, ?it/s]"
            ]
          },
          "metadata": {},
          "output_type": "display_data"
        },
        {
          "data": {
            "application/vnd.jupyter.widget-view+json": {
              "model_id": "4ce7c7e8966c48d5889d49e69b622877",
              "version_major": 2,
              "version_minor": 0
            },
            "text/plain": [
              "Validation: |          | 0/? [00:00<?, ?it/s]"
            ]
          },
          "metadata": {},
          "output_type": "display_data"
        },
        {
          "data": {
            "application/vnd.jupyter.widget-view+json": {
              "model_id": "3764e756ec6f4ff482b91f2e7111bde8",
              "version_major": 2,
              "version_minor": 0
            },
            "text/plain": [
              "Validation: |          | 0/? [00:00<?, ?it/s]"
            ]
          },
          "metadata": {},
          "output_type": "display_data"
        },
        {
          "data": {
            "application/vnd.jupyter.widget-view+json": {
              "model_id": "a991bd149dc541479d1acaaa5bdfc2f7",
              "version_major": 2,
              "version_minor": 0
            },
            "text/plain": [
              "Validation: |          | 0/? [00:00<?, ?it/s]"
            ]
          },
          "metadata": {},
          "output_type": "display_data"
        },
        {
          "data": {
            "application/vnd.jupyter.widget-view+json": {
              "model_id": "31dbdd009d194951a4ae6b182075225d",
              "version_major": 2,
              "version_minor": 0
            },
            "text/plain": [
              "Validation: |          | 0/? [00:00<?, ?it/s]"
            ]
          },
          "metadata": {},
          "output_type": "display_data"
        },
        {
          "data": {
            "application/vnd.jupyter.widget-view+json": {
              "model_id": "81fbc4e58e774dcda92c0c972c8c2d1d",
              "version_major": 2,
              "version_minor": 0
            },
            "text/plain": [
              "Validation: |          | 0/? [00:00<?, ?it/s]"
            ]
          },
          "metadata": {},
          "output_type": "display_data"
        },
        {
          "data": {
            "application/vnd.jupyter.widget-view+json": {
              "model_id": "8840341a076b45bfb8bf1d1efea001c0",
              "version_major": 2,
              "version_minor": 0
            },
            "text/plain": [
              "Validation: |          | 0/? [00:00<?, ?it/s]"
            ]
          },
          "metadata": {},
          "output_type": "display_data"
        },
        {
          "data": {
            "application/vnd.jupyter.widget-view+json": {
              "model_id": "3cf18f3568b241f88ce4cc61ba5e7079",
              "version_major": 2,
              "version_minor": 0
            },
            "text/plain": [
              "Validation: |          | 0/? [00:00<?, ?it/s]"
            ]
          },
          "metadata": {},
          "output_type": "display_data"
        },
        {
          "data": {
            "application/vnd.jupyter.widget-view+json": {
              "model_id": "b7a0ef9ee8cc4753a4ba35d27e24d735",
              "version_major": 2,
              "version_minor": 0
            },
            "text/plain": [
              "Validation: |          | 0/? [00:00<?, ?it/s]"
            ]
          },
          "metadata": {},
          "output_type": "display_data"
        },
        {
          "data": {
            "application/vnd.jupyter.widget-view+json": {
              "model_id": "e3e1359d57124d7e90e8f19bc4e63e25",
              "version_major": 2,
              "version_minor": 0
            },
            "text/plain": [
              "Validation: |          | 0/? [00:00<?, ?it/s]"
            ]
          },
          "metadata": {},
          "output_type": "display_data"
        },
        {
          "data": {
            "application/vnd.jupyter.widget-view+json": {
              "model_id": "51248bcfe43942bea52e91ac81e8be9e",
              "version_major": 2,
              "version_minor": 0
            },
            "text/plain": [
              "Validation: |          | 0/? [00:00<?, ?it/s]"
            ]
          },
          "metadata": {},
          "output_type": "display_data"
        },
        {
          "data": {
            "application/vnd.jupyter.widget-view+json": {
              "model_id": "12dd3f3df7504de3bfaf04ee0c8edbe7",
              "version_major": 2,
              "version_minor": 0
            },
            "text/plain": [
              "Validation: |          | 0/? [00:00<?, ?it/s]"
            ]
          },
          "metadata": {},
          "output_type": "display_data"
        },
        {
          "data": {
            "application/vnd.jupyter.widget-view+json": {
              "model_id": "b4327db217c94dd58eb3ccc86ca4f4d3",
              "version_major": 2,
              "version_minor": 0
            },
            "text/plain": [
              "Validation: |          | 0/? [00:00<?, ?it/s]"
            ]
          },
          "metadata": {},
          "output_type": "display_data"
        },
        {
          "data": {
            "application/vnd.jupyter.widget-view+json": {
              "model_id": "fb35dd72706a483b85bd3363838dc247",
              "version_major": 2,
              "version_minor": 0
            },
            "text/plain": [
              "Validation: |          | 0/? [00:00<?, ?it/s]"
            ]
          },
          "metadata": {},
          "output_type": "display_data"
        },
        {
          "data": {
            "application/vnd.jupyter.widget-view+json": {
              "model_id": "3ba689e9d85c49c49b0fe4a2acf26ac8",
              "version_major": 2,
              "version_minor": 0
            },
            "text/plain": [
              "Validation: |          | 0/? [00:00<?, ?it/s]"
            ]
          },
          "metadata": {},
          "output_type": "display_data"
        },
        {
          "data": {
            "application/vnd.jupyter.widget-view+json": {
              "model_id": "8445facee7fb44faacfe1441b0438b7f",
              "version_major": 2,
              "version_minor": 0
            },
            "text/plain": [
              "Validation: |          | 0/? [00:00<?, ?it/s]"
            ]
          },
          "metadata": {},
          "output_type": "display_data"
        },
        {
          "data": {
            "application/vnd.jupyter.widget-view+json": {
              "model_id": "d6f5633da4fa4f94a04acf909923cfd8",
              "version_major": 2,
              "version_minor": 0
            },
            "text/plain": [
              "Validation: |          | 0/? [00:00<?, ?it/s]"
            ]
          },
          "metadata": {},
          "output_type": "display_data"
        },
        {
          "data": {
            "application/vnd.jupyter.widget-view+json": {
              "model_id": "5ea3eb9eccbc43dd9c0ac3110946c056",
              "version_major": 2,
              "version_minor": 0
            },
            "text/plain": [
              "Validation: |          | 0/? [00:00<?, ?it/s]"
            ]
          },
          "metadata": {},
          "output_type": "display_data"
        },
        {
          "data": {
            "application/vnd.jupyter.widget-view+json": {
              "model_id": "0aa4947a10d9443087c9e4fec155b0a6",
              "version_major": 2,
              "version_minor": 0
            },
            "text/plain": [
              "Validation: |          | 0/? [00:00<?, ?it/s]"
            ]
          },
          "metadata": {},
          "output_type": "display_data"
        },
        {
          "data": {
            "application/vnd.jupyter.widget-view+json": {
              "model_id": "4f6ed7bf9d5c451dbab7f5111873f19b",
              "version_major": 2,
              "version_minor": 0
            },
            "text/plain": [
              "Validation: |          | 0/? [00:00<?, ?it/s]"
            ]
          },
          "metadata": {},
          "output_type": "display_data"
        },
        {
          "data": {
            "application/vnd.jupyter.widget-view+json": {
              "model_id": "d55dbf7590d34a67a4dba2eb7f18272d",
              "version_major": 2,
              "version_minor": 0
            },
            "text/plain": [
              "Validation: |          | 0/? [00:00<?, ?it/s]"
            ]
          },
          "metadata": {},
          "output_type": "display_data"
        },
        {
          "data": {
            "application/vnd.jupyter.widget-view+json": {
              "model_id": "4a06eb04c48f42cf914921c454d0b1ca",
              "version_major": 2,
              "version_minor": 0
            },
            "text/plain": [
              "Validation: |          | 0/? [00:00<?, ?it/s]"
            ]
          },
          "metadata": {},
          "output_type": "display_data"
        },
        {
          "name": "stderr",
          "output_type": "stream",
          "text": [
            "GPU available: True (cuda), used: True\n",
            "TPU available: False, using: 0 TPU cores\n",
            "HPU available: False, using: 0 HPUs\n",
            "LOCAL_RANK: 0 - CUDA_VISIBLE_DEVICES: [0]\n"
          ]
        },
        {
          "name": "stdout",
          "output_type": "stream",
          "text": [
            "\n",
            "Training with weight decay: 0.01\n"
          ]
        },
        {
          "data": {
            "application/vnd.jupyter.widget-view+json": {
              "model_id": "2736db09655243e796986b8ae0bb9d84",
              "version_major": 2,
              "version_minor": 0
            },
            "text/plain": [
              "Sanity Checking: |          | 0/? [00:00<?, ?it/s]"
            ]
          },
          "metadata": {},
          "output_type": "display_data"
        },
        {
          "data": {
            "application/vnd.jupyter.widget-view+json": {
              "model_id": "964d5f7d9f784897b600ae424d618a50",
              "version_major": 2,
              "version_minor": 0
            },
            "text/plain": [
              "Training: |          | 0/? [00:00<?, ?it/s]"
            ]
          },
          "metadata": {},
          "output_type": "display_data"
        },
        {
          "data": {
            "application/vnd.jupyter.widget-view+json": {
              "model_id": "777275f5c79740d49c5f28c2049f2140",
              "version_major": 2,
              "version_minor": 0
            },
            "text/plain": [
              "Validation: |          | 0/? [00:00<?, ?it/s]"
            ]
          },
          "metadata": {},
          "output_type": "display_data"
        },
        {
          "data": {
            "application/vnd.jupyter.widget-view+json": {
              "model_id": "31f86118b0e8487e816114c4ac5f4916",
              "version_major": 2,
              "version_minor": 0
            },
            "text/plain": [
              "Validation: |          | 0/? [00:00<?, ?it/s]"
            ]
          },
          "metadata": {},
          "output_type": "display_data"
        },
        {
          "data": {
            "application/vnd.jupyter.widget-view+json": {
              "model_id": "3c14b04d13024f0585fc54c048c32934",
              "version_major": 2,
              "version_minor": 0
            },
            "text/plain": [
              "Validation: |          | 0/? [00:00<?, ?it/s]"
            ]
          },
          "metadata": {},
          "output_type": "display_data"
        },
        {
          "data": {
            "application/vnd.jupyter.widget-view+json": {
              "model_id": "30530362e60b42bf8cf798d856ce93ad",
              "version_major": 2,
              "version_minor": 0
            },
            "text/plain": [
              "Validation: |          | 0/? [00:00<?, ?it/s]"
            ]
          },
          "metadata": {},
          "output_type": "display_data"
        },
        {
          "data": {
            "application/vnd.jupyter.widget-view+json": {
              "model_id": "3ef36b03ff014dc89414ba27f9e9bdf8",
              "version_major": 2,
              "version_minor": 0
            },
            "text/plain": [
              "Validation: |          | 0/? [00:00<?, ?it/s]"
            ]
          },
          "metadata": {},
          "output_type": "display_data"
        },
        {
          "data": {
            "application/vnd.jupyter.widget-view+json": {
              "model_id": "6afcd7f960344e52863e700170855847",
              "version_major": 2,
              "version_minor": 0
            },
            "text/plain": [
              "Validation: |          | 0/? [00:00<?, ?it/s]"
            ]
          },
          "metadata": {},
          "output_type": "display_data"
        },
        {
          "data": {
            "application/vnd.jupyter.widget-view+json": {
              "model_id": "e7817222b58b4fcb897b418ec7263d0e",
              "version_major": 2,
              "version_minor": 0
            },
            "text/plain": [
              "Validation: |          | 0/? [00:00<?, ?it/s]"
            ]
          },
          "metadata": {},
          "output_type": "display_data"
        },
        {
          "data": {
            "application/vnd.jupyter.widget-view+json": {
              "model_id": "7824c218bb354caeb1ef1390f8effdb9",
              "version_major": 2,
              "version_minor": 0
            },
            "text/plain": [
              "Validation: |          | 0/? [00:00<?, ?it/s]"
            ]
          },
          "metadata": {},
          "output_type": "display_data"
        },
        {
          "data": {
            "application/vnd.jupyter.widget-view+json": {
              "model_id": "24c7b705ef5643eb8ba01d3a21bcb052",
              "version_major": 2,
              "version_minor": 0
            },
            "text/plain": [
              "Validation: |          | 0/? [00:00<?, ?it/s]"
            ]
          },
          "metadata": {},
          "output_type": "display_data"
        },
        {
          "data": {
            "application/vnd.jupyter.widget-view+json": {
              "model_id": "55332e8680bb4f9bb232f66e347d3993",
              "version_major": 2,
              "version_minor": 0
            },
            "text/plain": [
              "Validation: |          | 0/? [00:00<?, ?it/s]"
            ]
          },
          "metadata": {},
          "output_type": "display_data"
        },
        {
          "data": {
            "application/vnd.jupyter.widget-view+json": {
              "model_id": "a75d893d971342b4bd6287f364c98137",
              "version_major": 2,
              "version_minor": 0
            },
            "text/plain": [
              "Validation: |          | 0/? [00:00<?, ?it/s]"
            ]
          },
          "metadata": {},
          "output_type": "display_data"
        },
        {
          "data": {
            "application/vnd.jupyter.widget-view+json": {
              "model_id": "be0f6e63daf84f2eb225404c922a4e77",
              "version_major": 2,
              "version_minor": 0
            },
            "text/plain": [
              "Validation: |          | 0/? [00:00<?, ?it/s]"
            ]
          },
          "metadata": {},
          "output_type": "display_data"
        },
        {
          "data": {
            "application/vnd.jupyter.widget-view+json": {
              "model_id": "319d502338ab42739ba05a9d2ddb4db2",
              "version_major": 2,
              "version_minor": 0
            },
            "text/plain": [
              "Validation: |          | 0/? [00:00<?, ?it/s]"
            ]
          },
          "metadata": {},
          "output_type": "display_data"
        },
        {
          "data": {
            "application/vnd.jupyter.widget-view+json": {
              "model_id": "3779f1a60ed946c1b1ce210be7fa6f3f",
              "version_major": 2,
              "version_minor": 0
            },
            "text/plain": [
              "Validation: |          | 0/? [00:00<?, ?it/s]"
            ]
          },
          "metadata": {},
          "output_type": "display_data"
        },
        {
          "data": {
            "application/vnd.jupyter.widget-view+json": {
              "model_id": "87f1f7d70a7344c6bf5668a9ead4e9f5",
              "version_major": 2,
              "version_minor": 0
            },
            "text/plain": [
              "Validation: |          | 0/? [00:00<?, ?it/s]"
            ]
          },
          "metadata": {},
          "output_type": "display_data"
        },
        {
          "data": {
            "application/vnd.jupyter.widget-view+json": {
              "model_id": "1f7c25a800c445cb9a9b3ee99666050e",
              "version_major": 2,
              "version_minor": 0
            },
            "text/plain": [
              "Validation: |          | 0/? [00:00<?, ?it/s]"
            ]
          },
          "metadata": {},
          "output_type": "display_data"
        },
        {
          "data": {
            "application/vnd.jupyter.widget-view+json": {
              "model_id": "2e40dd25e4c548e78f34598537a73ee2",
              "version_major": 2,
              "version_minor": 0
            },
            "text/plain": [
              "Validation: |          | 0/? [00:00<?, ?it/s]"
            ]
          },
          "metadata": {},
          "output_type": "display_data"
        },
        {
          "data": {
            "application/vnd.jupyter.widget-view+json": {
              "model_id": "7070af2a2134421ebc35f2495590a949",
              "version_major": 2,
              "version_minor": 0
            },
            "text/plain": [
              "Validation: |          | 0/? [00:00<?, ?it/s]"
            ]
          },
          "metadata": {},
          "output_type": "display_data"
        },
        {
          "data": {
            "application/vnd.jupyter.widget-view+json": {
              "model_id": "83fe7170dc2d4da794e80b7045b5f0b1",
              "version_major": 2,
              "version_minor": 0
            },
            "text/plain": [
              "Validation: |          | 0/? [00:00<?, ?it/s]"
            ]
          },
          "metadata": {},
          "output_type": "display_data"
        },
        {
          "data": {
            "application/vnd.jupyter.widget-view+json": {
              "model_id": "0cdc4b7a908a4c809efe641fe0c7c589",
              "version_major": 2,
              "version_minor": 0
            },
            "text/plain": [
              "Validation: |          | 0/? [00:00<?, ?it/s]"
            ]
          },
          "metadata": {},
          "output_type": "display_data"
        },
        {
          "data": {
            "application/vnd.jupyter.widget-view+json": {
              "model_id": "e50fb7835bdf43d1965212dcd8795681",
              "version_major": 2,
              "version_minor": 0
            },
            "text/plain": [
              "Validation: |          | 0/? [00:00<?, ?it/s]"
            ]
          },
          "metadata": {},
          "output_type": "display_data"
        },
        {
          "name": "stderr",
          "output_type": "stream",
          "text": [
            "GPU available: True (cuda), used: True\n",
            "TPU available: False, using: 0 TPU cores\n",
            "HPU available: False, using: 0 HPUs\n",
            "LOCAL_RANK: 0 - CUDA_VISIBLE_DEVICES: [0]\n"
          ]
        },
        {
          "name": "stdout",
          "output_type": "stream",
          "text": [
            "\n",
            "Training with weight decay: 0.1\n"
          ]
        },
        {
          "data": {
            "application/vnd.jupyter.widget-view+json": {
              "model_id": "17333e14b6a04f64abe7deccd02e900a",
              "version_major": 2,
              "version_minor": 0
            },
            "text/plain": [
              "Sanity Checking: |          | 0/? [00:00<?, ?it/s]"
            ]
          },
          "metadata": {},
          "output_type": "display_data"
        },
        {
          "data": {
            "application/vnd.jupyter.widget-view+json": {
              "model_id": "79877c748fc3494d91def0411621aa6e",
              "version_major": 2,
              "version_minor": 0
            },
            "text/plain": [
              "Training: |          | 0/? [00:00<?, ?it/s]"
            ]
          },
          "metadata": {},
          "output_type": "display_data"
        },
        {
          "data": {
            "application/vnd.jupyter.widget-view+json": {
              "model_id": "0ab1b641993a4097be723637a69abae8",
              "version_major": 2,
              "version_minor": 0
            },
            "text/plain": [
              "Validation: |          | 0/? [00:00<?, ?it/s]"
            ]
          },
          "metadata": {},
          "output_type": "display_data"
        },
        {
          "data": {
            "application/vnd.jupyter.widget-view+json": {
              "model_id": "93c4051ceb304734bb332b993812d793",
              "version_major": 2,
              "version_minor": 0
            },
            "text/plain": [
              "Validation: |          | 0/? [00:00<?, ?it/s]"
            ]
          },
          "metadata": {},
          "output_type": "display_data"
        },
        {
          "data": {
            "application/vnd.jupyter.widget-view+json": {
              "model_id": "361fbba60b25428084afaae89304bcb9",
              "version_major": 2,
              "version_minor": 0
            },
            "text/plain": [
              "Validation: |          | 0/? [00:00<?, ?it/s]"
            ]
          },
          "metadata": {},
          "output_type": "display_data"
        },
        {
          "data": {
            "application/vnd.jupyter.widget-view+json": {
              "model_id": "ae97cf7efdd34b5aa1a3ce672589bc31",
              "version_major": 2,
              "version_minor": 0
            },
            "text/plain": [
              "Validation: |          | 0/? [00:00<?, ?it/s]"
            ]
          },
          "metadata": {},
          "output_type": "display_data"
        },
        {
          "data": {
            "application/vnd.jupyter.widget-view+json": {
              "model_id": "997f6abc5bcf41c69e6cb9504288158e",
              "version_major": 2,
              "version_minor": 0
            },
            "text/plain": [
              "Validation: |          | 0/? [00:00<?, ?it/s]"
            ]
          },
          "metadata": {},
          "output_type": "display_data"
        },
        {
          "data": {
            "application/vnd.jupyter.widget-view+json": {
              "model_id": "7e354dbb8473456ea0b3aa0cdbde9666",
              "version_major": 2,
              "version_minor": 0
            },
            "text/plain": [
              "Validation: |          | 0/? [00:00<?, ?it/s]"
            ]
          },
          "metadata": {},
          "output_type": "display_data"
        },
        {
          "data": {
            "application/vnd.jupyter.widget-view+json": {
              "model_id": "cd2f895ae0514d3aafa68cdf7d567799",
              "version_major": 2,
              "version_minor": 0
            },
            "text/plain": [
              "Validation: |          | 0/? [00:00<?, ?it/s]"
            ]
          },
          "metadata": {},
          "output_type": "display_data"
        },
        {
          "data": {
            "application/vnd.jupyter.widget-view+json": {
              "model_id": "948cc1be8776499bbad5839e61fefce8",
              "version_major": 2,
              "version_minor": 0
            },
            "text/plain": [
              "Validation: |          | 0/? [00:00<?, ?it/s]"
            ]
          },
          "metadata": {},
          "output_type": "display_data"
        },
        {
          "data": {
            "application/vnd.jupyter.widget-view+json": {
              "model_id": "904c59f87cf848bcb924b90fe0686d40",
              "version_major": 2,
              "version_minor": 0
            },
            "text/plain": [
              "Validation: |          | 0/? [00:00<?, ?it/s]"
            ]
          },
          "metadata": {},
          "output_type": "display_data"
        },
        {
          "data": {
            "application/vnd.jupyter.widget-view+json": {
              "model_id": "ca37a32ffe6a4954b3d178a02f9b9d65",
              "version_major": 2,
              "version_minor": 0
            },
            "text/plain": [
              "Validation: |          | 0/? [00:00<?, ?it/s]"
            ]
          },
          "metadata": {},
          "output_type": "display_data"
        },
        {
          "data": {
            "application/vnd.jupyter.widget-view+json": {
              "model_id": "1f64565d48a44a0985cd948a9f43d58f",
              "version_major": 2,
              "version_minor": 0
            },
            "text/plain": [
              "Validation: |          | 0/? [00:00<?, ?it/s]"
            ]
          },
          "metadata": {},
          "output_type": "display_data"
        },
        {
          "data": {
            "application/vnd.jupyter.widget-view+json": {
              "model_id": "507fab14654e478d9c9e1bb9df578ed0",
              "version_major": 2,
              "version_minor": 0
            },
            "text/plain": [
              "Validation: |          | 0/? [00:00<?, ?it/s]"
            ]
          },
          "metadata": {},
          "output_type": "display_data"
        },
        {
          "data": {
            "application/vnd.jupyter.widget-view+json": {
              "model_id": "762089d75f694679a102662a1062dec9",
              "version_major": 2,
              "version_minor": 0
            },
            "text/plain": [
              "Validation: |          | 0/? [00:00<?, ?it/s]"
            ]
          },
          "metadata": {},
          "output_type": "display_data"
        },
        {
          "data": {
            "application/vnd.jupyter.widget-view+json": {
              "model_id": "280957a3899f41c892fa23278c06821a",
              "version_major": 2,
              "version_minor": 0
            },
            "text/plain": [
              "Validation: |          | 0/? [00:00<?, ?it/s]"
            ]
          },
          "metadata": {},
          "output_type": "display_data"
        },
        {
          "data": {
            "application/vnd.jupyter.widget-view+json": {
              "model_id": "a2c79dd148a44d278718e432111fc3b0",
              "version_major": 2,
              "version_minor": 0
            },
            "text/plain": [
              "Validation: |          | 0/? [00:00<?, ?it/s]"
            ]
          },
          "metadata": {},
          "output_type": "display_data"
        },
        {
          "data": {
            "application/vnd.jupyter.widget-view+json": {
              "model_id": "6ea4e43250084c50b423c6cc5cc8d888",
              "version_major": 2,
              "version_minor": 0
            },
            "text/plain": [
              "Validation: |          | 0/? [00:00<?, ?it/s]"
            ]
          },
          "metadata": {},
          "output_type": "display_data"
        },
        {
          "data": {
            "application/vnd.jupyter.widget-view+json": {
              "model_id": "6ad1671976f3410690973a5ec6c364c8",
              "version_major": 2,
              "version_minor": 0
            },
            "text/plain": [
              "Validation: |          | 0/? [00:00<?, ?it/s]"
            ]
          },
          "metadata": {},
          "output_type": "display_data"
        },
        {
          "data": {
            "application/vnd.jupyter.widget-view+json": {
              "model_id": "b2c6d62719aa4dc9ae7e24526934a067",
              "version_major": 2,
              "version_minor": 0
            },
            "text/plain": [
              "Validation: |          | 0/? [00:00<?, ?it/s]"
            ]
          },
          "metadata": {},
          "output_type": "display_data"
        },
        {
          "name": "stdout",
          "output_type": "stream",
          "text": [
            "\n",
            "Best weight decay: 0.1 (accuracy: 0.7293)\n"
          ]
        }
      ],
      "source": [
        "# Подбираем weight_decay\n",
        "weight_decays = [1e-5, 1e-4, 1e-3, 5e-2, 1e-2, 1e-1]\n",
        "best_acc = 0\n",
        "best_weight_decay = None\n",
        "best_model = None\n",
        "\n",
        "for weight_decay in weight_decays:\n",
        "    print(f\"\\nTraining with weight decay: {weight_decay}\")\n",
        "\n",
        "    early_stop_callback = EarlyStopping(\n",
        "        monitor='val_acc',\n",
        "        min_delta=0.00,\n",
        "        patience=10,\n",
        "        verbose=False,\n",
        "        mode='max'\n",
        "    )\n",
        "\n",
        "    model = DaNetQAClassifier(\n",
        "        train_dataset=train_dataset,\n",
        "        val_dataset=val_dataset,\n",
        "        batch_size=32,\n",
        "        lr=best_lr,\n",
        "        dropout_rate=best_dropout,\n",
        "        weight_decay=weight_decay\n",
        "    )\n",
        "\n",
        "    trainer = pl.Trainer(\n",
        "        max_epochs=100,\n",
        "        accelerator='auto',\n",
        "        devices=1,\n",
        "        callbacks=[early_stop_callback],\n",
        "        enable_progress_bar=True,\n",
        "        enable_model_summary=False\n",
        "    )\n",
        "\n",
        "    trainer.fit(model)\n",
        "\n",
        "    if trainer.callback_metrics['val_acc'].item() > best_acc:\n",
        "        best_acc = trainer.callback_metrics['val_acc'].item()\n",
        "        best_weight_decay = weight_decay\n",
        "        best_model = model\n",
        "\n",
        "print(f\"\\nBest weight decay: {best_weight_decay} (accuracy: {best_acc:.4f})\")"
      ]
    },
    {
      "cell_type": "code",
      "execution_count": null,
      "metadata": {
        "id": "dwMeHSoOeLiN",
        "outputId": "b42986e0-0a83-4421-eec9-a508cd6d92b7"
      },
      "outputs": [
        {
          "name": "stdout",
          "output_type": "stream",
          "text": [
            "              precision    recall  f1-score   support\n",
            "\n",
            "       False       0.76      0.55      0.64       205\n",
            "        True       0.65      0.83      0.73       206\n",
            "\n",
            "    accuracy                           0.69       411\n",
            "   macro avg       0.71      0.69      0.68       411\n",
            "weighted avg       0.71      0.69      0.68       411\n",
            "\n"
          ]
        }
      ],
      "source": [
        "# Оцениваемся на тестовом наборе данных\n",
        "test_loader = DataLoader(\n",
        "    test_dataset,\n",
        "    batch_size=32,\n",
        "    num_workers=15,\n",
        "    pin_memory=True)\n",
        "\n",
        "all_preds = []\n",
        "with torch.no_grad():\n",
        "    for batch in test_loader:\n",
        "        x, _ = batch\n",
        "        logits = best_model.model(x)\n",
        "        preds = torch.argmax(logits, dim=1)\n",
        "        all_preds.extend(preds.cpu().numpy())\n",
        "\n",
        "print(\n",
        "    classification_report(\n",
        "        test_labels,\n",
        "        all_preds,\n",
        "        target_names=[\n",
        "            'False',\n",
        "            'True']))"
      ]
    },
    {
      "cell_type": "code",
      "execution_count": null,
      "metadata": {
        "id": "mMr00nDteLiN"
      },
      "outputs": [],
      "source": [
        "# Сохраняем предсказания\n",
        "test_df[\"prediction\"] = all_preds\n",
        "test_df.to_json(\n",
        "    \"exp_preds/exp1.jsonl\",\n",
        "    orient='records',\n",
        "    lines=True,\n",
        "    force_ascii=False)"
      ]
    },
    {
      "cell_type": "code",
      "execution_count": null,
      "metadata": {
        "id": "UAKqQ9uFeLiN",
        "outputId": "e23847d3-2e86-40e4-d04b-3022612e34f6"
      },
      "outputs": [
        {
          "name": "stdout",
          "output_type": "stream",
          "text": [
            "Общее количество ошибок: 127 из 411\n"
          ]
        }
      ],
      "source": [
        "# Считаем кол-во ошибок\n",
        "errors = sum(p != t for p, t in zip(all_preds, test_labels))\n",
        "print(f\"Общее количество ошибок: {errors} из {len(all_preds)}\")"
      ]
    },
    {
      "cell_type": "markdown",
      "metadata": {
        "id": "OpvXykfKeLiN"
      },
      "source": [
        "Получилось заметно осмысленнее, чем в случае с TF-IDF (accuracy=0.69), теперь модель нельзя назвать константной. Однако даже после подбора параметров наблюдается сильный перекос в сторону положительных ответов, что заметно по метрике recall для False, причём увеличение weight_decay с 1e-5 до 1e-2 вопреки интуиции только усиливало переобучение, и только 1e-1 немного, в рамках статистической погрешности, улучшил изначальный результат."
      ]
    },
    {
      "cell_type": "markdown",
      "metadata": {
        "id": "a3FA-zmVeLiN"
      },
      "source": [
        "## 6. Fine-tuning\n",
        "\n",
        "Вообще, к задаче бинарного QA представляется логичным подходить как к задаче NLI, где модель получает некоторый текст, стимул, и пытается установить связь между текстом и стимулом - здесь в качестве такой связи выступают ответы \"да\"/\"нет\". BERT-like-модели активно тестируют на NLI, хотя с точки зрения ML это всё ещё такая же классификация.\n",
        "\n",
        "Всё же попробуем дообучить XML-RoBERTa-Large на задачу классификации по аналогии с NLI, будем штрафовать сам трансформер за неправильные предсказания. Эта модель была выбрана, потому что она мультиязычная, лучше простого BERT и, главное, лежит в основе Multilingual-E5-Large-Instruct, которую мы использовали ранее.\n",
        "\n",
        "Здесь не будем автоматически подбирать гиперпараметры, поскольку для того, чтобы результат был хоть немного осмысленной, нужно как минимум 3 эпохи обучения, и с подбором хотя бы LR и weight_decay в сумме обучение займёт очень много времени и ресурсов. Однако поставим weight_decay повыше, чем базовый 0.01, в попытках избежать переобучения - это выяснилось опытным путём."
      ]
    },
    {
      "cell_type": "code",
      "execution_count": null,
      "metadata": {
        "id": "QlW5TvzqeLiN",
        "outputId": "71ca6944-cdda-44f9-d327-2408658e070a"
      },
      "outputs": [
        {
          "name": "stderr",
          "output_type": "stream",
          "text": [
            "2024-12-27 19:01:51.190657: I tensorflow/core/util/port.cc:153] oneDNN custom operations are on. You may see slightly different numerical results due to floating-point round-off errors from different computation orders. To turn them off, set the environment variable `TF_ENABLE_ONEDNN_OPTS=0`.\n",
            "2024-12-27 19:01:51.203127: E external/local_xla/xla/stream_executor/cuda/cuda_fft.cc:477] Unable to register cuFFT factory: Attempting to register factory for plugin cuFFT when one has already been registered\n",
            "WARNING: All log messages before absl::InitializeLog() is called are written to STDERR\n",
            "E0000 00:00:1735326111.219377  171381 cuda_dnn.cc:8310] Unable to register cuDNN factory: Attempting to register factory for plugin cuDNN when one has already been registered\n",
            "E0000 00:00:1735326111.224373  171381 cuda_blas.cc:1418] Unable to register cuBLAS factory: Attempting to register factory for plugin cuBLAS when one has already been registered\n",
            "2024-12-27 19:01:51.241482: I tensorflow/core/platform/cpu_feature_guard.cc:210] This TensorFlow binary is optimized to use available CPU instructions in performance-critical operations.\n",
            "To enable the following instructions: AVX2 AVX512F AVX512_VNNI FMA, in other operations, rebuild TensorFlow with the appropriate compiler flags.\n"
          ]
        }
      ],
      "source": [
        "import os\n",
        "import numpy as np\n",
        "import evaluate\n",
        "from datasets import load_dataset\n",
        "from transformers import (\n",
        "    AutoTokenizer,\n",
        "    AutoModelForSequenceClassification,\n",
        "    Trainer,\n",
        "    TrainingArguments\n",
        ")\n",
        "import torch\n",
        "from sklearn.metrics import accuracy_score, precision_recall_fscore_support, classification_report"
      ]
    },
    {
      "cell_type": "code",
      "execution_count": null,
      "metadata": {
        "id": "LeT4yweleLiO"
      },
      "outputs": [],
      "source": [
        "os.environ[\"TOKENIZERS_PARALLELISM\"] = \"false\""
      ]
    },
    {
      "cell_type": "code",
      "execution_count": null,
      "metadata": {
        "id": "gy-PQoOMeLiO",
        "outputId": "56304a13-681a-4b24-80a0-9f1956a445ba"
      },
      "outputs": [
        {
          "name": "stderr",
          "output_type": "stream",
          "text": [
            "Some weights of XLMRobertaForSequenceClassification were not initialized from the model checkpoint at xlm-roberta-large and are newly initialized: ['classifier.dense.bias', 'classifier.dense.weight', 'classifier.out_proj.bias', 'classifier.out_proj.weight']\n",
            "You should probably TRAIN this model on a down-stream task to be able to use it for predictions and inference.\n"
          ]
        }
      ],
      "source": [
        "# Загружаем токенизатор и модель\n",
        "model_name = 'xlm-roberta-large'\n",
        "tokenizer = AutoTokenizer.from_pretrained(model_name)\n",
        "\n",
        "model = AutoModelForSequenceClassification.from_pretrained(model_name)"
      ]
    },
    {
      "cell_type": "code",
      "execution_count": null,
      "metadata": {
        "id": "5GlTLW14eLiO"
      },
      "outputs": [],
      "source": [
        "# Готовим датасет\n",
        "data_files = {\n",
        "    \"train\": \"final_data/train.jsonl\",\n",
        "    \"validation\": \"final_data/val.jsonl\",\n",
        "    \"test\": \"final_data/test.jsonl\"\n",
        "}\n",
        "\n",
        "dataset = load_dataset(\"json\", data_files=data_files)"
      ]
    },
    {
      "cell_type": "code",
      "execution_count": null,
      "metadata": {
        "id": "4XRKiLOGeLiO"
      },
      "outputs": [],
      "source": [
        "# Токенизируем датасет\n",
        "def preprocess_function(examples):\n",
        "    tokenized = tokenizer(\n",
        "        examples[\"question\"],\n",
        "        examples[\"passage\"],\n",
        "        truncation=\"only_second\"  # нет нужды обрезать короткие вопросы\n",
        "    )\n",
        "    tokenized[\"labels\"] = examples[\"label\"]\n",
        "    return tokenized\n",
        "\n",
        "\n",
        "tokenized_dataset = dataset.map(\n",
        "    preprocess_function,\n",
        "    batched=True,\n",
        "    remove_columns=dataset[\"train\"].column_names\n",
        ")"
      ]
    },
    {
      "cell_type": "code",
      "execution_count": null,
      "metadata": {
        "id": "lGBwcDSFeLiO"
      },
      "outputs": [],
      "source": [
        "# Функция для подсчёта метрик во время обучения\n",
        "def compute_metrics(eval_pred):\n",
        "    predictions, labels = eval_pred\n",
        "    predictions = np.argmax(predictions, axis=1)\n",
        "\n",
        "    precision, recall, f1, _ = precision_recall_fscore_support(\n",
        "        labels, predictions, average='binary')\n",
        "    acc = accuracy_score(labels, predictions)\n",
        "\n",
        "    return {\n",
        "        'accuracy': acc,\n",
        "        'f1': f1,\n",
        "        'precision': precision,\n",
        "        'recall': recall\n",
        "    }"
      ]
    },
    {
      "cell_type": "code",
      "execution_count": null,
      "metadata": {
        "id": "GdiNOVLLeLiO",
        "outputId": "be19e9a4-8d8c-4bd9-d383-2cd4354c5c9c"
      },
      "outputs": [
        {
          "name": "stderr",
          "output_type": "stream",
          "text": [
            "/home/yakuboy.andrey/.local/lib/python3.10/site-packages/transformers/training_args.py:1570: FutureWarning: `evaluation_strategy` is deprecated and will be removed in version 4.46 of 🤗 Transformers. Use `eval_strategy` instead\n",
            "  warnings.warn(\n",
            "/tmp/ipykernel_148790/2618864171.py:18: FutureWarning: `tokenizer` is deprecated and will be removed in version 5.0.0 for `Trainer.__init__`. Use `processing_class` instead.\n",
            "  trainer = Trainer(\n"
          ]
        }
      ],
      "source": [
        "training_args = TrainingArguments(\n",
        "    output_dir=\"roberta_qa_results\",\n",
        "    evaluation_strategy=\"epoch\",\n",
        "    save_strategy=\"epoch\",\n",
        "    load_best_model_at_end=True,\n",
        "    metric_for_best_model=\"accuracy\",\n",
        "    learning_rate=2e-5,\n",
        "    per_device_train_batch_size=16,\n",
        "    per_device_eval_batch_size=16,\n",
        "    num_train_epochs=10,\n",
        "    weight_decay=0.05,\n",
        "    push_to_hub=False,\n",
        "    logging_strategy=\"epoch\",\n",
        "    logging_dir=\"./logs\",\n",
        "    seed=42\n",
        ")\n",
        "\n",
        "trainer = Trainer(\n",
        "    model,\n",
        "    args=training_args,\n",
        "    train_dataset=tokenized_dataset[\"train\"],\n",
        "    eval_dataset=tokenized_dataset[\"validation\"],\n",
        "    tokenizer=tokenizer,\n",
        "    compute_metrics=compute_metrics\n",
        ")"
      ]
    },
    {
      "cell_type": "code",
      "execution_count": null,
      "metadata": {
        "id": "BGWkEFJueLiO",
        "outputId": "a6e8785c-cab0-4a06-f1e3-7f6305ddb28a"
      },
      "outputs": [
        {
          "data": {
            "text/html": [
              "\n",
              "    <div>\n",
              "      \n",
              "      <progress value='1100' max='1100' style='width:300px; height:20px; vertical-align: middle;'></progress>\n",
              "      [1100/1100 34:53, Epoch 10/10]\n",
              "    </div>\n",
              "    <table border=\"1\" class=\"dataframe\">\n",
              "  <thead>\n",
              " <tr style=\"text-align: left;\">\n",
              "      <th>Epoch</th>\n",
              "      <th>Training Loss</th>\n",
              "      <th>Validation Loss</th>\n",
              "      <th>Accuracy</th>\n",
              "      <th>F1</th>\n",
              "      <th>Precision</th>\n",
              "      <th>Recall</th>\n",
              "    </tr>\n",
              "  </thead>\n",
              "  <tbody>\n",
              "    <tr>\n",
              "      <td>1</td>\n",
              "      <td>0.661400</td>\n",
              "      <td>0.821975</td>\n",
              "      <td>0.531707</td>\n",
              "      <td>0.681063</td>\n",
              "      <td>0.517677</td>\n",
              "      <td>0.995146</td>\n",
              "    </tr>\n",
              "    <tr>\n",
              "      <td>2</td>\n",
              "      <td>0.490300</td>\n",
              "      <td>0.850939</td>\n",
              "      <td>0.585366</td>\n",
              "      <td>0.698582</td>\n",
              "      <td>0.550279</td>\n",
              "      <td>0.956311</td>\n",
              "    </tr>\n",
              "    <tr>\n",
              "      <td>3</td>\n",
              "      <td>0.305900</td>\n",
              "      <td>1.126661</td>\n",
              "      <td>0.614634</td>\n",
              "      <td>0.704120</td>\n",
              "      <td>0.573171</td>\n",
              "      <td>0.912621</td>\n",
              "    </tr>\n",
              "    <tr>\n",
              "      <td>4</td>\n",
              "      <td>0.206900</td>\n",
              "      <td>1.508101</td>\n",
              "      <td>0.639024</td>\n",
              "      <td>0.725926</td>\n",
              "      <td>0.586826</td>\n",
              "      <td>0.951456</td>\n",
              "    </tr>\n",
              "    <tr>\n",
              "      <td>5</td>\n",
              "      <td>0.140400</td>\n",
              "      <td>1.500254</td>\n",
              "      <td>0.658537</td>\n",
              "      <td>0.727626</td>\n",
              "      <td>0.607143</td>\n",
              "      <td>0.907767</td>\n",
              "    </tr>\n",
              "    <tr>\n",
              "      <td>6</td>\n",
              "      <td>0.082200</td>\n",
              "      <td>1.922005</td>\n",
              "      <td>0.653659</td>\n",
              "      <td>0.727969</td>\n",
              "      <td>0.601266</td>\n",
              "      <td>0.922330</td>\n",
              "    </tr>\n",
              "    <tr>\n",
              "      <td>7</td>\n",
              "      <td>0.050100</td>\n",
              "      <td>2.184112</td>\n",
              "      <td>0.673171</td>\n",
              "      <td>0.737255</td>\n",
              "      <td>0.618421</td>\n",
              "      <td>0.912621</td>\n",
              "    </tr>\n",
              "    <tr>\n",
              "      <td>8</td>\n",
              "      <td>0.024100</td>\n",
              "      <td>2.915073</td>\n",
              "      <td>0.648780</td>\n",
              "      <td>0.732342</td>\n",
              "      <td>0.593373</td>\n",
              "      <td>0.956311</td>\n",
              "    </tr>\n",
              "    <tr>\n",
              "      <td>9</td>\n",
              "      <td>0.017600</td>\n",
              "      <td>2.503579</td>\n",
              "      <td>0.682927</td>\n",
              "      <td>0.746094</td>\n",
              "      <td>0.624183</td>\n",
              "      <td>0.927184</td>\n",
              "    </tr>\n",
              "    <tr>\n",
              "      <td>10</td>\n",
              "      <td>0.006800</td>\n",
              "      <td>2.514478</td>\n",
              "      <td>0.682927</td>\n",
              "      <td>0.745098</td>\n",
              "      <td>0.625000</td>\n",
              "      <td>0.922330</td>\n",
              "    </tr>\n",
              "  </tbody>\n",
              "</table><p>"
            ],
            "text/plain": [
              "<IPython.core.display.HTML object>"
            ]
          },
          "metadata": {},
          "output_type": "display_data"
        },
        {
          "data": {
            "text/plain": [
              "TrainOutput(global_step=1100, training_loss=0.1985811518539082, metrics={'train_runtime': 2095.169, 'train_samples_per_second': 8.348, 'train_steps_per_second': 0.525, 'total_flos': 1.1520244284909696e+16, 'train_loss': 0.1985811518539082, 'epoch': 10.0})"
            ]
          },
          "execution_count": 8,
          "metadata": {},
          "output_type": "execute_result"
        }
      ],
      "source": [
        "trainer.train()"
      ]
    },
    {
      "cell_type": "code",
      "execution_count": null,
      "metadata": {
        "id": "Yd7z6IbCeLiP",
        "outputId": "9783a51b-beb1-4f4b-bd2b-287a3d644e01"
      },
      "outputs": [
        {
          "data": {
            "text/html": [],
            "text/plain": [
              "<IPython.core.display.HTML object>"
            ]
          },
          "metadata": {},
          "output_type": "display_data"
        },
        {
          "name": "stdout",
          "output_type": "stream",
          "text": [
            "              precision    recall  f1-score   support\n",
            "\n",
            "       False       0.82      0.43      0.56       205\n",
            "        True       0.62      0.91      0.73       206\n",
            "\n",
            "    accuracy                           0.67       411\n",
            "   macro avg       0.72      0.67      0.65       411\n",
            "weighted avg       0.72      0.67      0.65       411\n",
            "\n"
          ]
        }
      ],
      "source": [
        "# Оцениваемся на тестовой выборке\n",
        "test_predictions = trainer.predict(tokenized_dataset[\"test\"])\n",
        "predictions = np.argmax(test_predictions.predictions, axis=1)\n",
        "labels = tokenized_dataset[\"test\"][\"labels\"]\n",
        "\n",
        "print(\n",
        "    classification_report(\n",
        "        labels,\n",
        "        predictions,\n",
        "        target_names=[\n",
        "            'False',\n",
        "            'True']))"
      ]
    },
    {
      "cell_type": "code",
      "execution_count": null,
      "metadata": {
        "id": "xRbTMGtHeLiP"
      },
      "outputs": [],
      "source": [
        "# Сохраняем предсказания\n",
        "\n",
        "import pandas as pd\n",
        "\n",
        "test_df = pd.read_json('final_data/test.jsonl', lines=True)\n",
        "test_df[\"prediction\"] = predictions\n",
        "test_df.to_json(\n",
        "    \"exp_preds/exp2.jsonl\",\n",
        "    orient='records',\n",
        "    lines=True,\n",
        "    force_ascii=False)"
      ]
    },
    {
      "cell_type": "markdown",
      "metadata": {
        "id": "bhEnaHOkeLiP"
      },
      "source": [
        "К сожалению, результат получился хуже, чем при тренировки MLP-классификатора на готовых эмбеддингах (0.67 против 0.69), при этом по динамике обучения видно, что модель легко начинает переобучаться и не особо стабильна (лосс на трене стабильно падает, а лосс на валидационной выборке под конец активно растёт). При этом чем меньше accuracy, тем больше recall, что говорит о увеличении recall за счёт его увеличения для положительного класса - модель в целом получилась ещё более \"yes-biased\", чем предыдущая.\n",
        "\n",
        "Вероятно, этот результат можно немного улучшить за счёт более тщательного подбора гиперпараметров - на официальном лидерборде Russian SuperGlue у такой же модели accuracy на этом датасете равно 0.757 (хотя они использовали другой тестовый набор данных), но, кажется, от истины мы не очень далеко и лучших цифр от классификации не добиться."
      ]
    },
    {
      "cell_type": "markdown",
      "metadata": {
        "id": "HkD1wGuTeLiP"
      },
      "source": [
        "## 7. LLM\n",
        "\n",
        "Наконец, огт классификации мы переходим к самому интересному эксперименту - генерации. Мы оценим, как разные небольшие генеративные языковые модели понимают русскоязычный текст. Будем рассматривать только самые современные.\n",
        "\n",
        "1. [Qwen2.5-0.5B-Instruct](huggingface.co/qwen/Qwen2.5-0.5B-Instruct) - самая маленькая модель семейства Qwen-2.5 от китайских коллег. В этих моделях в принципе заявлено хорошее понимание русского языка, но очень навряд ли для совсем маленьких моделей, типа этой. Однако её можно запустить где угодно!\n",
        "2. [Qwen2.5-7B-Instruct](huggingface.co/qwen/Qwen2.5-7B-Instruct) - модель того же семейства, но побольше, и по размерам уже подходит для каких-то базовых бизнес-кейсов и, представляется, сильно лучше понимает русский язык.\n",
        "3. [T-lite-it-1.0](https://huggingface.co/t-tech/T-lite-it-1.0) - совсем свежая модель от Т-технологий 🎄, которая, по словам создателей, представляет собой сильно улучшенный для русского языка Qwen-2.5: делали как претрейн, так и дообучение на русскоязычных инструктивных датасетах. По идеи должна справиться с задачей ещё лучше.\n",
        "4. [Ministral-8B-Instruct-2410](https://huggingface.co/mistralai/Ministral-8B-Instruct-2410) - ещё одна свежая небольшая модель от MistralAI. Русский язык заявлен официально.\n",
        "\n",
        "Таким образом, все модели, кроме первой, в одном размере. Модели больше мы не тестировали, так как у нас нет соответствующих ресурсов, да и интересно посмотреть на перформанс именно маленьких лёгких в использовании моделей.\n",
        "\n",
        "Отметим, что, естественно, мы работаем с моделью в zero-shot-сетапе: никакого дообучения мы не проводим (это также требует много ресурсов и в целом сильно сложнее, чем дообучение на задачу классификации). Примеров (few-shot) тоже не даём, так как это представляется бессмысленным для таких разных вопросов, да и способность понимать текст у таких моделей уже должна быть.\n",
        "\n",
        "Для Qwen и Ministral мы использовали инструкцию на английском языке, для T-lite - на русском. Алгоритм простой: для каждого примера из тестового набора данных мы просили модель прочитать текст и ответить на вопрос только \"да\" или \"нет\", без дополнительных объяснений. Ризонинг мог бы повысить качество, но тогда результат было бы сложно или невозможно оценивать автоматически.\n",
        "\n",
        "Для всех экспериментов мы установили очень низкую температуру 0.1, чтобы модель строго следовала инструкциям и меньше \"креативила\", а больше смотрела на текст. Поэкспериментировать с параметрами генерации было бы можно, однако это представляется не самым осмысленным: мы знаем, что увеличение температуры повышает разнообразие в ответах, а нам для нашей задачи этого как раз не нужно."
      ]
    },
    {
      "cell_type": "code",
      "execution_count": null,
      "metadata": {
        "id": "kdqXPZyEeLiP",
        "outputId": "f7d3dcd6-6aa0-4d12-da6d-a2f73ac0e26c"
      },
      "outputs": [
        {
          "data": {
            "text/plain": [
              "<torch._C.Generator at 0x7f380d35f310>"
            ]
          },
          "execution_count": 1,
          "metadata": {},
          "output_type": "execute_result"
        }
      ],
      "source": [
        "import pandas as pd\n",
        "from tqdm.auto import tqdm\n",
        "import torch\n",
        "from transformers import AutoModelForCausalLM, AutoTokenizer\n",
        "from sklearn.metrics import classification_report\n",
        "import json\n",
        "\n",
        "torch.manual_seed(42)"
      ]
    },
    {
      "cell_type": "code",
      "execution_count": null,
      "metadata": {
        "id": "cr1YcbRkeLiP"
      },
      "outputs": [],
      "source": [
        "# Промпты\n",
        "QWEN_PROMPT_TEMPLATE = [\n",
        "    {\n",
        "        \"role\": \"system\",\n",
        "        \"content\": \"You are Qwen, created by Alibaba Cloud. You are a helpful assistant.\"\n",
        "    },\n",
        "    {\n",
        "        \"role\": \"user\",\n",
        "        \"content\": \"Read the following text and answer the question below it only with one word in Russian: 'да' or 'нет'. Do not provide any explanations.\\n\\nText: {text}\\n\\nQuestion: {question}\"\n",
        "    }\n",
        "]\n",
        "\n",
        "MINISTRAL_PROMPT_TEMPLATE = [\n",
        "    {\n",
        "        \"role\": \"system\",\n",
        "        \"content\": \"You are a helpful assistant.\"\n",
        "    },\n",
        "    {\n",
        "        \"role\": \"user\",\n",
        "        \"content\": \"Read the following text and answer the question below it only with one word in Russian: 'да' or 'нет'. Do not provide any explanations.\\n\\nText: {text}\\n\\nQuestion: {question}\"\n",
        "    }\n",
        "]\n",
        "T_LITE_PROMPT_TEMPLATE = [\n",
        "    {\n",
        "        \"role\": \"system\",\n",
        "        \"content\": \"Ты T-lite, виртуальный ассистент в Т-Технологии. Твоя задача - быть полезным диалоговым ассистентом.\"\n",
        "    },\n",
        "    {\n",
        "        \"role\": \"user\",\n",
        "        \"content\": \"Прочитай текст и ответь на вопрос после него одним словом: 'да' или 'нет' без дополнительных пояснений.\\n\\nТекст: {text}\\n\\nВопрос: {question}\"\n",
        "    }\n",
        "]"
      ]
    },
    {
      "cell_type": "code",
      "execution_count": null,
      "metadata": {
        "id": "Gr2Rz4cieLiP"
      },
      "outputs": [],
      "source": [
        "# Загружаем токенизатор и модель\n",
        "def setup_model(model_name):\n",
        "    tokenizer = AutoTokenizer.from_pretrained(model_name)\n",
        "    model = AutoModelForCausalLM.from_pretrained(\n",
        "        model_name,\n",
        "        device_map=\"auto\",\n",
        "        torch_dtype=torch.bfloat16\n",
        "    )\n",
        "    return model, tokenizer\n",
        "\n",
        "\n",
        "# Генерация ответа\n",
        "def generate_answer(text, question, model, tokenizer, model_type=\"qwen\"):\n",
        "    if model_type == \"qwen\":\n",
        "        messages = [msg.copy() for msg in QWEN_PROMPT_TEMPLATE]\n",
        "    elif model_type == \"ministral\":\n",
        "        messages = [msg.copy() for msg in MINISTRAL_PROMPT_TEMPLATE]\n",
        "    else:\n",
        "        messages = [msg.copy() for msg in T_LITE_PROMPT_TEMPLATE]\n",
        "\n",
        "    messages[1][\"content\"] = messages[1][\"content\"].format(\n",
        "        text=text,\n",
        "        question=question\n",
        "    )\n",
        "\n",
        "    prompt = tokenizer.apply_chat_template(\n",
        "        messages,\n",
        "        tokenize=False,\n",
        "        add_generation_prompt=True\n",
        "    )\n",
        "\n",
        "    inputs = tokenizer([prompt], return_tensors=\"pt\").to(model.device)\n",
        "\n",
        "    outputs = model.generate(\n",
        "        **inputs,\n",
        "        max_new_tokens=10,\n",
        "        temperature=0.1,\n",
        "        do_sample=True\n",
        "    )\n",
        "\n",
        "    generated_ids = outputs[0][len(inputs.input_ids[0]):]\n",
        "    return tokenizer.decode(generated_ids,\n",
        "                            skip_special_tokens=True).strip().lower()"
      ]
    },
    {
      "cell_type": "code",
      "execution_count": null,
      "metadata": {
        "id": "NWbJF450eLiQ"
      },
      "outputs": [],
      "source": [
        "# Обрабатываем ответы\n",
        "def process_predictions(predictions, labels):\n",
        "    # Конвертируем ответы \"да/нет\" в целые числа\n",
        "    numeric_preds = []\n",
        "    for pred in predictions:\n",
        "        if pred == \"да\":\n",
        "            numeric_preds.append(1)\n",
        "        elif pred == \"нет\":\n",
        "            numeric_preds.append(0)\n",
        "        else:  # на случай, если модель не послушается инструкций\n",
        "            numeric_preds.append(-1)\n",
        "\n",
        "    return numeric_preds\n",
        "\n",
        "\n",
        "# Сохраняем предсказания\n",
        "def save_predictions(test_df, predictions, model_name):\n",
        "    result_df = test_df.copy()\n",
        "    result_df['prediction'] = predictions\n",
        "    result_df.to_json(f'exp_preds/exp3_{model_name}.jsonl',\n",
        "                      orient='records',\n",
        "                      lines=True,\n",
        "                      force_ascii=False)"
      ]
    },
    {
      "cell_type": "code",
      "execution_count": null,
      "metadata": {
        "id": "GTIDUEI8eLiQ"
      },
      "outputs": [],
      "source": [
        "test_df = pd.read_json('final_data/test.jsonl', lines=True)"
      ]
    },
    {
      "cell_type": "markdown",
      "metadata": {
        "id": "ukN2garneLiQ"
      },
      "source": [
        "### Qwen 0.5B"
      ]
    },
    {
      "cell_type": "code",
      "execution_count": null,
      "metadata": {
        "colab": {
          "referenced_widgets": [
            "5cf293fa17774bed8b075a0dd818919f"
          ]
        },
        "id": "yCZNamGmeLiQ",
        "outputId": "e617f090-578a-4e81-a121-f5a5308190bc"
      },
      "outputs": [
        {
          "name": "stderr",
          "output_type": "stream",
          "text": [
            "2024-12-27 18:56:40.790710: I tensorflow/core/util/port.cc:153] oneDNN custom operations are on. You may see slightly different numerical results due to floating-point round-off errors from different computation orders. To turn them off, set the environment variable `TF_ENABLE_ONEDNN_OPTS=0`.\n",
            "2024-12-27 18:56:40.807779: E external/local_xla/xla/stream_executor/cuda/cuda_fft.cc:477] Unable to register cuFFT factory: Attempting to register factory for plugin cuFFT when one has already been registered\n",
            "WARNING: All log messages before absl::InitializeLog() is called are written to STDERR\n",
            "E0000 00:00:1735325800.823579  169860 cuda_dnn.cc:8310] Unable to register cuDNN factory: Attempting to register factory for plugin cuDNN when one has already been registered\n",
            "E0000 00:00:1735325800.828174  169860 cuda_blas.cc:1418] Unable to register cuBLAS factory: Attempting to register factory for plugin cuBLAS when one has already been registered\n",
            "2024-12-27 18:56:40.845845: I tensorflow/core/platform/cpu_feature_guard.cc:210] This TensorFlow binary is optimized to use available CPU instructions in performance-critical operations.\n",
            "To enable the following instructions: AVX2 AVX512F AVX512_VNNI FMA, in other operations, rebuild TensorFlow with the appropriate compiler flags.\n"
          ]
        },
        {
          "data": {
            "application/vnd.jupyter.widget-view+json": {
              "model_id": "5cf293fa17774bed8b075a0dd818919f",
              "version_major": 2,
              "version_minor": 0
            },
            "text/plain": [
              "0it [00:00, ?it/s]"
            ]
          },
          "metadata": {},
          "output_type": "display_data"
        }
      ],
      "source": [
        "model_name = \"qwen/Qwen2.5-0.5B-Instruct\"\n",
        "model, tokenizer = setup_model(model_name)\n",
        "predictions = []\n",
        "\n",
        "for _, row in tqdm(test_df.iterrows()):\n",
        "    answer = generate_answer(\n",
        "        row['passage'],\n",
        "        row['question'],\n",
        "        model,\n",
        "        tokenizer,\n",
        "        \"qwen\")\n",
        "    predictions.append(answer)"
      ]
    },
    {
      "cell_type": "code",
      "execution_count": null,
      "metadata": {
        "id": "6QqHGT4peLiQ",
        "outputId": "b483f9d9-79e8-4788-cb8f-131091b35aec"
      },
      "outputs": [
        {
          "name": "stdout",
          "output_type": "stream",
          "text": [
            "Уникальные ответы: да     368\n",
            "нет     43\n",
            "Name: count, dtype: int64\n"
          ]
        }
      ],
      "source": [
        "print(\"Уникальные ответы:\", pd.Series(predictions).value_counts())"
      ]
    },
    {
      "cell_type": "code",
      "execution_count": null,
      "metadata": {
        "id": "d21RtZseeLiQ",
        "outputId": "050c3512-d27e-4949-e419-a55b64d8a57a"
      },
      "outputs": [
        {
          "name": "stdout",
          "output_type": "stream",
          "text": [
            "\n",
            "Classification Report:\n",
            "              precision    recall  f1-score   support\n",
            "\n",
            "       False       0.72      0.15      0.25       205\n",
            "        True       0.53      0.94      0.68       206\n",
            "\n",
            "    accuracy                           0.55       411\n",
            "   macro avg       0.62      0.55      0.46       411\n",
            "weighted avg       0.62      0.55      0.46       411\n",
            "\n"
          ]
        }
      ],
      "source": [
        "numeric_preds = process_predictions(predictions, test_df['label'])\n",
        "print(\"\\nClassification Report:\")\n",
        "print(\n",
        "    classification_report(\n",
        "        test_df['label'],\n",
        "        numeric_preds,\n",
        "        target_names=[\n",
        "            \"False\",\n",
        "            \"True\"]))"
      ]
    },
    {
      "cell_type": "code",
      "execution_count": null,
      "metadata": {
        "id": "GQgIVRFAeLiQ"
      },
      "outputs": [],
      "source": [
        "save_predictions(test_df, numeric_preds, \"qwen_0.5b\")"
      ]
    },
    {
      "cell_type": "code",
      "execution_count": null,
      "metadata": {
        "id": "kdYgBuI5eLiQ"
      },
      "outputs": [],
      "source": [
        "del model\n",
        "torch.cuda.empty_cache()"
      ]
    },
    {
      "cell_type": "markdown",
      "metadata": {
        "id": "ipdNVpNDeLiR"
      },
      "source": [
        "### Qwen 7B"
      ]
    },
    {
      "cell_type": "code",
      "execution_count": null,
      "metadata": {
        "colab": {
          "referenced_widgets": [
            "ee46498b81ce4678bdd5eb037df971b5",
            "992d24a534bb4f8ba4db969f21facf51"
          ]
        },
        "id": "vmLWtu13eLiR",
        "outputId": "00618e4e-0345-45d2-b78d-898a5430d44c"
      },
      "outputs": [
        {
          "name": "stderr",
          "output_type": "stream",
          "text": [
            "2024-12-27 18:58:07.653860: I tensorflow/core/util/port.cc:153] oneDNN custom operations are on. You may see slightly different numerical results due to floating-point round-off errors from different computation orders. To turn them off, set the environment variable `TF_ENABLE_ONEDNN_OPTS=0`.\n",
            "2024-12-27 18:58:07.670124: E external/local_xla/xla/stream_executor/cuda/cuda_fft.cc:477] Unable to register cuFFT factory: Attempting to register factory for plugin cuFFT when one has already been registered\n",
            "WARNING: All log messages before absl::InitializeLog() is called are written to STDERR\n",
            "E0000 00:00:1735325887.685550  170267 cuda_dnn.cc:8310] Unable to register cuDNN factory: Attempting to register factory for plugin cuDNN when one has already been registered\n",
            "E0000 00:00:1735325887.689698  170267 cuda_blas.cc:1418] Unable to register cuBLAS factory: Attempting to register factory for plugin cuBLAS when one has already been registered\n",
            "2024-12-27 18:58:07.704300: I tensorflow/core/platform/cpu_feature_guard.cc:210] This TensorFlow binary is optimized to use available CPU instructions in performance-critical operations.\n",
            "To enable the following instructions: AVX2 AVX512F AVX512_VNNI FMA, in other operations, rebuild TensorFlow with the appropriate compiler flags.\n"
          ]
        },
        {
          "data": {
            "application/vnd.jupyter.widget-view+json": {
              "model_id": "ee46498b81ce4678bdd5eb037df971b5",
              "version_major": 2,
              "version_minor": 0
            },
            "text/plain": [
              "Loading checkpoint shards:   0%|          | 0/4 [00:00<?, ?it/s]"
            ]
          },
          "metadata": {},
          "output_type": "display_data"
        },
        {
          "data": {
            "application/vnd.jupyter.widget-view+json": {
              "model_id": "992d24a534bb4f8ba4db969f21facf51",
              "version_major": 2,
              "version_minor": 0
            },
            "text/plain": [
              "0it [00:00, ?it/s]"
            ]
          },
          "metadata": {},
          "output_type": "display_data"
        }
      ],
      "source": [
        "model_name = \"qwen/Qwen2.5-7B-Instruct\"\n",
        "model, tokenizer = setup_model(model_name)\n",
        "predictions = []\n",
        "\n",
        "for _, row in tqdm(test_df.iterrows()):\n",
        "    answer = generate_answer(\n",
        "        row['passage'],\n",
        "        row['question'],\n",
        "        model,\n",
        "        tokenizer,\n",
        "        \"qwen\")\n",
        "    predictions.append(answer)"
      ]
    },
    {
      "cell_type": "code",
      "execution_count": null,
      "metadata": {
        "id": "TN1Hxt_DeLiR",
        "outputId": "fa7c4196-c90c-45cd-becf-ebba5d56fe9c"
      },
      "outputs": [
        {
          "name": "stdout",
          "output_type": "stream",
          "text": [
            "Уникальные ответы: нет    231\n",
            "да     180\n",
            "Name: count, dtype: int64\n"
          ]
        }
      ],
      "source": [
        "print(\"Уникальные ответы:\", pd.Series(predictions).value_counts())"
      ]
    },
    {
      "cell_type": "code",
      "execution_count": null,
      "metadata": {
        "id": "r7Kv-AUSeLiR",
        "outputId": "33879a25-1289-499f-997a-41e028e85a42"
      },
      "outputs": [
        {
          "name": "stdout",
          "output_type": "stream",
          "text": [
            "\n",
            "Classification Report:\n",
            "              precision    recall  f1-score   support\n",
            "\n",
            "       False       0.81      0.92      0.86       205\n",
            "        True       0.91      0.79      0.84       206\n",
            "\n",
            "    accuracy                           0.85       411\n",
            "   macro avg       0.86      0.85      0.85       411\n",
            "weighted avg       0.86      0.85      0.85       411\n",
            "\n"
          ]
        }
      ],
      "source": [
        "numeric_preds = process_predictions(predictions, test_df['label'])\n",
        "print(\"\\nClassification Report:\")\n",
        "print(\n",
        "    classification_report(\n",
        "        test_df['label'],\n",
        "        numeric_preds,\n",
        "        target_names=[\n",
        "            \"False\",\n",
        "            \"True\"]))"
      ]
    },
    {
      "cell_type": "code",
      "execution_count": null,
      "metadata": {
        "id": "5yHZZEMXeLiR"
      },
      "outputs": [],
      "source": [
        "save_predictions(test_df, numeric_preds, \"qwen_7b\")"
      ]
    },
    {
      "cell_type": "code",
      "execution_count": null,
      "metadata": {
        "id": "7mCgGASpeLiR"
      },
      "outputs": [],
      "source": [
        "del model\n",
        "torch.cuda.empty_cache()"
      ]
    },
    {
      "cell_type": "markdown",
      "metadata": {
        "id": "NqfL7TsDeLiR"
      },
      "source": [
        "### T-lite"
      ]
    },
    {
      "cell_type": "code",
      "execution_count": null,
      "metadata": {
        "colab": {
          "referenced_widgets": [
            "3d599b5f76214b0184c8ecd64a03a9bc",
            "043fe3c527c64ad99ece025b1cbf8cd8"
          ]
        },
        "id": "juKTPAzseLiR",
        "outputId": "f0d56a5a-d60c-4ea5-f9b1-c9664ef8b797"
      },
      "outputs": [
        {
          "name": "stderr",
          "output_type": "stream",
          "text": [
            "2024-12-27 18:59:48.785447: I tensorflow/core/util/port.cc:153] oneDNN custom operations are on. You may see slightly different numerical results due to floating-point round-off errors from different computation orders. To turn them off, set the environment variable `TF_ENABLE_ONEDNN_OPTS=0`.\n",
            "2024-12-27 18:59:48.801288: E external/local_xla/xla/stream_executor/cuda/cuda_fft.cc:477] Unable to register cuFFT factory: Attempting to register factory for plugin cuFFT when one has already been registered\n",
            "WARNING: All log messages before absl::InitializeLog() is called are written to STDERR\n",
            "E0000 00:00:1735325988.820641  170828 cuda_dnn.cc:8310] Unable to register cuDNN factory: Attempting to register factory for plugin cuDNN when one has already been registered\n",
            "E0000 00:00:1735325988.824953  170828 cuda_blas.cc:1418] Unable to register cuBLAS factory: Attempting to register factory for plugin cuBLAS when one has already been registered\n",
            "2024-12-27 18:59:48.839577: I tensorflow/core/platform/cpu_feature_guard.cc:210] This TensorFlow binary is optimized to use available CPU instructions in performance-critical operations.\n",
            "To enable the following instructions: AVX2 AVX512F AVX512_VNNI FMA, in other operations, rebuild TensorFlow with the appropriate compiler flags.\n"
          ]
        },
        {
          "data": {
            "application/vnd.jupyter.widget-view+json": {
              "model_id": "3d599b5f76214b0184c8ecd64a03a9bc",
              "version_major": 2,
              "version_minor": 0
            },
            "text/plain": [
              "Loading checkpoint shards:   0%|          | 0/4 [00:00<?, ?it/s]"
            ]
          },
          "metadata": {},
          "output_type": "display_data"
        },
        {
          "data": {
            "application/vnd.jupyter.widget-view+json": {
              "model_id": "043fe3c527c64ad99ece025b1cbf8cd8",
              "version_major": 2,
              "version_minor": 0
            },
            "text/plain": [
              "0it [00:00, ?it/s]"
            ]
          },
          "metadata": {},
          "output_type": "display_data"
        }
      ],
      "source": [
        "model_name = \"t-tech/T-lite-it-1.0\"\n",
        "model, tokenizer = setup_model(model_name)\n",
        "predictions = []\n",
        "\n",
        "for _, row in tqdm(test_df.iterrows()):\n",
        "    answer = generate_answer(\n",
        "        row['passage'],\n",
        "        row['question'],\n",
        "        model,\n",
        "        tokenizer,\n",
        "        \"t-lite\")\n",
        "    predictions.append(answer)"
      ]
    },
    {
      "cell_type": "code",
      "execution_count": null,
      "metadata": {
        "id": "SrjgAzDAeLiS",
        "outputId": "85808e03-6392-4d36-e050-3b6ef27f0e48"
      },
      "outputs": [
        {
          "name": "stdout",
          "output_type": "stream",
          "text": [
            "Уникальные ответы: нет.    193\n",
            "да.     144\n",
            "нет      44\n",
            "да       30\n",
            "Name: count, dtype: int64\n"
          ]
        }
      ],
      "source": [
        "print(\"Уникальные ответы:\", pd.Series(predictions).value_counts())"
      ]
    },
    {
      "cell_type": "markdown",
      "metadata": {
        "id": "_GMaSIGveLiS"
      },
      "source": [
        "Забавно, но это единственная модель, которая ставила (в большинстве случаев, но не во всех) точки в конце ответа! Придётся их убрать!"
      ]
    },
    {
      "cell_type": "code",
      "execution_count": null,
      "metadata": {
        "id": "g0H0E84AeLiS"
      },
      "outputs": [],
      "source": [
        "# Убираем точки на конце\n",
        "\n",
        "for i in range(len(predictions)):\n",
        "    if predictions[i][-1] == \".\":\n",
        "        predictions[i] = predictions[i][:-1]"
      ]
    },
    {
      "cell_type": "code",
      "execution_count": null,
      "metadata": {
        "id": "hqnjNn2-eLiS",
        "outputId": "d32e3717-86dc-4135-a2c3-c486c7cb2fbf"
      },
      "outputs": [
        {
          "name": "stdout",
          "output_type": "stream",
          "text": [
            "Уникальные ответы после замены: нет    237\n",
            "да     174\n",
            "Name: count, dtype: int64\n"
          ]
        }
      ],
      "source": [
        "print(\"Уникальные ответы после замены:\", pd.Series(predictions).value_counts())"
      ]
    },
    {
      "cell_type": "code",
      "execution_count": null,
      "metadata": {
        "id": "OdhFkQEFeLiS",
        "outputId": "9ba483aa-b692-40e1-e9eb-2e2a5e0c0340"
      },
      "outputs": [
        {
          "name": "stdout",
          "output_type": "stream",
          "text": [
            "\n",
            "Classification Report:\n",
            "              precision    recall  f1-score   support\n",
            "\n",
            "       False       0.80      0.92      0.86       205\n",
            "        True       0.91      0.77      0.83       206\n",
            "\n",
            "    accuracy                           0.84       411\n",
            "   macro avg       0.85      0.84      0.84       411\n",
            "weighted avg       0.85      0.84      0.84       411\n",
            "\n"
          ]
        }
      ],
      "source": [
        "numeric_preds = process_predictions(predictions, test_df['label'])\n",
        "print(\"\\nClassification Report:\")\n",
        "print(\n",
        "    classification_report(\n",
        "        test_df['label'],\n",
        "        numeric_preds,\n",
        "        target_names=[\n",
        "            \"False\",\n",
        "            \"True\"]))"
      ]
    },
    {
      "cell_type": "code",
      "execution_count": null,
      "metadata": {
        "id": "_JXAQAfSeLiS"
      },
      "outputs": [],
      "source": [
        "save_predictions(test_df, numeric_preds, \"t-lite\")"
      ]
    },
    {
      "cell_type": "code",
      "execution_count": null,
      "metadata": {
        "id": "VDo4_rqDeLiS"
      },
      "outputs": [],
      "source": [
        "del model\n",
        "torch.cuda.empty_cache()"
      ]
    },
    {
      "cell_type": "markdown",
      "metadata": {
        "id": "mQ_7R3KYeLiS"
      },
      "source": [
        "Внезапно..."
      ]
    },
    {
      "cell_type": "markdown",
      "metadata": {
        "id": "aTBova99eLiT"
      },
      "source": [
        "### Ministral-8B"
      ]
    },
    {
      "cell_type": "code",
      "execution_count": null,
      "metadata": {
        "colab": {
          "referenced_widgets": [
            "ed98b38d2ad048b691113edcb2ab02cd",
            "3ada0a4afcc84826927b120a78887f54",
            "57d8ebd29e4a43c39d8484bb8a17d905",
            "3f9c43ee503c4531b4a24203be09caf4",
            "52154b8cd9184452b5f718bd938922e8",
            "2f05f90e87284efaa6515ddfa798fbc2",
            "56541369db8949d794c1565d2a26ea3b",
            "99fb7ec09c5d403fa114ed4bfa71e667",
            "eb66aa6f58cf42b5afc806e87d9a0724",
            "b05a7da069444234833de640d52c0667",
            "53ed98fa94e64f1c92112da068a27701",
            "339e1c15299745b7be1c0dec33a30a7f",
            "0d686e7a615442c3864ca8a7a38d15fa"
          ]
        },
        "id": "9Zc2Hd3JeLiT",
        "outputId": "ccd13a02-7baf-40e0-8ca9-2b7f07a8b7eb"
      },
      "outputs": [
        {
          "data": {
            "application/vnd.jupyter.widget-view+json": {
              "model_id": "ed98b38d2ad048b691113edcb2ab02cd",
              "version_major": 2,
              "version_minor": 0
            },
            "text/plain": [
              "tokenizer_config.json:   0%|          | 0.00/181k [00:00<?, ?B/s]"
            ]
          },
          "metadata": {},
          "output_type": "display_data"
        },
        {
          "data": {
            "application/vnd.jupyter.widget-view+json": {
              "model_id": "3ada0a4afcc84826927b120a78887f54",
              "version_major": 2,
              "version_minor": 0
            },
            "text/plain": [
              "tokenizer.json:   0%|          | 0.00/17.1M [00:00<?, ?B/s]"
            ]
          },
          "metadata": {},
          "output_type": "display_data"
        },
        {
          "data": {
            "application/vnd.jupyter.widget-view+json": {
              "model_id": "57d8ebd29e4a43c39d8484bb8a17d905",
              "version_major": 2,
              "version_minor": 0
            },
            "text/plain": [
              "special_tokens_map.json:   0%|          | 0.00/414 [00:00<?, ?B/s]"
            ]
          },
          "metadata": {},
          "output_type": "display_data"
        },
        {
          "name": "stderr",
          "output_type": "stream",
          "text": [
            "You are using the default legacy behaviour of the <class 'transformers.models.llama.tokenization_llama_fast.LlamaTokenizerFast'>. This is expected, and simply means that the `legacy` (previous) behavior will be used so nothing changes for you. If you want to use the new behaviour, set `legacy=False`. This should only be set if you understand what it means, and thoroughly read the reason why this was added as explained in https://github.com/huggingface/transformers/pull/24565 - if you loaded a llama tokenizer from a GGUF file you can ignore this message.\n"
          ]
        },
        {
          "data": {
            "application/vnd.jupyter.widget-view+json": {
              "model_id": "3f9c43ee503c4531b4a24203be09caf4",
              "version_major": 2,
              "version_minor": 0
            },
            "text/plain": [
              "config.json:   0%|          | 0.00/624 [00:00<?, ?B/s]"
            ]
          },
          "metadata": {},
          "output_type": "display_data"
        },
        {
          "name": "stderr",
          "output_type": "stream",
          "text": [
            "2024-12-27 19:24:05.023102: I tensorflow/core/util/port.cc:153] oneDNN custom operations are on. You may see slightly different numerical results due to floating-point round-off errors from different computation orders. To turn them off, set the environment variable `TF_ENABLE_ONEDNN_OPTS=0`.\n",
            "2024-12-27 19:24:05.038749: E external/local_xla/xla/stream_executor/cuda/cuda_fft.cc:477] Unable to register cuFFT factory: Attempting to register factory for plugin cuFFT when one has already been registered\n",
            "WARNING: All log messages before absl::InitializeLog() is called are written to STDERR\n",
            "E0000 00:00:1735327445.056479  175466 cuda_dnn.cc:8310] Unable to register cuDNN factory: Attempting to register factory for plugin cuDNN when one has already been registered\n",
            "E0000 00:00:1735327445.060619  175466 cuda_blas.cc:1418] Unable to register cuBLAS factory: Attempting to register factory for plugin cuBLAS when one has already been registered\n",
            "2024-12-27 19:24:05.075442: I tensorflow/core/platform/cpu_feature_guard.cc:210] This TensorFlow binary is optimized to use available CPU instructions in performance-critical operations.\n",
            "To enable the following instructions: AVX2 AVX512F AVX512_VNNI FMA, in other operations, rebuild TensorFlow with the appropriate compiler flags.\n"
          ]
        },
        {
          "data": {
            "application/vnd.jupyter.widget-view+json": {
              "model_id": "52154b8cd9184452b5f718bd938922e8",
              "version_major": 2,
              "version_minor": 0
            },
            "text/plain": [
              "model.safetensors.index.json:   0%|          | 0.00/26.9k [00:00<?, ?B/s]"
            ]
          },
          "metadata": {},
          "output_type": "display_data"
        },
        {
          "data": {
            "application/vnd.jupyter.widget-view+json": {
              "model_id": "2f05f90e87284efaa6515ddfa798fbc2",
              "version_major": 2,
              "version_minor": 0
            },
            "text/plain": [
              "Downloading shards:   0%|          | 0/4 [00:00<?, ?it/s]"
            ]
          },
          "metadata": {},
          "output_type": "display_data"
        },
        {
          "data": {
            "application/vnd.jupyter.widget-view+json": {
              "model_id": "56541369db8949d794c1565d2a26ea3b",
              "version_major": 2,
              "version_minor": 0
            },
            "text/plain": [
              "model-00001-of-00004.safetensors:   0%|          | 0.00/4.98G [00:00<?, ?B/s]"
            ]
          },
          "metadata": {},
          "output_type": "display_data"
        },
        {
          "data": {
            "application/vnd.jupyter.widget-view+json": {
              "model_id": "99fb7ec09c5d403fa114ed4bfa71e667",
              "version_major": 2,
              "version_minor": 0
            },
            "text/plain": [
              "model-00002-of-00004.safetensors:   0%|          | 0.00/5.00G [00:00<?, ?B/s]"
            ]
          },
          "metadata": {},
          "output_type": "display_data"
        },
        {
          "data": {
            "application/vnd.jupyter.widget-view+json": {
              "model_id": "eb66aa6f58cf42b5afc806e87d9a0724",
              "version_major": 2,
              "version_minor": 0
            },
            "text/plain": [
              "model-00003-of-00004.safetensors:   0%|          | 0.00/4.98G [00:00<?, ?B/s]"
            ]
          },
          "metadata": {},
          "output_type": "display_data"
        },
        {
          "data": {
            "application/vnd.jupyter.widget-view+json": {
              "model_id": "b05a7da069444234833de640d52c0667",
              "version_major": 2,
              "version_minor": 0
            },
            "text/plain": [
              "model-00004-of-00004.safetensors:   0%|          | 0.00/1.07G [00:00<?, ?B/s]"
            ]
          },
          "metadata": {},
          "output_type": "display_data"
        },
        {
          "data": {
            "application/vnd.jupyter.widget-view+json": {
              "model_id": "53ed98fa94e64f1c92112da068a27701",
              "version_major": 2,
              "version_minor": 0
            },
            "text/plain": [
              "Loading checkpoint shards:   0%|          | 0/4 [00:00<?, ?it/s]"
            ]
          },
          "metadata": {},
          "output_type": "display_data"
        },
        {
          "data": {
            "application/vnd.jupyter.widget-view+json": {
              "model_id": "339e1c15299745b7be1c0dec33a30a7f",
              "version_major": 2,
              "version_minor": 0
            },
            "text/plain": [
              "generation_config.json:   0%|          | 0.00/116 [00:00<?, ?B/s]"
            ]
          },
          "metadata": {},
          "output_type": "display_data"
        },
        {
          "data": {
            "application/vnd.jupyter.widget-view+json": {
              "model_id": "0d686e7a615442c3864ca8a7a38d15fa",
              "version_major": 2,
              "version_minor": 0
            },
            "text/plain": [
              "0it [00:00, ?it/s]"
            ]
          },
          "metadata": {},
          "output_type": "display_data"
        },
        {
          "name": "stderr",
          "output_type": "stream",
          "text": [
            "Setting `pad_token_id` to `eos_token_id`:None for open-end generation.\n",
            "Setting `pad_token_id` to `eos_token_id`:None for open-end generation.\n",
            "Setting `pad_token_id` to `eos_token_id`:None for open-end generation.\n",
            "Setting `pad_token_id` to `eos_token_id`:None for open-end generation.\n",
            "Setting `pad_token_id` to `eos_token_id`:None for open-end generation.\n",
            "Setting `pad_token_id` to `eos_token_id`:None for open-end generation.\n",
            "Setting `pad_token_id` to `eos_token_id`:None for open-end generation.\n",
            "Setting `pad_token_id` to `eos_token_id`:None for open-end generation.\n",
            "Setting `pad_token_id` to `eos_token_id`:None for open-end generation.\n",
            "Setting `pad_token_id` to `eos_token_id`:None for open-end generation.\n",
            "Setting `pad_token_id` to `eos_token_id`:None for open-end generation.\n",
            "Setting `pad_token_id` to `eos_token_id`:None for open-end generation.\n",
            "Setting `pad_token_id` to `eos_token_id`:None for open-end generation.\n",
            "Setting `pad_token_id` to `eos_token_id`:None for open-end generation.\n",
            "Setting `pad_token_id` to `eos_token_id`:None for open-end generation.\n",
            "Setting `pad_token_id` to `eos_token_id`:None for open-end generation.\n",
            "Setting `pad_token_id` to `eos_token_id`:None for open-end generation.\n",
            "Setting `pad_token_id` to `eos_token_id`:None for open-end generation.\n",
            "Setting `pad_token_id` to `eos_token_id`:None for open-end generation.\n",
            "Setting `pad_token_id` to `eos_token_id`:None for open-end generation.\n",
            "Setting `pad_token_id` to `eos_token_id`:None for open-end generation.\n",
            "Setting `pad_token_id` to `eos_token_id`:None for open-end generation.\n",
            "Setting `pad_token_id` to `eos_token_id`:None for open-end generation.\n",
            "Setting `pad_token_id` to `eos_token_id`:None for open-end generation.\n",
            "Setting `pad_token_id` to `eos_token_id`:None for open-end generation.\n",
            "Setting `pad_token_id` to `eos_token_id`:None for open-end generation.\n",
            "Setting `pad_token_id` to `eos_token_id`:None for open-end generation.\n",
            "Setting `pad_token_id` to `eos_token_id`:None for open-end generation.\n",
            "Setting `pad_token_id` to `eos_token_id`:None for open-end generation.\n",
            "Setting `pad_token_id` to `eos_token_id`:None for open-end generation.\n",
            "Setting `pad_token_id` to `eos_token_id`:None for open-end generation.\n",
            "Setting `pad_token_id` to `eos_token_id`:None for open-end generation.\n",
            "Setting `pad_token_id` to `eos_token_id`:None for open-end generation.\n",
            "Setting `pad_token_id` to `eos_token_id`:None for open-end generation.\n",
            "Setting `pad_token_id` to `eos_token_id`:None for open-end generation.\n",
            "Setting `pad_token_id` to `eos_token_id`:None for open-end generation.\n",
            "Setting `pad_token_id` to `eos_token_id`:None for open-end generation.\n",
            "Setting `pad_token_id` to `eos_token_id`:None for open-end generation.\n",
            "Setting `pad_token_id` to `eos_token_id`:None for open-end generation.\n",
            "Setting `pad_token_id` to `eos_token_id`:None for open-end generation.\n",
            "Setting `pad_token_id` to `eos_token_id`:None for open-end generation.\n",
            "Setting `pad_token_id` to `eos_token_id`:None for open-end generation.\n",
            "Setting `pad_token_id` to `eos_token_id`:None for open-end generation.\n",
            "Setting `pad_token_id` to `eos_token_id`:None for open-end generation.\n",
            "Setting `pad_token_id` to `eos_token_id`:None for open-end generation.\n",
            "Setting `pad_token_id` to `eos_token_id`:None for open-end generation.\n",
            "Setting `pad_token_id` to `eos_token_id`:None for open-end generation.\n",
            "Setting `pad_token_id` to `eos_token_id`:None for open-end generation.\n",
            "Setting `pad_token_id` to `eos_token_id`:None for open-end generation.\n",
            "Setting `pad_token_id` to `eos_token_id`:None for open-end generation.\n",
            "Setting `pad_token_id` to `eos_token_id`:None for open-end generation.\n",
            "Setting `pad_token_id` to `eos_token_id`:None for open-end generation.\n",
            "Setting `pad_token_id` to `eos_token_id`:None for open-end generation.\n",
            "Setting `pad_token_id` to `eos_token_id`:None for open-end generation.\n",
            "Setting `pad_token_id` to `eos_token_id`:None for open-end generation.\n",
            "Setting `pad_token_id` to `eos_token_id`:None for open-end generation.\n",
            "Setting `pad_token_id` to `eos_token_id`:None for open-end generation.\n",
            "Setting `pad_token_id` to `eos_token_id`:None for open-end generation.\n",
            "Setting `pad_token_id` to `eos_token_id`:None for open-end generation.\n",
            "Setting `pad_token_id` to `eos_token_id`:None for open-end generation.\n",
            "Setting `pad_token_id` to `eos_token_id`:None for open-end generation.\n",
            "Setting `pad_token_id` to `eos_token_id`:None for open-end generation.\n",
            "Setting `pad_token_id` to `eos_token_id`:None for open-end generation.\n",
            "Setting `pad_token_id` to `eos_token_id`:None for open-end generation.\n",
            "Setting `pad_token_id` to `eos_token_id`:None for open-end generation.\n",
            "Setting `pad_token_id` to `eos_token_id`:None for open-end generation.\n",
            "Setting `pad_token_id` to `eos_token_id`:None for open-end generation.\n",
            "Setting `pad_token_id` to `eos_token_id`:None for open-end generation.\n",
            "Setting `pad_token_id` to `eos_token_id`:None for open-end generation.\n",
            "Setting `pad_token_id` to `eos_token_id`:None for open-end generation.\n",
            "Setting `pad_token_id` to `eos_token_id`:None for open-end generation.\n",
            "Setting `pad_token_id` to `eos_token_id`:None for open-end generation.\n",
            "Setting `pad_token_id` to `eos_token_id`:None for open-end generation.\n",
            "Setting `pad_token_id` to `eos_token_id`:None for open-end generation.\n",
            "Setting `pad_token_id` to `eos_token_id`:None for open-end generation.\n",
            "Setting `pad_token_id` to `eos_token_id`:None for open-end generation.\n",
            "Setting `pad_token_id` to `eos_token_id`:None for open-end generation.\n",
            "Setting `pad_token_id` to `eos_token_id`:None for open-end generation.\n",
            "Setting `pad_token_id` to `eos_token_id`:None for open-end generation.\n",
            "Setting `pad_token_id` to `eos_token_id`:None for open-end generation.\n",
            "Setting `pad_token_id` to `eos_token_id`:None for open-end generation.\n",
            "Setting `pad_token_id` to `eos_token_id`:None for open-end generation.\n",
            "Setting `pad_token_id` to `eos_token_id`:None for open-end generation.\n",
            "Setting `pad_token_id` to `eos_token_id`:None for open-end generation.\n",
            "Setting `pad_token_id` to `eos_token_id`:None for open-end generation.\n",
            "Setting `pad_token_id` to `eos_token_id`:None for open-end generation.\n",
            "Setting `pad_token_id` to `eos_token_id`:None for open-end generation.\n",
            "Setting `pad_token_id` to `eos_token_id`:None for open-end generation.\n",
            "Setting `pad_token_id` to `eos_token_id`:None for open-end generation.\n",
            "Setting `pad_token_id` to `eos_token_id`:None for open-end generation.\n",
            "Setting `pad_token_id` to `eos_token_id`:None for open-end generation.\n",
            "Setting `pad_token_id` to `eos_token_id`:None for open-end generation.\n",
            "Setting `pad_token_id` to `eos_token_id`:None for open-end generation.\n",
            "Setting `pad_token_id` to `eos_token_id`:None for open-end generation.\n",
            "Setting `pad_token_id` to `eos_token_id`:None for open-end generation.\n",
            "Setting `pad_token_id` to `eos_token_id`:None for open-end generation.\n",
            "Setting `pad_token_id` to `eos_token_id`:None for open-end generation.\n",
            "Setting `pad_token_id` to `eos_token_id`:None for open-end generation.\n",
            "Setting `pad_token_id` to `eos_token_id`:None for open-end generation.\n",
            "Setting `pad_token_id` to `eos_token_id`:None for open-end generation.\n",
            "Setting `pad_token_id` to `eos_token_id`:None for open-end generation.\n",
            "Setting `pad_token_id` to `eos_token_id`:None for open-end generation.\n",
            "Setting `pad_token_id` to `eos_token_id`:None for open-end generation.\n",
            "Setting `pad_token_id` to `eos_token_id`:None for open-end generation.\n",
            "Setting `pad_token_id` to `eos_token_id`:None for open-end generation.\n",
            "Setting `pad_token_id` to `eos_token_id`:None for open-end generation.\n",
            "Setting `pad_token_id` to `eos_token_id`:None for open-end generation.\n",
            "Setting `pad_token_id` to `eos_token_id`:None for open-end generation.\n",
            "Setting `pad_token_id` to `eos_token_id`:None for open-end generation.\n",
            "Setting `pad_token_id` to `eos_token_id`:None for open-end generation.\n",
            "Setting `pad_token_id` to `eos_token_id`:None for open-end generation.\n",
            "Setting `pad_token_id` to `eos_token_id`:None for open-end generation.\n",
            "Setting `pad_token_id` to `eos_token_id`:None for open-end generation.\n",
            "Setting `pad_token_id` to `eos_token_id`:None for open-end generation.\n",
            "Setting `pad_token_id` to `eos_token_id`:None for open-end generation.\n",
            "Setting `pad_token_id` to `eos_token_id`:None for open-end generation.\n",
            "Setting `pad_token_id` to `eos_token_id`:None for open-end generation.\n",
            "Setting `pad_token_id` to `eos_token_id`:None for open-end generation.\n",
            "Setting `pad_token_id` to `eos_token_id`:None for open-end generation.\n",
            "Setting `pad_token_id` to `eos_token_id`:None for open-end generation.\n",
            "Setting `pad_token_id` to `eos_token_id`:None for open-end generation.\n",
            "Setting `pad_token_id` to `eos_token_id`:None for open-end generation.\n",
            "Setting `pad_token_id` to `eos_token_id`:None for open-end generation.\n",
            "Setting `pad_token_id` to `eos_token_id`:None for open-end generation.\n",
            "Setting `pad_token_id` to `eos_token_id`:None for open-end generation.\n",
            "Setting `pad_token_id` to `eos_token_id`:None for open-end generation.\n",
            "Setting `pad_token_id` to `eos_token_id`:None for open-end generation.\n",
            "Setting `pad_token_id` to `eos_token_id`:None for open-end generation.\n",
            "Setting `pad_token_id` to `eos_token_id`:None for open-end generation.\n",
            "Setting `pad_token_id` to `eos_token_id`:None for open-end generation.\n",
            "Setting `pad_token_id` to `eos_token_id`:None for open-end generation.\n",
            "Setting `pad_token_id` to `eos_token_id`:None for open-end generation.\n",
            "Setting `pad_token_id` to `eos_token_id`:None for open-end generation.\n",
            "Setting `pad_token_id` to `eos_token_id`:None for open-end generation.\n",
            "Setting `pad_token_id` to `eos_token_id`:None for open-end generation.\n",
            "Setting `pad_token_id` to `eos_token_id`:None for open-end generation.\n",
            "Setting `pad_token_id` to `eos_token_id`:None for open-end generation.\n",
            "Setting `pad_token_id` to `eos_token_id`:None for open-end generation.\n",
            "Setting `pad_token_id` to `eos_token_id`:None for open-end generation.\n",
            "Setting `pad_token_id` to `eos_token_id`:None for open-end generation.\n",
            "Setting `pad_token_id` to `eos_token_id`:None for open-end generation.\n",
            "Setting `pad_token_id` to `eos_token_id`:None for open-end generation.\n",
            "Setting `pad_token_id` to `eos_token_id`:None for open-end generation.\n",
            "Setting `pad_token_id` to `eos_token_id`:None for open-end generation.\n",
            "Setting `pad_token_id` to `eos_token_id`:None for open-end generation.\n",
            "Setting `pad_token_id` to `eos_token_id`:None for open-end generation.\n",
            "Setting `pad_token_id` to `eos_token_id`:None for open-end generation.\n",
            "Setting `pad_token_id` to `eos_token_id`:None for open-end generation.\n",
            "Setting `pad_token_id` to `eos_token_id`:None for open-end generation.\n",
            "Setting `pad_token_id` to `eos_token_id`:None for open-end generation.\n",
            "Setting `pad_token_id` to `eos_token_id`:None for open-end generation.\n",
            "Setting `pad_token_id` to `eos_token_id`:None for open-end generation.\n",
            "Setting `pad_token_id` to `eos_token_id`:None for open-end generation.\n",
            "Setting `pad_token_id` to `eos_token_id`:None for open-end generation.\n",
            "Setting `pad_token_id` to `eos_token_id`:None for open-end generation.\n",
            "Setting `pad_token_id` to `eos_token_id`:None for open-end generation.\n",
            "Setting `pad_token_id` to `eos_token_id`:None for open-end generation.\n",
            "Setting `pad_token_id` to `eos_token_id`:None for open-end generation.\n",
            "Setting `pad_token_id` to `eos_token_id`:None for open-end generation.\n",
            "Setting `pad_token_id` to `eos_token_id`:None for open-end generation.\n",
            "Setting `pad_token_id` to `eos_token_id`:None for open-end generation.\n",
            "Setting `pad_token_id` to `eos_token_id`:None for open-end generation.\n",
            "Setting `pad_token_id` to `eos_token_id`:None for open-end generation.\n",
            "Setting `pad_token_id` to `eos_token_id`:None for open-end generation.\n",
            "Setting `pad_token_id` to `eos_token_id`:None for open-end generation.\n",
            "Setting `pad_token_id` to `eos_token_id`:None for open-end generation.\n",
            "Setting `pad_token_id` to `eos_token_id`:None for open-end generation.\n",
            "Setting `pad_token_id` to `eos_token_id`:None for open-end generation.\n",
            "Setting `pad_token_id` to `eos_token_id`:None for open-end generation.\n",
            "Setting `pad_token_id` to `eos_token_id`:None for open-end generation.\n",
            "Setting `pad_token_id` to `eos_token_id`:None for open-end generation.\n",
            "Setting `pad_token_id` to `eos_token_id`:None for open-end generation.\n",
            "Setting `pad_token_id` to `eos_token_id`:None for open-end generation.\n",
            "Setting `pad_token_id` to `eos_token_id`:None for open-end generation.\n",
            "Setting `pad_token_id` to `eos_token_id`:None for open-end generation.\n",
            "Setting `pad_token_id` to `eos_token_id`:None for open-end generation.\n",
            "Setting `pad_token_id` to `eos_token_id`:None for open-end generation.\n",
            "Setting `pad_token_id` to `eos_token_id`:None for open-end generation.\n",
            "Setting `pad_token_id` to `eos_token_id`:None for open-end generation.\n",
            "Setting `pad_token_id` to `eos_token_id`:None for open-end generation.\n",
            "Setting `pad_token_id` to `eos_token_id`:None for open-end generation.\n",
            "Setting `pad_token_id` to `eos_token_id`:None for open-end generation.\n",
            "Setting `pad_token_id` to `eos_token_id`:None for open-end generation.\n",
            "Setting `pad_token_id` to `eos_token_id`:None for open-end generation.\n",
            "Setting `pad_token_id` to `eos_token_id`:None for open-end generation.\n",
            "Setting `pad_token_id` to `eos_token_id`:None for open-end generation.\n",
            "Setting `pad_token_id` to `eos_token_id`:None for open-end generation.\n",
            "Setting `pad_token_id` to `eos_token_id`:None for open-end generation.\n",
            "Setting `pad_token_id` to `eos_token_id`:None for open-end generation.\n",
            "Setting `pad_token_id` to `eos_token_id`:None for open-end generation.\n",
            "Setting `pad_token_id` to `eos_token_id`:None for open-end generation.\n",
            "Setting `pad_token_id` to `eos_token_id`:None for open-end generation.\n",
            "Setting `pad_token_id` to `eos_token_id`:None for open-end generation.\n",
            "Setting `pad_token_id` to `eos_token_id`:None for open-end generation.\n",
            "Setting `pad_token_id` to `eos_token_id`:None for open-end generation.\n",
            "Setting `pad_token_id` to `eos_token_id`:None for open-end generation.\n",
            "Setting `pad_token_id` to `eos_token_id`:None for open-end generation.\n",
            "Setting `pad_token_id` to `eos_token_id`:None for open-end generation.\n",
            "Setting `pad_token_id` to `eos_token_id`:None for open-end generation.\n",
            "Setting `pad_token_id` to `eos_token_id`:None for open-end generation.\n",
            "Setting `pad_token_id` to `eos_token_id`:None for open-end generation.\n",
            "Setting `pad_token_id` to `eos_token_id`:None for open-end generation.\n",
            "Setting `pad_token_id` to `eos_token_id`:None for open-end generation.\n",
            "Setting `pad_token_id` to `eos_token_id`:None for open-end generation.\n",
            "Setting `pad_token_id` to `eos_token_id`:None for open-end generation.\n",
            "Setting `pad_token_id` to `eos_token_id`:None for open-end generation.\n",
            "Setting `pad_token_id` to `eos_token_id`:None for open-end generation.\n",
            "Setting `pad_token_id` to `eos_token_id`:None for open-end generation.\n",
            "Setting `pad_token_id` to `eos_token_id`:None for open-end generation.\n",
            "Setting `pad_token_id` to `eos_token_id`:None for open-end generation.\n",
            "Setting `pad_token_id` to `eos_token_id`:None for open-end generation.\n",
            "Setting `pad_token_id` to `eos_token_id`:None for open-end generation.\n",
            "Setting `pad_token_id` to `eos_token_id`:None for open-end generation.\n",
            "Setting `pad_token_id` to `eos_token_id`:None for open-end generation.\n",
            "Setting `pad_token_id` to `eos_token_id`:None for open-end generation.\n",
            "Setting `pad_token_id` to `eos_token_id`:None for open-end generation.\n",
            "Setting `pad_token_id` to `eos_token_id`:None for open-end generation.\n",
            "Setting `pad_token_id` to `eos_token_id`:None for open-end generation.\n",
            "Setting `pad_token_id` to `eos_token_id`:None for open-end generation.\n",
            "Setting `pad_token_id` to `eos_token_id`:None for open-end generation.\n",
            "Setting `pad_token_id` to `eos_token_id`:None for open-end generation.\n",
            "Setting `pad_token_id` to `eos_token_id`:None for open-end generation.\n",
            "Setting `pad_token_id` to `eos_token_id`:None for open-end generation.\n",
            "Setting `pad_token_id` to `eos_token_id`:None for open-end generation.\n",
            "Setting `pad_token_id` to `eos_token_id`:None for open-end generation.\n",
            "Setting `pad_token_id` to `eos_token_id`:None for open-end generation.\n",
            "Setting `pad_token_id` to `eos_token_id`:None for open-end generation.\n",
            "Setting `pad_token_id` to `eos_token_id`:None for open-end generation.\n",
            "Setting `pad_token_id` to `eos_token_id`:None for open-end generation.\n",
            "Setting `pad_token_id` to `eos_token_id`:None for open-end generation.\n",
            "Setting `pad_token_id` to `eos_token_id`:None for open-end generation.\n",
            "Setting `pad_token_id` to `eos_token_id`:None for open-end generation.\n",
            "Setting `pad_token_id` to `eos_token_id`:None for open-end generation.\n",
            "Setting `pad_token_id` to `eos_token_id`:None for open-end generation.\n",
            "Setting `pad_token_id` to `eos_token_id`:None for open-end generation.\n",
            "Setting `pad_token_id` to `eos_token_id`:None for open-end generation.\n",
            "Setting `pad_token_id` to `eos_token_id`:None for open-end generation.\n",
            "Setting `pad_token_id` to `eos_token_id`:None for open-end generation.\n",
            "Setting `pad_token_id` to `eos_token_id`:None for open-end generation.\n",
            "Setting `pad_token_id` to `eos_token_id`:None for open-end generation.\n",
            "Setting `pad_token_id` to `eos_token_id`:None for open-end generation.\n",
            "Setting `pad_token_id` to `eos_token_id`:None for open-end generation.\n",
            "Setting `pad_token_id` to `eos_token_id`:None for open-end generation.\n",
            "Setting `pad_token_id` to `eos_token_id`:None for open-end generation.\n",
            "Setting `pad_token_id` to `eos_token_id`:None for open-end generation.\n",
            "Setting `pad_token_id` to `eos_token_id`:None for open-end generation.\n",
            "Setting `pad_token_id` to `eos_token_id`:None for open-end generation.\n",
            "Setting `pad_token_id` to `eos_token_id`:None for open-end generation.\n",
            "Setting `pad_token_id` to `eos_token_id`:None for open-end generation.\n",
            "Setting `pad_token_id` to `eos_token_id`:None for open-end generation.\n",
            "Setting `pad_token_id` to `eos_token_id`:None for open-end generation.\n",
            "Setting `pad_token_id` to `eos_token_id`:None for open-end generation.\n",
            "Setting `pad_token_id` to `eos_token_id`:None for open-end generation.\n",
            "Setting `pad_token_id` to `eos_token_id`:None for open-end generation.\n",
            "Setting `pad_token_id` to `eos_token_id`:None for open-end generation.\n",
            "Setting `pad_token_id` to `eos_token_id`:None for open-end generation.\n",
            "Setting `pad_token_id` to `eos_token_id`:None for open-end generation.\n",
            "Setting `pad_token_id` to `eos_token_id`:None for open-end generation.\n",
            "Setting `pad_token_id` to `eos_token_id`:None for open-end generation.\n",
            "Setting `pad_token_id` to `eos_token_id`:None for open-end generation.\n",
            "Setting `pad_token_id` to `eos_token_id`:None for open-end generation.\n",
            "Setting `pad_token_id` to `eos_token_id`:None for open-end generation.\n",
            "Setting `pad_token_id` to `eos_token_id`:None for open-end generation.\n",
            "Setting `pad_token_id` to `eos_token_id`:None for open-end generation.\n",
            "Setting `pad_token_id` to `eos_token_id`:None for open-end generation.\n",
            "Setting `pad_token_id` to `eos_token_id`:None for open-end generation.\n",
            "Setting `pad_token_id` to `eos_token_id`:None for open-end generation.\n",
            "Setting `pad_token_id` to `eos_token_id`:None for open-end generation.\n",
            "Setting `pad_token_id` to `eos_token_id`:None for open-end generation.\n",
            "Setting `pad_token_id` to `eos_token_id`:None for open-end generation.\n",
            "Setting `pad_token_id` to `eos_token_id`:None for open-end generation.\n",
            "Setting `pad_token_id` to `eos_token_id`:None for open-end generation.\n",
            "Setting `pad_token_id` to `eos_token_id`:None for open-end generation.\n",
            "Setting `pad_token_id` to `eos_token_id`:None for open-end generation.\n",
            "Setting `pad_token_id` to `eos_token_id`:None for open-end generation.\n",
            "Setting `pad_token_id` to `eos_token_id`:None for open-end generation.\n",
            "Setting `pad_token_id` to `eos_token_id`:None for open-end generation.\n",
            "Setting `pad_token_id` to `eos_token_id`:None for open-end generation.\n",
            "Setting `pad_token_id` to `eos_token_id`:None for open-end generation.\n",
            "Setting `pad_token_id` to `eos_token_id`:None for open-end generation.\n",
            "Setting `pad_token_id` to `eos_token_id`:None for open-end generation.\n",
            "Setting `pad_token_id` to `eos_token_id`:None for open-end generation.\n",
            "Setting `pad_token_id` to `eos_token_id`:None for open-end generation.\n",
            "Setting `pad_token_id` to `eos_token_id`:None for open-end generation.\n",
            "Setting `pad_token_id` to `eos_token_id`:None for open-end generation.\n",
            "Setting `pad_token_id` to `eos_token_id`:None for open-end generation.\n",
            "Setting `pad_token_id` to `eos_token_id`:None for open-end generation.\n",
            "Setting `pad_token_id` to `eos_token_id`:None for open-end generation.\n",
            "Setting `pad_token_id` to `eos_token_id`:None for open-end generation.\n",
            "Setting `pad_token_id` to `eos_token_id`:None for open-end generation.\n",
            "Setting `pad_token_id` to `eos_token_id`:None for open-end generation.\n",
            "Setting `pad_token_id` to `eos_token_id`:None for open-end generation.\n",
            "Setting `pad_token_id` to `eos_token_id`:None for open-end generation.\n",
            "Setting `pad_token_id` to `eos_token_id`:None for open-end generation.\n",
            "Setting `pad_token_id` to `eos_token_id`:None for open-end generation.\n",
            "Setting `pad_token_id` to `eos_token_id`:None for open-end generation.\n",
            "Setting `pad_token_id` to `eos_token_id`:None for open-end generation.\n",
            "Setting `pad_token_id` to `eos_token_id`:None for open-end generation.\n",
            "Setting `pad_token_id` to `eos_token_id`:None for open-end generation.\n",
            "Setting `pad_token_id` to `eos_token_id`:None for open-end generation.\n",
            "Setting `pad_token_id` to `eos_token_id`:None for open-end generation.\n",
            "Setting `pad_token_id` to `eos_token_id`:None for open-end generation.\n",
            "Setting `pad_token_id` to `eos_token_id`:None for open-end generation.\n",
            "Setting `pad_token_id` to `eos_token_id`:None for open-end generation.\n",
            "Setting `pad_token_id` to `eos_token_id`:None for open-end generation.\n",
            "Setting `pad_token_id` to `eos_token_id`:None for open-end generation.\n",
            "Setting `pad_token_id` to `eos_token_id`:None for open-end generation.\n",
            "Setting `pad_token_id` to `eos_token_id`:None for open-end generation.\n",
            "Setting `pad_token_id` to `eos_token_id`:None for open-end generation.\n",
            "Setting `pad_token_id` to `eos_token_id`:None for open-end generation.\n",
            "Setting `pad_token_id` to `eos_token_id`:None for open-end generation.\n",
            "Setting `pad_token_id` to `eos_token_id`:None for open-end generation.\n",
            "Setting `pad_token_id` to `eos_token_id`:None for open-end generation.\n",
            "Setting `pad_token_id` to `eos_token_id`:None for open-end generation.\n",
            "Setting `pad_token_id` to `eos_token_id`:None for open-end generation.\n",
            "Setting `pad_token_id` to `eos_token_id`:None for open-end generation.\n",
            "Setting `pad_token_id` to `eos_token_id`:None for open-end generation.\n",
            "Setting `pad_token_id` to `eos_token_id`:None for open-end generation.\n",
            "Setting `pad_token_id` to `eos_token_id`:None for open-end generation.\n",
            "Setting `pad_token_id` to `eos_token_id`:None for open-end generation.\n",
            "Setting `pad_token_id` to `eos_token_id`:None for open-end generation.\n",
            "Setting `pad_token_id` to `eos_token_id`:None for open-end generation.\n",
            "Setting `pad_token_id` to `eos_token_id`:None for open-end generation.\n",
            "Setting `pad_token_id` to `eos_token_id`:None for open-end generation.\n",
            "Setting `pad_token_id` to `eos_token_id`:None for open-end generation.\n",
            "Setting `pad_token_id` to `eos_token_id`:None for open-end generation.\n",
            "Setting `pad_token_id` to `eos_token_id`:None for open-end generation.\n",
            "Setting `pad_token_id` to `eos_token_id`:None for open-end generation.\n",
            "Setting `pad_token_id` to `eos_token_id`:None for open-end generation.\n",
            "Setting `pad_token_id` to `eos_token_id`:None for open-end generation.\n",
            "Setting `pad_token_id` to `eos_token_id`:None for open-end generation.\n",
            "Setting `pad_token_id` to `eos_token_id`:None for open-end generation.\n",
            "Setting `pad_token_id` to `eos_token_id`:None for open-end generation.\n",
            "Setting `pad_token_id` to `eos_token_id`:None for open-end generation.\n",
            "Setting `pad_token_id` to `eos_token_id`:None for open-end generation.\n",
            "Setting `pad_token_id` to `eos_token_id`:None for open-end generation.\n",
            "Setting `pad_token_id` to `eos_token_id`:None for open-end generation.\n",
            "Setting `pad_token_id` to `eos_token_id`:None for open-end generation.\n",
            "Setting `pad_token_id` to `eos_token_id`:None for open-end generation.\n",
            "Setting `pad_token_id` to `eos_token_id`:None for open-end generation.\n",
            "Setting `pad_token_id` to `eos_token_id`:None for open-end generation.\n",
            "Setting `pad_token_id` to `eos_token_id`:None for open-end generation.\n",
            "Setting `pad_token_id` to `eos_token_id`:None for open-end generation.\n",
            "Setting `pad_token_id` to `eos_token_id`:None for open-end generation.\n",
            "Setting `pad_token_id` to `eos_token_id`:None for open-end generation.\n",
            "Setting `pad_token_id` to `eos_token_id`:None for open-end generation.\n",
            "Setting `pad_token_id` to `eos_token_id`:None for open-end generation.\n",
            "Setting `pad_token_id` to `eos_token_id`:None for open-end generation.\n",
            "Setting `pad_token_id` to `eos_token_id`:None for open-end generation.\n",
            "Setting `pad_token_id` to `eos_token_id`:None for open-end generation.\n",
            "Setting `pad_token_id` to `eos_token_id`:None for open-end generation.\n",
            "Setting `pad_token_id` to `eos_token_id`:None for open-end generation.\n",
            "Setting `pad_token_id` to `eos_token_id`:None for open-end generation.\n",
            "Setting `pad_token_id` to `eos_token_id`:None for open-end generation.\n",
            "Setting `pad_token_id` to `eos_token_id`:None for open-end generation.\n",
            "Setting `pad_token_id` to `eos_token_id`:None for open-end generation.\n",
            "Setting `pad_token_id` to `eos_token_id`:None for open-end generation.\n",
            "Setting `pad_token_id` to `eos_token_id`:None for open-end generation.\n",
            "Setting `pad_token_id` to `eos_token_id`:None for open-end generation.\n",
            "Setting `pad_token_id` to `eos_token_id`:None for open-end generation.\n",
            "Setting `pad_token_id` to `eos_token_id`:None for open-end generation.\n",
            "Setting `pad_token_id` to `eos_token_id`:None for open-end generation.\n",
            "Setting `pad_token_id` to `eos_token_id`:None for open-end generation.\n",
            "Setting `pad_token_id` to `eos_token_id`:None for open-end generation.\n",
            "Setting `pad_token_id` to `eos_token_id`:None for open-end generation.\n",
            "Setting `pad_token_id` to `eos_token_id`:None for open-end generation.\n",
            "Setting `pad_token_id` to `eos_token_id`:None for open-end generation.\n",
            "Setting `pad_token_id` to `eos_token_id`:None for open-end generation.\n",
            "Setting `pad_token_id` to `eos_token_id`:None for open-end generation.\n",
            "Setting `pad_token_id` to `eos_token_id`:None for open-end generation.\n",
            "Setting `pad_token_id` to `eos_token_id`:None for open-end generation.\n",
            "Setting `pad_token_id` to `eos_token_id`:None for open-end generation.\n",
            "Setting `pad_token_id` to `eos_token_id`:None for open-end generation.\n",
            "Setting `pad_token_id` to `eos_token_id`:None for open-end generation.\n",
            "Setting `pad_token_id` to `eos_token_id`:None for open-end generation.\n",
            "Setting `pad_token_id` to `eos_token_id`:None for open-end generation.\n",
            "Setting `pad_token_id` to `eos_token_id`:None for open-end generation.\n",
            "Setting `pad_token_id` to `eos_token_id`:None for open-end generation.\n",
            "Setting `pad_token_id` to `eos_token_id`:None for open-end generation.\n",
            "Setting `pad_token_id` to `eos_token_id`:None for open-end generation.\n",
            "Setting `pad_token_id` to `eos_token_id`:None for open-end generation.\n",
            "Setting `pad_token_id` to `eos_token_id`:None for open-end generation.\n",
            "Setting `pad_token_id` to `eos_token_id`:None for open-end generation.\n",
            "Setting `pad_token_id` to `eos_token_id`:None for open-end generation.\n",
            "Setting `pad_token_id` to `eos_token_id`:None for open-end generation.\n",
            "Setting `pad_token_id` to `eos_token_id`:None for open-end generation.\n",
            "Setting `pad_token_id` to `eos_token_id`:None for open-end generation.\n",
            "Setting `pad_token_id` to `eos_token_id`:None for open-end generation.\n",
            "Setting `pad_token_id` to `eos_token_id`:None for open-end generation.\n",
            "Setting `pad_token_id` to `eos_token_id`:None for open-end generation.\n",
            "Setting `pad_token_id` to `eos_token_id`:None for open-end generation.\n",
            "Setting `pad_token_id` to `eos_token_id`:None for open-end generation.\n",
            "Setting `pad_token_id` to `eos_token_id`:None for open-end generation.\n",
            "Setting `pad_token_id` to `eos_token_id`:None for open-end generation.\n",
            "Setting `pad_token_id` to `eos_token_id`:None for open-end generation.\n",
            "Setting `pad_token_id` to `eos_token_id`:None for open-end generation.\n",
            "Setting `pad_token_id` to `eos_token_id`:None for open-end generation.\n",
            "Setting `pad_token_id` to `eos_token_id`:None for open-end generation.\n",
            "Setting `pad_token_id` to `eos_token_id`:None for open-end generation.\n",
            "Setting `pad_token_id` to `eos_token_id`:None for open-end generation.\n",
            "Setting `pad_token_id` to `eos_token_id`:None for open-end generation.\n",
            "Setting `pad_token_id` to `eos_token_id`:None for open-end generation.\n",
            "Setting `pad_token_id` to `eos_token_id`:None for open-end generation.\n",
            "Setting `pad_token_id` to `eos_token_id`:None for open-end generation.\n",
            "Setting `pad_token_id` to `eos_token_id`:None for open-end generation.\n",
            "Setting `pad_token_id` to `eos_token_id`:None for open-end generation.\n",
            "Setting `pad_token_id` to `eos_token_id`:None for open-end generation.\n",
            "Setting `pad_token_id` to `eos_token_id`:None for open-end generation.\n",
            "Setting `pad_token_id` to `eos_token_id`:None for open-end generation.\n",
            "Setting `pad_token_id` to `eos_token_id`:None for open-end generation.\n",
            "Setting `pad_token_id` to `eos_token_id`:None for open-end generation.\n"
          ]
        }
      ],
      "source": [
        "model_name = \"mistralai/Ministral-8B-Instruct-2410\"\n",
        "model, tokenizer = setup_model(model_name)\n",
        "predictions = []\n",
        "\n",
        "for _, row in tqdm(test_df.iterrows()):\n",
        "    answer = generate_answer(\n",
        "        row['passage'],\n",
        "        row['question'],\n",
        "        model,\n",
        "        tokenizer,\n",
        "        \"ministral\")\n",
        "    predictions.append(answer)"
      ]
    },
    {
      "cell_type": "code",
      "execution_count": null,
      "metadata": {
        "id": "Wm019jtzeLiT",
        "outputId": "4a8c526f-cdaf-48c1-9bd8-0b8833c032d1"
      },
      "outputs": [
        {
          "name": "stdout",
          "output_type": "stream",
          "text": [
            "Уникальные ответы: нет    266\n",
            "да     145\n",
            "Name: count, dtype: int64\n"
          ]
        }
      ],
      "source": [
        "print(\"Уникальные ответы:\", pd.Series(predictions).value_counts())"
      ]
    },
    {
      "cell_type": "code",
      "execution_count": null,
      "metadata": {
        "id": "9W0gYmSJeLiT",
        "outputId": "d58dbe91-9244-44ed-c197-13600e72d49a"
      },
      "outputs": [
        {
          "name": "stdout",
          "output_type": "stream",
          "text": [
            "\n",
            "Classification Report:\n",
            "              precision    recall  f1-score   support\n",
            "\n",
            "       False       0.75      0.98      0.85       205\n",
            "        True       0.97      0.68      0.80       206\n",
            "\n",
            "    accuracy                           0.83       411\n",
            "   macro avg       0.86      0.83      0.82       411\n",
            "weighted avg       0.86      0.83      0.82       411\n",
            "\n"
          ]
        }
      ],
      "source": [
        "numeric_preds = process_predictions(predictions, test_df['label'])\n",
        "print(\"\\nClassification Report:\")\n",
        "print(\n",
        "    classification_report(\n",
        "        test_df['label'],\n",
        "        numeric_preds,\n",
        "        target_names=[\n",
        "            \"False\",\n",
        "            \"True\"]))"
      ]
    },
    {
      "cell_type": "code",
      "execution_count": null,
      "metadata": {
        "id": "Bl4BU93aeLiT"
      },
      "outputs": [],
      "source": [
        "save_predictions(test_df, numeric_preds, \"ministral\")"
      ]
    },
    {
      "cell_type": "code",
      "execution_count": null,
      "metadata": {
        "id": "bhxyj0AqeLiT"
      },
      "outputs": [],
      "source": [
        "del model\n",
        "torch.cuda.empty_cache()"
      ]
    },
    {
      "cell_type": "markdown",
      "metadata": {
        "id": "3-OC199_eLiT"
      },
      "source": [
        "Что ж, модели класса 7-8B показали очень неплохой результат, и он намного лучше, чем результаты, полученные нами при экспериментах с классификацией. Видно, что метрики precision и recall достаточно равномерны по классам, причём даже есть совсем небольшой сдвиг в сторону отрицательных ответов.\n",
        "\n",
        "Самая маленькая модель, ожидаемо, справилась очень плохо, показав yes-bias даже хуже, чем у бейзлайна - зато модель хорошо следовала инструкции и не ответила ничего лишнего, что уже для такой крошки приятно удивительно.\n",
        "\n",
        "Самое неожиданное, однако, это то, что модель T-lite показала себя немного хуже, чем базовая Qwen-2.5! Нельзя утверждать, что модель однозначно хуже в этой задаче, потому что разница всего в 1%, но ожидаемого прироста в обработке русскоязычных текстов тоже не наблюдается. Возможно, для этой модели лучше подходят какие-то другие параметры генерации, однако результат интересный и заставляет задуматься."
      ]
    },
    {
      "cell_type": "markdown",
      "metadata": {
        "id": "CPINKx_mUmFM"
      },
      "source": [
        "## Анализ ошибок"
      ]
    },
    {
      "cell_type": "markdown",
      "metadata": {
        "id": "3TCIe99iTr00"
      },
      "source": [
        "Для анализа ошибок мы посмотрим на первые 15 строк с несовпадающими ответами и предсказаниями у каждой модели из всех наших экспериментов."
      ]
    },
    {
      "cell_type": "code",
      "execution_count": null,
      "metadata": {
        "id": "8MUOrEZaDuTg"
      },
      "outputs": [],
      "source": [
        "def compare_labels(file_path):\n",
        "    data = []\n",
        "    with open(file_path, 'r') as f:\n",
        "        for line in f:\n",
        "            data.append(json.loads(line))\n",
        "\n",
        "    df = pd.DataFrame(data)\n",
        "    mismatched_rows = df[df['label'] != df['prediction']]\n",
        "\n",
        "    return mismatched_rows[['question', 'passage',\n",
        "                            'label', 'prediction']].head(15)"
      ]
    },
    {
      "cell_type": "code",
      "execution_count": null,
      "metadata": {
        "id": "A8MIBzrJD0Jg"
      },
      "outputs": [],
      "source": [
        "pd.set_option('display.max_colwidth', None)"
      ]
    },
    {
      "cell_type": "markdown",
      "metadata": {
        "id": "Bl21s1X4UhMZ"
      },
      "source": [
        "### Эксперимент 1 - предобученный инструктивный энкодер"
      ]
    },
    {
      "cell_type": "code",
      "execution_count": null,
      "metadata": {
        "colab": {
          "base_uri": "https://localhost:8080/",
          "height": 1000
        },
        "id": "prxm507WD4Dz",
        "outputId": "3c0be5a0-e954-4362-ec67-e1cc04f7d8ef"
      },
      "outputs": [
        {
          "data": {
            "application/vnd.google.colaboratory.intrinsic+json": {
              "summary": "{\n  \"name\": \"compare_labels(\\\"exp_preds/exp1\",\n  \"rows\": 15,\n  \"fields\": [\n    {\n      \"column\": \"question\",\n      \"properties\": {\n        \"dtype\": \"string\",\n        \"num_unique_values\": 15,\n        \"samples\": [\n          \"\\u0411\\u044b\\u0432\\u0430\\u0435\\u0442 \\u043b\\u0438 \\u0430\\u043b\\u043b\\u0435\\u0440\\u0433\\u0438\\u044f \\u043d\\u0430 \\u043c\\u0435\\u0434?\",\n          \"\\u041f\\u0440\\u0430\\u0432\\u0434\\u0430 \\u043b\\u0438 \\u0447\\u0442\\u043e \\u0433\\u043e\\u0440\\u0438\\u0442 \\u0447\\u0435\\u0440\\u043d\\u043e\\u0431\\u044b\\u043b\\u044c?\",\n          \"\\u0415\\u0441\\u0442\\u044c \\u043b\\u0438 \\u0432 \\u044d\\u043d\\u0435\\u0440\\u0433\\u0435\\u0442\\u0438\\u043a\\u0430\\u0445 \\u043d\\u0430\\u0440\\u043a\\u043e\\u0442\\u0438\\u0447\\u0435\\u0441\\u043a\\u0438\\u0435 \\u0432\\u0435\\u0449\\u0435\\u0441\\u0442\\u0432\\u0430?\"\n        ],\n        \"semantic_type\": \"\",\n        \"description\": \"\"\n      }\n    },\n    {\n      \"column\": \"passage\",\n      \"properties\": {\n        \"dtype\": \"string\",\n        \"num_unique_values\": 15,\n        \"samples\": [\n          \"\\u0423 \\u043b\\u044e\\u0434\\u0435\\u0439 \\u0441 \\u0430\\u043b\\u043b\\u0435\\u0440\\u0433\\u0438\\u0435\\u0439 \\u043a \\u043f\\u0440\\u043e\\u0434\\u0443\\u043a\\u0442\\u0430\\u043c \\u043f\\u0447\\u0435\\u043b\\u043e\\u0432\\u043e\\u0434\\u0441\\u0442\\u0432\\u0430 \\u043c\\u0451\\u0434 \\u043c\\u043e\\u0436\\u0435\\u0442 \\u0432\\u044b\\u0437\\u0432\\u0430\\u0442\\u044c \\u043d\\u0435\\u0436\\u0435\\u043b\\u0430\\u0442\\u0435\\u043b\\u044c\\u043d\\u0443\\u044e \\u0440\\u0435\\u0430\\u043a\\u0446\\u0438\\u044e. \\u0421\\u043e\\u0433\\u043b\\u0430\\u0441\\u043d\\u043e \\u043d\\u0435\\u043a\\u043e\\u0442\\u043e\\u0440\\u044b\\u043c \\u0430\\u0432\\u0442\\u043e\\u0440\\u0430\\u043c, \\u0430\\u043b\\u043b\\u0435\\u0440\\u0433\\u0438\\u044f \\u043d\\u0430 \\u043c\\u0451\\u0434 \\u2014 \\u044f\\u0432\\u043b\\u0435\\u043d\\u0438\\u0435 \\u0434\\u043e\\u0432\\u043e\\u043b\\u044c\\u043d\\u043e \\u0440\\u0435\\u0434\\u043a\\u043e\\u0435. \\u0410\\u043b\\u043b\\u0435\\u0440\\u0433\\u0438\\u044f \\u0441\\u043a\\u043e\\u0440\\u0435\\u0435 \\u0432\\u043e\\u0437\\u043c\\u043e\\u0436\\u043d\\u0430 \\u043d\\u0430 \\u043d\\u0435\\u043a\\u0430\\u0447\\u0435\\u0441\\u0442\\u0432\\u0435\\u043d\\u043d\\u044b\\u0439 \\u0438\\u043b\\u0438 \\u0440\\u0430\\u0437\\u0431\\u0430\\u0432\\u043b\\u0435\\u043d\\u043d\\u044b\\u0439 \\u043c\\u0451\\u0434, \\u0442\\u043e \\u0435\\u0441\\u0442\\u044c \\u043d\\u0430 \\u043d\\u0430\\u043b\\u0438\\u0447\\u0438\\u0435 \\u043c\\u0435\\u0445\\u0430\\u043d\\u0438\\u0447\\u0435\\u0441\\u043a\\u0438\\u0445 \\u0438\\u043b\\u0438 \\u0431\\u0438\\u043e\\u043b\\u043e\\u0433\\u0438\\u0447\\u0435\\u0441\\u043a\\u0438\\u0445 \\u043f\\u0440\\u0438\\u043c\\u0435\\u0441\\u0435\\u0439 . \\u0420\\u0435\\u0433\\u0438\\u0441\\u0442\\u0440\\u0438\\u0440\\u0443\\u044e\\u0442\\u0441\\u044f \\u0435\\u0434\\u0438\\u043d\\u0438\\u0447\\u043d\\u044b\\u0435 \\u0441\\u043b\\u0443\\u0447\\u0430\\u0438 \\u0431\\u043e\\u0442\\u0443\\u043b\\u0438\\u0437\\u043c\\u0430 \\u0443 \\u0434\\u0435\\u0442\\u0435\\u0439 \\u0434\\u043e \\u0433\\u043e\\u0434\\u0430, \\u043d\\u0430\\u0445\\u043e\\u0434\\u044f\\u0449\\u0438\\u0445\\u0441\\u044f \\u043d\\u0430 \\u0438\\u0441\\u043a\\u0443\\u0441\\u0441\\u0442\\u0432\\u0435\\u043d\\u043d\\u043e\\u043c \\u0432\\u0441\\u043a\\u0430\\u0440\\u043c\\u043b\\u0438\\u0432\\u0430\\u043d\\u0438\\u0438 \\u043f\\u0438\\u0442\\u0430\\u0442\\u0435\\u043b\\u044c\\u043d\\u044b\\u043c\\u0438 \\u0441\\u043c\\u0435\\u0441\\u044f\\u043c\\u0438, \\u0441\\u043e\\u0434\\u0435\\u0440\\u0436\\u0430\\u0449\\u0438\\u043c\\u0438 \\u043c\\u0451\\u0434. \\u041f\\u0440\\u0435\\u0434\\u043f\\u043e\\u043b\\u0430\\u0433\\u0430\\u044e\\u0442, \\u0447\\u0442\\u043e \\u0441\\u043f\\u043e\\u0440\\u044b \\u0437\\u0430\\u043d\\u043e\\u0441\\u044f\\u0442\\u0441\\u044f \\u0441 \\u043f\\u044b\\u043b\\u044c\\u044e \\u0432 \\u043d\\u0435\\u043a\\u0442\\u0430\\u0440, \\u043f\\u0435\\u0440\\u0435\\u0440\\u0430\\u0431\\u0430\\u0442\\u044b\\u0432\\u0430\\u0435\\u043c\\u044b\\u0439 \\u043f\\u0447\\u0451\\u043b\\u0430\\u043c\\u0438 \\u0432 \\u043c\\u0451\\u0434, \\u043a\\u043e\\u0442\\u043e\\u0440\\u044b\\u0439 \\u0432\\u043f\\u043e\\u0441\\u043b\\u0435\\u0434\\u0441\\u0442\\u0432\\u0438\\u0438 \\u0438\\u0441\\u043f\\u043e\\u043b\\u044c\\u0437\\u0443\\u044e\\u0442 \\u0432 \\u043f\\u0438\\u0442\\u0430\\u0442\\u0435\\u043b\\u044c\\u043d\\u044b\\u0445 \\u0441\\u043c\\u0435\\u0441\\u044f\\u0445.\",\n          \"23 \\u0430\\u043f\\u0440\\u0435\\u043b\\u044f \\u0441\\u043f\\u0430\\u0441\\u0430\\u0442\\u0435\\u043b\\u0438 \\u0441\\u043e\\u0437\\u0434\\u0430\\u043b\\u0438 800 \\u043a\\u043c \\u043c\\u0438\\u043d\\u0435\\u0440\\u0430\\u043b\\u0438\\u0437\\u043e\\u0432\\u0430\\u043d\\u043d\\u044b\\u0445 \\u043f\\u0440\\u043e\\u0442\\u0438\\u0432\\u043e\\u043f\\u043e\\u0436\\u0430\\u0440\\u043d\\u044b\\u0445 \\u043f\\u043e\\u043b\\u043e\\u0441 \\u0438 \\u043f\\u0440\\u043e\\u0434\\u043e\\u043b\\u0436\\u0430\\u043b\\u0438 \\u043b\\u043e\\u043a\\u0430\\u043b\\u0438\\u0437\\u0430\\u0446\\u0438\\u044e \\u0442\\u0440\\u0451\\u0445 \\u043e\\u0447\\u0430\\u0433\\u043e\\u0432 \\u0442\\u043b\\u0435\\u043d\\u0438\\u044f. \\u0412 \\u0437\\u043e\\u043d\\u0435 \\u043e\\u0442\\u0447\\u0443\\u0436\\u0434\\u0435\\u043d\\u0438\\u044f \\u043f\\u0440\\u043e\\u0434\\u043e\\u043b\\u0436\\u0430\\u043b\\u0438 \\u0433\\u043e\\u0440\\u0435\\u0442\\u044c \\u0442\\u043e\\u0440\\u0444\\u044f\\u043d\\u0438\\u043a\\u0438. 24 \\u0430\\u043f\\u0440\\u0435\\u043b\\u044f \\u043f\\u0440\\u043e\\u0434\\u043e\\u043b\\u0436\\u0430\\u043b\\u0430\\u0441\\u044c \\u043b\\u043e\\u043a\\u0430\\u043b\\u0438\\u0437\\u0430\\u0446\\u0438\\u044f 2 \\u043e\\u0447\\u0430\\u0433\\u043e\\u0432 \\u0442\\u043b\\u0435\\u043d\\u0438\\u044f \\u043f\\u043d\\u0435\\u0439, \\u043e\\u0441\\u0442\\u0430\\u0442\\u043a\\u043e\\u0432 \\u0434\\u0440\\u0435\\u0432\\u0435\\u0441\\u0438\\u043d\\u044b  \\u0438 \\u0442\\u043e\\u0440\\u0444\\u044f\\u043d\\u0438\\u043a\\u043e\\u0432 \\u0432 \\u043e\\u0447\\u0430\\u0433\\u0430\\u0445, \\u043f\\u0440\\u043e\\u0439\\u0434\\u0435\\u043d\\u043d\\u044b\\u0445 \\u043e\\u0433\\u043d\\u0451\\u043c. \\u041f\\u043e \\u0441\\u043e\\u0441\\u0442\\u043e\\u044f\\u043d\\u0438\\u044e \\u043d\\u0430 3 \\u043c\\u0430\\u044f \\u043f\\u043e\\u0436\\u0430\\u0440\\u043d\\u044b\\u0435 \\u043f\\u0440\\u043e\\u0434\\u043e\\u043b\\u0436\\u0430\\u043b\\u0438 \\u0442\\u0443\\u0448\\u0438\\u0442\\u044c \\u043b\\u0435\\u0441\\u043d\\u0443\\u044e \\u043f\\u043e\\u0434\\u0441\\u0442\\u0438\\u043b\\u043a\\u0443, \\u043f\\u043d\\u0438 \\u0438 \\u0434\\u0440\\u0435\\u0432\\u0435\\u0441\\u0438\\u043d\\u0443 \\u0432 \\u043e\\u0442\\u0434\\u0435\\u043b\\u044c\\u043d\\u044b\\u0445 \\u043c\\u0435\\u0441\\u0442\\u0430\\u0445 \\u0431\\u044b\\u0432\\u0448\\u0438\\u0445 \\u043f\\u043e\\u0436\\u0430\\u0440\\u043e\\u0432 \\u0432 \\u041a\\u0438\\u0435\\u0432\\u0441\\u043a\\u043e\\u0439 \\u0438 \\u0416\\u0438\\u0442\\u043e\\u043c\\u0438\\u0440\\u0441\\u043a\\u043e\\u0439 \\u043e\\u0431\\u043b\\u0430\\u0441\\u0442\\u044f\\u0445. 13 \\u043c\\u0430\\u044f \\u041f\\u0440\\u0435\\u0437\\u0438\\u0434\\u0435\\u043d\\u0442 \\u0423\\u043a\\u0440\\u0430\\u0438\\u043d\\u044b \\u0412\\u043b\\u0430\\u0434\\u0438\\u043c\\u0438\\u0440 \\u0417\\u0435\\u043b\\u0435\\u043d\\u0441\\u043a\\u0438\\u0439 \\u0437\\u0430\\u044f\\u0432\\u0438\\u043b \\u043e \\u043b\\u0438\\u043a\\u0432\\u0438\\u0434\\u0430\\u0446\\u0438\\u0438 \\u0432\\u0441\\u0435\\u0445 \\u043f\\u043e\\u0436\\u0430\\u0440\\u043e\\u0432 \\u0432 \\u0437\\u043e\\u043d\\u0435 \\u043e\\u0442\\u0447\\u0443\\u0436\\u0434\\u0435\\u043d\\u0438\\u044f \\u0427\\u0435\\u0440\\u043d\\u043e\\u0431\\u044b\\u043b\\u044c\\u0441\\u043a\\u043e\\u0439 \\u0410\\u042d\\u0421.\",\n          \"\\u042d\\u043d\\u0435\\u0440\\u0433\\u0435\\u0442\\u0438\\u0447\\u0435\\u0441\\u043a\\u0438\\u0435 \\u043d\\u0430\\u043f\\u0438\\u0442\\u043a\\u0438   \\u2014 \\u043d\\u0430\\u043f\\u0438\\u0442\\u043a\\u0438, \\u0432 \\u043a\\u043e\\u0442\\u043e\\u0440\\u044b\\u0445 \\u0434\\u0435\\u043b\\u0430\\u0435\\u0442\\u0441\\u044f \\u0430\\u043a\\u0446\\u0435\\u043d\\u0442 \\u043d\\u0430 \\u0438\\u0445 \\u0441\\u043f\\u043e\\u0441\\u043e\\u0431\\u043d\\u043e\\u0441\\u0442\\u044c \\u0441\\u0442\\u0438\\u043c\\u0443\\u043b\\u0438\\u0440\\u043e\\u0432\\u0430\\u0442\\u044c \\u0446\\u0435\\u043d\\u0442\\u0440\\u0430\\u043b\\u044c\\u043d\\u0443\\u044e \\u043d\\u0435\\u0440\\u0432\\u043d\\u0443\\u044e \\u0441\\u0438\\u0441\\u0442\\u0435\\u043c\\u0443 \\u0447\\u0435\\u043b\\u043e\\u0432\\u0435\\u043a\\u0430 \\u0438/\\u0438\\u043b\\u0438 \\u0430\\u043d\\u0442\\u0438\\u0441\\u0435\\u0434\\u0430\\u0442\\u0438\\u0432\\u043d\\u044b\\u0439 \\u044d\\u0444\\u0444\\u0435\\u043a\\u0442. \\u041d\\u0430\\u043f\\u0438\\u0442\\u043a\\u0438 \\u0441\\u043e\\u0434\\u0435\\u0440\\u0436\\u0430\\u0442 \\u0442\\u043e\\u043d\\u0438\\u0437\\u0438\\u0440\\u0443\\u044e\\u0449\\u0438\\u0435 \\u0432\\u0435\\u0449\\u0435\\u0441\\u0442\\u0432\\u0430, \\u0447\\u0430\\u0449\\u0435 \\u0432\\u0441\\u0435\\u0433\\u043e \\u043a\\u043e\\u0444\\u0435\\u0438\\u043d , \\u0438 \\u0434\\u0440\\u0443\\u0433\\u0438\\u0435 \\u0441\\u0442\\u0438\\u043c\\u0443\\u043b\\u044f\\u0442\\u043e\\u0440\\u044b: \\u0442\\u0435\\u043e\\u0431\\u0440\\u043e\\u043c\\u0438\\u043d \\u0438 \\u0442\\u0435\\u043e\\u0444\\u0438\\u043b\\u043b\\u0438\\u043d , \\u0442\\u0430\\u043a\\u0436\\u0435 \\u044f\\u0432\\u043b\\u044f\\u044e\\u0449\\u0438\\u0435\\u0441\\u044f \\u0433\\u043e\\u043c\\u043e\\u043b\\u043e\\u0433\\u0430\\u043c\\u0438 \\u043a\\u043e\\u0444\\u0435\\u0438\\u043d\\u0430, \\u0430 \\u0442\\u0430\\u043a\\u0436\\u0435 \\u043d\\u0435\\u0440\\u0435\\u0434\\u043a\\u043e \\u0432\\u0438\\u0442\\u0430\\u043c\\u0438\\u043d\\u044b \\u043a\\u0430\\u043a \\u043b\\u0435\\u0433\\u043a\\u043e\\u0443\\u0441\\u0432\\u0430\\u0438\\u0432\\u0430\\u0435\\u043c\\u044b\\u0439 \\u0438\\u0441\\u0442\\u043e\\u0447\\u043d\\u0438\\u043a \\u044d\\u043d\\u0435\\u0440\\u0433\\u0438\\u0438 \\u2014 \\u0443\\u0433\\u043b\\u0435\\u0432\\u043e\\u0434\\u044b ,[\\u043f\\u0440\\u043e\\u044f\\u0441\\u043d\\u0438\\u0442\\u044c]  \\u0430\\u0434\\u0430\\u043f\\u0442\\u043e\\u0433\\u0435\\u043d\\u044b \\u0438 \\u0442. \\u0434. \\u0412 \\u043f\\u043e\\u0441\\u043b\\u0435\\u0434\\u043d\\u0435\\u0435 \\u0432\\u0440\\u0435\\u043c\\u044f \\u0434\\u043e\\u0431\\u0430\\u0432\\u043b\\u044f\\u0435\\u0442\\u0441\\u044f \\u0442\\u0430\\u0443\\u0440\\u0438\\u043d. \\u0412 \\u0444\\u0435\\u0432\\u0440\\u0430\\u043b\\u0435 2009 \\u0433. \\u0415\\u0432\\u0440\\u043e\\u043f\\u0435\\u0439\\u0441\\u043a\\u043e\\u0435 \\u0443\\u043f\\u0440\\u0430\\u0432\\u043b\\u0435\\u043d\\u0438\\u0435 \\u043f\\u043e \\u0431\\u0435\\u0437\\u043e\\u043f\\u0430\\u0441\\u043d\\u043e\\u0441\\u0442\\u0438 \\u043f\\u0438\\u0449\\u0435\\u0432\\u044b\\u0445 \\u043f\\u0440\\u043e\\u0434\\u0443\\u043a\\u0442\\u043e\\u0432  \\u043e\\u043f\\u0443\\u0431\\u043b\\u0438\\u043a\\u043e\\u0432\\u0430\\u043b\\u043e \\u0441\\u0432\\u043e\\u0451 \\u043d\\u0430\\u0443\\u0447\\u043d\\u043e\\u0435 \\u0437\\u0430\\u043a\\u043b\\u044e\\u0447\\u0435\\u043d\\u0438\\u0435 \\u043f\\u043e \\u0442\\u0430\\u0443\\u0440\\u0438\\u043d\\u0443 \\u0438 \\u0433\\u043b\\u044e\\u043a\\u0443\\u0440\\u043e\\u043d\\u043e\\u043b\\u0430\\u043a\\u0442\\u043e\\u043d\\u0443 \\u043a\\u0430\\u043a \\u0438\\u043d\\u0433\\u0440\\u0435\\u0434\\u0438\\u0435\\u043d\\u0442\\u0430\\u043c \\u0431\\u0435\\u0437\\u0430\\u043b\\u043a\\u043e\\u0433\\u043e\\u043b\\u044c\\u043d\\u044b\\u0445 \\u0442\\u043e\\u043d\\u0438\\u0437\\u0438\\u0440\\u0443\\u044e\\u0449\\u0438\\u0445 \\u044d\\u043d\\u0435\\u0440\\u0433\\u0435\\u0442\\u0438\\u0447\\u0435\\u0441\\u043a\\u0438\\u0445 \\u043d\\u0430\\u043f\\u0438\\u0442\\u043a\\u043e\\u0432. \\u0412 \\u0437\\u0430\\u043a\\u043b\\u044e\\u0447\\u0435\\u043d\\u0438\\u0438 EFSA \\u043f\\u043e\\u0434\\u0442\\u0432\\u0435\\u0440\\u0436\\u0434\\u0435\\u043d\\u043e, \\u0447\\u0442\\u043e \\u044d\\u0442\\u0438 \\u0438\\u043d\\u0433\\u0440\\u0435\\u0434\\u0438\\u0435\\u043d\\u0442\\u044b \\u0432 \\u0442\\u0435\\u0445 \\u043a\\u043e\\u043b\\u0438\\u0447\\u0435\\u0441\\u0442\\u0432\\u0430\\u0445, \\u0432 \\u043a\\u043e\\u0442\\u043e\\u0440\\u044b\\u0445 \\u043e\\u043d\\u0438 \\u0441\\u043e\\u0434\\u0435\\u0440\\u0436\\u0430\\u0442\\u0441\\u044f \\u0432 \\u044d\\u043d\\u0435\\u0440\\u0433\\u0435\\u0442\\u0438\\u0447\\u0435\\u0441\\u043a\\u0438\\u0445 \\u043d\\u0430\\u043f\\u0438\\u0442\\u043a\\u0430\\u0445, \\u0431\\u0435\\u0437\\u043e\\u043f\\u0430\\u0441\\u043d\\u044b \\u0434\\u043b\\u044f \\u0437\\u0434\\u043e\\u0440\\u043e\\u0432\\u044c\\u044f \\u0447\\u0435\\u043b\\u043e\\u0432\\u0435\\u043a\\u0430. \\u042d\\u043d\\u0435\\u0440\\u0433\\u0435\\u0442\\u0438\\u043a \\u2014 \\u0441\\u0440\\u0435\\u0434\\u043d\\u0435- \\u0438\\u043b\\u0438 \\u0441\\u0438\\u043b\\u044c\\u043d\\u043e\\u0433\\u0430\\u0437\\u0438\\u0440\\u043e\\u0432\\u0430\\u043d\\u043d\\u044b\\u0439 \\u043d\\u0430\\u043f\\u0438\\u0442\\u043e\\u043a ), \\u0442\\u0430\\u043a \\u043a\\u0430\\u043a \\u044d\\u0442\\u043e \\u0441\\u043f\\u043e\\u0441\\u043e\\u0431\\u0441\\u0442\\u0432\\u0443\\u0435\\u0442 \\u0431\\u043e\\u043b\\u0435\\u0435 \\u0431\\u044b\\u0441\\u0442\\u0440\\u043e\\u043c\\u0443 \\u0443\\u0441\\u0432\\u043e\\u0435\\u043d\\u0438\\u044e \\u043a\\u043e\\u043c\\u043f\\u043e\\u043d\\u0435\\u043d\\u0442\\u043e\\u0432 \\u0438 \\u0431\\u044b\\u0441\\u0442\\u0440\\u043e\\u043c\\u0443 \\u043d\\u0430\\u0441\\u0442\\u0443\\u043f\\u043b\\u0435\\u043d\\u0438\\u044e \\u044d\\u0444\\u0444\\u0435\\u043a\\u0442\\u0430 \\u0441 \\u043e\\u0434\\u043d\\u043e\\u0439 \\u0441\\u0442\\u043e\\u0440\\u043e\\u043d\\u044b, \\u0430 \\u0441 \\u0434\\u0440\\u0443\\u0433\\u043e\\u0439 - \\u0438\\u0441\\u043f\\u043e\\u043b\\u044c\\u0437\\u0443\\u0435\\u0442\\u0441\\u044f \\u0434\\u043b\\u044f \\u0431\\u0435\\u0437\\u043e\\u043f\\u0430\\u0441\\u043d\\u043e\\u0433\\u043e \\u043a\\u043e\\u043d\\u0441\\u0435\\u0440\\u0432\\u0438\\u0440\\u043e\\u0432\\u0430\\u043d\\u0438\\u044f \\u043f\\u0440\\u043e\\u0434\\u0443\\u043a\\u0442\\u0430.\"\n        ],\n        \"semantic_type\": \"\",\n        \"description\": \"\"\n      }\n    },\n    {\n      \"column\": \"label\",\n      \"properties\": {\n        \"dtype\": \"number\",\n        \"std\": 0,\n        \"min\": 0,\n        \"max\": 1,\n        \"num_unique_values\": 2,\n        \"samples\": [\n          1,\n          0\n        ],\n        \"semantic_type\": \"\",\n        \"description\": \"\"\n      }\n    },\n    {\n      \"column\": \"prediction\",\n      \"properties\": {\n        \"dtype\": \"number\",\n        \"std\": 0,\n        \"min\": 0,\n        \"max\": 1,\n        \"num_unique_values\": 2,\n        \"samples\": [\n          0,\n          1\n        ],\n        \"semantic_type\": \"\",\n        \"description\": \"\"\n      }\n    }\n  ]\n}",
              "type": "dataframe"
            },
            "text/html": [
              "\n",
              "  <div id=\"df-74d46aea-71f8-4a99-b4a0-3691f1e44762\" class=\"colab-df-container\">\n",
              "    <div>\n",
              "<style scoped>\n",
              "    .dataframe tbody tr th:only-of-type {\n",
              "        vertical-align: middle;\n",
              "    }\n",
              "\n",
              "    .dataframe tbody tr th {\n",
              "        vertical-align: top;\n",
              "    }\n",
              "\n",
              "    .dataframe thead th {\n",
              "        text-align: right;\n",
              "    }\n",
              "</style>\n",
              "<table border=\"1\" class=\"dataframe\">\n",
              "  <thead>\n",
              "    <tr style=\"text-align: right;\">\n",
              "      <th></th>\n",
              "      <th>question</th>\n",
              "      <th>passage</th>\n",
              "      <th>label</th>\n",
              "      <th>prediction</th>\n",
              "    </tr>\n",
              "  </thead>\n",
              "  <tbody>\n",
              "    <tr>\n",
              "      <th>0</th>\n",
              "      <td>Есть ли в энергетиках наркотические вещества?</td>\n",
              "      <td>Энергетические напитки   — напитки, в которых делается акцент на их способность стимулировать центральную нервную систему человека и/или антиседативный эффект. Напитки содержат тонизирующие вещества, чаще всего кофеин , и другие стимуляторы: теобромин и теофиллин , также являющиеся гомологами кофеина, а также нередко витамины как легкоусваиваемый источник энергии — углеводы ,[прояснить]  адаптогены и т. д. В последнее время добавляется таурин. В феврале 2009 г. Европейское управление по безопасности пищевых продуктов  опубликовало своё научное заключение по таурину и глюкуронолактону как ингредиентам безалкогольных тонизирующих энергетических напитков. В заключении EFSA подтверждено, что эти ингредиенты в тех количествах, в которых они содержатся в энергетических напитках, безопасны для здоровья человека. Энергетик — средне- или сильногазированный напиток ), так как это способствует более быстрому усвоению компонентов и быстрому наступлению эффекта с одной стороны, а с другой - используется для безопасного консервирования продукта.</td>\n",
              "      <td>0</td>\n",
              "      <td>1</td>\n",
              "    </tr>\n",
              "    <tr>\n",
              "      <th>1</th>\n",
              "      <td>Едят ли бургеры ножом и вилкой?</td>\n",
              "      <td>Еда, предназначенная для употребления руками — пища, которую едят при помощи одних только рук, без столовых приборов — ложек, вилок, ножей, палочек для еды и так далее. Для поедания руками изготовляются как не требующие разделения и целиком удерживаемые в руке небольшие блюда, так и блюда, разрезаемые или разрываемые на куски. В некоторых культурах бо́льшая часть блюд или все блюда употребляются руками: к примеру, в эфиопской кухне почти все блюда употребляют, заворачивая их в лепёшку под названием «ынджера». В южноазиатской кухне пищу часто употребляют с помощью рук. В европейской культуре руками едят фаст-фуд и уличную еду.</td>\n",
              "      <td>0</td>\n",
              "      <td>1</td>\n",
              "    </tr>\n",
              "    <tr>\n",
              "      <th>8</th>\n",
              "      <td>Едят ли мясо вегетарианцы?</td>\n",
              "      <td>Вегетариа́нство — питание растительной и молочной пищей, а также яйцами, с отказом от мясной пищи животного происхождения. Некоторые варианты вегетарианской диеты могут исключать молочные продукты. Люди становятся вегетарианцами по различным причинам: этическим, экологическим, экономическим, медицинским, религиозным. Существуют различные виды вегетарианства. Наиболее строгой его разновидностью является веганство.</td>\n",
              "      <td>0</td>\n",
              "      <td>1</td>\n",
              "    </tr>\n",
              "    <tr>\n",
              "      <th>10</th>\n",
              "      <td>Едят ли яйца веганы?</td>\n",
              "      <td>Яйца не употребляются, прежде всего, по причине неприемлемого  содержания кур-несушек на птицефабриках. Другой важной причиной является тот факт, что часть яиц там используется для пополнения поголовья только несушек: вылупившихся цыплят мужского пола уничтожают . МёдВеганы не употребляют мёд, поскольку пчеловоды отбирают у пчёл полученный ими мёд, заменяя на сироп из рафинированного сахара, а также убивают отдельных пчёл  или «неудачных» маток и трутней). Пчелома́ткам обрезают крылья, так как местонахождение улья зависит от локации пчелома́тки. МехВеганы выступают как против охоты с целью добычи пушных зверей, так и против разведения зверей на зверофермах и последующего убийства с целью получения шкуры.</td>\n",
              "      <td>0</td>\n",
              "      <td>1</td>\n",
              "    </tr>\n",
              "    <tr>\n",
              "      <th>13</th>\n",
              "      <td>Был ли синорнитозавр блондином?</td>\n",
              "      <td>Исследование 2010-го года, проведённое Майком Бентоном и коллегами, установило, что ископаемые остатки нижнемелового Confuciusornis sanctus содержат меланосомы. Палеонтологи обнаружили эумеланосомы, отвечающие за чёрно-серый цвет, и феомеланосомы, придающие рыжевато-коричневые оттенки. В 2010 году Майкл Бентон и коллеги установили, что синорнитозавр обладал рыжевато-коричневым и чёрно-серым цветами. В 2011 году Райан Карни, Якоб Винтер, Мэттью Шоки, Лилиана д’Альба и Йорг Аккерман обнаружили фоссилизированные меланосомы на пере, приписываемом археоптериксу, которые показали, что исследуемых образец был преимущественно чёрным. Перо, вероятно, был кроющим, то есть частично покрывало первичные перья на крыльях.</td>\n",
              "      <td>0</td>\n",
              "      <td>1</td>\n",
              "    </tr>\n",
              "    <tr>\n",
              "      <th>15</th>\n",
              "      <td>Соблюдала ли швейцария нейтралитет во время наполеоновских войн?</td>\n",
              "      <td>После окончания наполеоновских войн, начиная с 1815 года Швейцария соблюдает политический и военный нейтралитет. Это позволило ей избежать разрушительных последствий двух мировых войн в ХХ веке. Однако так было не всегда. Начиная ещё со времён Древнего Рима находились желающие присоединить эти альпийские долины к своим владениям. Особенно интерес к ним возрос в средние века, когда они оказались на пересечении транспортных путей с севера Европы в Италию и с запада Европы на восток.</td>\n",
              "      <td>0</td>\n",
              "      <td>1</td>\n",
              "    </tr>\n",
              "    <tr>\n",
              "      <th>21</th>\n",
              "      <td>Есть ли дед мороз?</td>\n",
              "      <td>Дед Моро́з — главный сказочный персонаж на празднике Нового года, славянский вариант рождественского дарителя. Известен  с 1840 года, но создание канонического образа Деда Мороза как обязательного персонажа новогоднего, а не рождественского праздника произошло в советское время и относится к концу 1930-х годов, когда после нескольких лет запрета вновь была разрешена ёлка. Прообразами Деда Мороза являются персонаж славянского сказочного фольклора и календарных обрядов и Святой Николай. Дед Мороз изображается как старик в цветной — голубой, синей, красной или белой шубе, с длинной белой бородой и посохом в руке, в валенках. Ездит на тройке лошадей.</td>\n",
              "      <td>0</td>\n",
              "      <td>1</td>\n",
              "    </tr>\n",
              "    <tr>\n",
              "      <th>24</th>\n",
              "      <td>Были ли подводные атаки на грузовые корабли у берегов австралии в 1941 году?</td>\n",
              "      <td>Крупные подводные наступательные операции осуществлялись в отношении грузовых кораблей у австралийского восточного побережья с мая по июль 1942 года и с января по июль 1943 года. Вечером 31 мая/утром 1 июня 1942 года австралийская гавань попала под прямой удар японских сверхмалых подводных лодок. В результате удара плавучая база HMAS Kuttabul, переделанная под паром и используемая как плавучая казарма, была подбита и затонула. Были убиты 22 моряка, среди которых было 19 австралийцев и 2 члена Королевского Военно-Морского Флота. Во время Второй Мировой войны в районе Кимберли Западной Австралии действовала японская разведка, расследовавшая поступающие сообщения, что союзники строили там военные базы.</td>\n",
              "      <td>0</td>\n",
              "      <td>1</td>\n",
              "    </tr>\n",
              "    <tr>\n",
              "      <th>27</th>\n",
              "      <td>Пост-модерн это то же самое что и модернизм?</td>\n",
              "      <td>Постмодерни́зм  — понятие, отражающее структурно сходные явления в мировой общественной жизни и культуре второй половины XX века и начала XXI века. Он употребляется как для характеристики постнеклассического типа философствования, так и для комплекса стилей в художественном искусстве. Постмодерн — состояние современной культуры, включающее в себя своеобразную философскую позицию, выражающую формальную антитезу модернистскому искусству, а также массовую культуру современной эпохи.. Идеологами постмодерна декларируется, что в начале XX века классический тип мышления эпохи модерна меняется на неклассический, а в конце века — на постнеклассический. Формирование эпохи постмодерна проходило в 1960—1970-е годы, оно связано и логически вытекает из процессов эпохи модерна как реакция на кризис её идей, а также на так называемую «смерть» супероснований: бога , автора , человека . Предпосылки постмодернизма возникли гораздо раньше. Так в математике  Лобачевский ещё в 1829 году в работе «О началах геометрии» представил неевклидовую геометрию пространства, такую же свободную от противоречий, как и евклидовая.</td>\n",
              "      <td>0</td>\n",
              "      <td>1</td>\n",
              "    </tr>\n",
              "    <tr>\n",
              "      <th>29</th>\n",
              "      <td>Бывает ли аллергия на мед?</td>\n",
              "      <td>У людей с аллергией к продуктам пчеловодства мёд может вызвать нежелательную реакцию. Согласно некоторым авторам, аллергия на мёд — явление довольно редкое. Аллергия скорее возможна на некачественный или разбавленный мёд, то есть на наличие механических или биологических примесей . Регистрируются единичные случаи ботулизма у детей до года, находящихся на искусственном вскармливании питательными смесями, содержащими мёд. Предполагают, что споры заносятся с пылью в нектар, перерабатываемый пчёлами в мёд, который впоследствии используют в питательных смесях.</td>\n",
              "      <td>1</td>\n",
              "      <td>0</td>\n",
              "    </tr>\n",
              "    <tr>\n",
              "      <th>31</th>\n",
              "      <td>Вреден ли алкоголь в малых количествах?</td>\n",
              "      <td>При длительном употреблении алкоголя на поверхности коры головного мозга наблюдаются кровоизлияния и некрозы участков мозга, приводящие к органическим изменениям нейронов. При употреблении больших количеств алкоголя может возникнуть разрыв капилляров головного мозга. Чрезмерное употребление алкоголя ассоциировано с нарушениями когнитивных функций мозга,  но в то же время существует статистически достоверное снижение риска нарушения когнитивных функций мозга, ассоциированное с умеренным потреблении алкоголя по сравнению с полным отказом от алкоголя в различных странах. Высокие концентрации алкоголя могут вызывать оксидативное повреждение нейронов. При употреблении в больших количествах  алкоголь вызывает гибель нейронов головного мозга.</td>\n",
              "      <td>0</td>\n",
              "      <td>1</td>\n",
              "    </tr>\n",
              "    <tr>\n",
              "      <th>37</th>\n",
              "      <td>Правда ли что горит чернобыль?</td>\n",
              "      <td>23 апреля спасатели создали 800 км минерализованных противопожарных полос и продолжали локализацию трёх очагов тления. В зоне отчуждения продолжали гореть торфяники. 24 апреля продолжалась локализация 2 очагов тления пней, остатков древесины  и торфяников в очагах, пройденных огнём. По состоянию на 3 мая пожарные продолжали тушить лесную подстилку, пни и древесину в отдельных местах бывших пожаров в Киевской и Житомирской областях. 13 мая Президент Украины Владимир Зеленский заявил о ликвидации всех пожаров в зоне отчуждения Чернобыльской АЭС.</td>\n",
              "      <td>1</td>\n",
              "      <td>0</td>\n",
              "    </tr>\n",
              "    <tr>\n",
              "      <th>42</th>\n",
              "      <td>Был ли потоп в 17 веке?</td>\n",
              "      <td>Когда корабль был готов, Утнапиштим погрузил на него своё имущество, семью и родичей, различных мастеров для сохранения знаний и технологий, домашний скот, зверей и птиц. Двери корабля были засмолены снаружи. С утра начался дождь и в туче явились бог бури, бог смерти и иные грозные божества, неся смерть и разрушение. На землю спустились тьма и ветер, убивающий людей в их укрытиях. Потоп был столь страшен, что сами боги пришли в ужас и поднялись к отцу богов Ану, проклиная себя за необдуманное решение.</td>\n",
              "      <td>0</td>\n",
              "      <td>1</td>\n",
              "    </tr>\n",
              "    <tr>\n",
              "      <th>44</th>\n",
              "      <td>Был ли василий 3 прозван грозным?</td>\n",
              "      <td>Ива́н IV Васи́льевич, прозванный Гро́зным , также имел имена Тит и Смарагд, в постриге — Иона  марта 1584, Москва) — государь, великий князь московский и всея Руси с 1533 года, первый венчаный царь всея Руси. Старший сын великого князя московского Василия III и Елены Глинской. Номинально Иван стал правителем в 3 года. После восстания в Москве 1547 года правил с участием круга приближённых лиц — «Избранной Рады». При нём начался созыв Земских соборов, составлен Судебник 1550 года.</td>\n",
              "      <td>0</td>\n",
              "      <td>1</td>\n",
              "    </tr>\n",
              "    <tr>\n",
              "      <th>45</th>\n",
              "      <td>Есть ли у глаголов склонение?</td>\n",
              "      <td>Латинский язык имеет развитую систему словоизменения, что особенно проявляется в глагольном спряжении. Образование словоформ происходит путём присоединения окончаний, а словообразование — путём присоединения префиксов и суффиксов. Латинский глагол  склоняется по определённым правилам, которые определяют его спряжение. Глаголы делятся на спряжения согласно своим окончаниям в инфинитиве настоящего времени:  первое — -āre, второе — -ēre , третье — -ere , четвёртое — -īre.Глагол имеет три наклонения ; два залога ; два числа , три лица ; склоняется в шести главных временах . В частности, имеются формы условного наклонения для настоящего, прошедшего несовершенного, прошедшего совершенного времён и плюсквамперфекта; образуются причастия настоящего, будущего  и прошлого  времён; имеются формы повелительного наклонения для настоящего и будущего времён.</td>\n",
              "      <td>0</td>\n",
              "      <td>1</td>\n",
              "    </tr>\n",
              "  </tbody>\n",
              "</table>\n",
              "</div>\n",
              "    <div class=\"colab-df-buttons\">\n",
              "\n",
              "  <div class=\"colab-df-container\">\n",
              "    <button class=\"colab-df-convert\" onclick=\"convertToInteractive('df-74d46aea-71f8-4a99-b4a0-3691f1e44762')\"\n",
              "            title=\"Convert this dataframe to an interactive table.\"\n",
              "            style=\"display:none;\">\n",
              "\n",
              "  <svg xmlns=\"http://www.w3.org/2000/svg\" height=\"24px\" viewBox=\"0 -960 960 960\">\n",
              "    <path d=\"M120-120v-720h720v720H120Zm60-500h600v-160H180v160Zm220 220h160v-160H400v160Zm0 220h160v-160H400v160ZM180-400h160v-160H180v160Zm440 0h160v-160H620v160ZM180-180h160v-160H180v160Zm440 0h160v-160H620v160Z\"/>\n",
              "  </svg>\n",
              "    </button>\n",
              "\n",
              "  <style>\n",
              "    .colab-df-container {\n",
              "      display:flex;\n",
              "      gap: 12px;\n",
              "    }\n",
              "\n",
              "    .colab-df-convert {\n",
              "      background-color: #E8F0FE;\n",
              "      border: none;\n",
              "      border-radius: 50%;\n",
              "      cursor: pointer;\n",
              "      display: none;\n",
              "      fill: #1967D2;\n",
              "      height: 32px;\n",
              "      padding: 0 0 0 0;\n",
              "      width: 32px;\n",
              "    }\n",
              "\n",
              "    .colab-df-convert:hover {\n",
              "      background-color: #E2EBFA;\n",
              "      box-shadow: 0px 1px 2px rgba(60, 64, 67, 0.3), 0px 1px 3px 1px rgba(60, 64, 67, 0.15);\n",
              "      fill: #174EA6;\n",
              "    }\n",
              "\n",
              "    .colab-df-buttons div {\n",
              "      margin-bottom: 4px;\n",
              "    }\n",
              "\n",
              "    [theme=dark] .colab-df-convert {\n",
              "      background-color: #3B4455;\n",
              "      fill: #D2E3FC;\n",
              "    }\n",
              "\n",
              "    [theme=dark] .colab-df-convert:hover {\n",
              "      background-color: #434B5C;\n",
              "      box-shadow: 0px 1px 3px 1px rgba(0, 0, 0, 0.15);\n",
              "      filter: drop-shadow(0px 1px 2px rgba(0, 0, 0, 0.3));\n",
              "      fill: #FFFFFF;\n",
              "    }\n",
              "  </style>\n",
              "\n",
              "    <script>\n",
              "      const buttonEl =\n",
              "        document.querySelector('#df-74d46aea-71f8-4a99-b4a0-3691f1e44762 button.colab-df-convert');\n",
              "      buttonEl.style.display =\n",
              "        google.colab.kernel.accessAllowed ? 'block' : 'none';\n",
              "\n",
              "      async function convertToInteractive(key) {\n",
              "        const element = document.querySelector('#df-74d46aea-71f8-4a99-b4a0-3691f1e44762');\n",
              "        const dataTable =\n",
              "          await google.colab.kernel.invokeFunction('convertToInteractive',\n",
              "                                                    [key], {});\n",
              "        if (!dataTable) return;\n",
              "\n",
              "        const docLinkHtml = 'Like what you see? Visit the ' +\n",
              "          '<a target=\"_blank\" href=https://colab.research.google.com/notebooks/data_table.ipynb>data table notebook</a>'\n",
              "          + ' to learn more about interactive tables.';\n",
              "        element.innerHTML = '';\n",
              "        dataTable['output_type'] = 'display_data';\n",
              "        await google.colab.output.renderOutput(dataTable, element);\n",
              "        const docLink = document.createElement('div');\n",
              "        docLink.innerHTML = docLinkHtml;\n",
              "        element.appendChild(docLink);\n",
              "      }\n",
              "    </script>\n",
              "  </div>\n",
              "\n",
              "\n",
              "<div id=\"df-948980e3-47ad-4954-8608-3f5e1584b449\">\n",
              "  <button class=\"colab-df-quickchart\" onclick=\"quickchart('df-948980e3-47ad-4954-8608-3f5e1584b449')\"\n",
              "            title=\"Suggest charts\"\n",
              "            style=\"display:none;\">\n",
              "\n",
              "<svg xmlns=\"http://www.w3.org/2000/svg\" height=\"24px\"viewBox=\"0 0 24 24\"\n",
              "     width=\"24px\">\n",
              "    <g>\n",
              "        <path d=\"M19 3H5c-1.1 0-2 .9-2 2v14c0 1.1.9 2 2 2h14c1.1 0 2-.9 2-2V5c0-1.1-.9-2-2-2zM9 17H7v-7h2v7zm4 0h-2V7h2v10zm4 0h-2v-4h2v4z\"/>\n",
              "    </g>\n",
              "</svg>\n",
              "  </button>\n",
              "\n",
              "<style>\n",
              "  .colab-df-quickchart {\n",
              "      --bg-color: #E8F0FE;\n",
              "      --fill-color: #1967D2;\n",
              "      --hover-bg-color: #E2EBFA;\n",
              "      --hover-fill-color: #174EA6;\n",
              "      --disabled-fill-color: #AAA;\n",
              "      --disabled-bg-color: #DDD;\n",
              "  }\n",
              "\n",
              "  [theme=dark] .colab-df-quickchart {\n",
              "      --bg-color: #3B4455;\n",
              "      --fill-color: #D2E3FC;\n",
              "      --hover-bg-color: #434B5C;\n",
              "      --hover-fill-color: #FFFFFF;\n",
              "      --disabled-bg-color: #3B4455;\n",
              "      --disabled-fill-color: #666;\n",
              "  }\n",
              "\n",
              "  .colab-df-quickchart {\n",
              "    background-color: var(--bg-color);\n",
              "    border: none;\n",
              "    border-radius: 50%;\n",
              "    cursor: pointer;\n",
              "    display: none;\n",
              "    fill: var(--fill-color);\n",
              "    height: 32px;\n",
              "    padding: 0;\n",
              "    width: 32px;\n",
              "  }\n",
              "\n",
              "  .colab-df-quickchart:hover {\n",
              "    background-color: var(--hover-bg-color);\n",
              "    box-shadow: 0 1px 2px rgba(60, 64, 67, 0.3), 0 1px 3px 1px rgba(60, 64, 67, 0.15);\n",
              "    fill: var(--button-hover-fill-color);\n",
              "  }\n",
              "\n",
              "  .colab-df-quickchart-complete:disabled,\n",
              "  .colab-df-quickchart-complete:disabled:hover {\n",
              "    background-color: var(--disabled-bg-color);\n",
              "    fill: var(--disabled-fill-color);\n",
              "    box-shadow: none;\n",
              "  }\n",
              "\n",
              "  .colab-df-spinner {\n",
              "    border: 2px solid var(--fill-color);\n",
              "    border-color: transparent;\n",
              "    border-bottom-color: var(--fill-color);\n",
              "    animation:\n",
              "      spin 1s steps(1) infinite;\n",
              "  }\n",
              "\n",
              "  @keyframes spin {\n",
              "    0% {\n",
              "      border-color: transparent;\n",
              "      border-bottom-color: var(--fill-color);\n",
              "      border-left-color: var(--fill-color);\n",
              "    }\n",
              "    20% {\n",
              "      border-color: transparent;\n",
              "      border-left-color: var(--fill-color);\n",
              "      border-top-color: var(--fill-color);\n",
              "    }\n",
              "    30% {\n",
              "      border-color: transparent;\n",
              "      border-left-color: var(--fill-color);\n",
              "      border-top-color: var(--fill-color);\n",
              "      border-right-color: var(--fill-color);\n",
              "    }\n",
              "    40% {\n",
              "      border-color: transparent;\n",
              "      border-right-color: var(--fill-color);\n",
              "      border-top-color: var(--fill-color);\n",
              "    }\n",
              "    60% {\n",
              "      border-color: transparent;\n",
              "      border-right-color: var(--fill-color);\n",
              "    }\n",
              "    80% {\n",
              "      border-color: transparent;\n",
              "      border-right-color: var(--fill-color);\n",
              "      border-bottom-color: var(--fill-color);\n",
              "    }\n",
              "    90% {\n",
              "      border-color: transparent;\n",
              "      border-bottom-color: var(--fill-color);\n",
              "    }\n",
              "  }\n",
              "</style>\n",
              "\n",
              "  <script>\n",
              "    async function quickchart(key) {\n",
              "      const quickchartButtonEl =\n",
              "        document.querySelector('#' + key + ' button');\n",
              "      quickchartButtonEl.disabled = true;  // To prevent multiple clicks.\n",
              "      quickchartButtonEl.classList.add('colab-df-spinner');\n",
              "      try {\n",
              "        const charts = await google.colab.kernel.invokeFunction(\n",
              "            'suggestCharts', [key], {});\n",
              "      } catch (error) {\n",
              "        console.error('Error during call to suggestCharts:', error);\n",
              "      }\n",
              "      quickchartButtonEl.classList.remove('colab-df-spinner');\n",
              "      quickchartButtonEl.classList.add('colab-df-quickchart-complete');\n",
              "    }\n",
              "    (() => {\n",
              "      let quickchartButtonEl =\n",
              "        document.querySelector('#df-948980e3-47ad-4954-8608-3f5e1584b449 button');\n",
              "      quickchartButtonEl.style.display =\n",
              "        google.colab.kernel.accessAllowed ? 'block' : 'none';\n",
              "    })();\n",
              "  </script>\n",
              "</div>\n",
              "\n",
              "    </div>\n",
              "  </div>\n"
            ],
            "text/plain": [
              "                                                                        question  \\\n",
              "0                                  Есть ли в энергетиках наркотические вещества?   \n",
              "1                                                Едят ли бургеры ножом и вилкой?   \n",
              "8                                                     Едят ли мясо вегетарианцы?   \n",
              "10                                                          Едят ли яйца веганы?   \n",
              "13                                               Был ли синорнитозавр блондином?   \n",
              "15              Соблюдала ли швейцария нейтралитет во время наполеоновских войн?   \n",
              "21                                                            Есть ли дед мороз?   \n",
              "24  Были ли подводные атаки на грузовые корабли у берегов австралии в 1941 году?   \n",
              "27                                  Пост-модерн это то же самое что и модернизм?   \n",
              "29                                                    Бывает ли аллергия на мед?   \n",
              "31                                       Вреден ли алкоголь в малых количествах?   \n",
              "37                                                Правда ли что горит чернобыль?   \n",
              "42                                                       Был ли потоп в 17 веке?   \n",
              "44                                             Был ли василий 3 прозван грозным?   \n",
              "45                                                 Есть ли у глаголов склонение?   \n",
              "\n",
              "                                                                                                                                                                                                                                                                                                                                                                                                                                                                                                                                                                                                                                                                                                                                                                                                                                                                                                                                                                                                                                                                                                                                                      passage  \\\n",
              "0                                                                     Энергетические напитки   — напитки, в которых делается акцент на их способность стимулировать центральную нервную систему человека и/или антиседативный эффект. Напитки содержат тонизирующие вещества, чаще всего кофеин , и другие стимуляторы: теобромин и теофиллин , также являющиеся гомологами кофеина, а также нередко витамины как легкоусваиваемый источник энергии — углеводы ,[прояснить]  адаптогены и т. д. В последнее время добавляется таурин. В феврале 2009 г. Европейское управление по безопасности пищевых продуктов  опубликовало своё научное заключение по таурину и глюкуронолактону как ингредиентам безалкогольных тонизирующих энергетических напитков. В заключении EFSA подтверждено, что эти ингредиенты в тех количествах, в которых они содержатся в энергетических напитках, безопасны для здоровья человека. Энергетик — средне- или сильногазированный напиток ), так как это способствует более быстрому усвоению компонентов и быстрому наступлению эффекта с одной стороны, а с другой - используется для безопасного консервирования продукта.   \n",
              "1                                                                                                                                                                                                                                                                                                                                                                                                                                                                                                   Еда, предназначенная для употребления руками — пища, которую едят при помощи одних только рук, без столовых приборов — ложек, вилок, ножей, палочек для еды и так далее. Для поедания руками изготовляются как не требующие разделения и целиком удерживаемые в руке небольшие блюда, так и блюда, разрезаемые или разрываемые на куски. В некоторых культурах бо́льшая часть блюд или все блюда употребляются руками: к примеру, в эфиопской кухне почти все блюда употребляют, заворачивая их в лепёшку под названием «ынджера». В южноазиатской кухне пищу часто употребляют с помощью рук. В европейской культуре руками едят фаст-фуд и уличную еду.   \n",
              "8                                                                                                                                                                                                                                                                                                                                                                                                                                                                                                                                                                                                                                                                                                                            Вегетариа́нство — питание растительной и молочной пищей, а также яйцами, с отказом от мясной пищи животного происхождения. Некоторые варианты вегетарианской диеты могут исключать молочные продукты. Люди становятся вегетарианцами по различным причинам: этическим, экологическим, экономическим, медицинским, религиозным. Существуют различные виды вегетарианства. Наиболее строгой его разновидностью является веганство.   \n",
              "10                                                                                                                                                                                                                                                                                                                                                                                                                  Яйца не употребляются, прежде всего, по причине неприемлемого  содержания кур-несушек на птицефабриках. Другой важной причиной является тот факт, что часть яиц там используется для пополнения поголовья только несушек: вылупившихся цыплят мужского пола уничтожают . МёдВеганы не употребляют мёд, поскольку пчеловоды отбирают у пчёл полученный ими мёд, заменяя на сироп из рафинированного сахара, а также убивают отдельных пчёл  или «неудачных» маток и трутней). Пчелома́ткам обрезают крылья, так как местонахождение улья зависит от локации пчелома́тки. МехВеганы выступают как против охоты с целью добычи пушных зверей, так и против разведения зверей на зверофермах и последующего убийства с целью получения шкуры.   \n",
              "13                                                                                                                                                                                                                                                                                                                                                                                                              Исследование 2010-го года, проведённое Майком Бентоном и коллегами, установило, что ископаемые остатки нижнемелового Confuciusornis sanctus содержат меланосомы. Палеонтологи обнаружили эумеланосомы, отвечающие за чёрно-серый цвет, и феомеланосомы, придающие рыжевато-коричневые оттенки. В 2010 году Майкл Бентон и коллеги установили, что синорнитозавр обладал рыжевато-коричневым и чёрно-серым цветами. В 2011 году Райан Карни, Якоб Винтер, Мэттью Шоки, Лилиана д’Альба и Йорг Аккерман обнаружили фоссилизированные меланосомы на пере, приписываемом археоптериксу, которые показали, что исследуемых образец был преимущественно чёрным. Перо, вероятно, был кроющим, то есть частично покрывало первичные перья на крыльях.   \n",
              "15                                                                                                                                                                                                                                                                                                                                                                                                                                                                                                                                                                                                                                                      После окончания наполеоновских войн, начиная с 1815 года Швейцария соблюдает политический и военный нейтралитет. Это позволило ей избежать разрушительных последствий двух мировых войн в ХХ веке. Однако так было не всегда. Начиная ещё со времён Древнего Рима находились желающие присоединить эти альпийские долины к своим владениям. Особенно интерес к ним возрос в средние века, когда они оказались на пересечении транспортных путей с севера Европы в Италию и с запада Европы на восток.   \n",
              "21                                                                                                                                                                                                                                                                                                                                                                                                                                                                             Дед Моро́з — главный сказочный персонаж на празднике Нового года, славянский вариант рождественского дарителя. Известен  с 1840 года, но создание канонического образа Деда Мороза как обязательного персонажа новогоднего, а не рождественского праздника произошло в советское время и относится к концу 1930-х годов, когда после нескольких лет запрета вновь была разрешена ёлка. Прообразами Деда Мороза являются персонаж славянского сказочного фольклора и календарных обрядов и Святой Николай. Дед Мороз изображается как старик в цветной — голубой, синей, красной или белой шубе, с длинной белой бородой и посохом в руке, в валенках. Ездит на тройке лошадей.   \n",
              "24                                                                                                                                                                                                                                                                                                                                                                                                                       Крупные подводные наступательные операции осуществлялись в отношении грузовых кораблей у австралийского восточного побережья с мая по июль 1942 года и с января по июль 1943 года. Вечером 31 мая/утром 1 июня 1942 года австралийская гавань попала под прямой удар японских сверхмалых подводных лодок. В результате удара плавучая база HMAS Kuttabul, переделанная под паром и используемая как плавучая казарма, была подбита и затонула. Были убиты 22 моряка, среди которых было 19 австралийцев и 2 члена Королевского Военно-Морского Флота. Во время Второй Мировой войны в районе Кимберли Западной Австралии действовала японская разведка, расследовавшая поступающие сообщения, что союзники строили там военные базы.   \n",
              "27  Постмодерни́зм  — понятие, отражающее структурно сходные явления в мировой общественной жизни и культуре второй половины XX века и начала XXI века. Он употребляется как для характеристики постнеклассического типа философствования, так и для комплекса стилей в художественном искусстве. Постмодерн — состояние современной культуры, включающее в себя своеобразную философскую позицию, выражающую формальную антитезу модернистскому искусству, а также массовую культуру современной эпохи.. Идеологами постмодерна декларируется, что в начале XX века классический тип мышления эпохи модерна меняется на неклассический, а в конце века — на постнеклассический. Формирование эпохи постмодерна проходило в 1960—1970-е годы, оно связано и логически вытекает из процессов эпохи модерна как реакция на кризис её идей, а также на так называемую «смерть» супероснований: бога , автора , человека . Предпосылки постмодернизма возникли гораздо раньше. Так в математике  Лобачевский ещё в 1829 году в работе «О началах геометрии» представил неевклидовую геометрию пространства, такую же свободную от противоречий, как и евклидовая.   \n",
              "29                                                                                                                                                                                                                                                                                                                                                                                                                                                                                                                                                                          У людей с аллергией к продуктам пчеловодства мёд может вызвать нежелательную реакцию. Согласно некоторым авторам, аллергия на мёд — явление довольно редкое. Аллергия скорее возможна на некачественный или разбавленный мёд, то есть на наличие механических или биологических примесей . Регистрируются единичные случаи ботулизма у детей до года, находящихся на искусственном вскармливании питательными смесями, содержащими мёд. Предполагают, что споры заносятся с пылью в нектар, перерабатываемый пчёлами в мёд, который впоследствии используют в питательных смесях.   \n",
              "31                                                                                                                                                                                                                                                                                                                                                                                  При длительном употреблении алкоголя на поверхности коры головного мозга наблюдаются кровоизлияния и некрозы участков мозга, приводящие к органическим изменениям нейронов. При употреблении больших количеств алкоголя может возникнуть разрыв капилляров головного мозга. Чрезмерное употребление алкоголя ассоциировано с нарушениями когнитивных функций мозга,  но в то же время существует статистически достоверное снижение риска нарушения когнитивных функций мозга, ассоциированное с умеренным потреблении алкоголя по сравнению с полным отказом от алкоголя в различных странах. Высокие концентрации алкоголя могут вызывать оксидативное повреждение нейронов. При употреблении в больших количествах  алкоголь вызывает гибель нейронов головного мозга.   \n",
              "37                                                                                                                                                                                                                                                                                                                                                                                                                                                                                                                                                                                      23 апреля спасатели создали 800 км минерализованных противопожарных полос и продолжали локализацию трёх очагов тления. В зоне отчуждения продолжали гореть торфяники. 24 апреля продолжалась локализация 2 очагов тления пней, остатков древесины  и торфяников в очагах, пройденных огнём. По состоянию на 3 мая пожарные продолжали тушить лесную подстилку, пни и древесину в отдельных местах бывших пожаров в Киевской и Житомирской областях. 13 мая Президент Украины Владимир Зеленский заявил о ликвидации всех пожаров в зоне отчуждения Чернобыльской АЭС.   \n",
              "42                                                                                                                                                                                                                                                                                                                                                                                                                                                                                                                                                                                                                                 Когда корабль был готов, Утнапиштим погрузил на него своё имущество, семью и родичей, различных мастеров для сохранения знаний и технологий, домашний скот, зверей и птиц. Двери корабля были засмолены снаружи. С утра начался дождь и в туче явились бог бури, бог смерти и иные грозные божества, неся смерть и разрушение. На землю спустились тьма и ветер, убивающий людей в их укрытиях. Потоп был столь страшен, что сами боги пришли в ужас и поднялись к отцу богов Ану, проклиная себя за необдуманное решение.   \n",
              "44                                                                                                                                                                                                                                                                                                                                                                                                                                                                                                                                                                                                                                                       Ива́н IV Васи́льевич, прозванный Гро́зным , также имел имена Тит и Смарагд, в постриге — Иона  марта 1584, Москва) — государь, великий князь московский и всея Руси с 1533 года, первый венчаный царь всея Руси. Старший сын великого князя московского Василия III и Елены Глинской. Номинально Иван стал правителем в 3 года. После восстания в Москве 1547 года правил с участием круга приближённых лиц — «Избранной Рады». При нём начался созыв Земских соборов, составлен Судебник 1550 года.   \n",
              "45                                                                                                                                                                                                                                                                    Латинский язык имеет развитую систему словоизменения, что особенно проявляется в глагольном спряжении. Образование словоформ происходит путём присоединения окончаний, а словообразование — путём присоединения префиксов и суффиксов. Латинский глагол  склоняется по определённым правилам, которые определяют его спряжение. Глаголы делятся на спряжения согласно своим окончаниям в инфинитиве настоящего времени:  первое — -āre, второе — -ēre , третье — -ere , четвёртое — -īre.Глагол имеет три наклонения ; два залога ; два числа , три лица ; склоняется в шести главных временах . В частности, имеются формы условного наклонения для настоящего, прошедшего несовершенного, прошедшего совершенного времён и плюсквамперфекта; образуются причастия настоящего, будущего  и прошлого  времён; имеются формы повелительного наклонения для настоящего и будущего времён.   \n",
              "\n",
              "    label  prediction  \n",
              "0       0           1  \n",
              "1       0           1  \n",
              "8       0           1  \n",
              "10      0           1  \n",
              "13      0           1  \n",
              "15      0           1  \n",
              "21      0           1  \n",
              "24      0           1  \n",
              "27      0           1  \n",
              "29      1           0  \n",
              "31      0           1  \n",
              "37      1           0  \n",
              "42      0           1  \n",
              "44      0           1  \n",
              "45      0           1  "
            ]
          },
          "execution_count": 15,
          "metadata": {},
          "output_type": "execute_result"
        }
      ],
      "source": [
        "compare_labels(\"exp_preds/exp1.jsonl\")"
      ]
    },
    {
      "cell_type": "markdown",
      "metadata": {
        "id": "v28_wIluHnW2"
      },
      "source": [
        "Можно видеть, что модель ошибается там, где ей нужно очень сильно инферировать. Например, в предложении [1] нет явного ответа на вопрос про бургеры, и модели нужно понять, что бургер относится к категории фаст-фуда и уличной еды (а значит, его едят руками), но, наверное, этого не случилось.\n",
        "\n",
        "В [15] кажется, будто бы модель не смогла пропарсить дальний левый контекст, который начинается с \"Однако так было не всегда\". Классический трюк, где сперва дают псевдо-ответ на вопрос, а потом делают поворот в 180 градусов в очень дальнем контексте.\n",
        "\n",
        "Есть вещи вроде [44], где указывается, что Иван 4 был прозван Грозным. Но кажется, что для модели не следует, что тогда Иван 3 не был. Она фокусируется только на части информации; то же самое происходит для [42], где ей не важно, что потоп происходит не в 17 веке, а в каком-то мифе с участием богов.\n",
        "\n",
        "Есть вещи вроде [45], где нет прямого отрицания ответа на вопрос. Да, у глаголов есть спряжения, но про склонения ничего не говорится (даже если это кажется интуитивным)."
      ]
    },
    {
      "cell_type": "markdown",
      "metadata": {
        "id": "pzmzSV_lVVws"
      },
      "source": [
        "### Эксперимент 2 - fine-tuning (XML-RoBERTa-Large)"
      ]
    },
    {
      "cell_type": "code",
      "execution_count": null,
      "metadata": {
        "colab": {
          "base_uri": "https://localhost:8080/",
          "height": 1000
        },
        "id": "NFlgI3HsFPxv",
        "outputId": "637da9f0-eb9f-49fe-cb4b-96a531a83924"
      },
      "outputs": [
        {
          "data": {
            "application/vnd.google.colaboratory.intrinsic+json": {
              "summary": "{\n  \"name\": \"compare_labels(\\\"exp_preds/exp2\",\n  \"rows\": 15,\n  \"fields\": [\n    {\n      \"column\": \"question\",\n      \"properties\": {\n        \"dtype\": \"string\",\n        \"num_unique_values\": 15,\n        \"samples\": [\n          \"\\u0412\\u0440\\u0435\\u0434\\u0435\\u043d \\u043b\\u0438 \\u0430\\u043b\\u043a\\u043e\\u0433\\u043e\\u043b\\u044c \\u0432 \\u043c\\u0430\\u043b\\u044b\\u0445 \\u043a\\u043e\\u043b\\u0438\\u0447\\u0435\\u0441\\u0442\\u0432\\u0430\\u0445?\",\n          \" \\u041f\\u0440\\u0430\\u0432\\u0434\\u0430 \\u043b\\u0438 \\u0447\\u0442\\u043e \\u0444\\u0438\\u043d\\u043b\\u044f\\u043d\\u0434\\u0438\\u044f \\u043d\\u0435 \\u0441\\u0447\\u0438\\u0442\\u0430\\u0435\\u0442\\u0441\\u044f \\u0447\\u0430\\u0441\\u0442\\u044c\\u044e \\u0441\\u043a\\u0430\\u043d\\u0434\\u0438\\u043d\\u0430\\u0432\\u0438\\u0438?\",\n          \"\\u0415\\u0441\\u0442\\u044c \\u043b\\u0438 \\u0432 \\u044d\\u043d\\u0435\\u0440\\u0433\\u0435\\u0442\\u0438\\u043a\\u0430\\u0445 \\u043d\\u0430\\u0440\\u043a\\u043e\\u0442\\u0438\\u0447\\u0435\\u0441\\u043a\\u0438\\u0435 \\u0432\\u0435\\u0449\\u0435\\u0441\\u0442\\u0432\\u0430?\"\n        ],\n        \"semantic_type\": \"\",\n        \"description\": \"\"\n      }\n    },\n    {\n      \"column\": \"passage\",\n      \"properties\": {\n        \"dtype\": \"string\",\n        \"num_unique_values\": 15,\n        \"samples\": [\n          \"\\u041f\\u0440\\u0438 \\u0434\\u043b\\u0438\\u0442\\u0435\\u043b\\u044c\\u043d\\u043e\\u043c \\u0443\\u043f\\u043e\\u0442\\u0440\\u0435\\u0431\\u043b\\u0435\\u043d\\u0438\\u0438 \\u0430\\u043b\\u043a\\u043e\\u0433\\u043e\\u043b\\u044f \\u043d\\u0430 \\u043f\\u043e\\u0432\\u0435\\u0440\\u0445\\u043d\\u043e\\u0441\\u0442\\u0438 \\u043a\\u043e\\u0440\\u044b \\u0433\\u043e\\u043b\\u043e\\u0432\\u043d\\u043e\\u0433\\u043e \\u043c\\u043e\\u0437\\u0433\\u0430 \\u043d\\u0430\\u0431\\u043b\\u044e\\u0434\\u0430\\u044e\\u0442\\u0441\\u044f \\u043a\\u0440\\u043e\\u0432\\u043e\\u0438\\u0437\\u043b\\u0438\\u044f\\u043d\\u0438\\u044f \\u0438 \\u043d\\u0435\\u043a\\u0440\\u043e\\u0437\\u044b \\u0443\\u0447\\u0430\\u0441\\u0442\\u043a\\u043e\\u0432 \\u043c\\u043e\\u0437\\u0433\\u0430, \\u043f\\u0440\\u0438\\u0432\\u043e\\u0434\\u044f\\u0449\\u0438\\u0435 \\u043a \\u043e\\u0440\\u0433\\u0430\\u043d\\u0438\\u0447\\u0435\\u0441\\u043a\\u0438\\u043c \\u0438\\u0437\\u043c\\u0435\\u043d\\u0435\\u043d\\u0438\\u044f\\u043c \\u043d\\u0435\\u0439\\u0440\\u043e\\u043d\\u043e\\u0432. \\u041f\\u0440\\u0438 \\u0443\\u043f\\u043e\\u0442\\u0440\\u0435\\u0431\\u043b\\u0435\\u043d\\u0438\\u0438 \\u0431\\u043e\\u043b\\u044c\\u0448\\u0438\\u0445 \\u043a\\u043e\\u043b\\u0438\\u0447\\u0435\\u0441\\u0442\\u0432 \\u0430\\u043b\\u043a\\u043e\\u0433\\u043e\\u043b\\u044f \\u043c\\u043e\\u0436\\u0435\\u0442 \\u0432\\u043e\\u0437\\u043d\\u0438\\u043a\\u043d\\u0443\\u0442\\u044c \\u0440\\u0430\\u0437\\u0440\\u044b\\u0432 \\u043a\\u0430\\u043f\\u0438\\u043b\\u043b\\u044f\\u0440\\u043e\\u0432 \\u0433\\u043e\\u043b\\u043e\\u0432\\u043d\\u043e\\u0433\\u043e \\u043c\\u043e\\u0437\\u0433\\u0430. \\u0427\\u0440\\u0435\\u0437\\u043c\\u0435\\u0440\\u043d\\u043e\\u0435 \\u0443\\u043f\\u043e\\u0442\\u0440\\u0435\\u0431\\u043b\\u0435\\u043d\\u0438\\u0435 \\u0430\\u043b\\u043a\\u043e\\u0433\\u043e\\u043b\\u044f \\u0430\\u0441\\u0441\\u043e\\u0446\\u0438\\u0438\\u0440\\u043e\\u0432\\u0430\\u043d\\u043e \\u0441 \\u043d\\u0430\\u0440\\u0443\\u0448\\u0435\\u043d\\u0438\\u044f\\u043c\\u0438 \\u043a\\u043e\\u0433\\u043d\\u0438\\u0442\\u0438\\u0432\\u043d\\u044b\\u0445 \\u0444\\u0443\\u043d\\u043a\\u0446\\u0438\\u0439 \\u043c\\u043e\\u0437\\u0433\\u0430,  \\u043d\\u043e \\u0432 \\u0442\\u043e \\u0436\\u0435 \\u0432\\u0440\\u0435\\u043c\\u044f \\u0441\\u0443\\u0449\\u0435\\u0441\\u0442\\u0432\\u0443\\u0435\\u0442 \\u0441\\u0442\\u0430\\u0442\\u0438\\u0441\\u0442\\u0438\\u0447\\u0435\\u0441\\u043a\\u0438 \\u0434\\u043e\\u0441\\u0442\\u043e\\u0432\\u0435\\u0440\\u043d\\u043e\\u0435 \\u0441\\u043d\\u0438\\u0436\\u0435\\u043d\\u0438\\u0435 \\u0440\\u0438\\u0441\\u043a\\u0430 \\u043d\\u0430\\u0440\\u0443\\u0448\\u0435\\u043d\\u0438\\u044f \\u043a\\u043e\\u0433\\u043d\\u0438\\u0442\\u0438\\u0432\\u043d\\u044b\\u0445 \\u0444\\u0443\\u043d\\u043a\\u0446\\u0438\\u0439 \\u043c\\u043e\\u0437\\u0433\\u0430, \\u0430\\u0441\\u0441\\u043e\\u0446\\u0438\\u0438\\u0440\\u043e\\u0432\\u0430\\u043d\\u043d\\u043e\\u0435 \\u0441 \\u0443\\u043c\\u0435\\u0440\\u0435\\u043d\\u043d\\u044b\\u043c \\u043f\\u043e\\u0442\\u0440\\u0435\\u0431\\u043b\\u0435\\u043d\\u0438\\u0438 \\u0430\\u043b\\u043a\\u043e\\u0433\\u043e\\u043b\\u044f \\u043f\\u043e \\u0441\\u0440\\u0430\\u0432\\u043d\\u0435\\u043d\\u0438\\u044e \\u0441 \\u043f\\u043e\\u043b\\u043d\\u044b\\u043c \\u043e\\u0442\\u043a\\u0430\\u0437\\u043e\\u043c \\u043e\\u0442 \\u0430\\u043b\\u043a\\u043e\\u0433\\u043e\\u043b\\u044f \\u0432 \\u0440\\u0430\\u0437\\u043b\\u0438\\u0447\\u043d\\u044b\\u0445 \\u0441\\u0442\\u0440\\u0430\\u043d\\u0430\\u0445. \\u0412\\u044b\\u0441\\u043e\\u043a\\u0438\\u0435 \\u043a\\u043e\\u043d\\u0446\\u0435\\u043d\\u0442\\u0440\\u0430\\u0446\\u0438\\u0438 \\u0430\\u043b\\u043a\\u043e\\u0433\\u043e\\u043b\\u044f \\u043c\\u043e\\u0433\\u0443\\u0442 \\u0432\\u044b\\u0437\\u044b\\u0432\\u0430\\u0442\\u044c \\u043e\\u043a\\u0441\\u0438\\u0434\\u0430\\u0442\\u0438\\u0432\\u043d\\u043e\\u0435 \\u043f\\u043e\\u0432\\u0440\\u0435\\u0436\\u0434\\u0435\\u043d\\u0438\\u0435 \\u043d\\u0435\\u0439\\u0440\\u043e\\u043d\\u043e\\u0432. \\u041f\\u0440\\u0438 \\u0443\\u043f\\u043e\\u0442\\u0440\\u0435\\u0431\\u043b\\u0435\\u043d\\u0438\\u0438 \\u0432 \\u0431\\u043e\\u043b\\u044c\\u0448\\u0438\\u0445 \\u043a\\u043e\\u043b\\u0438\\u0447\\u0435\\u0441\\u0442\\u0432\\u0430\\u0445  \\u0430\\u043b\\u043a\\u043e\\u0433\\u043e\\u043b\\u044c \\u0432\\u044b\\u0437\\u044b\\u0432\\u0430\\u0435\\u0442 \\u0433\\u0438\\u0431\\u0435\\u043b\\u044c \\u043d\\u0435\\u0439\\u0440\\u043e\\u043d\\u043e\\u0432 \\u0433\\u043e\\u043b\\u043e\\u0432\\u043d\\u043e\\u0433\\u043e \\u043c\\u043e\\u0437\\u0433\\u0430.\",\n          \"\\u0421\\u043a\\u0430\\u043d\\u0434\\u0438\\u043d\\u0430\\u0432\\u0441\\u043a\\u0438\\u0439 \\u043f\\u043e\\u043b\\u0443\\u043e\\u0441\\u0442\\u0440\\u043e\\u0432 \\u2014 \\u043a\\u0440\\u0443\\u043f\\u043d\\u0435\\u0439\\u0448\\u0438\\u0439 \\u043f\\u043e\\u043b\\u0443\\u043e\\u0441\\u0442\\u0440\\u043e\\u0432 \\u0415\\u0432\\u0440\\u043e\\u043f\\u044b, \\u0440\\u0430\\u0441\\u043f\\u043e\\u043b\\u043e\\u0436\\u0435\\u043d\\u043d\\u044b\\u0439 \\u0432 \\u0435\\u0451 \\u0441\\u0435\\u0432\\u0435\\u0440\\u043e-\\u0437\\u0430\\u043f\\u0430\\u0434\\u043d\\u043e\\u0439 \\u0447\\u0430\\u0441\\u0442\\u0438. \\u0414\\u043b\\u0438\\u043d\\u0430 \\u043f\\u043e\\u043b\\u0443\\u043e\\u0441\\u0442\\u0440\\u043e\\u0432\\u0430 \\u043e\\u043a\\u043e\\u043b\\u043e 1900 \\u043a\\u043c, \\u0448\\u0438\\u0440\\u0438\\u043d\\u0430 \\u2014 \\u0434\\u043e 800 \\u043a\\u043c, \\u043f\\u043b\\u043e\\u0449\\u0430\\u0434\\u044c \\u2014 \\u043e\\u043a\\u043e\\u043b\\u043e 800 \\u0442\\u044b\\u0441. \\u043a\\u043c\\u00b2. \\u041d\\u0430 \\u043f\\u043e\\u043b\\u0443\\u043e\\u0441\\u0442\\u0440\\u043e\\u0432\\u0435 \\u0440\\u0430\\u0441\\u043f\\u043e\\u043b\\u043e\\u0436\\u0435\\u043d\\u044b \\u0432\\u0441\\u044f \\u043c\\u0430\\u0442\\u0435\\u0440\\u0438\\u043a\\u043e\\u0432\\u0430\\u044f \\u0447\\u0430\\u0441\\u0442\\u044c \\u0428\\u0432\\u0435\\u0446\\u0438\\u0438, \\u043f\\u043e\\u0447\\u0442\\u0438 \\u0432\\u0441\\u044f \\u043c\\u0430\\u0442\\u0435\\u0440\\u0438\\u043a\\u043e\\u0432\\u0430\\u044f \\u0447\\u0430\\u0441\\u0442\\u044c \\u041d\\u043e\\u0440\\u0432\\u0435\\u0433\\u0438\\u0438, \\u0441\\u0435\\u0432\\u0435\\u0440\\u043e-\\u0437\\u0430\\u043f\\u0430\\u0434\\u043d\\u0430\\u044f \\u0424\\u0438\\u043d\\u043b\\u044f\\u043d\\u0434\\u0438\\u044f, \\u0430 \\u0442\\u0430\\u043a\\u0436\\u0435 \\u0431\\u043e\\u043b\\u044c\\u0448\\u0430\\u044f \\u0447\\u0430\\u0441\\u0442\\u044c \\u0421\\u043a\\u0430\\u043d\\u0434\\u0438\\u043d\\u0430\\u0432\\u0438\\u0438. \\u041f\\u043e\\u043b\\u0443\\u043e\\u0441\\u0442\\u0440\\u043e\\u0432 \\u043e\\u043c\\u044b\\u0432\\u0430\\u0435\\u0442\\u0441\\u044f \\u043d\\u0435\\u0441\\u043a\\u043e\\u043b\\u044c\\u043a\\u0438\\u043c\\u0438 \\u043c\\u043e\\u0440\\u044f\\u043c\\u0438: \\u0411\\u0430\\u0440\\u0435\\u043d\\u0446\\u0435\\u0432\\u044b\\u043c \\u043d\\u0430 \\u0441\\u0435\\u0432\\u0435\\u0440\\u0435, \\u041d\\u043e\\u0440\\u0432\\u0435\\u0436\\u0441\\u043a\\u0438\\u043c \\u043d\\u0430 \\u0437\\u0430\\u043f\\u0430\\u0434\\u0435, \\u0421\\u0435\\u0432\\u0435\\u0440\\u043d\\u044b\\u043c \\u043d\\u0430 \\u044e\\u0433\\u0435 \\u0438 \\u0411\\u0430\\u043b\\u0442\\u0438\\u0439\\u0441\\u043a\\u0438\\u043c \\u043d\\u0430 \\u044e\\u0433\\u0435 \\u0438 \\u0432\\u043e\\u0441\\u0442\\u043e\\u043a\\u0435.\",\n          \"\\u042d\\u043d\\u0435\\u0440\\u0433\\u0435\\u0442\\u0438\\u0447\\u0435\\u0441\\u043a\\u0438\\u0435 \\u043d\\u0430\\u043f\\u0438\\u0442\\u043a\\u0438   \\u2014 \\u043d\\u0430\\u043f\\u0438\\u0442\\u043a\\u0438, \\u0432 \\u043a\\u043e\\u0442\\u043e\\u0440\\u044b\\u0445 \\u0434\\u0435\\u043b\\u0430\\u0435\\u0442\\u0441\\u044f \\u0430\\u043a\\u0446\\u0435\\u043d\\u0442 \\u043d\\u0430 \\u0438\\u0445 \\u0441\\u043f\\u043e\\u0441\\u043e\\u0431\\u043d\\u043e\\u0441\\u0442\\u044c \\u0441\\u0442\\u0438\\u043c\\u0443\\u043b\\u0438\\u0440\\u043e\\u0432\\u0430\\u0442\\u044c \\u0446\\u0435\\u043d\\u0442\\u0440\\u0430\\u043b\\u044c\\u043d\\u0443\\u044e \\u043d\\u0435\\u0440\\u0432\\u043d\\u0443\\u044e \\u0441\\u0438\\u0441\\u0442\\u0435\\u043c\\u0443 \\u0447\\u0435\\u043b\\u043e\\u0432\\u0435\\u043a\\u0430 \\u0438/\\u0438\\u043b\\u0438 \\u0430\\u043d\\u0442\\u0438\\u0441\\u0435\\u0434\\u0430\\u0442\\u0438\\u0432\\u043d\\u044b\\u0439 \\u044d\\u0444\\u0444\\u0435\\u043a\\u0442. \\u041d\\u0430\\u043f\\u0438\\u0442\\u043a\\u0438 \\u0441\\u043e\\u0434\\u0435\\u0440\\u0436\\u0430\\u0442 \\u0442\\u043e\\u043d\\u0438\\u0437\\u0438\\u0440\\u0443\\u044e\\u0449\\u0438\\u0435 \\u0432\\u0435\\u0449\\u0435\\u0441\\u0442\\u0432\\u0430, \\u0447\\u0430\\u0449\\u0435 \\u0432\\u0441\\u0435\\u0433\\u043e \\u043a\\u043e\\u0444\\u0435\\u0438\\u043d , \\u0438 \\u0434\\u0440\\u0443\\u0433\\u0438\\u0435 \\u0441\\u0442\\u0438\\u043c\\u0443\\u043b\\u044f\\u0442\\u043e\\u0440\\u044b: \\u0442\\u0435\\u043e\\u0431\\u0440\\u043e\\u043c\\u0438\\u043d \\u0438 \\u0442\\u0435\\u043e\\u0444\\u0438\\u043b\\u043b\\u0438\\u043d , \\u0442\\u0430\\u043a\\u0436\\u0435 \\u044f\\u0432\\u043b\\u044f\\u044e\\u0449\\u0438\\u0435\\u0441\\u044f \\u0433\\u043e\\u043c\\u043e\\u043b\\u043e\\u0433\\u0430\\u043c\\u0438 \\u043a\\u043e\\u0444\\u0435\\u0438\\u043d\\u0430, \\u0430 \\u0442\\u0430\\u043a\\u0436\\u0435 \\u043d\\u0435\\u0440\\u0435\\u0434\\u043a\\u043e \\u0432\\u0438\\u0442\\u0430\\u043c\\u0438\\u043d\\u044b \\u043a\\u0430\\u043a \\u043b\\u0435\\u0433\\u043a\\u043e\\u0443\\u0441\\u0432\\u0430\\u0438\\u0432\\u0430\\u0435\\u043c\\u044b\\u0439 \\u0438\\u0441\\u0442\\u043e\\u0447\\u043d\\u0438\\u043a \\u044d\\u043d\\u0435\\u0440\\u0433\\u0438\\u0438 \\u2014 \\u0443\\u0433\\u043b\\u0435\\u0432\\u043e\\u0434\\u044b ,[\\u043f\\u0440\\u043e\\u044f\\u0441\\u043d\\u0438\\u0442\\u044c]  \\u0430\\u0434\\u0430\\u043f\\u0442\\u043e\\u0433\\u0435\\u043d\\u044b \\u0438 \\u0442. \\u0434. \\u0412 \\u043f\\u043e\\u0441\\u043b\\u0435\\u0434\\u043d\\u0435\\u0435 \\u0432\\u0440\\u0435\\u043c\\u044f \\u0434\\u043e\\u0431\\u0430\\u0432\\u043b\\u044f\\u0435\\u0442\\u0441\\u044f \\u0442\\u0430\\u0443\\u0440\\u0438\\u043d. \\u0412 \\u0444\\u0435\\u0432\\u0440\\u0430\\u043b\\u0435 2009 \\u0433. \\u0415\\u0432\\u0440\\u043e\\u043f\\u0435\\u0439\\u0441\\u043a\\u043e\\u0435 \\u0443\\u043f\\u0440\\u0430\\u0432\\u043b\\u0435\\u043d\\u0438\\u0435 \\u043f\\u043e \\u0431\\u0435\\u0437\\u043e\\u043f\\u0430\\u0441\\u043d\\u043e\\u0441\\u0442\\u0438 \\u043f\\u0438\\u0449\\u0435\\u0432\\u044b\\u0445 \\u043f\\u0440\\u043e\\u0434\\u0443\\u043a\\u0442\\u043e\\u0432  \\u043e\\u043f\\u0443\\u0431\\u043b\\u0438\\u043a\\u043e\\u0432\\u0430\\u043b\\u043e \\u0441\\u0432\\u043e\\u0451 \\u043d\\u0430\\u0443\\u0447\\u043d\\u043e\\u0435 \\u0437\\u0430\\u043a\\u043b\\u044e\\u0447\\u0435\\u043d\\u0438\\u0435 \\u043f\\u043e \\u0442\\u0430\\u0443\\u0440\\u0438\\u043d\\u0443 \\u0438 \\u0433\\u043b\\u044e\\u043a\\u0443\\u0440\\u043e\\u043d\\u043e\\u043b\\u0430\\u043a\\u0442\\u043e\\u043d\\u0443 \\u043a\\u0430\\u043a \\u0438\\u043d\\u0433\\u0440\\u0435\\u0434\\u0438\\u0435\\u043d\\u0442\\u0430\\u043c \\u0431\\u0435\\u0437\\u0430\\u043b\\u043a\\u043e\\u0433\\u043e\\u043b\\u044c\\u043d\\u044b\\u0445 \\u0442\\u043e\\u043d\\u0438\\u0437\\u0438\\u0440\\u0443\\u044e\\u0449\\u0438\\u0445 \\u044d\\u043d\\u0435\\u0440\\u0433\\u0435\\u0442\\u0438\\u0447\\u0435\\u0441\\u043a\\u0438\\u0445 \\u043d\\u0430\\u043f\\u0438\\u0442\\u043a\\u043e\\u0432. \\u0412 \\u0437\\u0430\\u043a\\u043b\\u044e\\u0447\\u0435\\u043d\\u0438\\u0438 EFSA \\u043f\\u043e\\u0434\\u0442\\u0432\\u0435\\u0440\\u0436\\u0434\\u0435\\u043d\\u043e, \\u0447\\u0442\\u043e \\u044d\\u0442\\u0438 \\u0438\\u043d\\u0433\\u0440\\u0435\\u0434\\u0438\\u0435\\u043d\\u0442\\u044b \\u0432 \\u0442\\u0435\\u0445 \\u043a\\u043e\\u043b\\u0438\\u0447\\u0435\\u0441\\u0442\\u0432\\u0430\\u0445, \\u0432 \\u043a\\u043e\\u0442\\u043e\\u0440\\u044b\\u0445 \\u043e\\u043d\\u0438 \\u0441\\u043e\\u0434\\u0435\\u0440\\u0436\\u0430\\u0442\\u0441\\u044f \\u0432 \\u044d\\u043d\\u0435\\u0440\\u0433\\u0435\\u0442\\u0438\\u0447\\u0435\\u0441\\u043a\\u0438\\u0445 \\u043d\\u0430\\u043f\\u0438\\u0442\\u043a\\u0430\\u0445, \\u0431\\u0435\\u0437\\u043e\\u043f\\u0430\\u0441\\u043d\\u044b \\u0434\\u043b\\u044f \\u0437\\u0434\\u043e\\u0440\\u043e\\u0432\\u044c\\u044f \\u0447\\u0435\\u043b\\u043e\\u0432\\u0435\\u043a\\u0430. \\u042d\\u043d\\u0435\\u0440\\u0433\\u0435\\u0442\\u0438\\u043a \\u2014 \\u0441\\u0440\\u0435\\u0434\\u043d\\u0435- \\u0438\\u043b\\u0438 \\u0441\\u0438\\u043b\\u044c\\u043d\\u043e\\u0433\\u0430\\u0437\\u0438\\u0440\\u043e\\u0432\\u0430\\u043d\\u043d\\u044b\\u0439 \\u043d\\u0430\\u043f\\u0438\\u0442\\u043e\\u043a ), \\u0442\\u0430\\u043a \\u043a\\u0430\\u043a \\u044d\\u0442\\u043e \\u0441\\u043f\\u043e\\u0441\\u043e\\u0431\\u0441\\u0442\\u0432\\u0443\\u0435\\u0442 \\u0431\\u043e\\u043b\\u0435\\u0435 \\u0431\\u044b\\u0441\\u0442\\u0440\\u043e\\u043c\\u0443 \\u0443\\u0441\\u0432\\u043e\\u0435\\u043d\\u0438\\u044e \\u043a\\u043e\\u043c\\u043f\\u043e\\u043d\\u0435\\u043d\\u0442\\u043e\\u0432 \\u0438 \\u0431\\u044b\\u0441\\u0442\\u0440\\u043e\\u043c\\u0443 \\u043d\\u0430\\u0441\\u0442\\u0443\\u043f\\u043b\\u0435\\u043d\\u0438\\u044e \\u044d\\u0444\\u0444\\u0435\\u043a\\u0442\\u0430 \\u0441 \\u043e\\u0434\\u043d\\u043e\\u0439 \\u0441\\u0442\\u043e\\u0440\\u043e\\u043d\\u044b, \\u0430 \\u0441 \\u0434\\u0440\\u0443\\u0433\\u043e\\u0439 - \\u0438\\u0441\\u043f\\u043e\\u043b\\u044c\\u0437\\u0443\\u0435\\u0442\\u0441\\u044f \\u0434\\u043b\\u044f \\u0431\\u0435\\u0437\\u043e\\u043f\\u0430\\u0441\\u043d\\u043e\\u0433\\u043e \\u043a\\u043e\\u043d\\u0441\\u0435\\u0440\\u0432\\u0438\\u0440\\u043e\\u0432\\u0430\\u043d\\u0438\\u044f \\u043f\\u0440\\u043e\\u0434\\u0443\\u043a\\u0442\\u0430.\"\n        ],\n        \"semantic_type\": \"\",\n        \"description\": \"\"\n      }\n    },\n    {\n      \"column\": \"label\",\n      \"properties\": {\n        \"dtype\": \"number\",\n        \"std\": 0,\n        \"min\": 0,\n        \"max\": 0,\n        \"num_unique_values\": 1,\n        \"samples\": [\n          0\n        ],\n        \"semantic_type\": \"\",\n        \"description\": \"\"\n      }\n    },\n    {\n      \"column\": \"prediction\",\n      \"properties\": {\n        \"dtype\": \"number\",\n        \"std\": 0,\n        \"min\": 1,\n        \"max\": 1,\n        \"num_unique_values\": 1,\n        \"samples\": [\n          1\n        ],\n        \"semantic_type\": \"\",\n        \"description\": \"\"\n      }\n    }\n  ]\n}",
              "type": "dataframe"
            },
            "text/html": [
              "\n",
              "  <div id=\"df-e94aa7df-b35b-4795-ab28-c3bc858a453e\" class=\"colab-df-container\">\n",
              "    <div>\n",
              "<style scoped>\n",
              "    .dataframe tbody tr th:only-of-type {\n",
              "        vertical-align: middle;\n",
              "    }\n",
              "\n",
              "    .dataframe tbody tr th {\n",
              "        vertical-align: top;\n",
              "    }\n",
              "\n",
              "    .dataframe thead th {\n",
              "        text-align: right;\n",
              "    }\n",
              "</style>\n",
              "<table border=\"1\" class=\"dataframe\">\n",
              "  <thead>\n",
              "    <tr style=\"text-align: right;\">\n",
              "      <th></th>\n",
              "      <th>question</th>\n",
              "      <th>passage</th>\n",
              "      <th>label</th>\n",
              "      <th>prediction</th>\n",
              "    </tr>\n",
              "  </thead>\n",
              "  <tbody>\n",
              "    <tr>\n",
              "      <th>0</th>\n",
              "      <td>Есть ли в энергетиках наркотические вещества?</td>\n",
              "      <td>Энергетические напитки   — напитки, в которых делается акцент на их способность стимулировать центральную нервную систему человека и/или антиседативный эффект. Напитки содержат тонизирующие вещества, чаще всего кофеин , и другие стимуляторы: теобромин и теофиллин , также являющиеся гомологами кофеина, а также нередко витамины как легкоусваиваемый источник энергии — углеводы ,[прояснить]  адаптогены и т. д. В последнее время добавляется таурин. В феврале 2009 г. Европейское управление по безопасности пищевых продуктов  опубликовало своё научное заключение по таурину и глюкуронолактону как ингредиентам безалкогольных тонизирующих энергетических напитков. В заключении EFSA подтверждено, что эти ингредиенты в тех количествах, в которых они содержатся в энергетических напитках, безопасны для здоровья человека. Энергетик — средне- или сильногазированный напиток ), так как это способствует более быстрому усвоению компонентов и быстрому наступлению эффекта с одной стороны, а с другой - используется для безопасного консервирования продукта.</td>\n",
              "      <td>0</td>\n",
              "      <td>1</td>\n",
              "    </tr>\n",
              "    <tr>\n",
              "      <th>1</th>\n",
              "      <td>Едят ли бургеры ножом и вилкой?</td>\n",
              "      <td>Еда, предназначенная для употребления руками — пища, которую едят при помощи одних только рук, без столовых приборов — ложек, вилок, ножей, палочек для еды и так далее. Для поедания руками изготовляются как не требующие разделения и целиком удерживаемые в руке небольшие блюда, так и блюда, разрезаемые или разрываемые на куски. В некоторых культурах бо́льшая часть блюд или все блюда употребляются руками: к примеру, в эфиопской кухне почти все блюда употребляют, заворачивая их в лепёшку под названием «ынджера». В южноазиатской кухне пищу часто употребляют с помощью рук. В европейской культуре руками едят фаст-фуд и уличную еду.</td>\n",
              "      <td>0</td>\n",
              "      <td>1</td>\n",
              "    </tr>\n",
              "    <tr>\n",
              "      <th>8</th>\n",
              "      <td>Едят ли мясо вегетарианцы?</td>\n",
              "      <td>Вегетариа́нство — питание растительной и молочной пищей, а также яйцами, с отказом от мясной пищи животного происхождения. Некоторые варианты вегетарианской диеты могут исключать молочные продукты. Люди становятся вегетарианцами по различным причинам: этическим, экологическим, экономическим, медицинским, религиозным. Существуют различные виды вегетарианства. Наиболее строгой его разновидностью является веганство.</td>\n",
              "      <td>0</td>\n",
              "      <td>1</td>\n",
              "    </tr>\n",
              "    <tr>\n",
              "      <th>13</th>\n",
              "      <td>Был ли синорнитозавр блондином?</td>\n",
              "      <td>Исследование 2010-го года, проведённое Майком Бентоном и коллегами, установило, что ископаемые остатки нижнемелового Confuciusornis sanctus содержат меланосомы. Палеонтологи обнаружили эумеланосомы, отвечающие за чёрно-серый цвет, и феомеланосомы, придающие рыжевато-коричневые оттенки. В 2010 году Майкл Бентон и коллеги установили, что синорнитозавр обладал рыжевато-коричневым и чёрно-серым цветами. В 2011 году Райан Карни, Якоб Винтер, Мэттью Шоки, Лилиана д’Альба и Йорг Аккерман обнаружили фоссилизированные меланосомы на пере, приписываемом археоптериксу, которые показали, что исследуемых образец был преимущественно чёрным. Перо, вероятно, был кроющим, то есть частично покрывало первичные перья на крыльях.</td>\n",
              "      <td>0</td>\n",
              "      <td>1</td>\n",
              "    </tr>\n",
              "    <tr>\n",
              "      <th>15</th>\n",
              "      <td>Соблюдала ли швейцария нейтралитет во время наполеоновских войн?</td>\n",
              "      <td>После окончания наполеоновских войн, начиная с 1815 года Швейцария соблюдает политический и военный нейтралитет. Это позволило ей избежать разрушительных последствий двух мировых войн в ХХ веке. Однако так было не всегда. Начиная ещё со времён Древнего Рима находились желающие присоединить эти альпийские долины к своим владениям. Особенно интерес к ним возрос в средние века, когда они оказались на пересечении транспортных путей с севера Европы в Италию и с запада Европы на восток.</td>\n",
              "      <td>0</td>\n",
              "      <td>1</td>\n",
              "    </tr>\n",
              "    <tr>\n",
              "      <th>16</th>\n",
              "      <td>Была ли дуня счастлива с минским?</td>\n",
              "      <td>Уезжая, он предлагает подвезти Дуню до церкви на окраине села, куда та собиралась к обедне. Отец, считая Минского порядочным человеком, уговаривает дочь подчиниться. Вскоре отцом овладевает беспокойство и он идёт к церкви, но не находит там Дуню, а позднее узнаёт, что гусар увёз её далеко в Санкт-Петербург. Безутешный отец находит там Минского и просит вернуть дочь, ставшую содержанкой гусара. Минский прогоняет Вырина, заявив, что Дуня будет счастлива с ним и отвыкла от прежнего состояния.</td>\n",
              "      <td>0</td>\n",
              "      <td>1</td>\n",
              "    </tr>\n",
              "    <tr>\n",
              "      <th>19</th>\n",
              "      <td>Правда ли что среди славян не было язычников?</td>\n",
              "      <td>О внешнем виде славянских идолов можно судить по так называемому «Збручскому идолу», а также по описаниям в письменных источниках: известно, например, что идол Перуна, поставленный в Киеве князем Владимиром, был деревянным, с серебряной головой и золотыми усами. Славяне поклонялись идолам в открытых святилищах. Обычно у славян роль храма выполнял лес. Наличие храмовых помещений у славян не зафиксировано, однако они вполне могли иметь место, не оставив после себя следов, будучи деревянными. На капище проводились обряды поклонения идолам.</td>\n",
              "      <td>0</td>\n",
              "      <td>1</td>\n",
              "    </tr>\n",
              "    <tr>\n",
              "      <th>22</th>\n",
              "      <td>Правда ли что войны в нячанге не было?</td>\n",
              "      <td>Авиабаза Няча́нг  — один из крупнейших объектов Военно-воздушных сил Республики Вьетнам , расположенный в городе Нячанг  на побережье Южно-Китайского моря. В ходе Вьетнамской войны с 1959 по 1975 годы использовалась подразделениями армии, военно-воздушных сил и корпуса морской пехоты военно-морского флота вооружённых сил США. После окончания войны в 1975 году авиабаза находилась под контролем Военно-воздушных сил Вьетнама, а также обеспечивала гражданские перевозки в Нячанг. В настоящее время аэропорт закрыт для всех коммерческих операций, которые с 2004 года обслуживаются в Международном аэропорту Камрань. База работала как учебный центр лётной подготовки 920 полка ВВС Народной армии Вьетнама.</td>\n",
              "      <td>0</td>\n",
              "      <td>1</td>\n",
              "    </tr>\n",
              "    <tr>\n",
              "      <th>24</th>\n",
              "      <td>Были ли подводные атаки на грузовые корабли у берегов австралии в 1941 году?</td>\n",
              "      <td>Крупные подводные наступательные операции осуществлялись в отношении грузовых кораблей у австралийского восточного побережья с мая по июль 1942 года и с января по июль 1943 года. Вечером 31 мая/утром 1 июня 1942 года австралийская гавань попала под прямой удар японских сверхмалых подводных лодок. В результате удара плавучая база HMAS Kuttabul, переделанная под паром и используемая как плавучая казарма, была подбита и затонула. Были убиты 22 моряка, среди которых было 19 австралийцев и 2 члена Королевского Военно-Морского Флота. Во время Второй Мировой войны в районе Кимберли Западной Австралии действовала японская разведка, расследовавшая поступающие сообщения, что союзники строили там военные базы.</td>\n",
              "      <td>0</td>\n",
              "      <td>1</td>\n",
              "    </tr>\n",
              "    <tr>\n",
              "      <th>31</th>\n",
              "      <td>Вреден ли алкоголь в малых количествах?</td>\n",
              "      <td>При длительном употреблении алкоголя на поверхности коры головного мозга наблюдаются кровоизлияния и некрозы участков мозга, приводящие к органическим изменениям нейронов. При употреблении больших количеств алкоголя может возникнуть разрыв капилляров головного мозга. Чрезмерное употребление алкоголя ассоциировано с нарушениями когнитивных функций мозга,  но в то же время существует статистически достоверное снижение риска нарушения когнитивных функций мозга, ассоциированное с умеренным потреблении алкоголя по сравнению с полным отказом от алкоголя в различных странах. Высокие концентрации алкоголя могут вызывать оксидативное повреждение нейронов. При употреблении в больших количествах  алкоголь вызывает гибель нейронов головного мозга.</td>\n",
              "      <td>0</td>\n",
              "      <td>1</td>\n",
              "    </tr>\n",
              "    <tr>\n",
              "      <th>42</th>\n",
              "      <td>Был ли потоп в 17 веке?</td>\n",
              "      <td>Когда корабль был готов, Утнапиштим погрузил на него своё имущество, семью и родичей, различных мастеров для сохранения знаний и технологий, домашний скот, зверей и птиц. Двери корабля были засмолены снаружи. С утра начался дождь и в туче явились бог бури, бог смерти и иные грозные божества, неся смерть и разрушение. На землю спустились тьма и ветер, убивающий людей в их укрытиях. Потоп был столь страшен, что сами боги пришли в ужас и поднялись к отцу богов Ану, проклиная себя за необдуманное решение.</td>\n",
              "      <td>0</td>\n",
              "      <td>1</td>\n",
              "    </tr>\n",
              "    <tr>\n",
              "      <th>43</th>\n",
              "      <td>Правда ли что финляндия не считается частью скандинавии?</td>\n",
              "      <td>Скандинавский полуостров — крупнейший полуостров Европы, расположенный в её северо-западной части. Длина полуострова около 1900 км, ширина — до 800 км, площадь — около 800 тыс. км². На полуострове расположены вся материковая часть Швеции, почти вся материковая часть Норвегии, северо-западная Финляндия, а также большая часть Скандинавии. Полуостров омывается несколькими морями: Баренцевым на севере, Норвежским на западе, Северным на юге и Балтийским на юге и востоке.</td>\n",
              "      <td>0</td>\n",
              "      <td>1</td>\n",
              "    </tr>\n",
              "    <tr>\n",
              "      <th>44</th>\n",
              "      <td>Был ли василий 3 прозван грозным?</td>\n",
              "      <td>Ива́н IV Васи́льевич, прозванный Гро́зным , также имел имена Тит и Смарагд, в постриге — Иона  марта 1584, Москва) — государь, великий князь московский и всея Руси с 1533 года, первый венчаный царь всея Руси. Старший сын великого князя московского Василия III и Елены Глинской. Номинально Иван стал правителем в 3 года. После восстания в Москве 1547 года правил с участием круга приближённых лиц — «Избранной Рады». При нём начался созыв Земских соборов, составлен Судебник 1550 года.</td>\n",
              "      <td>0</td>\n",
              "      <td>1</td>\n",
              "    </tr>\n",
              "    <tr>\n",
              "      <th>45</th>\n",
              "      <td>Есть ли у глаголов склонение?</td>\n",
              "      <td>Латинский язык имеет развитую систему словоизменения, что особенно проявляется в глагольном спряжении. Образование словоформ происходит путём присоединения окончаний, а словообразование — путём присоединения префиксов и суффиксов. Латинский глагол  склоняется по определённым правилам, которые определяют его спряжение. Глаголы делятся на спряжения согласно своим окончаниям в инфинитиве настоящего времени:  первое — -āre, второе — -ēre , третье — -ere , четвёртое — -īre.Глагол имеет три наклонения ; два залога ; два числа , три лица ; склоняется в шести главных временах . В частности, имеются формы условного наклонения для настоящего, прошедшего несовершенного, прошедшего совершенного времён и плюсквамперфекта; образуются причастия настоящего, будущего  и прошлого  времён; имеются формы повелительного наклонения для настоящего и будущего времён.</td>\n",
              "      <td>0</td>\n",
              "      <td>1</td>\n",
              "    </tr>\n",
              "    <tr>\n",
              "      <th>48</th>\n",
              "      <td>Репрессии это миф?</td>\n",
              "      <td>Политические репрессии в СССР — принудительные меры государственного воздействия, включающие различные виды наказаний и правоограничений, применявшиеся в СССР к отдельным лицам и категориям лиц по политическим мотивам. Политические репрессии в Советской России начались сразу после Октябрьской революции 1917 года. При этом жертвами репрессий становились не только активные политические противники большевиков, но и люди, просто выражавшие несогласие с их политикой. Репрессии проводились также по социальному признаку. После окончания Красного террора периода Гражданской войны политические репрессии в Советской России и, позднее, в СССР продолжились.</td>\n",
              "      <td>0</td>\n",
              "      <td>1</td>\n",
              "    </tr>\n",
              "  </tbody>\n",
              "</table>\n",
              "</div>\n",
              "    <div class=\"colab-df-buttons\">\n",
              "\n",
              "  <div class=\"colab-df-container\">\n",
              "    <button class=\"colab-df-convert\" onclick=\"convertToInteractive('df-e94aa7df-b35b-4795-ab28-c3bc858a453e')\"\n",
              "            title=\"Convert this dataframe to an interactive table.\"\n",
              "            style=\"display:none;\">\n",
              "\n",
              "  <svg xmlns=\"http://www.w3.org/2000/svg\" height=\"24px\" viewBox=\"0 -960 960 960\">\n",
              "    <path d=\"M120-120v-720h720v720H120Zm60-500h600v-160H180v160Zm220 220h160v-160H400v160Zm0 220h160v-160H400v160ZM180-400h160v-160H180v160Zm440 0h160v-160H620v160ZM180-180h160v-160H180v160Zm440 0h160v-160H620v160Z\"/>\n",
              "  </svg>\n",
              "    </button>\n",
              "\n",
              "  <style>\n",
              "    .colab-df-container {\n",
              "      display:flex;\n",
              "      gap: 12px;\n",
              "    }\n",
              "\n",
              "    .colab-df-convert {\n",
              "      background-color: #E8F0FE;\n",
              "      border: none;\n",
              "      border-radius: 50%;\n",
              "      cursor: pointer;\n",
              "      display: none;\n",
              "      fill: #1967D2;\n",
              "      height: 32px;\n",
              "      padding: 0 0 0 0;\n",
              "      width: 32px;\n",
              "    }\n",
              "\n",
              "    .colab-df-convert:hover {\n",
              "      background-color: #E2EBFA;\n",
              "      box-shadow: 0px 1px 2px rgba(60, 64, 67, 0.3), 0px 1px 3px 1px rgba(60, 64, 67, 0.15);\n",
              "      fill: #174EA6;\n",
              "    }\n",
              "\n",
              "    .colab-df-buttons div {\n",
              "      margin-bottom: 4px;\n",
              "    }\n",
              "\n",
              "    [theme=dark] .colab-df-convert {\n",
              "      background-color: #3B4455;\n",
              "      fill: #D2E3FC;\n",
              "    }\n",
              "\n",
              "    [theme=dark] .colab-df-convert:hover {\n",
              "      background-color: #434B5C;\n",
              "      box-shadow: 0px 1px 3px 1px rgba(0, 0, 0, 0.15);\n",
              "      filter: drop-shadow(0px 1px 2px rgba(0, 0, 0, 0.3));\n",
              "      fill: #FFFFFF;\n",
              "    }\n",
              "  </style>\n",
              "\n",
              "    <script>\n",
              "      const buttonEl =\n",
              "        document.querySelector('#df-e94aa7df-b35b-4795-ab28-c3bc858a453e button.colab-df-convert');\n",
              "      buttonEl.style.display =\n",
              "        google.colab.kernel.accessAllowed ? 'block' : 'none';\n",
              "\n",
              "      async function convertToInteractive(key) {\n",
              "        const element = document.querySelector('#df-e94aa7df-b35b-4795-ab28-c3bc858a453e');\n",
              "        const dataTable =\n",
              "          await google.colab.kernel.invokeFunction('convertToInteractive',\n",
              "                                                    [key], {});\n",
              "        if (!dataTable) return;\n",
              "\n",
              "        const docLinkHtml = 'Like what you see? Visit the ' +\n",
              "          '<a target=\"_blank\" href=https://colab.research.google.com/notebooks/data_table.ipynb>data table notebook</a>'\n",
              "          + ' to learn more about interactive tables.';\n",
              "        element.innerHTML = '';\n",
              "        dataTable['output_type'] = 'display_data';\n",
              "        await google.colab.output.renderOutput(dataTable, element);\n",
              "        const docLink = document.createElement('div');\n",
              "        docLink.innerHTML = docLinkHtml;\n",
              "        element.appendChild(docLink);\n",
              "      }\n",
              "    </script>\n",
              "  </div>\n",
              "\n",
              "\n",
              "<div id=\"df-cbda20d4-14ee-4fab-b182-fbae4f2ccb91\">\n",
              "  <button class=\"colab-df-quickchart\" onclick=\"quickchart('df-cbda20d4-14ee-4fab-b182-fbae4f2ccb91')\"\n",
              "            title=\"Suggest charts\"\n",
              "            style=\"display:none;\">\n",
              "\n",
              "<svg xmlns=\"http://www.w3.org/2000/svg\" height=\"24px\"viewBox=\"0 0 24 24\"\n",
              "     width=\"24px\">\n",
              "    <g>\n",
              "        <path d=\"M19 3H5c-1.1 0-2 .9-2 2v14c0 1.1.9 2 2 2h14c1.1 0 2-.9 2-2V5c0-1.1-.9-2-2-2zM9 17H7v-7h2v7zm4 0h-2V7h2v10zm4 0h-2v-4h2v4z\"/>\n",
              "    </g>\n",
              "</svg>\n",
              "  </button>\n",
              "\n",
              "<style>\n",
              "  .colab-df-quickchart {\n",
              "      --bg-color: #E8F0FE;\n",
              "      --fill-color: #1967D2;\n",
              "      --hover-bg-color: #E2EBFA;\n",
              "      --hover-fill-color: #174EA6;\n",
              "      --disabled-fill-color: #AAA;\n",
              "      --disabled-bg-color: #DDD;\n",
              "  }\n",
              "\n",
              "  [theme=dark] .colab-df-quickchart {\n",
              "      --bg-color: #3B4455;\n",
              "      --fill-color: #D2E3FC;\n",
              "      --hover-bg-color: #434B5C;\n",
              "      --hover-fill-color: #FFFFFF;\n",
              "      --disabled-bg-color: #3B4455;\n",
              "      --disabled-fill-color: #666;\n",
              "  }\n",
              "\n",
              "  .colab-df-quickchart {\n",
              "    background-color: var(--bg-color);\n",
              "    border: none;\n",
              "    border-radius: 50%;\n",
              "    cursor: pointer;\n",
              "    display: none;\n",
              "    fill: var(--fill-color);\n",
              "    height: 32px;\n",
              "    padding: 0;\n",
              "    width: 32px;\n",
              "  }\n",
              "\n",
              "  .colab-df-quickchart:hover {\n",
              "    background-color: var(--hover-bg-color);\n",
              "    box-shadow: 0 1px 2px rgba(60, 64, 67, 0.3), 0 1px 3px 1px rgba(60, 64, 67, 0.15);\n",
              "    fill: var(--button-hover-fill-color);\n",
              "  }\n",
              "\n",
              "  .colab-df-quickchart-complete:disabled,\n",
              "  .colab-df-quickchart-complete:disabled:hover {\n",
              "    background-color: var(--disabled-bg-color);\n",
              "    fill: var(--disabled-fill-color);\n",
              "    box-shadow: none;\n",
              "  }\n",
              "\n",
              "  .colab-df-spinner {\n",
              "    border: 2px solid var(--fill-color);\n",
              "    border-color: transparent;\n",
              "    border-bottom-color: var(--fill-color);\n",
              "    animation:\n",
              "      spin 1s steps(1) infinite;\n",
              "  }\n",
              "\n",
              "  @keyframes spin {\n",
              "    0% {\n",
              "      border-color: transparent;\n",
              "      border-bottom-color: var(--fill-color);\n",
              "      border-left-color: var(--fill-color);\n",
              "    }\n",
              "    20% {\n",
              "      border-color: transparent;\n",
              "      border-left-color: var(--fill-color);\n",
              "      border-top-color: var(--fill-color);\n",
              "    }\n",
              "    30% {\n",
              "      border-color: transparent;\n",
              "      border-left-color: var(--fill-color);\n",
              "      border-top-color: var(--fill-color);\n",
              "      border-right-color: var(--fill-color);\n",
              "    }\n",
              "    40% {\n",
              "      border-color: transparent;\n",
              "      border-right-color: var(--fill-color);\n",
              "      border-top-color: var(--fill-color);\n",
              "    }\n",
              "    60% {\n",
              "      border-color: transparent;\n",
              "      border-right-color: var(--fill-color);\n",
              "    }\n",
              "    80% {\n",
              "      border-color: transparent;\n",
              "      border-right-color: var(--fill-color);\n",
              "      border-bottom-color: var(--fill-color);\n",
              "    }\n",
              "    90% {\n",
              "      border-color: transparent;\n",
              "      border-bottom-color: var(--fill-color);\n",
              "    }\n",
              "  }\n",
              "</style>\n",
              "\n",
              "  <script>\n",
              "    async function quickchart(key) {\n",
              "      const quickchartButtonEl =\n",
              "        document.querySelector('#' + key + ' button');\n",
              "      quickchartButtonEl.disabled = true;  // To prevent multiple clicks.\n",
              "      quickchartButtonEl.classList.add('colab-df-spinner');\n",
              "      try {\n",
              "        const charts = await google.colab.kernel.invokeFunction(\n",
              "            'suggestCharts', [key], {});\n",
              "      } catch (error) {\n",
              "        console.error('Error during call to suggestCharts:', error);\n",
              "      }\n",
              "      quickchartButtonEl.classList.remove('colab-df-spinner');\n",
              "      quickchartButtonEl.classList.add('colab-df-quickchart-complete');\n",
              "    }\n",
              "    (() => {\n",
              "      let quickchartButtonEl =\n",
              "        document.querySelector('#df-cbda20d4-14ee-4fab-b182-fbae4f2ccb91 button');\n",
              "      quickchartButtonEl.style.display =\n",
              "        google.colab.kernel.accessAllowed ? 'block' : 'none';\n",
              "    })();\n",
              "  </script>\n",
              "</div>\n",
              "\n",
              "    </div>\n",
              "  </div>\n"
            ],
            "text/plain": [
              "                                                                        question  \\\n",
              "0                                  Есть ли в энергетиках наркотические вещества?   \n",
              "1                                                Едят ли бургеры ножом и вилкой?   \n",
              "8                                                     Едят ли мясо вегетарианцы?   \n",
              "13                                               Был ли синорнитозавр блондином?   \n",
              "15              Соблюдала ли швейцария нейтралитет во время наполеоновских войн?   \n",
              "16                                             Была ли дуня счастлива с минским?   \n",
              "19                                 Правда ли что среди славян не было язычников?   \n",
              "22                                        Правда ли что войны в нячанге не было?   \n",
              "24  Были ли подводные атаки на грузовые корабли у берегов австралии в 1941 году?   \n",
              "31                                       Вреден ли алкоголь в малых количествах?   \n",
              "42                                                       Был ли потоп в 17 веке?   \n",
              "43                      Правда ли что финляндия не считается частью скандинавии?   \n",
              "44                                             Был ли василий 3 прозван грозным?   \n",
              "45                                                 Есть ли у глаголов склонение?   \n",
              "48                                                            Репрессии это миф?   \n",
              "\n",
              "                                                                                                                                                                                                                                                                                                                                                                                                                                                                                                                                                                                                                                                                                                                                                                                                                                                                                                                                                                                                                                                                                    passage  \\\n",
              "0   Энергетические напитки   — напитки, в которых делается акцент на их способность стимулировать центральную нервную систему человека и/или антиседативный эффект. Напитки содержат тонизирующие вещества, чаще всего кофеин , и другие стимуляторы: теобромин и теофиллин , также являющиеся гомологами кофеина, а также нередко витамины как легкоусваиваемый источник энергии — углеводы ,[прояснить]  адаптогены и т. д. В последнее время добавляется таурин. В феврале 2009 г. Европейское управление по безопасности пищевых продуктов  опубликовало своё научное заключение по таурину и глюкуронолактону как ингредиентам безалкогольных тонизирующих энергетических напитков. В заключении EFSA подтверждено, что эти ингредиенты в тех количествах, в которых они содержатся в энергетических напитках, безопасны для здоровья человека. Энергетик — средне- или сильногазированный напиток ), так как это способствует более быстрому усвоению компонентов и быстрому наступлению эффекта с одной стороны, а с другой - используется для безопасного консервирования продукта.   \n",
              "1                                                                                                                                                                                                                                                                                                                                                                                                                                 Еда, предназначенная для употребления руками — пища, которую едят при помощи одних только рук, без столовых приборов — ложек, вилок, ножей, палочек для еды и так далее. Для поедания руками изготовляются как не требующие разделения и целиком удерживаемые в руке небольшие блюда, так и блюда, разрезаемые или разрываемые на куски. В некоторых культурах бо́льшая часть блюд или все блюда употребляются руками: к примеру, в эфиопской кухне почти все блюда употребляют, заворачивая их в лепёшку под названием «ынджера». В южноазиатской кухне пищу часто употребляют с помощью рук. В европейской культуре руками едят фаст-фуд и уличную еду.   \n",
              "8                                                                                                                                                                                                                                                                                                                                                                                                                                                                                                                                                                                                                                                          Вегетариа́нство — питание растительной и молочной пищей, а также яйцами, с отказом от мясной пищи животного происхождения. Некоторые варианты вегетарианской диеты могут исключать молочные продукты. Люди становятся вегетарианцами по различным причинам: этическим, экологическим, экономическим, медицинским, религиозным. Существуют различные виды вегетарианства. Наиболее строгой его разновидностью является веганство.   \n",
              "13                                                                                                                                                                                                                                                                                                                                            Исследование 2010-го года, проведённое Майком Бентоном и коллегами, установило, что ископаемые остатки нижнемелового Confuciusornis sanctus содержат меланосомы. Палеонтологи обнаружили эумеланосомы, отвечающие за чёрно-серый цвет, и феомеланосомы, придающие рыжевато-коричневые оттенки. В 2010 году Майкл Бентон и коллеги установили, что синорнитозавр обладал рыжевато-коричневым и чёрно-серым цветами. В 2011 году Райан Карни, Якоб Винтер, Мэттью Шоки, Лилиана д’Альба и Йорг Аккерман обнаружили фоссилизированные меланосомы на пере, приписываемом археоптериксу, которые показали, что исследуемых образец был преимущественно чёрным. Перо, вероятно, был кроющим, то есть частично покрывало первичные перья на крыльях.   \n",
              "15                                                                                                                                                                                                                                                                                                                                                                                                                                                                                                                                                                                    После окончания наполеоновских войн, начиная с 1815 года Швейцария соблюдает политический и военный нейтралитет. Это позволило ей избежать разрушительных последствий двух мировых войн в ХХ веке. Однако так было не всегда. Начиная ещё со времён Древнего Рима находились желающие присоединить эти альпийские долины к своим владениям. Особенно интерес к ним возрос в средние века, когда они оказались на пересечении транспортных путей с севера Европы в Италию и с запада Европы на восток.   \n",
              "16                                                                                                                                                                                                                                                                                                                                                                                                                                                                                                                                                                           Уезжая, он предлагает подвезти Дуню до церкви на окраине села, куда та собиралась к обедне. Отец, считая Минского порядочным человеком, уговаривает дочь подчиниться. Вскоре отцом овладевает беспокойство и он идёт к церкви, но не находит там Дуню, а позднее узнаёт, что гусар увёз её далеко в Санкт-Петербург. Безутешный отец находит там Минского и просит вернуть дочь, ставшую содержанкой гусара. Минский прогоняет Вырина, заявив, что Дуня будет счастлива с ним и отвыкла от прежнего состояния.   \n",
              "19                                                                                                                                                                                                                                                                                                                                                                                                                                                                                                                           О внешнем виде славянских идолов можно судить по так называемому «Збручскому идолу», а также по описаниям в письменных источниках: известно, например, что идол Перуна, поставленный в Киеве князем Владимиром, был деревянным, с серебряной головой и золотыми усами. Славяне поклонялись идолам в открытых святилищах. Обычно у славян роль храма выполнял лес. Наличие храмовых помещений у славян не зафиксировано, однако они вполне могли иметь место, не оставив после себя следов, будучи деревянными. На капище проводились обряды поклонения идолам.   \n",
              "22                                                                                                                                                                                                                                                                                                                                                          Авиабаза Няча́нг  — один из крупнейших объектов Военно-воздушных сил Республики Вьетнам , расположенный в городе Нячанг  на побережье Южно-Китайского моря. В ходе Вьетнамской войны с 1959 по 1975 годы использовалась подразделениями армии, военно-воздушных сил и корпуса морской пехоты военно-морского флота вооружённых сил США. После окончания войны в 1975 году авиабаза находилась под контролем Военно-воздушных сил Вьетнама, а также обеспечивала гражданские перевозки в Нячанг. В настоящее время аэропорт закрыт для всех коммерческих операций, которые с 2004 года обслуживаются в Международном аэропорту Камрань. База работала как учебный центр лётной подготовки 920 полка ВВС Народной армии Вьетнама.   \n",
              "24                                                                                                                                                                                                                                                                                                                                                     Крупные подводные наступательные операции осуществлялись в отношении грузовых кораблей у австралийского восточного побережья с мая по июль 1942 года и с января по июль 1943 года. Вечером 31 мая/утром 1 июня 1942 года австралийская гавань попала под прямой удар японских сверхмалых подводных лодок. В результате удара плавучая база HMAS Kuttabul, переделанная под паром и используемая как плавучая казарма, была подбита и затонула. Были убиты 22 моряка, среди которых было 19 австралийцев и 2 члена Королевского Военно-Морского Флота. Во время Второй Мировой войны в районе Кимберли Западной Австралии действовала японская разведка, расследовавшая поступающие сообщения, что союзники строили там военные базы.   \n",
              "31                                                                                                                                                                                                                                                                                                                При длительном употреблении алкоголя на поверхности коры головного мозга наблюдаются кровоизлияния и некрозы участков мозга, приводящие к органическим изменениям нейронов. При употреблении больших количеств алкоголя может возникнуть разрыв капилляров головного мозга. Чрезмерное употребление алкоголя ассоциировано с нарушениями когнитивных функций мозга,  но в то же время существует статистически достоверное снижение риска нарушения когнитивных функций мозга, ассоциированное с умеренным потреблении алкоголя по сравнению с полным отказом от алкоголя в различных странах. Высокие концентрации алкоголя могут вызывать оксидативное повреждение нейронов. При употреблении в больших количествах  алкоголь вызывает гибель нейронов головного мозга.   \n",
              "42                                                                                                                                                                                                                                                                                                                                                                                                                                                                                                                                                               Когда корабль был готов, Утнапиштим погрузил на него своё имущество, семью и родичей, различных мастеров для сохранения знаний и технологий, домашний скот, зверей и птиц. Двери корабля были засмолены снаружи. С утра начался дождь и в туче явились бог бури, бог смерти и иные грозные божества, неся смерть и разрушение. На землю спустились тьма и ветер, убивающий людей в их укрытиях. Потоп был столь страшен, что сами боги пришли в ужас и поднялись к отцу богов Ану, проклиная себя за необдуманное решение.   \n",
              "43                                                                                                                                                                                                                                                                                                                                                                                                                                                                                                                                                                                                   Скандинавский полуостров — крупнейший полуостров Европы, расположенный в её северо-западной части. Длина полуострова около 1900 км, ширина — до 800 км, площадь — около 800 тыс. км². На полуострове расположены вся материковая часть Швеции, почти вся материковая часть Норвегии, северо-западная Финляндия, а также большая часть Скандинавии. Полуостров омывается несколькими морями: Баренцевым на севере, Норвежским на западе, Северным на юге и Балтийским на юге и востоке.   \n",
              "44                                                                                                                                                                                                                                                                                                                                                                                                                                                                                                                                                                                     Ива́н IV Васи́льевич, прозванный Гро́зным , также имел имена Тит и Смарагд, в постриге — Иона  марта 1584, Москва) — государь, великий князь московский и всея Руси с 1533 года, первый венчаный царь всея Руси. Старший сын великого князя московского Василия III и Елены Глинской. Номинально Иван стал правителем в 3 года. После восстания в Москве 1547 года правил с участием круга приближённых лиц — «Избранной Рады». При нём начался созыв Земских соборов, составлен Судебник 1550 года.   \n",
              "45                                                                                                                                                                                                  Латинский язык имеет развитую систему словоизменения, что особенно проявляется в глагольном спряжении. Образование словоформ происходит путём присоединения окончаний, а словообразование — путём присоединения префиксов и суффиксов. Латинский глагол  склоняется по определённым правилам, которые определяют его спряжение. Глаголы делятся на спряжения согласно своим окончаниям в инфинитиве настоящего времени:  первое — -āre, второе — -ēre , третье — -ere , четвёртое — -īre.Глагол имеет три наклонения ; два залога ; два числа , три лица ; склоняется в шести главных временах . В частности, имеются формы условного наклонения для настоящего, прошедшего несовершенного, прошедшего совершенного времён и плюсквамперфекта; образуются причастия настоящего, будущего  и прошлого  времён; имеются формы повелительного наклонения для настоящего и будущего времён.   \n",
              "48                                                                                                                                                                                                                                                                                                                                                                                                            Политические репрессии в СССР — принудительные меры государственного воздействия, включающие различные виды наказаний и правоограничений, применявшиеся в СССР к отдельным лицам и категориям лиц по политическим мотивам. Политические репрессии в Советской России начались сразу после Октябрьской революции 1917 года. При этом жертвами репрессий становились не только активные политические противники большевиков, но и люди, просто выражавшие несогласие с их политикой. Репрессии проводились также по социальному признаку. После окончания Красного террора периода Гражданской войны политические репрессии в Советской России и, позднее, в СССР продолжились.   \n",
              "\n",
              "    label  prediction  \n",
              "0       0           1  \n",
              "1       0           1  \n",
              "8       0           1  \n",
              "13      0           1  \n",
              "15      0           1  \n",
              "16      0           1  \n",
              "19      0           1  \n",
              "22      0           1  \n",
              "24      0           1  \n",
              "31      0           1  \n",
              "42      0           1  \n",
              "43      0           1  \n",
              "44      0           1  \n",
              "45      0           1  \n",
              "48      0           1  "
            ]
          },
          "execution_count": 16,
          "metadata": {},
          "output_type": "execute_result"
        }
      ],
      "source": [
        "compare_labels(\"exp_preds/exp2.jsonl\")"
      ]
    },
    {
      "cell_type": "markdown",
      "metadata": {
        "id": "SUhVqmz4TAXT"
      },
      "source": [
        "В целом, здесь ошибки достаточно похожи на ошибки первого эксперимента, и найти какой-нибудь дополнительный паттерн не удаётся.\n",
        "\n",
        "В [16] опять достаточно неинтуитивный инференс; для того, чтобы не понять правильный ответ, не нужно быть языковой моделью.\n",
        "\n",
        "В [19] напрямую не использовано слов, хоть как-то напоминающих о язычестве."
      ]
    },
    {
      "cell_type": "markdown",
      "metadata": {
        "id": "3C3JKq9bVc-C"
      },
      "source": [
        "### Эксперимент 3 - LLM"
      ]
    },
    {
      "cell_type": "markdown",
      "metadata": {
        "id": "0BIeOh6wV64Y"
      },
      "source": [
        "#### Qwen"
      ]
    },
    {
      "cell_type": "code",
      "execution_count": null,
      "metadata": {
        "colab": {
          "base_uri": "https://localhost:8080/",
          "height": 1000
        },
        "id": "3WcOX-cqHCzb",
        "outputId": "7863f18f-91fc-4db1-8466-37cae24beb41"
      },
      "outputs": [
        {
          "data": {
            "application/vnd.google.colaboratory.intrinsic+json": {
              "summary": "{\n  \"name\": \"compare_labels(\\\"exp_preds/exp3_qwen_0\",\n  \"rows\": 15,\n  \"fields\": [\n    {\n      \"column\": \"question\",\n      \"properties\": {\n        \"dtype\": \"string\",\n        \"num_unique_values\": 15,\n        \"samples\": [\n          \"\\u0415\\u0441\\u0442\\u044c \\u043b\\u0438 \\u0434\\u0435\\u0434 \\u043c\\u043e\\u0440\\u043e\\u0437?\",\n          \"\\u0411\\u044b\\u043b\\u0438 \\u043b\\u0438 \\u043f\\u043e\\u0434\\u0432\\u043e\\u0434\\u043d\\u044b\\u0435 \\u0430\\u0442\\u0430\\u043a\\u0438 \\u043d\\u0430 \\u0433\\u0440\\u0443\\u0437\\u043e\\u0432\\u044b\\u0435 \\u043a\\u043e\\u0440\\u0430\\u0431\\u043b\\u0438 \\u0443 \\u0431\\u0435\\u0440\\u0435\\u0433\\u043e\\u0432 \\u0430\\u0432\\u0441\\u0442\\u0440\\u0430\\u043b\\u0438\\u0438 \\u0432 1941 \\u0433\\u043e\\u0434\\u0443?\",\n          \"\\u0415\\u0441\\u0442\\u044c \\u043b\\u0438 \\u0432 \\u044d\\u043d\\u0435\\u0440\\u0433\\u0435\\u0442\\u0438\\u043a\\u0430\\u0445 \\u043d\\u0430\\u0440\\u043a\\u043e\\u0442\\u0438\\u0447\\u0435\\u0441\\u043a\\u0438\\u0435 \\u0432\\u0435\\u0449\\u0435\\u0441\\u0442\\u0432\\u0430?\"\n        ],\n        \"semantic_type\": \"\",\n        \"description\": \"\"\n      }\n    },\n    {\n      \"column\": \"passage\",\n      \"properties\": {\n        \"dtype\": \"string\",\n        \"num_unique_values\": 15,\n        \"samples\": [\n          \"\\u0414\\u0435\\u0434 \\u041c\\u043e\\u0440\\u043e\\u0301\\u0437 \\u2014 \\u0433\\u043b\\u0430\\u0432\\u043d\\u044b\\u0439 \\u0441\\u043a\\u0430\\u0437\\u043e\\u0447\\u043d\\u044b\\u0439 \\u043f\\u0435\\u0440\\u0441\\u043e\\u043d\\u0430\\u0436 \\u043d\\u0430 \\u043f\\u0440\\u0430\\u0437\\u0434\\u043d\\u0438\\u043a\\u0435 \\u041d\\u043e\\u0432\\u043e\\u0433\\u043e \\u0433\\u043e\\u0434\\u0430, \\u0441\\u043b\\u0430\\u0432\\u044f\\u043d\\u0441\\u043a\\u0438\\u0439 \\u0432\\u0430\\u0440\\u0438\\u0430\\u043d\\u0442 \\u0440\\u043e\\u0436\\u0434\\u0435\\u0441\\u0442\\u0432\\u0435\\u043d\\u0441\\u043a\\u043e\\u0433\\u043e \\u0434\\u0430\\u0440\\u0438\\u0442\\u0435\\u043b\\u044f. \\u0418\\u0437\\u0432\\u0435\\u0441\\u0442\\u0435\\u043d  \\u0441 1840 \\u0433\\u043e\\u0434\\u0430, \\u043d\\u043e \\u0441\\u043e\\u0437\\u0434\\u0430\\u043d\\u0438\\u0435 \\u043a\\u0430\\u043d\\u043e\\u043d\\u0438\\u0447\\u0435\\u0441\\u043a\\u043e\\u0433\\u043e \\u043e\\u0431\\u0440\\u0430\\u0437\\u0430 \\u0414\\u0435\\u0434\\u0430 \\u041c\\u043e\\u0440\\u043e\\u0437\\u0430 \\u043a\\u0430\\u043a \\u043e\\u0431\\u044f\\u0437\\u0430\\u0442\\u0435\\u043b\\u044c\\u043d\\u043e\\u0433\\u043e \\u043f\\u0435\\u0440\\u0441\\u043e\\u043d\\u0430\\u0436\\u0430 \\u043d\\u043e\\u0432\\u043e\\u0433\\u043e\\u0434\\u043d\\u0435\\u0433\\u043e, \\u0430 \\u043d\\u0435 \\u0440\\u043e\\u0436\\u0434\\u0435\\u0441\\u0442\\u0432\\u0435\\u043d\\u0441\\u043a\\u043e\\u0433\\u043e \\u043f\\u0440\\u0430\\u0437\\u0434\\u043d\\u0438\\u043a\\u0430 \\u043f\\u0440\\u043e\\u0438\\u0437\\u043e\\u0448\\u043b\\u043e \\u0432 \\u0441\\u043e\\u0432\\u0435\\u0442\\u0441\\u043a\\u043e\\u0435 \\u0432\\u0440\\u0435\\u043c\\u044f \\u0438 \\u043e\\u0442\\u043d\\u043e\\u0441\\u0438\\u0442\\u0441\\u044f \\u043a \\u043a\\u043e\\u043d\\u0446\\u0443 1930-\\u0445 \\u0433\\u043e\\u0434\\u043e\\u0432, \\u043a\\u043e\\u0433\\u0434\\u0430 \\u043f\\u043e\\u0441\\u043b\\u0435 \\u043d\\u0435\\u0441\\u043a\\u043e\\u043b\\u044c\\u043a\\u0438\\u0445 \\u043b\\u0435\\u0442 \\u0437\\u0430\\u043f\\u0440\\u0435\\u0442\\u0430 \\u0432\\u043d\\u043e\\u0432\\u044c \\u0431\\u044b\\u043b\\u0430 \\u0440\\u0430\\u0437\\u0440\\u0435\\u0448\\u0435\\u043d\\u0430 \\u0451\\u043b\\u043a\\u0430. \\u041f\\u0440\\u043e\\u043e\\u0431\\u0440\\u0430\\u0437\\u0430\\u043c\\u0438 \\u0414\\u0435\\u0434\\u0430 \\u041c\\u043e\\u0440\\u043e\\u0437\\u0430 \\u044f\\u0432\\u043b\\u044f\\u044e\\u0442\\u0441\\u044f \\u043f\\u0435\\u0440\\u0441\\u043e\\u043d\\u0430\\u0436 \\u0441\\u043b\\u0430\\u0432\\u044f\\u043d\\u0441\\u043a\\u043e\\u0433\\u043e \\u0441\\u043a\\u0430\\u0437\\u043e\\u0447\\u043d\\u043e\\u0433\\u043e \\u0444\\u043e\\u043b\\u044c\\u043a\\u043b\\u043e\\u0440\\u0430 \\u0438 \\u043a\\u0430\\u043b\\u0435\\u043d\\u0434\\u0430\\u0440\\u043d\\u044b\\u0445 \\u043e\\u0431\\u0440\\u044f\\u0434\\u043e\\u0432 \\u0438 \\u0421\\u0432\\u044f\\u0442\\u043e\\u0439 \\u041d\\u0438\\u043a\\u043e\\u043b\\u0430\\u0439. \\u0414\\u0435\\u0434 \\u041c\\u043e\\u0440\\u043e\\u0437 \\u0438\\u0437\\u043e\\u0431\\u0440\\u0430\\u0436\\u0430\\u0435\\u0442\\u0441\\u044f \\u043a\\u0430\\u043a \\u0441\\u0442\\u0430\\u0440\\u0438\\u043a \\u0432 \\u0446\\u0432\\u0435\\u0442\\u043d\\u043e\\u0439 \\u2014 \\u0433\\u043e\\u043b\\u0443\\u0431\\u043e\\u0439, \\u0441\\u0438\\u043d\\u0435\\u0439, \\u043a\\u0440\\u0430\\u0441\\u043d\\u043e\\u0439 \\u0438\\u043b\\u0438 \\u0431\\u0435\\u043b\\u043e\\u0439 \\u0448\\u0443\\u0431\\u0435, \\u0441 \\u0434\\u043b\\u0438\\u043d\\u043d\\u043e\\u0439 \\u0431\\u0435\\u043b\\u043e\\u0439 \\u0431\\u043e\\u0440\\u043e\\u0434\\u043e\\u0439 \\u0438 \\u043f\\u043e\\u0441\\u043e\\u0445\\u043e\\u043c \\u0432 \\u0440\\u0443\\u043a\\u0435, \\u0432 \\u0432\\u0430\\u043b\\u0435\\u043d\\u043a\\u0430\\u0445. \\u0415\\u0437\\u0434\\u0438\\u0442 \\u043d\\u0430 \\u0442\\u0440\\u043e\\u0439\\u043a\\u0435 \\u043b\\u043e\\u0448\\u0430\\u0434\\u0435\\u0439.\",\n          \"\\u041a\\u0440\\u0443\\u043f\\u043d\\u044b\\u0435 \\u043f\\u043e\\u0434\\u0432\\u043e\\u0434\\u043d\\u044b\\u0435 \\u043d\\u0430\\u0441\\u0442\\u0443\\u043f\\u0430\\u0442\\u0435\\u043b\\u044c\\u043d\\u044b\\u0435 \\u043e\\u043f\\u0435\\u0440\\u0430\\u0446\\u0438\\u0438 \\u043e\\u0441\\u0443\\u0449\\u0435\\u0441\\u0442\\u0432\\u043b\\u044f\\u043b\\u0438\\u0441\\u044c \\u0432 \\u043e\\u0442\\u043d\\u043e\\u0448\\u0435\\u043d\\u0438\\u0438 \\u0433\\u0440\\u0443\\u0437\\u043e\\u0432\\u044b\\u0445 \\u043a\\u043e\\u0440\\u0430\\u0431\\u043b\\u0435\\u0439 \\u0443 \\u0430\\u0432\\u0441\\u0442\\u0440\\u0430\\u043b\\u0438\\u0439\\u0441\\u043a\\u043e\\u0433\\u043e \\u0432\\u043e\\u0441\\u0442\\u043e\\u0447\\u043d\\u043e\\u0433\\u043e \\u043f\\u043e\\u0431\\u0435\\u0440\\u0435\\u0436\\u044c\\u044f \\u0441 \\u043c\\u0430\\u044f \\u043f\\u043e \\u0438\\u044e\\u043b\\u044c 1942 \\u0433\\u043e\\u0434\\u0430 \\u0438 \\u0441 \\u044f\\u043d\\u0432\\u0430\\u0440\\u044f \\u043f\\u043e \\u0438\\u044e\\u043b\\u044c 1943 \\u0433\\u043e\\u0434\\u0430. \\u0412\\u0435\\u0447\\u0435\\u0440\\u043e\\u043c 31 \\u043c\\u0430\\u044f/\\u0443\\u0442\\u0440\\u043e\\u043c 1 \\u0438\\u044e\\u043d\\u044f 1942 \\u0433\\u043e\\u0434\\u0430 \\u0430\\u0432\\u0441\\u0442\\u0440\\u0430\\u043b\\u0438\\u0439\\u0441\\u043a\\u0430\\u044f \\u0433\\u0430\\u0432\\u0430\\u043d\\u044c \\u043f\\u043e\\u043f\\u0430\\u043b\\u0430 \\u043f\\u043e\\u0434 \\u043f\\u0440\\u044f\\u043c\\u043e\\u0439 \\u0443\\u0434\\u0430\\u0440 \\u044f\\u043f\\u043e\\u043d\\u0441\\u043a\\u0438\\u0445 \\u0441\\u0432\\u0435\\u0440\\u0445\\u043c\\u0430\\u043b\\u044b\\u0445 \\u043f\\u043e\\u0434\\u0432\\u043e\\u0434\\u043d\\u044b\\u0445 \\u043b\\u043e\\u0434\\u043e\\u043a. \\u0412 \\u0440\\u0435\\u0437\\u0443\\u043b\\u044c\\u0442\\u0430\\u0442\\u0435 \\u0443\\u0434\\u0430\\u0440\\u0430 \\u043f\\u043b\\u0430\\u0432\\u0443\\u0447\\u0430\\u044f \\u0431\\u0430\\u0437\\u0430 HMAS Kuttabul, \\u043f\\u0435\\u0440\\u0435\\u0434\\u0435\\u043b\\u0430\\u043d\\u043d\\u0430\\u044f \\u043f\\u043e\\u0434 \\u043f\\u0430\\u0440\\u043e\\u043c \\u0438 \\u0438\\u0441\\u043f\\u043e\\u043b\\u044c\\u0437\\u0443\\u0435\\u043c\\u0430\\u044f \\u043a\\u0430\\u043a \\u043f\\u043b\\u0430\\u0432\\u0443\\u0447\\u0430\\u044f \\u043a\\u0430\\u0437\\u0430\\u0440\\u043c\\u0430, \\u0431\\u044b\\u043b\\u0430 \\u043f\\u043e\\u0434\\u0431\\u0438\\u0442\\u0430 \\u0438 \\u0437\\u0430\\u0442\\u043e\\u043d\\u0443\\u043b\\u0430. \\u0411\\u044b\\u043b\\u0438 \\u0443\\u0431\\u0438\\u0442\\u044b 22 \\u043c\\u043e\\u0440\\u044f\\u043a\\u0430, \\u0441\\u0440\\u0435\\u0434\\u0438 \\u043a\\u043e\\u0442\\u043e\\u0440\\u044b\\u0445 \\u0431\\u044b\\u043b\\u043e 19 \\u0430\\u0432\\u0441\\u0442\\u0440\\u0430\\u043b\\u0438\\u0439\\u0446\\u0435\\u0432 \\u0438 2 \\u0447\\u043b\\u0435\\u043d\\u0430 \\u041a\\u043e\\u0440\\u043e\\u043b\\u0435\\u0432\\u0441\\u043a\\u043e\\u0433\\u043e \\u0412\\u043e\\u0435\\u043d\\u043d\\u043e-\\u041c\\u043e\\u0440\\u0441\\u043a\\u043e\\u0433\\u043e \\u0424\\u043b\\u043e\\u0442\\u0430. \\u0412\\u043e \\u0432\\u0440\\u0435\\u043c\\u044f \\u0412\\u0442\\u043e\\u0440\\u043e\\u0439 \\u041c\\u0438\\u0440\\u043e\\u0432\\u043e\\u0439 \\u0432\\u043e\\u0439\\u043d\\u044b \\u0432 \\u0440\\u0430\\u0439\\u043e\\u043d\\u0435 \\u041a\\u0438\\u043c\\u0431\\u0435\\u0440\\u043b\\u0438 \\u0417\\u0430\\u043f\\u0430\\u0434\\u043d\\u043e\\u0439 \\u0410\\u0432\\u0441\\u0442\\u0440\\u0430\\u043b\\u0438\\u0438 \\u0434\\u0435\\u0439\\u0441\\u0442\\u0432\\u043e\\u0432\\u0430\\u043b\\u0430 \\u044f\\u043f\\u043e\\u043d\\u0441\\u043a\\u0430\\u044f \\u0440\\u0430\\u0437\\u0432\\u0435\\u0434\\u043a\\u0430, \\u0440\\u0430\\u0441\\u0441\\u043b\\u0435\\u0434\\u043e\\u0432\\u0430\\u0432\\u0448\\u0430\\u044f \\u043f\\u043e\\u0441\\u0442\\u0443\\u043f\\u0430\\u044e\\u0449\\u0438\\u0435 \\u0441\\u043e\\u043e\\u0431\\u0449\\u0435\\u043d\\u0438\\u044f, \\u0447\\u0442\\u043e \\u0441\\u043e\\u044e\\u0437\\u043d\\u0438\\u043a\\u0438 \\u0441\\u0442\\u0440\\u043e\\u0438\\u043b\\u0438 \\u0442\\u0430\\u043c \\u0432\\u043e\\u0435\\u043d\\u043d\\u044b\\u0435 \\u0431\\u0430\\u0437\\u044b.\",\n          \"\\u042d\\u043d\\u0435\\u0440\\u0433\\u0435\\u0442\\u0438\\u0447\\u0435\\u0441\\u043a\\u0438\\u0435 \\u043d\\u0430\\u043f\\u0438\\u0442\\u043a\\u0438   \\u2014 \\u043d\\u0430\\u043f\\u0438\\u0442\\u043a\\u0438, \\u0432 \\u043a\\u043e\\u0442\\u043e\\u0440\\u044b\\u0445 \\u0434\\u0435\\u043b\\u0430\\u0435\\u0442\\u0441\\u044f \\u0430\\u043a\\u0446\\u0435\\u043d\\u0442 \\u043d\\u0430 \\u0438\\u0445 \\u0441\\u043f\\u043e\\u0441\\u043e\\u0431\\u043d\\u043e\\u0441\\u0442\\u044c \\u0441\\u0442\\u0438\\u043c\\u0443\\u043b\\u0438\\u0440\\u043e\\u0432\\u0430\\u0442\\u044c \\u0446\\u0435\\u043d\\u0442\\u0440\\u0430\\u043b\\u044c\\u043d\\u0443\\u044e \\u043d\\u0435\\u0440\\u0432\\u043d\\u0443\\u044e \\u0441\\u0438\\u0441\\u0442\\u0435\\u043c\\u0443 \\u0447\\u0435\\u043b\\u043e\\u0432\\u0435\\u043a\\u0430 \\u0438/\\u0438\\u043b\\u0438 \\u0430\\u043d\\u0442\\u0438\\u0441\\u0435\\u0434\\u0430\\u0442\\u0438\\u0432\\u043d\\u044b\\u0439 \\u044d\\u0444\\u0444\\u0435\\u043a\\u0442. \\u041d\\u0430\\u043f\\u0438\\u0442\\u043a\\u0438 \\u0441\\u043e\\u0434\\u0435\\u0440\\u0436\\u0430\\u0442 \\u0442\\u043e\\u043d\\u0438\\u0437\\u0438\\u0440\\u0443\\u044e\\u0449\\u0438\\u0435 \\u0432\\u0435\\u0449\\u0435\\u0441\\u0442\\u0432\\u0430, \\u0447\\u0430\\u0449\\u0435 \\u0432\\u0441\\u0435\\u0433\\u043e \\u043a\\u043e\\u0444\\u0435\\u0438\\u043d , \\u0438 \\u0434\\u0440\\u0443\\u0433\\u0438\\u0435 \\u0441\\u0442\\u0438\\u043c\\u0443\\u043b\\u044f\\u0442\\u043e\\u0440\\u044b: \\u0442\\u0435\\u043e\\u0431\\u0440\\u043e\\u043c\\u0438\\u043d \\u0438 \\u0442\\u0435\\u043e\\u0444\\u0438\\u043b\\u043b\\u0438\\u043d , \\u0442\\u0430\\u043a\\u0436\\u0435 \\u044f\\u0432\\u043b\\u044f\\u044e\\u0449\\u0438\\u0435\\u0441\\u044f \\u0433\\u043e\\u043c\\u043e\\u043b\\u043e\\u0433\\u0430\\u043c\\u0438 \\u043a\\u043e\\u0444\\u0435\\u0438\\u043d\\u0430, \\u0430 \\u0442\\u0430\\u043a\\u0436\\u0435 \\u043d\\u0435\\u0440\\u0435\\u0434\\u043a\\u043e \\u0432\\u0438\\u0442\\u0430\\u043c\\u0438\\u043d\\u044b \\u043a\\u0430\\u043a \\u043b\\u0435\\u0433\\u043a\\u043e\\u0443\\u0441\\u0432\\u0430\\u0438\\u0432\\u0430\\u0435\\u043c\\u044b\\u0439 \\u0438\\u0441\\u0442\\u043e\\u0447\\u043d\\u0438\\u043a \\u044d\\u043d\\u0435\\u0440\\u0433\\u0438\\u0438 \\u2014 \\u0443\\u0433\\u043b\\u0435\\u0432\\u043e\\u0434\\u044b ,[\\u043f\\u0440\\u043e\\u044f\\u0441\\u043d\\u0438\\u0442\\u044c]  \\u0430\\u0434\\u0430\\u043f\\u0442\\u043e\\u0433\\u0435\\u043d\\u044b \\u0438 \\u0442. \\u0434. \\u0412 \\u043f\\u043e\\u0441\\u043b\\u0435\\u0434\\u043d\\u0435\\u0435 \\u0432\\u0440\\u0435\\u043c\\u044f \\u0434\\u043e\\u0431\\u0430\\u0432\\u043b\\u044f\\u0435\\u0442\\u0441\\u044f \\u0442\\u0430\\u0443\\u0440\\u0438\\u043d. \\u0412 \\u0444\\u0435\\u0432\\u0440\\u0430\\u043b\\u0435 2009 \\u0433. \\u0415\\u0432\\u0440\\u043e\\u043f\\u0435\\u0439\\u0441\\u043a\\u043e\\u0435 \\u0443\\u043f\\u0440\\u0430\\u0432\\u043b\\u0435\\u043d\\u0438\\u0435 \\u043f\\u043e \\u0431\\u0435\\u0437\\u043e\\u043f\\u0430\\u0441\\u043d\\u043e\\u0441\\u0442\\u0438 \\u043f\\u0438\\u0449\\u0435\\u0432\\u044b\\u0445 \\u043f\\u0440\\u043e\\u0434\\u0443\\u043a\\u0442\\u043e\\u0432  \\u043e\\u043f\\u0443\\u0431\\u043b\\u0438\\u043a\\u043e\\u0432\\u0430\\u043b\\u043e \\u0441\\u0432\\u043e\\u0451 \\u043d\\u0430\\u0443\\u0447\\u043d\\u043e\\u0435 \\u0437\\u0430\\u043a\\u043b\\u044e\\u0447\\u0435\\u043d\\u0438\\u0435 \\u043f\\u043e \\u0442\\u0430\\u0443\\u0440\\u0438\\u043d\\u0443 \\u0438 \\u0433\\u043b\\u044e\\u043a\\u0443\\u0440\\u043e\\u043d\\u043e\\u043b\\u0430\\u043a\\u0442\\u043e\\u043d\\u0443 \\u043a\\u0430\\u043a \\u0438\\u043d\\u0433\\u0440\\u0435\\u0434\\u0438\\u0435\\u043d\\u0442\\u0430\\u043c \\u0431\\u0435\\u0437\\u0430\\u043b\\u043a\\u043e\\u0433\\u043e\\u043b\\u044c\\u043d\\u044b\\u0445 \\u0442\\u043e\\u043d\\u0438\\u0437\\u0438\\u0440\\u0443\\u044e\\u0449\\u0438\\u0445 \\u044d\\u043d\\u0435\\u0440\\u0433\\u0435\\u0442\\u0438\\u0447\\u0435\\u0441\\u043a\\u0438\\u0445 \\u043d\\u0430\\u043f\\u0438\\u0442\\u043a\\u043e\\u0432. \\u0412 \\u0437\\u0430\\u043a\\u043b\\u044e\\u0447\\u0435\\u043d\\u0438\\u0438 EFSA \\u043f\\u043e\\u0434\\u0442\\u0432\\u0435\\u0440\\u0436\\u0434\\u0435\\u043d\\u043e, \\u0447\\u0442\\u043e \\u044d\\u0442\\u0438 \\u0438\\u043d\\u0433\\u0440\\u0435\\u0434\\u0438\\u0435\\u043d\\u0442\\u044b \\u0432 \\u0442\\u0435\\u0445 \\u043a\\u043e\\u043b\\u0438\\u0447\\u0435\\u0441\\u0442\\u0432\\u0430\\u0445, \\u0432 \\u043a\\u043e\\u0442\\u043e\\u0440\\u044b\\u0445 \\u043e\\u043d\\u0438 \\u0441\\u043e\\u0434\\u0435\\u0440\\u0436\\u0430\\u0442\\u0441\\u044f \\u0432 \\u044d\\u043d\\u0435\\u0440\\u0433\\u0435\\u0442\\u0438\\u0447\\u0435\\u0441\\u043a\\u0438\\u0445 \\u043d\\u0430\\u043f\\u0438\\u0442\\u043a\\u0430\\u0445, \\u0431\\u0435\\u0437\\u043e\\u043f\\u0430\\u0441\\u043d\\u044b \\u0434\\u043b\\u044f \\u0437\\u0434\\u043e\\u0440\\u043e\\u0432\\u044c\\u044f \\u0447\\u0435\\u043b\\u043e\\u0432\\u0435\\u043a\\u0430. \\u042d\\u043d\\u0435\\u0440\\u0433\\u0435\\u0442\\u0438\\u043a \\u2014 \\u0441\\u0440\\u0435\\u0434\\u043d\\u0435- \\u0438\\u043b\\u0438 \\u0441\\u0438\\u043b\\u044c\\u043d\\u043e\\u0433\\u0430\\u0437\\u0438\\u0440\\u043e\\u0432\\u0430\\u043d\\u043d\\u044b\\u0439 \\u043d\\u0430\\u043f\\u0438\\u0442\\u043e\\u043a ), \\u0442\\u0430\\u043a \\u043a\\u0430\\u043a \\u044d\\u0442\\u043e \\u0441\\u043f\\u043e\\u0441\\u043e\\u0431\\u0441\\u0442\\u0432\\u0443\\u0435\\u0442 \\u0431\\u043e\\u043b\\u0435\\u0435 \\u0431\\u044b\\u0441\\u0442\\u0440\\u043e\\u043c\\u0443 \\u0443\\u0441\\u0432\\u043e\\u0435\\u043d\\u0438\\u044e \\u043a\\u043e\\u043c\\u043f\\u043e\\u043d\\u0435\\u043d\\u0442\\u043e\\u0432 \\u0438 \\u0431\\u044b\\u0441\\u0442\\u0440\\u043e\\u043c\\u0443 \\u043d\\u0430\\u0441\\u0442\\u0443\\u043f\\u043b\\u0435\\u043d\\u0438\\u044e \\u044d\\u0444\\u0444\\u0435\\u043a\\u0442\\u0430 \\u0441 \\u043e\\u0434\\u043d\\u043e\\u0439 \\u0441\\u0442\\u043e\\u0440\\u043e\\u043d\\u044b, \\u0430 \\u0441 \\u0434\\u0440\\u0443\\u0433\\u043e\\u0439 - \\u0438\\u0441\\u043f\\u043e\\u043b\\u044c\\u0437\\u0443\\u0435\\u0442\\u0441\\u044f \\u0434\\u043b\\u044f \\u0431\\u0435\\u0437\\u043e\\u043f\\u0430\\u0441\\u043d\\u043e\\u0433\\u043e \\u043a\\u043e\\u043d\\u0441\\u0435\\u0440\\u0432\\u0438\\u0440\\u043e\\u0432\\u0430\\u043d\\u0438\\u044f \\u043f\\u0440\\u043e\\u0434\\u0443\\u043a\\u0442\\u0430.\"\n        ],\n        \"semantic_type\": \"\",\n        \"description\": \"\"\n      }\n    },\n    {\n      \"column\": \"label\",\n      \"properties\": {\n        \"dtype\": \"number\",\n        \"std\": 0,\n        \"min\": 0,\n        \"max\": 0,\n        \"num_unique_values\": 1,\n        \"samples\": [\n          0\n        ],\n        \"semantic_type\": \"\",\n        \"description\": \"\"\n      }\n    },\n    {\n      \"column\": \"prediction\",\n      \"properties\": {\n        \"dtype\": \"number\",\n        \"std\": 0,\n        \"min\": 1,\n        \"max\": 1,\n        \"num_unique_values\": 1,\n        \"samples\": [\n          1\n        ],\n        \"semantic_type\": \"\",\n        \"description\": \"\"\n      }\n    }\n  ]\n}",
              "type": "dataframe"
            },
            "text/html": [
              "\n",
              "  <div id=\"df-8c1abf08-ca2c-44ca-a436-46714ae3b4a0\" class=\"colab-df-container\">\n",
              "    <div>\n",
              "<style scoped>\n",
              "    .dataframe tbody tr th:only-of-type {\n",
              "        vertical-align: middle;\n",
              "    }\n",
              "\n",
              "    .dataframe tbody tr th {\n",
              "        vertical-align: top;\n",
              "    }\n",
              "\n",
              "    .dataframe thead th {\n",
              "        text-align: right;\n",
              "    }\n",
              "</style>\n",
              "<table border=\"1\" class=\"dataframe\">\n",
              "  <thead>\n",
              "    <tr style=\"text-align: right;\">\n",
              "      <th></th>\n",
              "      <th>question</th>\n",
              "      <th>passage</th>\n",
              "      <th>label</th>\n",
              "      <th>prediction</th>\n",
              "    </tr>\n",
              "  </thead>\n",
              "  <tbody>\n",
              "    <tr>\n",
              "      <th>0</th>\n",
              "      <td>Есть ли в энергетиках наркотические вещества?</td>\n",
              "      <td>Энергетические напитки   — напитки, в которых делается акцент на их способность стимулировать центральную нервную систему человека и/или антиседативный эффект. Напитки содержат тонизирующие вещества, чаще всего кофеин , и другие стимуляторы: теобромин и теофиллин , также являющиеся гомологами кофеина, а также нередко витамины как легкоусваиваемый источник энергии — углеводы ,[прояснить]  адаптогены и т. д. В последнее время добавляется таурин. В феврале 2009 г. Европейское управление по безопасности пищевых продуктов  опубликовало своё научное заключение по таурину и глюкуронолактону как ингредиентам безалкогольных тонизирующих энергетических напитков. В заключении EFSA подтверждено, что эти ингредиенты в тех количествах, в которых они содержатся в энергетических напитках, безопасны для здоровья человека. Энергетик — средне- или сильногазированный напиток ), так как это способствует более быстрому усвоению компонентов и быстрому наступлению эффекта с одной стороны, а с другой - используется для безопасного консервирования продукта.</td>\n",
              "      <td>0</td>\n",
              "      <td>1</td>\n",
              "    </tr>\n",
              "    <tr>\n",
              "      <th>1</th>\n",
              "      <td>Едят ли бургеры ножом и вилкой?</td>\n",
              "      <td>Еда, предназначенная для употребления руками — пища, которую едят при помощи одних только рук, без столовых приборов — ложек, вилок, ножей, палочек для еды и так далее. Для поедания руками изготовляются как не требующие разделения и целиком удерживаемые в руке небольшие блюда, так и блюда, разрезаемые или разрываемые на куски. В некоторых культурах бо́льшая часть блюд или все блюда употребляются руками: к примеру, в эфиопской кухне почти все блюда употребляют, заворачивая их в лепёшку под названием «ынджера». В южноазиатской кухне пищу часто употребляют с помощью рук. В европейской культуре руками едят фаст-фуд и уличную еду.</td>\n",
              "      <td>0</td>\n",
              "      <td>1</td>\n",
              "    </tr>\n",
              "    <tr>\n",
              "      <th>8</th>\n",
              "      <td>Едят ли мясо вегетарианцы?</td>\n",
              "      <td>Вегетариа́нство — питание растительной и молочной пищей, а также яйцами, с отказом от мясной пищи животного происхождения. Некоторые варианты вегетарианской диеты могут исключать молочные продукты. Люди становятся вегетарианцами по различным причинам: этическим, экологическим, экономическим, медицинским, религиозным. Существуют различные виды вегетарианства. Наиболее строгой его разновидностью является веганство.</td>\n",
              "      <td>0</td>\n",
              "      <td>1</td>\n",
              "    </tr>\n",
              "    <tr>\n",
              "      <th>10</th>\n",
              "      <td>Едят ли яйца веганы?</td>\n",
              "      <td>Яйца не употребляются, прежде всего, по причине неприемлемого  содержания кур-несушек на птицефабриках. Другой важной причиной является тот факт, что часть яиц там используется для пополнения поголовья только несушек: вылупившихся цыплят мужского пола уничтожают . МёдВеганы не употребляют мёд, поскольку пчеловоды отбирают у пчёл полученный ими мёд, заменяя на сироп из рафинированного сахара, а также убивают отдельных пчёл  или «неудачных» маток и трутней). Пчелома́ткам обрезают крылья, так как местонахождение улья зависит от локации пчелома́тки. МехВеганы выступают как против охоты с целью добычи пушных зверей, так и против разведения зверей на зверофермах и последующего убийства с целью получения шкуры.</td>\n",
              "      <td>0</td>\n",
              "      <td>1</td>\n",
              "    </tr>\n",
              "    <tr>\n",
              "      <th>13</th>\n",
              "      <td>Был ли синорнитозавр блондином?</td>\n",
              "      <td>Исследование 2010-го года, проведённое Майком Бентоном и коллегами, установило, что ископаемые остатки нижнемелового Confuciusornis sanctus содержат меланосомы. Палеонтологи обнаружили эумеланосомы, отвечающие за чёрно-серый цвет, и феомеланосомы, придающие рыжевато-коричневые оттенки. В 2010 году Майкл Бентон и коллеги установили, что синорнитозавр обладал рыжевато-коричневым и чёрно-серым цветами. В 2011 году Райан Карни, Якоб Винтер, Мэттью Шоки, Лилиана д’Альба и Йорг Аккерман обнаружили фоссилизированные меланосомы на пере, приписываемом археоптериксу, которые показали, что исследуемых образец был преимущественно чёрным. Перо, вероятно, был кроющим, то есть частично покрывало первичные перья на крыльях.</td>\n",
              "      <td>0</td>\n",
              "      <td>1</td>\n",
              "    </tr>\n",
              "    <tr>\n",
              "      <th>15</th>\n",
              "      <td>Соблюдала ли швейцария нейтралитет во время наполеоновских войн?</td>\n",
              "      <td>После окончания наполеоновских войн, начиная с 1815 года Швейцария соблюдает политический и военный нейтралитет. Это позволило ей избежать разрушительных последствий двух мировых войн в ХХ веке. Однако так было не всегда. Начиная ещё со времён Древнего Рима находились желающие присоединить эти альпийские долины к своим владениям. Особенно интерес к ним возрос в средние века, когда они оказались на пересечении транспортных путей с севера Европы в Италию и с запада Европы на восток.</td>\n",
              "      <td>0</td>\n",
              "      <td>1</td>\n",
              "    </tr>\n",
              "    <tr>\n",
              "      <th>16</th>\n",
              "      <td>Была ли дуня счастлива с минским?</td>\n",
              "      <td>Уезжая, он предлагает подвезти Дуню до церкви на окраине села, куда та собиралась к обедне. Отец, считая Минского порядочным человеком, уговаривает дочь подчиниться. Вскоре отцом овладевает беспокойство и он идёт к церкви, но не находит там Дуню, а позднее узнаёт, что гусар увёз её далеко в Санкт-Петербург. Безутешный отец находит там Минского и просит вернуть дочь, ставшую содержанкой гусара. Минский прогоняет Вырина, заявив, что Дуня будет счастлива с ним и отвыкла от прежнего состояния.</td>\n",
              "      <td>0</td>\n",
              "      <td>1</td>\n",
              "    </tr>\n",
              "    <tr>\n",
              "      <th>19</th>\n",
              "      <td>Правда ли что среди славян не было язычников?</td>\n",
              "      <td>О внешнем виде славянских идолов можно судить по так называемому «Збручскому идолу», а также по описаниям в письменных источниках: известно, например, что идол Перуна, поставленный в Киеве князем Владимиром, был деревянным, с серебряной головой и золотыми усами. Славяне поклонялись идолам в открытых святилищах. Обычно у славян роль храма выполнял лес. Наличие храмовых помещений у славян не зафиксировано, однако они вполне могли иметь место, не оставив после себя следов, будучи деревянными. На капище проводились обряды поклонения идолам.</td>\n",
              "      <td>0</td>\n",
              "      <td>1</td>\n",
              "    </tr>\n",
              "    <tr>\n",
              "      <th>20</th>\n",
              "      <td>Правда ли что в зелёном чае нет кофеина?</td>\n",
              "      <td>Также замечено, что регулярно пьющие зелёный чай имеют более низкие возможности развития болезни сердца и развития некоторых видов рака, но зелёный чай не рекомендуется для профилактики рака молочной железы. Хотя зелёный чай недостаточно повышает скорость метаболизма, чтобы произвести немедленную потерю веса, но было замечено, что экстракт зелёного чая, содержащий полифенолы и кофеин, возобновляет термогенез и стимулирует окисление жиров, повышает скорость метаболизма на 4 % без увеличения частоты сердечных сокращений. Потребление зелёного чая в эпидемиологических исследованиях связано со снижением риска болезни сердца. Исследования на животных показали, что у них при этом может снижаться уровень холестерина. Тем не менее, по результатам нескольких кратких исследований на человеке, было обнаружено, что потребление чая не снижает уровень холестерина в организме человека.</td>\n",
              "      <td>0</td>\n",
              "      <td>1</td>\n",
              "    </tr>\n",
              "    <tr>\n",
              "      <th>21</th>\n",
              "      <td>Есть ли дед мороз?</td>\n",
              "      <td>Дед Моро́з — главный сказочный персонаж на празднике Нового года, славянский вариант рождественского дарителя. Известен  с 1840 года, но создание канонического образа Деда Мороза как обязательного персонажа новогоднего, а не рождественского праздника произошло в советское время и относится к концу 1930-х годов, когда после нескольких лет запрета вновь была разрешена ёлка. Прообразами Деда Мороза являются персонаж славянского сказочного фольклора и календарных обрядов и Святой Николай. Дед Мороз изображается как старик в цветной — голубой, синей, красной или белой шубе, с длинной белой бородой и посохом в руке, в валенках. Ездит на тройке лошадей.</td>\n",
              "      <td>0</td>\n",
              "      <td>1</td>\n",
              "    </tr>\n",
              "    <tr>\n",
              "      <th>22</th>\n",
              "      <td>Правда ли что войны в нячанге не было?</td>\n",
              "      <td>Авиабаза Няча́нг  — один из крупнейших объектов Военно-воздушных сил Республики Вьетнам , расположенный в городе Нячанг  на побережье Южно-Китайского моря. В ходе Вьетнамской войны с 1959 по 1975 годы использовалась подразделениями армии, военно-воздушных сил и корпуса морской пехоты военно-морского флота вооружённых сил США. После окончания войны в 1975 году авиабаза находилась под контролем Военно-воздушных сил Вьетнама, а также обеспечивала гражданские перевозки в Нячанг. В настоящее время аэропорт закрыт для всех коммерческих операций, которые с 2004 года обслуживаются в Международном аэропорту Камрань. База работала как учебный центр лётной подготовки 920 полка ВВС Народной армии Вьетнама.</td>\n",
              "      <td>0</td>\n",
              "      <td>1</td>\n",
              "    </tr>\n",
              "    <tr>\n",
              "      <th>24</th>\n",
              "      <td>Были ли подводные атаки на грузовые корабли у берегов австралии в 1941 году?</td>\n",
              "      <td>Крупные подводные наступательные операции осуществлялись в отношении грузовых кораблей у австралийского восточного побережья с мая по июль 1942 года и с января по июль 1943 года. Вечером 31 мая/утром 1 июня 1942 года австралийская гавань попала под прямой удар японских сверхмалых подводных лодок. В результате удара плавучая база HMAS Kuttabul, переделанная под паром и используемая как плавучая казарма, была подбита и затонула. Были убиты 22 моряка, среди которых было 19 австралийцев и 2 члена Королевского Военно-Морского Флота. Во время Второй Мировой войны в районе Кимберли Западной Австралии действовала японская разведка, расследовавшая поступающие сообщения, что союзники строили там военные базы.</td>\n",
              "      <td>0</td>\n",
              "      <td>1</td>\n",
              "    </tr>\n",
              "    <tr>\n",
              "      <th>25</th>\n",
              "      <td>Входит ли македония в евросоюз?</td>\n",
              "      <td>Республика Северная Македония является кандидатом на вступление в Европейский союз с 2005 года, но переговоры о вступлении ещё не начались. Вступление Северной Македонии в Европейский союз и НАТО является приоритетом правительства Северной Македонии. 26 июня 2018 года Совет Европейского союза принял решение об открытии переговоров о присоединении Северной Македонии к ЕС в июне 2019 года, если демократические реформы будут продолжены. Северная Македония подала заявку о вступлении в 2004 году, через тринадцать лет после обретения независимости от Югославии. По состоянию на июнь 2014 года, Республика Македония являлась одной из шести стран-кандидатов, вместе с Албанией, Исландией, Черногорией, Сербией и Турцией.</td>\n",
              "      <td>0</td>\n",
              "      <td>1</td>\n",
              "    </tr>\n",
              "    <tr>\n",
              "      <th>27</th>\n",
              "      <td>Пост-модерн это то же самое что и модернизм?</td>\n",
              "      <td>Постмодерни́зм  — понятие, отражающее структурно сходные явления в мировой общественной жизни и культуре второй половины XX века и начала XXI века. Он употребляется как для характеристики постнеклассического типа философствования, так и для комплекса стилей в художественном искусстве. Постмодерн — состояние современной культуры, включающее в себя своеобразную философскую позицию, выражающую формальную антитезу модернистскому искусству, а также массовую культуру современной эпохи.. Идеологами постмодерна декларируется, что в начале XX века классический тип мышления эпохи модерна меняется на неклассический, а в конце века — на постнеклассический. Формирование эпохи постмодерна проходило в 1960—1970-е годы, оно связано и логически вытекает из процессов эпохи модерна как реакция на кризис её идей, а также на так называемую «смерть» супероснований: бога , автора , человека . Предпосылки постмодернизма возникли гораздо раньше. Так в математике  Лобачевский ещё в 1829 году в работе «О началах геометрии» представил неевклидовую геометрию пространства, такую же свободную от противоречий, как и евклидовая.</td>\n",
              "      <td>0</td>\n",
              "      <td>1</td>\n",
              "    </tr>\n",
              "    <tr>\n",
              "      <th>31</th>\n",
              "      <td>Вреден ли алкоголь в малых количествах?</td>\n",
              "      <td>При длительном употреблении алкоголя на поверхности коры головного мозга наблюдаются кровоизлияния и некрозы участков мозга, приводящие к органическим изменениям нейронов. При употреблении больших количеств алкоголя может возникнуть разрыв капилляров головного мозга. Чрезмерное употребление алкоголя ассоциировано с нарушениями когнитивных функций мозга,  но в то же время существует статистически достоверное снижение риска нарушения когнитивных функций мозга, ассоциированное с умеренным потреблении алкоголя по сравнению с полным отказом от алкоголя в различных странах. Высокие концентрации алкоголя могут вызывать оксидативное повреждение нейронов. При употреблении в больших количествах  алкоголь вызывает гибель нейронов головного мозга.</td>\n",
              "      <td>0</td>\n",
              "      <td>1</td>\n",
              "    </tr>\n",
              "  </tbody>\n",
              "</table>\n",
              "</div>\n",
              "    <div class=\"colab-df-buttons\">\n",
              "\n",
              "  <div class=\"colab-df-container\">\n",
              "    <button class=\"colab-df-convert\" onclick=\"convertToInteractive('df-8c1abf08-ca2c-44ca-a436-46714ae3b4a0')\"\n",
              "            title=\"Convert this dataframe to an interactive table.\"\n",
              "            style=\"display:none;\">\n",
              "\n",
              "  <svg xmlns=\"http://www.w3.org/2000/svg\" height=\"24px\" viewBox=\"0 -960 960 960\">\n",
              "    <path d=\"M120-120v-720h720v720H120Zm60-500h600v-160H180v160Zm220 220h160v-160H400v160Zm0 220h160v-160H400v160ZM180-400h160v-160H180v160Zm440 0h160v-160H620v160ZM180-180h160v-160H180v160Zm440 0h160v-160H620v160Z\"/>\n",
              "  </svg>\n",
              "    </button>\n",
              "\n",
              "  <style>\n",
              "    .colab-df-container {\n",
              "      display:flex;\n",
              "      gap: 12px;\n",
              "    }\n",
              "\n",
              "    .colab-df-convert {\n",
              "      background-color: #E8F0FE;\n",
              "      border: none;\n",
              "      border-radius: 50%;\n",
              "      cursor: pointer;\n",
              "      display: none;\n",
              "      fill: #1967D2;\n",
              "      height: 32px;\n",
              "      padding: 0 0 0 0;\n",
              "      width: 32px;\n",
              "    }\n",
              "\n",
              "    .colab-df-convert:hover {\n",
              "      background-color: #E2EBFA;\n",
              "      box-shadow: 0px 1px 2px rgba(60, 64, 67, 0.3), 0px 1px 3px 1px rgba(60, 64, 67, 0.15);\n",
              "      fill: #174EA6;\n",
              "    }\n",
              "\n",
              "    .colab-df-buttons div {\n",
              "      margin-bottom: 4px;\n",
              "    }\n",
              "\n",
              "    [theme=dark] .colab-df-convert {\n",
              "      background-color: #3B4455;\n",
              "      fill: #D2E3FC;\n",
              "    }\n",
              "\n",
              "    [theme=dark] .colab-df-convert:hover {\n",
              "      background-color: #434B5C;\n",
              "      box-shadow: 0px 1px 3px 1px rgba(0, 0, 0, 0.15);\n",
              "      filter: drop-shadow(0px 1px 2px rgba(0, 0, 0, 0.3));\n",
              "      fill: #FFFFFF;\n",
              "    }\n",
              "  </style>\n",
              "\n",
              "    <script>\n",
              "      const buttonEl =\n",
              "        document.querySelector('#df-8c1abf08-ca2c-44ca-a436-46714ae3b4a0 button.colab-df-convert');\n",
              "      buttonEl.style.display =\n",
              "        google.colab.kernel.accessAllowed ? 'block' : 'none';\n",
              "\n",
              "      async function convertToInteractive(key) {\n",
              "        const element = document.querySelector('#df-8c1abf08-ca2c-44ca-a436-46714ae3b4a0');\n",
              "        const dataTable =\n",
              "          await google.colab.kernel.invokeFunction('convertToInteractive',\n",
              "                                                    [key], {});\n",
              "        if (!dataTable) return;\n",
              "\n",
              "        const docLinkHtml = 'Like what you see? Visit the ' +\n",
              "          '<a target=\"_blank\" href=https://colab.research.google.com/notebooks/data_table.ipynb>data table notebook</a>'\n",
              "          + ' to learn more about interactive tables.';\n",
              "        element.innerHTML = '';\n",
              "        dataTable['output_type'] = 'display_data';\n",
              "        await google.colab.output.renderOutput(dataTable, element);\n",
              "        const docLink = document.createElement('div');\n",
              "        docLink.innerHTML = docLinkHtml;\n",
              "        element.appendChild(docLink);\n",
              "      }\n",
              "    </script>\n",
              "  </div>\n",
              "\n",
              "\n",
              "<div id=\"df-1b928dc7-126c-4667-bd4e-eef1cdd7a1cc\">\n",
              "  <button class=\"colab-df-quickchart\" onclick=\"quickchart('df-1b928dc7-126c-4667-bd4e-eef1cdd7a1cc')\"\n",
              "            title=\"Suggest charts\"\n",
              "            style=\"display:none;\">\n",
              "\n",
              "<svg xmlns=\"http://www.w3.org/2000/svg\" height=\"24px\"viewBox=\"0 0 24 24\"\n",
              "     width=\"24px\">\n",
              "    <g>\n",
              "        <path d=\"M19 3H5c-1.1 0-2 .9-2 2v14c0 1.1.9 2 2 2h14c1.1 0 2-.9 2-2V5c0-1.1-.9-2-2-2zM9 17H7v-7h2v7zm4 0h-2V7h2v10zm4 0h-2v-4h2v4z\"/>\n",
              "    </g>\n",
              "</svg>\n",
              "  </button>\n",
              "\n",
              "<style>\n",
              "  .colab-df-quickchart {\n",
              "      --bg-color: #E8F0FE;\n",
              "      --fill-color: #1967D2;\n",
              "      --hover-bg-color: #E2EBFA;\n",
              "      --hover-fill-color: #174EA6;\n",
              "      --disabled-fill-color: #AAA;\n",
              "      --disabled-bg-color: #DDD;\n",
              "  }\n",
              "\n",
              "  [theme=dark] .colab-df-quickchart {\n",
              "      --bg-color: #3B4455;\n",
              "      --fill-color: #D2E3FC;\n",
              "      --hover-bg-color: #434B5C;\n",
              "      --hover-fill-color: #FFFFFF;\n",
              "      --disabled-bg-color: #3B4455;\n",
              "      --disabled-fill-color: #666;\n",
              "  }\n",
              "\n",
              "  .colab-df-quickchart {\n",
              "    background-color: var(--bg-color);\n",
              "    border: none;\n",
              "    border-radius: 50%;\n",
              "    cursor: pointer;\n",
              "    display: none;\n",
              "    fill: var(--fill-color);\n",
              "    height: 32px;\n",
              "    padding: 0;\n",
              "    width: 32px;\n",
              "  }\n",
              "\n",
              "  .colab-df-quickchart:hover {\n",
              "    background-color: var(--hover-bg-color);\n",
              "    box-shadow: 0 1px 2px rgba(60, 64, 67, 0.3), 0 1px 3px 1px rgba(60, 64, 67, 0.15);\n",
              "    fill: var(--button-hover-fill-color);\n",
              "  }\n",
              "\n",
              "  .colab-df-quickchart-complete:disabled,\n",
              "  .colab-df-quickchart-complete:disabled:hover {\n",
              "    background-color: var(--disabled-bg-color);\n",
              "    fill: var(--disabled-fill-color);\n",
              "    box-shadow: none;\n",
              "  }\n",
              "\n",
              "  .colab-df-spinner {\n",
              "    border: 2px solid var(--fill-color);\n",
              "    border-color: transparent;\n",
              "    border-bottom-color: var(--fill-color);\n",
              "    animation:\n",
              "      spin 1s steps(1) infinite;\n",
              "  }\n",
              "\n",
              "  @keyframes spin {\n",
              "    0% {\n",
              "      border-color: transparent;\n",
              "      border-bottom-color: var(--fill-color);\n",
              "      border-left-color: var(--fill-color);\n",
              "    }\n",
              "    20% {\n",
              "      border-color: transparent;\n",
              "      border-left-color: var(--fill-color);\n",
              "      border-top-color: var(--fill-color);\n",
              "    }\n",
              "    30% {\n",
              "      border-color: transparent;\n",
              "      border-left-color: var(--fill-color);\n",
              "      border-top-color: var(--fill-color);\n",
              "      border-right-color: var(--fill-color);\n",
              "    }\n",
              "    40% {\n",
              "      border-color: transparent;\n",
              "      border-right-color: var(--fill-color);\n",
              "      border-top-color: var(--fill-color);\n",
              "    }\n",
              "    60% {\n",
              "      border-color: transparent;\n",
              "      border-right-color: var(--fill-color);\n",
              "    }\n",
              "    80% {\n",
              "      border-color: transparent;\n",
              "      border-right-color: var(--fill-color);\n",
              "      border-bottom-color: var(--fill-color);\n",
              "    }\n",
              "    90% {\n",
              "      border-color: transparent;\n",
              "      border-bottom-color: var(--fill-color);\n",
              "    }\n",
              "  }\n",
              "</style>\n",
              "\n",
              "  <script>\n",
              "    async function quickchart(key) {\n",
              "      const quickchartButtonEl =\n",
              "        document.querySelector('#' + key + ' button');\n",
              "      quickchartButtonEl.disabled = true;  // To prevent multiple clicks.\n",
              "      quickchartButtonEl.classList.add('colab-df-spinner');\n",
              "      try {\n",
              "        const charts = await google.colab.kernel.invokeFunction(\n",
              "            'suggestCharts', [key], {});\n",
              "      } catch (error) {\n",
              "        console.error('Error during call to suggestCharts:', error);\n",
              "      }\n",
              "      quickchartButtonEl.classList.remove('colab-df-spinner');\n",
              "      quickchartButtonEl.classList.add('colab-df-quickchart-complete');\n",
              "    }\n",
              "    (() => {\n",
              "      let quickchartButtonEl =\n",
              "        document.querySelector('#df-1b928dc7-126c-4667-bd4e-eef1cdd7a1cc button');\n",
              "      quickchartButtonEl.style.display =\n",
              "        google.colab.kernel.accessAllowed ? 'block' : 'none';\n",
              "    })();\n",
              "  </script>\n",
              "</div>\n",
              "\n",
              "    </div>\n",
              "  </div>\n"
            ],
            "text/plain": [
              "                                                                        question  \\\n",
              "0                                  Есть ли в энергетиках наркотические вещества?   \n",
              "1                                                Едят ли бургеры ножом и вилкой?   \n",
              "8                                                     Едят ли мясо вегетарианцы?   \n",
              "10                                                          Едят ли яйца веганы?   \n",
              "13                                               Был ли синорнитозавр блондином?   \n",
              "15              Соблюдала ли швейцария нейтралитет во время наполеоновских войн?   \n",
              "16                                             Была ли дуня счастлива с минским?   \n",
              "19                                 Правда ли что среди славян не было язычников?   \n",
              "20                                      Правда ли что в зелёном чае нет кофеина?   \n",
              "21                                                            Есть ли дед мороз?   \n",
              "22                                        Правда ли что войны в нячанге не было?   \n",
              "24  Были ли подводные атаки на грузовые корабли у берегов австралии в 1941 году?   \n",
              "25                                               Входит ли македония в евросоюз?   \n",
              "27                                  Пост-модерн это то же самое что и модернизм?   \n",
              "31                                       Вреден ли алкоголь в малых количествах?   \n",
              "\n",
              "                                                                                                                                                                                                                                                                                                                                                                                                                                                                                                                                                                                                                                                                                                                                                                                                                                                                                                                                                                                                                                                                                                                                                      passage  \\\n",
              "0                                                                     Энергетические напитки   — напитки, в которых делается акцент на их способность стимулировать центральную нервную систему человека и/или антиседативный эффект. Напитки содержат тонизирующие вещества, чаще всего кофеин , и другие стимуляторы: теобромин и теофиллин , также являющиеся гомологами кофеина, а также нередко витамины как легкоусваиваемый источник энергии — углеводы ,[прояснить]  адаптогены и т. д. В последнее время добавляется таурин. В феврале 2009 г. Европейское управление по безопасности пищевых продуктов  опубликовало своё научное заключение по таурину и глюкуронолактону как ингредиентам безалкогольных тонизирующих энергетических напитков. В заключении EFSA подтверждено, что эти ингредиенты в тех количествах, в которых они содержатся в энергетических напитках, безопасны для здоровья человека. Энергетик — средне- или сильногазированный напиток ), так как это способствует более быстрому усвоению компонентов и быстрому наступлению эффекта с одной стороны, а с другой - используется для безопасного консервирования продукта.   \n",
              "1                                                                                                                                                                                                                                                                                                                                                                                                                                                                                                   Еда, предназначенная для употребления руками — пища, которую едят при помощи одних только рук, без столовых приборов — ложек, вилок, ножей, палочек для еды и так далее. Для поедания руками изготовляются как не требующие разделения и целиком удерживаемые в руке небольшие блюда, так и блюда, разрезаемые или разрываемые на куски. В некоторых культурах бо́льшая часть блюд или все блюда употребляются руками: к примеру, в эфиопской кухне почти все блюда употребляют, заворачивая их в лепёшку под названием «ынджера». В южноазиатской кухне пищу часто употребляют с помощью рук. В европейской культуре руками едят фаст-фуд и уличную еду.   \n",
              "8                                                                                                                                                                                                                                                                                                                                                                                                                                                                                                                                                                                                                                                                                                                            Вегетариа́нство — питание растительной и молочной пищей, а также яйцами, с отказом от мясной пищи животного происхождения. Некоторые варианты вегетарианской диеты могут исключать молочные продукты. Люди становятся вегетарианцами по различным причинам: этическим, экологическим, экономическим, медицинским, религиозным. Существуют различные виды вегетарианства. Наиболее строгой его разновидностью является веганство.   \n",
              "10                                                                                                                                                                                                                                                                                                                                                                                                                  Яйца не употребляются, прежде всего, по причине неприемлемого  содержания кур-несушек на птицефабриках. Другой важной причиной является тот факт, что часть яиц там используется для пополнения поголовья только несушек: вылупившихся цыплят мужского пола уничтожают . МёдВеганы не употребляют мёд, поскольку пчеловоды отбирают у пчёл полученный ими мёд, заменяя на сироп из рафинированного сахара, а также убивают отдельных пчёл  или «неудачных» маток и трутней). Пчелома́ткам обрезают крылья, так как местонахождение улья зависит от локации пчелома́тки. МехВеганы выступают как против охоты с целью добычи пушных зверей, так и против разведения зверей на зверофермах и последующего убийства с целью получения шкуры.   \n",
              "13                                                                                                                                                                                                                                                                                                                                                                                                              Исследование 2010-го года, проведённое Майком Бентоном и коллегами, установило, что ископаемые остатки нижнемелового Confuciusornis sanctus содержат меланосомы. Палеонтологи обнаружили эумеланосомы, отвечающие за чёрно-серый цвет, и феомеланосомы, придающие рыжевато-коричневые оттенки. В 2010 году Майкл Бентон и коллеги установили, что синорнитозавр обладал рыжевато-коричневым и чёрно-серым цветами. В 2011 году Райан Карни, Якоб Винтер, Мэттью Шоки, Лилиана д’Альба и Йорг Аккерман обнаружили фоссилизированные меланосомы на пере, приписываемом археоптериксу, которые показали, что исследуемых образец был преимущественно чёрным. Перо, вероятно, был кроющим, то есть частично покрывало первичные перья на крыльях.   \n",
              "15                                                                                                                                                                                                                                                                                                                                                                                                                                                                                                                                                                                                                                                      После окончания наполеоновских войн, начиная с 1815 года Швейцария соблюдает политический и военный нейтралитет. Это позволило ей избежать разрушительных последствий двух мировых войн в ХХ веке. Однако так было не всегда. Начиная ещё со времён Древнего Рима находились желающие присоединить эти альпийские долины к своим владениям. Особенно интерес к ним возрос в средние века, когда они оказались на пересечении транспортных путей с севера Европы в Италию и с запада Европы на восток.   \n",
              "16                                                                                                                                                                                                                                                                                                                                                                                                                                                                                                                                                                                                                                             Уезжая, он предлагает подвезти Дуню до церкви на окраине села, куда та собиралась к обедне. Отец, считая Минского порядочным человеком, уговаривает дочь подчиниться. Вскоре отцом овладевает беспокойство и он идёт к церкви, но не находит там Дуню, а позднее узнаёт, что гусар увёз её далеко в Санкт-Петербург. Безутешный отец находит там Минского и просит вернуть дочь, ставшую содержанкой гусара. Минский прогоняет Вырина, заявив, что Дуня будет счастлива с ним и отвыкла от прежнего состояния.   \n",
              "19                                                                                                                                                                                                                                                                                                                                                                                                                                                                                                                                                                                             О внешнем виде славянских идолов можно судить по так называемому «Збручскому идолу», а также по описаниям в письменных источниках: известно, например, что идол Перуна, поставленный в Киеве князем Владимиром, был деревянным, с серебряной головой и золотыми усами. Славяне поклонялись идолам в открытых святилищах. Обычно у славян роль храма выполнял лес. Наличие храмовых помещений у славян не зафиксировано, однако они вполне могли иметь место, не оставив после себя следов, будучи деревянными. На капище проводились обряды поклонения идолам.   \n",
              "20                                                                                                                                                                                                                                         Также замечено, что регулярно пьющие зелёный чай имеют более низкие возможности развития болезни сердца и развития некоторых видов рака, но зелёный чай не рекомендуется для профилактики рака молочной железы. Хотя зелёный чай недостаточно повышает скорость метаболизма, чтобы произвести немедленную потерю веса, но было замечено, что экстракт зелёного чая, содержащий полифенолы и кофеин, возобновляет термогенез и стимулирует окисление жиров, повышает скорость метаболизма на 4 % без увеличения частоты сердечных сокращений. Потребление зелёного чая в эпидемиологических исследованиях связано со снижением риска болезни сердца. Исследования на животных показали, что у них при этом может снижаться уровень холестерина. Тем не менее, по результатам нескольких кратких исследований на человеке, было обнаружено, что потребление чая не снижает уровень холестерина в организме человека.   \n",
              "21                                                                                                                                                                                                                                                                                                                                                                                                                                                                             Дед Моро́з — главный сказочный персонаж на празднике Нового года, славянский вариант рождественского дарителя. Известен  с 1840 года, но создание канонического образа Деда Мороза как обязательного персонажа новогоднего, а не рождественского праздника произошло в советское время и относится к концу 1930-х годов, когда после нескольких лет запрета вновь была разрешена ёлка. Прообразами Деда Мороза являются персонаж славянского сказочного фольклора и календарных обрядов и Святой Николай. Дед Мороз изображается как старик в цветной — голубой, синей, красной или белой шубе, с длинной белой бородой и посохом в руке, в валенках. Ездит на тройке лошадей.   \n",
              "22                                                                                                                                                                                                                                                                                                                                                                                                                            Авиабаза Няча́нг  — один из крупнейших объектов Военно-воздушных сил Республики Вьетнам , расположенный в городе Нячанг  на побережье Южно-Китайского моря. В ходе Вьетнамской войны с 1959 по 1975 годы использовалась подразделениями армии, военно-воздушных сил и корпуса морской пехоты военно-морского флота вооружённых сил США. После окончания войны в 1975 году авиабаза находилась под контролем Военно-воздушных сил Вьетнама, а также обеспечивала гражданские перевозки в Нячанг. В настоящее время аэропорт закрыт для всех коммерческих операций, которые с 2004 года обслуживаются в Международном аэропорту Камрань. База работала как учебный центр лётной подготовки 920 полка ВВС Народной армии Вьетнама.   \n",
              "24                                                                                                                                                                                                                                                                                                                                                                                                                       Крупные подводные наступательные операции осуществлялись в отношении грузовых кораблей у австралийского восточного побережья с мая по июль 1942 года и с января по июль 1943 года. Вечером 31 мая/утром 1 июня 1942 года австралийская гавань попала под прямой удар японских сверхмалых подводных лодок. В результате удара плавучая база HMAS Kuttabul, переделанная под паром и используемая как плавучая казарма, была подбита и затонула. Были убиты 22 моряка, среди которых было 19 австралийцев и 2 члена Королевского Военно-Морского Флота. Во время Второй Мировой войны в районе Кимберли Западной Австралии действовала японская разведка, расследовавшая поступающие сообщения, что союзники строили там военные базы.   \n",
              "25                                                                                                                                                                                                                                                                                                                                                                                                             Республика Северная Македония является кандидатом на вступление в Европейский союз с 2005 года, но переговоры о вступлении ещё не начались. Вступление Северной Македонии в Европейский союз и НАТО является приоритетом правительства Северной Македонии. 26 июня 2018 года Совет Европейского союза принял решение об открытии переговоров о присоединении Северной Македонии к ЕС в июне 2019 года, если демократические реформы будут продолжены. Северная Македония подала заявку о вступлении в 2004 году, через тринадцать лет после обретения независимости от Югославии. По состоянию на июнь 2014 года, Республика Македония являлась одной из шести стран-кандидатов, вместе с Албанией, Исландией, Черногорией, Сербией и Турцией.   \n",
              "27  Постмодерни́зм  — понятие, отражающее структурно сходные явления в мировой общественной жизни и культуре второй половины XX века и начала XXI века. Он употребляется как для характеристики постнеклассического типа философствования, так и для комплекса стилей в художественном искусстве. Постмодерн — состояние современной культуры, включающее в себя своеобразную философскую позицию, выражающую формальную антитезу модернистскому искусству, а также массовую культуру современной эпохи.. Идеологами постмодерна декларируется, что в начале XX века классический тип мышления эпохи модерна меняется на неклассический, а в конце века — на постнеклассический. Формирование эпохи постмодерна проходило в 1960—1970-е годы, оно связано и логически вытекает из процессов эпохи модерна как реакция на кризис её идей, а также на так называемую «смерть» супероснований: бога , автора , человека . Предпосылки постмодернизма возникли гораздо раньше. Так в математике  Лобачевский ещё в 1829 году в работе «О началах геометрии» представил неевклидовую геометрию пространства, такую же свободную от противоречий, как и евклидовая.   \n",
              "31                                                                                                                                                                                                                                                                                                                                                                                  При длительном употреблении алкоголя на поверхности коры головного мозга наблюдаются кровоизлияния и некрозы участков мозга, приводящие к органическим изменениям нейронов. При употреблении больших количеств алкоголя может возникнуть разрыв капилляров головного мозга. Чрезмерное употребление алкоголя ассоциировано с нарушениями когнитивных функций мозга,  но в то же время существует статистически достоверное снижение риска нарушения когнитивных функций мозга, ассоциированное с умеренным потреблении алкоголя по сравнению с полным отказом от алкоголя в различных странах. Высокие концентрации алкоголя могут вызывать оксидативное повреждение нейронов. При употреблении в больших количествах  алкоголь вызывает гибель нейронов головного мозга.   \n",
              "\n",
              "    label  prediction  \n",
              "0       0           1  \n",
              "1       0           1  \n",
              "8       0           1  \n",
              "10      0           1  \n",
              "13      0           1  \n",
              "15      0           1  \n",
              "16      0           1  \n",
              "19      0           1  \n",
              "20      0           1  \n",
              "21      0           1  \n",
              "22      0           1  \n",
              "24      0           1  \n",
              "25      0           1  \n",
              "27      0           1  \n",
              "31      0           1  "
            ]
          },
          "execution_count": 17,
          "metadata": {},
          "output_type": "execute_result"
        }
      ],
      "source": [
        "compare_labels(\"exp_preds/exp3_qwen_0.5b.jsonl\")"
      ]
    },
    {
      "cell_type": "markdown",
      "metadata": {
        "id": "xQ8yKK6RX-ce"
      },
      "source": [
        "Маленький Qwen делает ошибки, похожие на ошибки предыдущих моделей."
      ]
    },
    {
      "cell_type": "code",
      "execution_count": null,
      "metadata": {
        "colab": {
          "base_uri": "https://localhost:8080/",
          "height": 1000
        },
        "id": "nETtsTXBHrU6",
        "outputId": "588fc1cc-5cb1-44ba-cf87-3f8047dc5e5e"
      },
      "outputs": [
        {
          "data": {
            "application/vnd.google.colaboratory.intrinsic+json": {
              "summary": "{\n  \"name\": \"compare_labels(\\\"exp_preds/exp3_qwen_7b\",\n  \"rows\": 15,\n  \"fields\": [\n    {\n      \"column\": \"question\",\n      \"properties\": {\n        \"dtype\": \"string\",\n        \"num_unique_values\": 15,\n        \"samples\": [\n          \"\\u0421\\u043c\\u0430\\u0440\\u0442\\u0444\\u043e\\u043d \\u043b\\u0443\\u0447\\u0448\\u0435 \\u0442\\u0435\\u043b\\u0435\\u0444\\u043e\\u043d\\u0430?\",\n          \"\\u0420\\u0430\\u0437\\u0440\\u0435\\u0448\\u0435\\u043d\\u044b \\u043b\\u0438 \\u0432 \\u0444\\u0438\\u043d\\u043b\\u044f\\u043d\\u0434\\u0438\\u0438 \\u043e\\u0434\\u043d\\u043e\\u043f\\u043e\\u043b\\u044b\\u0435 \\u0431\\u0440\\u0430\\u043a\\u0438?\",\n          \"\\u0421\\u043e\\u0431\\u043b\\u044e\\u0434\\u0430\\u043b\\u0430 \\u043b\\u0438 \\u0448\\u0432\\u0435\\u0439\\u0446\\u0430\\u0440\\u0438\\u044f \\u043d\\u0435\\u0439\\u0442\\u0440\\u0430\\u043b\\u0438\\u0442\\u0435\\u0442 \\u0432\\u043e \\u0432\\u0440\\u0435\\u043c\\u044f \\u043d\\u0430\\u043f\\u043e\\u043b\\u0435\\u043e\\u043d\\u043e\\u0432\\u0441\\u043a\\u0438\\u0445 \\u0432\\u043e\\u0439\\u043d?\"\n        ],\n        \"semantic_type\": \"\",\n        \"description\": \"\"\n      }\n    },\n    {\n      \"column\": \"passage\",\n      \"properties\": {\n        \"dtype\": \"string\",\n        \"num_unique_values\": 14,\n        \"samples\": [\n          \"\\u041a\\u0430\\u043a \\u0438 \\u0432\\u0438\\u0440\\u0443\\u0441\\u043d\\u044b\\u0435 \\u043a\\u043e\\u043d\\u044a\\u044e\\u043d\\u043a\\u0442\\u0438\\u0432\\u0438\\u0442\\u044b, \\u0431\\u0430\\u043a\\u0442\\u0435\\u0440\\u0438\\u0430\\u043b\\u044c\\u043d\\u044b\\u0435, \\u0447\\u0430\\u0449\\u0435 \\u0432\\u0441\\u0435\\u0433\\u043e \\u043f\\u043e\\u0440\\u0430\\u0436\\u0430\\u044e\\u0442 \\u043b\\u0438\\u0448\\u044c \\u043e\\u0434\\u0438\\u043d \\u0433\\u043b\\u0430\\u0437, \\u043d\\u043e \\u0437\\u0430\\u0442\\u0435\\u043c \\u043b\\u0435\\u0433\\u043a\\u043e \\u043c\\u043e\\u0433\\u0443\\u0442 \\u043f\\u0435\\u0440\\u0435\\u0439\\u0442\\u0438 \\u0438 \\u043d\\u0430 \\u0434\\u0440\\u0443\\u0433\\u043e\\u0439. \\u041e\\u0431\\u044b\\u0447\\u043d\\u043e \\u0441\\u0438\\u043c\\u043f\\u0442\\u043e\\u043c\\u044b \\u043f\\u043e\\u044f\\u0432\\u043b\\u044f\\u044e\\u0442\\u0441\\u044f \\u043b\\u0438\\u0448\\u044c \\u043d\\u0430 \\u0442\\u0440\\u0435\\u0442\\u0438\\u0439 \\u0434\\u0435\\u043d\\u044c \\u043f\\u043e\\u0441\\u043b\\u0435 \\u0437\\u0430\\u0440\\u0430\\u0436\\u0435\\u043d\\u0438\\u044f. \\u041a\\u043e\\u043d\\u044a\\u044e\\u043d\\u043a\\u0442\\u0438\\u0432\\u0438\\u0442\\u044b, \\u0432\\u044b\\u0437\\u0432\\u0430\\u043d\\u043d\\u044b\\u0435 \\u043e\\u0442\\u0440\\u0430\\u0432\\u043b\\u044f\\u044e\\u0449\\u0438\\u043c\\u0438 \\u0438 \\u0442\\u043e\\u043a\\u0441\\u0438\\u0447\\u0435\\u0441\\u043a\\u0438\\u043c\\u0438 \\u0432\\u0435\\u0449\\u0435\\u0441\\u0442\\u0432\\u0430\\u043c\\u0438. \\u041e\\u0441\\u043d\\u043e\\u0432\\u043d\\u044b\\u0435 \\u0441\\u0438\\u043c\\u043f\\u0442\\u043e\\u043c\\u044b \\u2014 \\u0440\\u0430\\u0437\\u0434\\u0440\\u0430\\u0436\\u0435\\u043d\\u0438\\u0435 \\u0438 \\u0431\\u043e\\u043b\\u044c \\u0432 \\u0433\\u043b\\u0430\\u0437\\u0443, \\u043f\\u0440\\u0438 \\u043f\\u0435\\u0440\\u0435\\u043c\\u0435\\u0449\\u0435\\u043d\\u0438\\u0438 \\u0432\\u0437\\u0433\\u043b\\u044f\\u0434\\u0430 \\u0432\\u043d\\u0438\\u0437 \\u0438\\u043b\\u0438 \\u0432\\u0432\\u0435\\u0440\\u0445, \\u0430 \\u0442\\u0430\\u043a\\u0436\\u0435 \\u043f\\u043e\\u043a\\u0440\\u0430\\u0441\\u043d\\u0435\\u043d\\u0438\\u0435. \\u0411\\u043e\\u043b\\u044c \\u043f\\u0440\\u0438 \\u0434\\u0432\\u0438\\u0436\\u0435\\u043d\\u0438\\u0438 \\u0433\\u043b\\u0430\\u0437\\u043e\\u043c \\u0441\\u0432\\u044f\\u0437\\u0430\\u043d\\u0430 \\u0441 \\u0440\\u0430\\u0441\\u043f\\u0440\\u043e\\u0441\\u0442\\u0440\\u0430\\u043d\\u0435\\u043d\\u0438\\u0435\\u043c \\u0442\\u043e\\u043a\\u0441\\u0438\\u0447\\u0435\\u0441\\u043a\\u043e\\u0433\\u043e \\u0432\\u0435\\u0449\\u0435\\u0441\\u0442\\u0432\\u0430 \\u043f\\u043e \\u043f\\u043e\\u0432\\u0435\\u0440\\u0445\\u043d\\u043e\\u0441\\u0442\\u0438 \\u0433\\u043b\\u0430\\u0437\\u043d\\u043e\\u0433\\u043e \\u044f\\u0431\\u043b\\u043e\\u043a\\u0430.\",\n          \"\\u0422\\u0443\\u043b\\u044c\\u0441\\u043a\\u0430\\u044f \\u043d\\u0430\\u0441\\u0442\\u0443\\u043f\\u0430\\u0442\\u0435\\u043b\\u044c\\u043d\\u0430\\u044f \\u043e\\u043f\\u0435\\u0440\\u0430\\u0446\\u0438\\u044f  \\u2014 \\u043e\\u043f\\u0435\\u0440\\u0430\\u0446\\u0438\\u044f \\u0432\\u043e\\u0439\\u0441\\u043a \\u043b\\u0435\\u0432\\u043e\\u0433\\u043e \\u043a\\u0440\\u044b\\u043b\\u0430 \\u0417\\u0430\\u043f\\u0430\\u0434\\u043d\\u043e\\u0433\\u043e \\u0444\\u0440\\u043e\\u043d\\u0442\\u0430 \\u0432 \\u0412\\u0435\\u043b\\u0438\\u043a\\u043e\\u0439 \\u041e\\u0442\\u0435\\u0447\\u0435\\u0441\\u0442\\u0432\\u0435\\u043d\\u043d\\u043e\\u0439 \\u0432\\u043e\\u0439\\u043d\\u0435, \\u0447\\u0430\\u0441\\u0442\\u044c \\u041c\\u043e\\u0441\\u043a\\u043e\\u0432\\u0441\\u043a\\u043e\\u0439 \\u0441\\u0442\\u0440\\u0430\\u0442\\u0435\\u0433\\u0438\\u0447\\u0435\\u0441\\u043a\\u043e\\u0439 \\u043d\\u0430\\u0441\\u0442\\u0443\\u043f\\u0430\\u0442\\u0435\\u043b\\u044c\\u043d\\u043e\\u0439 \\u043e\\u043f\\u0435\\u0440\\u0430\\u0446\\u0438\\u0438 1941\\u20141942. \\u0412 \\u043e\\u043a\\u0442\\u044f\\u0431\\u0440\\u0435\\u2014\\u0434\\u0435\\u043a\\u0430\\u0431\\u0440\\u0435 1941 \\u0433\\u043e\\u0434\\u0430 \\u0432 \\u0442\\u0435\\u0447\\u0435\\u043d\\u0438\\u0435 43-\\u0445 \\u0434\\u043d\\u0435\\u0439 \\u043a\\u043b\\u044e\\u0447\\u0435\\u0432\\u043e\\u0439 \\u0441\\u0442\\u0440\\u0430\\u0442\\u0435\\u0433\\u0438\\u0447\\u0435\\u0441\\u043a\\u0438\\u0439 \\u043f\\u0443\\u043d\\u043a\\u0442 \\u043e\\u0431\\u043e\\u0440\\u043e\\u043d\\u044b \\u0433\\u043e\\u0440\\u043e\\u0434 \\u0422\\u0443\\u043b\\u0430 \\u043d\\u0430\\u0445\\u043e\\u0434\\u0438\\u043b\\u0430\\u0441\\u044c \\u0432 \\u043f\\u043e\\u043b\\u0443\\u043e\\u043a\\u0440\\u0443\\u0436\\u0435\\u043d\\u0438\\u0438, \\u043f\\u043e\\u0434\\u0432\\u0435\\u0440\\u0433\\u0430\\u043b\\u0430\\u0441\\u044c \\u0430\\u0440\\u0442\\u0438\\u043b\\u043b\\u0435\\u0440\\u0438\\u0439\\u0441\\u043a\\u043e\\u043c\\u0443 \\u0438 \\u043c\\u0438\\u043d\\u043e\\u043c\\u0451\\u0442\\u043d\\u043e\\u043c\\u0443 \\u043e\\u0431\\u0441\\u0442\\u0440\\u0435\\u043b\\u0443, \\u0432\\u043e\\u0437\\u0434\\u0443\\u0448\\u043d\\u044b\\u043c \\u043d\\u0430\\u043b\\u0451\\u0442\\u0430\\u043c \\u043b\\u044e\\u0444\\u0442\\u0432\\u0430\\u0444\\u0444\\u0435 \\u0438 \\u0442\\u0430\\u043d\\u043a\\u043e\\u0432\\u044b\\u043c \\u0430\\u0442\\u0430\\u043a\\u0430\\u043c. \\u0422\\u0435\\u043c \\u043d\\u0435 \\u043c\\u0435\\u043d\\u0435\\u0435, \\u043b\\u0438\\u043d\\u0438\\u044f \\u0444\\u0440\\u043e\\u043d\\u0442\\u0430 \\u043d\\u0430 \\u044e\\u0436\\u043d\\u044b\\u0445 \\u043f\\u043e\\u0434\\u0441\\u0442\\u0443\\u043f\\u0430\\u0445 \\u043a \\u041c\\u043e\\u0441\\u043a\\u0432\\u0435 \\u0431\\u044b\\u043b\\u0430 \\u0441\\u0442\\u0430\\u0431\\u0438\\u043b\\u0438\\u0437\\u0438\\u0440\\u043e\\u0432\\u0430\\u043d\\u0430. \\u0423\\u0434\\u0435\\u0440\\u0436\\u0430\\u043d\\u0438\\u0435 \\u0433\\u043e\\u0440\\u043e\\u0434\\u0430 \\u0422\\u0443\\u043b\\u044b \\u043e\\u0431\\u0435\\u0441\\u043f\\u0435\\u0447\\u0438\\u043b\\u043e \\u0443\\u0441\\u0442\\u043e\\u0439\\u0447\\u0438\\u0432\\u043e\\u0441\\u0442\\u044c \\u043b\\u0435\\u0432\\u043e\\u0433\\u043e \\u0444\\u043b\\u0430\\u043d\\u0433\\u0430 \\u0417\\u0430\\u043f\\u0430\\u0434\\u043d\\u043e\\u0433\\u043e \\u0444\\u0440\\u043e\\u043d\\u0442\\u0430, \\u043e\\u0442\\u0442\\u044f\\u043d\\u0443\\u0432 \\u043d\\u0430 \\u0441\\u0435\\u0431\\u044f \\u0432\\u0441\\u0435 \\u0441\\u0438\\u043b\\u044b 4-\\u0439 \\u043f\\u043e\\u043b\\u0435\\u0432\\u043e\\u0439 \\u0430\\u0440\\u043c\\u0438\\u0438 \\u0412\\u0435\\u0440\\u043c\\u0430\\u0445\\u0442\\u0430 \\u0438 \\u0441\\u043e\\u0440\\u0432\\u0430\\u0432 \\u043f\\u043b\\u0430\\u043d\\u044b \\u043e\\u0431\\u0445\\u043e\\u0434\\u0430 \\u041c\\u043e\\u0441\\u043a\\u0432\\u044b \\u0441 \\u0432\\u043e\\u0441\\u0442\\u043e\\u043a\\u0430 2-\\u0439 \\u0442\\u0430\\u043d\\u043a\\u043e\\u0432\\u043e\\u0439 \\u0430\\u0440\\u043c\\u0438\\u0435\\u0439. \\u0412\\u043e \\u0432\\u0440\\u0435\\u043c\\u044f \\u0432\\u0442\\u043e\\u0440\\u043e\\u0433\\u043e \\u0433\\u0435\\u043d\\u0435\\u0440\\u0430\\u043b\\u044c\\u043d\\u043e\\u0433\\u043e \\u043d\\u0430\\u0441\\u0442\\u0443\\u043f\\u043b\\u0435\\u043d\\u0438\\u044f \\u043d\\u0435\\u043c\\u0435\\u0446\\u043a\\u0438\\u0445 \\u0432\\u043e\\u0439\\u0441\\u043a 18 \\u043d\\u043e\\u044f\\u0431\\u0440\\u044f \\u2014 5 \\u0434\\u0435\\u043a\\u0430\\u0431\\u0440\\u044f, \\u043d\\u0435\\u0441\\u043c\\u043e\\u0442\\u0440\\u044f \\u043d\\u0430 \\u043d\\u0435\\u043a\\u043e\\u0442\\u043e\\u0440\\u044b\\u0435 \\u0443\\u0441\\u043f\\u0435\\u0445\\u0438, \\u0438\\u043c \\u0442\\u0430\\u043a\\u0436\\u0435 \\u043d\\u0435 \\u0443\\u0434\\u0430\\u043b\\u043e\\u0441\\u044c \\u043e\\u0441\\u0443\\u0449\\u0435\\u0441\\u0442\\u0432\\u0438\\u0442\\u044c \\u043f\\u0440\\u043e\\u0440\\u044b\\u0432 \\u043a \\u041c\\u043e\\u0441\\u043a\\u0432\\u0435 \\u043d\\u0430 \\u044e\\u0436\\u043d\\u043e\\u043c \\u043d\\u0430\\u043f\\u0440\\u0430\\u0432\\u043b\\u0435\\u043d\\u0438\\u0438 \\u0438 \\u0432\\u044b\\u043f\\u043e\\u043b\\u043d\\u0438\\u0442\\u044c \\u043f\\u043e\\u0441\\u0442\\u0430\\u0432\\u043b\\u0435\\u043d\\u043d\\u044b\\u0435 \\u043f\\u0435\\u0440\\u0435\\u0434 \\u043d\\u0438\\u043c\\u0438 \\u0437\\u0430\\u0434\\u0430\\u0447\\u0438.\",\n          \"\\u041f\\u043e\\u0441\\u043b\\u0435 \\u043e\\u043a\\u043e\\u043d\\u0447\\u0430\\u043d\\u0438\\u044f \\u043d\\u0430\\u043f\\u043e\\u043b\\u0435\\u043e\\u043d\\u043e\\u0432\\u0441\\u043a\\u0438\\u0445 \\u0432\\u043e\\u0439\\u043d, \\u043d\\u0430\\u0447\\u0438\\u043d\\u0430\\u044f \\u0441 1815 \\u0433\\u043e\\u0434\\u0430 \\u0428\\u0432\\u0435\\u0439\\u0446\\u0430\\u0440\\u0438\\u044f \\u0441\\u043e\\u0431\\u043b\\u044e\\u0434\\u0430\\u0435\\u0442 \\u043f\\u043e\\u043b\\u0438\\u0442\\u0438\\u0447\\u0435\\u0441\\u043a\\u0438\\u0439 \\u0438 \\u0432\\u043e\\u0435\\u043d\\u043d\\u044b\\u0439 \\u043d\\u0435\\u0439\\u0442\\u0440\\u0430\\u043b\\u0438\\u0442\\u0435\\u0442. \\u042d\\u0442\\u043e \\u043f\\u043e\\u0437\\u0432\\u043e\\u043b\\u0438\\u043b\\u043e \\u0435\\u0439 \\u0438\\u0437\\u0431\\u0435\\u0436\\u0430\\u0442\\u044c \\u0440\\u0430\\u0437\\u0440\\u0443\\u0448\\u0438\\u0442\\u0435\\u043b\\u044c\\u043d\\u044b\\u0445 \\u043f\\u043e\\u0441\\u043b\\u0435\\u0434\\u0441\\u0442\\u0432\\u0438\\u0439 \\u0434\\u0432\\u0443\\u0445 \\u043c\\u0438\\u0440\\u043e\\u0432\\u044b\\u0445 \\u0432\\u043e\\u0439\\u043d \\u0432 \\u0425\\u0425 \\u0432\\u0435\\u043a\\u0435. \\u041e\\u0434\\u043d\\u0430\\u043a\\u043e \\u0442\\u0430\\u043a \\u0431\\u044b\\u043b\\u043e \\u043d\\u0435 \\u0432\\u0441\\u0435\\u0433\\u0434\\u0430. \\u041d\\u0430\\u0447\\u0438\\u043d\\u0430\\u044f \\u0435\\u0449\\u0451 \\u0441\\u043e \\u0432\\u0440\\u0435\\u043c\\u0451\\u043d \\u0414\\u0440\\u0435\\u0432\\u043d\\u0435\\u0433\\u043e \\u0420\\u0438\\u043c\\u0430 \\u043d\\u0430\\u0445\\u043e\\u0434\\u0438\\u043b\\u0438\\u0441\\u044c \\u0436\\u0435\\u043b\\u0430\\u044e\\u0449\\u0438\\u0435 \\u043f\\u0440\\u0438\\u0441\\u043e\\u0435\\u0434\\u0438\\u043d\\u0438\\u0442\\u044c \\u044d\\u0442\\u0438 \\u0430\\u043b\\u044c\\u043f\\u0438\\u0439\\u0441\\u043a\\u0438\\u0435 \\u0434\\u043e\\u043b\\u0438\\u043d\\u044b \\u043a \\u0441\\u0432\\u043e\\u0438\\u043c \\u0432\\u043b\\u0430\\u0434\\u0435\\u043d\\u0438\\u044f\\u043c. \\u041e\\u0441\\u043e\\u0431\\u0435\\u043d\\u043d\\u043e \\u0438\\u043d\\u0442\\u0435\\u0440\\u0435\\u0441 \\u043a \\u043d\\u0438\\u043c \\u0432\\u043e\\u0437\\u0440\\u043e\\u0441 \\u0432 \\u0441\\u0440\\u0435\\u0434\\u043d\\u0438\\u0435 \\u0432\\u0435\\u043a\\u0430, \\u043a\\u043e\\u0433\\u0434\\u0430 \\u043e\\u043d\\u0438 \\u043e\\u043a\\u0430\\u0437\\u0430\\u043b\\u0438\\u0441\\u044c \\u043d\\u0430 \\u043f\\u0435\\u0440\\u0435\\u0441\\u0435\\u0447\\u0435\\u043d\\u0438\\u0438 \\u0442\\u0440\\u0430\\u043d\\u0441\\u043f\\u043e\\u0440\\u0442\\u043d\\u044b\\u0445 \\u043f\\u0443\\u0442\\u0435\\u0439 \\u0441 \\u0441\\u0435\\u0432\\u0435\\u0440\\u0430 \\u0415\\u0432\\u0440\\u043e\\u043f\\u044b \\u0432 \\u0418\\u0442\\u0430\\u043b\\u0438\\u044e \\u0438 \\u0441 \\u0437\\u0430\\u043f\\u0430\\u0434\\u0430 \\u0415\\u0432\\u0440\\u043e\\u043f\\u044b \\u043d\\u0430 \\u0432\\u043e\\u0441\\u0442\\u043e\\u043a.\"\n        ],\n        \"semantic_type\": \"\",\n        \"description\": \"\"\n      }\n    },\n    {\n      \"column\": \"label\",\n      \"properties\": {\n        \"dtype\": \"number\",\n        \"std\": 0,\n        \"min\": 0,\n        \"max\": 1,\n        \"num_unique_values\": 2,\n        \"samples\": [\n          1,\n          0\n        ],\n        \"semantic_type\": \"\",\n        \"description\": \"\"\n      }\n    },\n    {\n      \"column\": \"prediction\",\n      \"properties\": {\n        \"dtype\": \"number\",\n        \"std\": 0,\n        \"min\": 0,\n        \"max\": 1,\n        \"num_unique_values\": 2,\n        \"samples\": [\n          0,\n          1\n        ],\n        \"semantic_type\": \"\",\n        \"description\": \"\"\n      }\n    }\n  ]\n}",
              "type": "dataframe"
            },
            "text/html": [
              "\n",
              "  <div id=\"df-026aa978-c53c-42f3-89f2-e521f72bb0f1\" class=\"colab-df-container\">\n",
              "    <div>\n",
              "<style scoped>\n",
              "    .dataframe tbody tr th:only-of-type {\n",
              "        vertical-align: middle;\n",
              "    }\n",
              "\n",
              "    .dataframe tbody tr th {\n",
              "        vertical-align: top;\n",
              "    }\n",
              "\n",
              "    .dataframe thead th {\n",
              "        text-align: right;\n",
              "    }\n",
              "</style>\n",
              "<table border=\"1\" class=\"dataframe\">\n",
              "  <thead>\n",
              "    <tr style=\"text-align: right;\">\n",
              "      <th></th>\n",
              "      <th>question</th>\n",
              "      <th>passage</th>\n",
              "      <th>label</th>\n",
              "      <th>prediction</th>\n",
              "    </tr>\n",
              "  </thead>\n",
              "  <tbody>\n",
              "    <tr>\n",
              "      <th>15</th>\n",
              "      <td>Соблюдала ли швейцария нейтралитет во время наполеоновских войн?</td>\n",
              "      <td>После окончания наполеоновских войн, начиная с 1815 года Швейцария соблюдает политический и военный нейтралитет. Это позволило ей избежать разрушительных последствий двух мировых войн в ХХ веке. Однако так было не всегда. Начиная ещё со времён Древнего Рима находились желающие присоединить эти альпийские долины к своим владениям. Особенно интерес к ним возрос в средние века, когда они оказались на пересечении транспортных путей с севера Европы в Италию и с запада Европы на восток.</td>\n",
              "      <td>0</td>\n",
              "      <td>1</td>\n",
              "    </tr>\n",
              "    <tr>\n",
              "      <th>21</th>\n",
              "      <td>Есть ли дед мороз?</td>\n",
              "      <td>Дед Моро́з — главный сказочный персонаж на празднике Нового года, славянский вариант рождественского дарителя. Известен  с 1840 года, но создание канонического образа Деда Мороза как обязательного персонажа новогоднего, а не рождественского праздника произошло в советское время и относится к концу 1930-х годов, когда после нескольких лет запрета вновь была разрешена ёлка. Прообразами Деда Мороза являются персонаж славянского сказочного фольклора и календарных обрядов и Святой Николай. Дед Мороз изображается как старик в цветной — голубой, синей, красной или белой шубе, с длинной белой бородой и посохом в руке, в валенках. Ездит на тройке лошадей.</td>\n",
              "      <td>0</td>\n",
              "      <td>1</td>\n",
              "    </tr>\n",
              "    <tr>\n",
              "      <th>31</th>\n",
              "      <td>Вреден ли алкоголь в малых количествах?</td>\n",
              "      <td>При длительном употреблении алкоголя на поверхности коры головного мозга наблюдаются кровоизлияния и некрозы участков мозга, приводящие к органическим изменениям нейронов. При употреблении больших количеств алкоголя может возникнуть разрыв капилляров головного мозга. Чрезмерное употребление алкоголя ассоциировано с нарушениями когнитивных функций мозга,  но в то же время существует статистически достоверное снижение риска нарушения когнитивных функций мозга, ассоциированное с умеренным потреблении алкоголя по сравнению с полным отказом от алкоголя в различных странах. Высокие концентрации алкоголя могут вызывать оксидативное повреждение нейронов. При употреблении в больших количествах  алкоголь вызывает гибель нейронов головного мозга.</td>\n",
              "      <td>0</td>\n",
              "      <td>1</td>\n",
              "    </tr>\n",
              "    <tr>\n",
              "      <th>32</th>\n",
              "      <td>Разрешено ли проезжать жд переезд?</td>\n",
              "      <td>Железнодорожный переезд — место одноуровневого пересечения железнодорожных путей и автомобильной дороги либо велосипедной или пешеходной дорожки. Железнодорожный переезд — объект повышенной опасности, поэтому для предупреждения несчастных случаев переезды оборудуются светофорами, шлагбаумами и звуковыми сигналами, а также УЗП  — металлическими плитами, которые поднимаются, заграждая проезд . В России переезды делятся на четыре категории. Железнодорожные переезды оборудуются в местах с хорошей видимостью. Угол пересечения автомобильной дороги и железнодорожных путей должен составлять не менее 60°.</td>\n",
              "      <td>1</td>\n",
              "      <td>0</td>\n",
              "    </tr>\n",
              "    <tr>\n",
              "      <th>33</th>\n",
              "      <td>Разрешено ли вам проехать железнодорожный переезд?</td>\n",
              "      <td>Железнодорожный переезд — место одноуровневого пересечения железнодорожных путей и автомобильной дороги либо велосипедной или пешеходной дорожки. Железнодорожный переезд — объект повышенной опасности, поэтому для предупреждения несчастных случаев переезды оборудуются светофорами, шлагбаумами и звуковыми сигналами, а также УЗП  — металлическими плитами, которые поднимаются, заграждая проезд . В России переезды делятся на четыре категории. Железнодорожные переезды оборудуются в местах с хорошей видимостью. Угол пересечения автомобильной дороги и железнодорожных путей должен составлять не менее 60°.</td>\n",
              "      <td>1</td>\n",
              "      <td>0</td>\n",
              "    </tr>\n",
              "    <tr>\n",
              "      <th>34</th>\n",
              "      <td>Был ли льюис кэрролл профессиональным писателем?</td>\n",
              "      <td>Лью́ис Кэ́рролл , Charles Lutwidge Dodgson; 27 января 1832 — 14 января 1898) — английский писатель, математик, логик, философ, диакон и фотограф. Наиболее известные произведения — «Алиса в Стране чудес» и «Алиса в Зазеркалье», а также юмористическая поэма «Охота на Снарка». Профессор математики Оксфордского университета . Льюис Кэрролл родился 27 января 1832 года в доме приходского священника в деревне Дарсбери, графство Чешир. Всего в семье было 7 девочек и 4 мальчика.</td>\n",
              "      <td>1</td>\n",
              "      <td>0</td>\n",
              "    </tr>\n",
              "    <tr>\n",
              "      <th>36</th>\n",
              "      <td>Были ли у пушкина крепостные?</td>\n",
              "      <td>Сразу после свадьбы Михаил Калашников сообщил о ней Пушкину, не забыв выразить благодарность своему хозяину. Поселились супруги в Лукоянове. Вскоре выяснилось, что Ключарёв почти разорён: его крепостные, которыми он владел совместно с братом, были заложены, причём проценты по закладной не уплачивались. Ключарёв пил, бросил службу, благодаря которой жила семья, и супруги переехали в Болдино к Ольгиному отцу. 11 января 1833 года Пушкину за подписью Ольги было отправлено письмо с просьбой одолжить 2000 рублей для выкупа выставленных на аукцион 15 крепостных душ, переданных ей мужем.</td>\n",
              "      <td>1</td>\n",
              "      <td>0</td>\n",
              "    </tr>\n",
              "    <tr>\n",
              "      <th>37</th>\n",
              "      <td>Правда ли что горит чернобыль?</td>\n",
              "      <td>23 апреля спасатели создали 800 км минерализованных противопожарных полос и продолжали локализацию трёх очагов тления. В зоне отчуждения продолжали гореть торфяники. 24 апреля продолжалась локализация 2 очагов тления пней, остатков древесины  и торфяников в очагах, пройденных огнём. По состоянию на 3 мая пожарные продолжали тушить лесную подстилку, пни и древесину в отдельных местах бывших пожаров в Киевской и Житомирской областях. 13 мая Президент Украины Владимир Зеленский заявил о ликвидации всех пожаров в зоне отчуждения Чернобыльской АЭС.</td>\n",
              "      <td>1</td>\n",
              "      <td>0</td>\n",
              "    </tr>\n",
              "    <tr>\n",
              "      <th>45</th>\n",
              "      <td>Есть ли у глаголов склонение?</td>\n",
              "      <td>Латинский язык имеет развитую систему словоизменения, что особенно проявляется в глагольном спряжении. Образование словоформ происходит путём присоединения окончаний, а словообразование — путём присоединения префиксов и суффиксов. Латинский глагол  склоняется по определённым правилам, которые определяют его спряжение. Глаголы делятся на спряжения согласно своим окончаниям в инфинитиве настоящего времени:  первое — -āre, второе — -ēre , третье — -ere , четвёртое — -īre.Глагол имеет три наклонения ; два залога ; два числа , три лица ; склоняется в шести главных временах . В частности, имеются формы условного наклонения для настоящего, прошедшего несовершенного, прошедшего совершенного времён и плюсквамперфекта; образуются причастия настоящего, будущего  и прошлого  времён; имеются формы повелительного наклонения для настоящего и будущего времён.</td>\n",
              "      <td>0</td>\n",
              "      <td>1</td>\n",
              "    </tr>\n",
              "    <tr>\n",
              "      <th>49</th>\n",
              "      <td>Смартфон лучше телефона?</td>\n",
              "      <td>Смартфо́н  — мобильный телефон , дополненный функциональностью карманного персонального компьютера. Также коммуникатор  — карманный персональный компьютер, дополненный функциональностью мобильного телефона. Хотя в мобильных телефонах практически всегда были дополнительные функции , со временем выпускались все более и более интеллектуальные модели. С целью подчеркнуть возросшую функциональность и вычислительную мощность таких моделей был введён термин «смартфон». В эру роста популярности КПК они стали выпускаться с функциями мобильного телефона, такие устройства были названы коммуникаторами. В настоящее время разделение на смартфоны и коммуникаторы неактуально, оба термина обозначают одно и то же — миниатюрный универсальный компьютер с полноценными пользовательскими интерфейсами и развитыми радио-интерфейсами мобильного телефона, сам термин «коммуникатор» практически перестал использоваться.</td>\n",
              "      <td>1</td>\n",
              "      <td>0</td>\n",
              "    </tr>\n",
              "    <tr>\n",
              "      <th>50</th>\n",
              "      <td>Передается ли ячмень на глазу?</td>\n",
              "      <td>Как и вирусные конъюнктивиты, бактериальные, чаще всего поражают лишь один глаз, но затем легко могут перейти и на другой. Обычно симптомы появляются лишь на третий день после заражения. Конъюнктивиты, вызванные отравляющими и токсическими веществами. Основные симптомы — раздражение и боль в глазу, при перемещении взгляда вниз или вверх, а также покраснение. Боль при движении глазом связана с распространением токсического вещества по поверхности глазного яблока.</td>\n",
              "      <td>1</td>\n",
              "      <td>0</td>\n",
              "    </tr>\n",
              "    <tr>\n",
              "      <th>52</th>\n",
              "      <td>Разрешены ли в финляндии однополые браки?</td>\n",
              "      <td>Права ЛГБТ в Финляндии — защита прав и достоинства людей с гомосексуальной, бисексуальной ориентацией и транссексуалов на территории Финляндии. В 2019 году в рейтинге равноправия полов в странах ЕС Финляндия заняла четвёртое место. С 1894 года гомосексуализм начал преследоваться в Великом княжестве Финляндском в уголовном порядке. С 1971 года однополые сексуальные отношения легализованы на всей территории страны, а с 1981 года гомосексуальность исключена из списка заболеваний. В 2011 году исключён из списка заболеваний трансвестизм.</td>\n",
              "      <td>1</td>\n",
              "      <td>0</td>\n",
              "    </tr>\n",
              "    <tr>\n",
              "      <th>68</th>\n",
              "      <td>Были ли немцы в туле?</td>\n",
              "      <td>Тульская наступательная операция  — операция войск левого крыла Западного фронта в Великой Отечественной войне, часть Московской стратегической наступательной операции 1941—1942. В октябре—декабре 1941 года в течение 43-х дней ключевой стратегический пункт обороны город Тула находилась в полуокружении, подвергалась артиллерийскому и миномётному обстрелу, воздушным налётам люфтваффе и танковым атакам. Тем не менее, линия фронта на южных подступах к Москве была стабилизирована. Удержание города Тулы обеспечило устойчивость левого фланга Западного фронта, оттянув на себя все силы 4-й полевой армии Вермахта и сорвав планы обхода Москвы с востока 2-й танковой армией. Во время второго генерального наступления немецких войск 18 ноября — 5 декабря, несмотря на некоторые успехи, им также не удалось осуществить прорыв к Москве на южном направлении и выполнить поставленные перед ними задачи.</td>\n",
              "      <td>0</td>\n",
              "      <td>1</td>\n",
              "    </tr>\n",
              "    <tr>\n",
              "      <th>69</th>\n",
              "      <td>Есть ли в хищных птицах сцена после титров?</td>\n",
              "      <td>Билли сближается со своей приёмной семьёй и появляется в школе как Шазам, чтобы поддержать Фредди, и к тому же приводит вместе с собой самого Супермена. В сцене во время титров, Сивана в своей тюремной камере в одержимости рисует на стене загадочные символы, но его прерывает Мистер Майнд, ранее находившийся в заключении у Скалы Вечности, и рассказывает ему о столпах зла, которые сойдутся вместе, и что они будут править семью сферами. В сцене после титров Фредди проверяет, может ли Билли говорить с рыбой, ссылаясь на Аквамена, но Билли считает такую способность глупой. Ашер Энджел — Билли Бэтсон, подросток, который может превращаться во взрослого супергероя, произнеся магическое слово «Шазам!», в оригинале являющееся акронимом шести легендарных богов и героев древнего мира и их способностей: мудрости Соломона , силы Геракла , стойкости Атланта , мощи Зевса , смелости Ахиллеса  и скорости Меркурия . Дэвид Колсмит исполнил роль маленького Билли.</td>\n",
              "      <td>1</td>\n",
              "      <td>0</td>\n",
              "    </tr>\n",
              "    <tr>\n",
              "      <th>75</th>\n",
              "      <td>Был ли фауст злодеем?</td>\n",
              "      <td>Фауст — протагонист классической немецкой легенды, основанной на жизни Иоганна Георга Фауста . Талантливый ученый Фауст заключает сделку с дьяволом, обменяв свою душу на безграничные знания и мирские удовольствия. Легенда о Фаусте — основа множества произведений искусства в литературе, на сцене, кино и музыке, переосмысливающих первоисточник на протяжении столетий. Фауст в ранних книгах, а также берущих у них начало балладах, драмах, фильмах и кукольных постановках, безвозвратно проклят, потому что он предпочел божественное знание человеческому. Пьесы и комические кукольные постановки, свободно интерпретирующие легенду, были популярны в Германии XVI века, зачастую снижая образы Фауста и Мефистофеля до комически-вульгарных.</td>\n",
              "      <td>1</td>\n",
              "      <td>0</td>\n",
              "    </tr>\n",
              "  </tbody>\n",
              "</table>\n",
              "</div>\n",
              "    <div class=\"colab-df-buttons\">\n",
              "\n",
              "  <div class=\"colab-df-container\">\n",
              "    <button class=\"colab-df-convert\" onclick=\"convertToInteractive('df-026aa978-c53c-42f3-89f2-e521f72bb0f1')\"\n",
              "            title=\"Convert this dataframe to an interactive table.\"\n",
              "            style=\"display:none;\">\n",
              "\n",
              "  <svg xmlns=\"http://www.w3.org/2000/svg\" height=\"24px\" viewBox=\"0 -960 960 960\">\n",
              "    <path d=\"M120-120v-720h720v720H120Zm60-500h600v-160H180v160Zm220 220h160v-160H400v160Zm0 220h160v-160H400v160ZM180-400h160v-160H180v160Zm440 0h160v-160H620v160ZM180-180h160v-160H180v160Zm440 0h160v-160H620v160Z\"/>\n",
              "  </svg>\n",
              "    </button>\n",
              "\n",
              "  <style>\n",
              "    .colab-df-container {\n",
              "      display:flex;\n",
              "      gap: 12px;\n",
              "    }\n",
              "\n",
              "    .colab-df-convert {\n",
              "      background-color: #E8F0FE;\n",
              "      border: none;\n",
              "      border-radius: 50%;\n",
              "      cursor: pointer;\n",
              "      display: none;\n",
              "      fill: #1967D2;\n",
              "      height: 32px;\n",
              "      padding: 0 0 0 0;\n",
              "      width: 32px;\n",
              "    }\n",
              "\n",
              "    .colab-df-convert:hover {\n",
              "      background-color: #E2EBFA;\n",
              "      box-shadow: 0px 1px 2px rgba(60, 64, 67, 0.3), 0px 1px 3px 1px rgba(60, 64, 67, 0.15);\n",
              "      fill: #174EA6;\n",
              "    }\n",
              "\n",
              "    .colab-df-buttons div {\n",
              "      margin-bottom: 4px;\n",
              "    }\n",
              "\n",
              "    [theme=dark] .colab-df-convert {\n",
              "      background-color: #3B4455;\n",
              "      fill: #D2E3FC;\n",
              "    }\n",
              "\n",
              "    [theme=dark] .colab-df-convert:hover {\n",
              "      background-color: #434B5C;\n",
              "      box-shadow: 0px 1px 3px 1px rgba(0, 0, 0, 0.15);\n",
              "      filter: drop-shadow(0px 1px 2px rgba(0, 0, 0, 0.3));\n",
              "      fill: #FFFFFF;\n",
              "    }\n",
              "  </style>\n",
              "\n",
              "    <script>\n",
              "      const buttonEl =\n",
              "        document.querySelector('#df-026aa978-c53c-42f3-89f2-e521f72bb0f1 button.colab-df-convert');\n",
              "      buttonEl.style.display =\n",
              "        google.colab.kernel.accessAllowed ? 'block' : 'none';\n",
              "\n",
              "      async function convertToInteractive(key) {\n",
              "        const element = document.querySelector('#df-026aa978-c53c-42f3-89f2-e521f72bb0f1');\n",
              "        const dataTable =\n",
              "          await google.colab.kernel.invokeFunction('convertToInteractive',\n",
              "                                                    [key], {});\n",
              "        if (!dataTable) return;\n",
              "\n",
              "        const docLinkHtml = 'Like what you see? Visit the ' +\n",
              "          '<a target=\"_blank\" href=https://colab.research.google.com/notebooks/data_table.ipynb>data table notebook</a>'\n",
              "          + ' to learn more about interactive tables.';\n",
              "        element.innerHTML = '';\n",
              "        dataTable['output_type'] = 'display_data';\n",
              "        await google.colab.output.renderOutput(dataTable, element);\n",
              "        const docLink = document.createElement('div');\n",
              "        docLink.innerHTML = docLinkHtml;\n",
              "        element.appendChild(docLink);\n",
              "      }\n",
              "    </script>\n",
              "  </div>\n",
              "\n",
              "\n",
              "<div id=\"df-2c4f663b-1671-460d-ad9e-e380eeb85687\">\n",
              "  <button class=\"colab-df-quickchart\" onclick=\"quickchart('df-2c4f663b-1671-460d-ad9e-e380eeb85687')\"\n",
              "            title=\"Suggest charts\"\n",
              "            style=\"display:none;\">\n",
              "\n",
              "<svg xmlns=\"http://www.w3.org/2000/svg\" height=\"24px\"viewBox=\"0 0 24 24\"\n",
              "     width=\"24px\">\n",
              "    <g>\n",
              "        <path d=\"M19 3H5c-1.1 0-2 .9-2 2v14c0 1.1.9 2 2 2h14c1.1 0 2-.9 2-2V5c0-1.1-.9-2-2-2zM9 17H7v-7h2v7zm4 0h-2V7h2v10zm4 0h-2v-4h2v4z\"/>\n",
              "    </g>\n",
              "</svg>\n",
              "  </button>\n",
              "\n",
              "<style>\n",
              "  .colab-df-quickchart {\n",
              "      --bg-color: #E8F0FE;\n",
              "      --fill-color: #1967D2;\n",
              "      --hover-bg-color: #E2EBFA;\n",
              "      --hover-fill-color: #174EA6;\n",
              "      --disabled-fill-color: #AAA;\n",
              "      --disabled-bg-color: #DDD;\n",
              "  }\n",
              "\n",
              "  [theme=dark] .colab-df-quickchart {\n",
              "      --bg-color: #3B4455;\n",
              "      --fill-color: #D2E3FC;\n",
              "      --hover-bg-color: #434B5C;\n",
              "      --hover-fill-color: #FFFFFF;\n",
              "      --disabled-bg-color: #3B4455;\n",
              "      --disabled-fill-color: #666;\n",
              "  }\n",
              "\n",
              "  .colab-df-quickchart {\n",
              "    background-color: var(--bg-color);\n",
              "    border: none;\n",
              "    border-radius: 50%;\n",
              "    cursor: pointer;\n",
              "    display: none;\n",
              "    fill: var(--fill-color);\n",
              "    height: 32px;\n",
              "    padding: 0;\n",
              "    width: 32px;\n",
              "  }\n",
              "\n",
              "  .colab-df-quickchart:hover {\n",
              "    background-color: var(--hover-bg-color);\n",
              "    box-shadow: 0 1px 2px rgba(60, 64, 67, 0.3), 0 1px 3px 1px rgba(60, 64, 67, 0.15);\n",
              "    fill: var(--button-hover-fill-color);\n",
              "  }\n",
              "\n",
              "  .colab-df-quickchart-complete:disabled,\n",
              "  .colab-df-quickchart-complete:disabled:hover {\n",
              "    background-color: var(--disabled-bg-color);\n",
              "    fill: var(--disabled-fill-color);\n",
              "    box-shadow: none;\n",
              "  }\n",
              "\n",
              "  .colab-df-spinner {\n",
              "    border: 2px solid var(--fill-color);\n",
              "    border-color: transparent;\n",
              "    border-bottom-color: var(--fill-color);\n",
              "    animation:\n",
              "      spin 1s steps(1) infinite;\n",
              "  }\n",
              "\n",
              "  @keyframes spin {\n",
              "    0% {\n",
              "      border-color: transparent;\n",
              "      border-bottom-color: var(--fill-color);\n",
              "      border-left-color: var(--fill-color);\n",
              "    }\n",
              "    20% {\n",
              "      border-color: transparent;\n",
              "      border-left-color: var(--fill-color);\n",
              "      border-top-color: var(--fill-color);\n",
              "    }\n",
              "    30% {\n",
              "      border-color: transparent;\n",
              "      border-left-color: var(--fill-color);\n",
              "      border-top-color: var(--fill-color);\n",
              "      border-right-color: var(--fill-color);\n",
              "    }\n",
              "    40% {\n",
              "      border-color: transparent;\n",
              "      border-right-color: var(--fill-color);\n",
              "      border-top-color: var(--fill-color);\n",
              "    }\n",
              "    60% {\n",
              "      border-color: transparent;\n",
              "      border-right-color: var(--fill-color);\n",
              "    }\n",
              "    80% {\n",
              "      border-color: transparent;\n",
              "      border-right-color: var(--fill-color);\n",
              "      border-bottom-color: var(--fill-color);\n",
              "    }\n",
              "    90% {\n",
              "      border-color: transparent;\n",
              "      border-bottom-color: var(--fill-color);\n",
              "    }\n",
              "  }\n",
              "</style>\n",
              "\n",
              "  <script>\n",
              "    async function quickchart(key) {\n",
              "      const quickchartButtonEl =\n",
              "        document.querySelector('#' + key + ' button');\n",
              "      quickchartButtonEl.disabled = true;  // To prevent multiple clicks.\n",
              "      quickchartButtonEl.classList.add('colab-df-spinner');\n",
              "      try {\n",
              "        const charts = await google.colab.kernel.invokeFunction(\n",
              "            'suggestCharts', [key], {});\n",
              "      } catch (error) {\n",
              "        console.error('Error during call to suggestCharts:', error);\n",
              "      }\n",
              "      quickchartButtonEl.classList.remove('colab-df-spinner');\n",
              "      quickchartButtonEl.classList.add('colab-df-quickchart-complete');\n",
              "    }\n",
              "    (() => {\n",
              "      let quickchartButtonEl =\n",
              "        document.querySelector('#df-2c4f663b-1671-460d-ad9e-e380eeb85687 button');\n",
              "      quickchartButtonEl.style.display =\n",
              "        google.colab.kernel.accessAllowed ? 'block' : 'none';\n",
              "    })();\n",
              "  </script>\n",
              "</div>\n",
              "\n",
              "    </div>\n",
              "  </div>\n"
            ],
            "text/plain": [
              "                                                            question  \\\n",
              "15  Соблюдала ли швейцария нейтралитет во время наполеоновских войн?   \n",
              "21                                                Есть ли дед мороз?   \n",
              "31                           Вреден ли алкоголь в малых количествах?   \n",
              "32                                Разрешено ли проезжать жд переезд?   \n",
              "33                Разрешено ли вам проехать железнодорожный переезд?   \n",
              "34                  Был ли льюис кэрролл профессиональным писателем?   \n",
              "36                                     Были ли у пушкина крепостные?   \n",
              "37                                    Правда ли что горит чернобыль?   \n",
              "45                                     Есть ли у глаголов склонение?   \n",
              "49                                          Смартфон лучше телефона?   \n",
              "50                                    Передается ли ячмень на глазу?   \n",
              "52                         Разрешены ли в финляндии однополые браки?   \n",
              "68                                             Были ли немцы в туле?   \n",
              "69                       Есть ли в хищных птицах сцена после титров?   \n",
              "75                                             Был ли фауст злодеем?   \n",
              "\n",
              "                                                                                                                                                                                                                                                                                                                                                                                                                                                                                                                                                                                                                                                                                                                                                                                                                                                                                                                                                                                         passage  \\\n",
              "15                                                                                                                                                                                                                                                                                                                                                                                                                                                                                         После окончания наполеоновских войн, начиная с 1815 года Швейцария соблюдает политический и военный нейтралитет. Это позволило ей избежать разрушительных последствий двух мировых войн в ХХ веке. Однако так было не всегда. Начиная ещё со времён Древнего Рима находились желающие присоединить эти альпийские долины к своим владениям. Особенно интерес к ним возрос в средние века, когда они оказались на пересечении транспортных путей с севера Европы в Италию и с запада Европы на восток.   \n",
              "21                                                                                                                                                                                                                                                                                                                Дед Моро́з — главный сказочный персонаж на празднике Нового года, славянский вариант рождественского дарителя. Известен  с 1840 года, но создание канонического образа Деда Мороза как обязательного персонажа новогоднего, а не рождественского праздника произошло в советское время и относится к концу 1930-х годов, когда после нескольких лет запрета вновь была разрешена ёлка. Прообразами Деда Мороза являются персонаж славянского сказочного фольклора и календарных обрядов и Святой Николай. Дед Мороз изображается как старик в цветной — голубой, синей, красной или белой шубе, с длинной белой бородой и посохом в руке, в валенках. Ездит на тройке лошадей.   \n",
              "31                                                                                                                                                                                                                     При длительном употреблении алкоголя на поверхности коры головного мозга наблюдаются кровоизлияния и некрозы участков мозга, приводящие к органическим изменениям нейронов. При употреблении больших количеств алкоголя может возникнуть разрыв капилляров головного мозга. Чрезмерное употребление алкоголя ассоциировано с нарушениями когнитивных функций мозга,  но в то же время существует статистически достоверное снижение риска нарушения когнитивных функций мозга, ассоциированное с умеренным потреблении алкоголя по сравнению с полным отказом от алкоголя в различных странах. Высокие концентрации алкоголя могут вызывать оксидативное повреждение нейронов. При употреблении в больших количествах  алкоголь вызывает гибель нейронов головного мозга.   \n",
              "32                                                                                                                                                                                                                                                                                                                                                                   Железнодорожный переезд — место одноуровневого пересечения железнодорожных путей и автомобильной дороги либо велосипедной или пешеходной дорожки. Железнодорожный переезд — объект повышенной опасности, поэтому для предупреждения несчастных случаев переезды оборудуются светофорами, шлагбаумами и звуковыми сигналами, а также УЗП  — металлическими плитами, которые поднимаются, заграждая проезд . В России переезды делятся на четыре категории. Железнодорожные переезды оборудуются в местах с хорошей видимостью. Угол пересечения автомобильной дороги и железнодорожных путей должен составлять не менее 60°.   \n",
              "33                                                                                                                                                                                                                                                                                                                                                                   Железнодорожный переезд — место одноуровневого пересечения железнодорожных путей и автомобильной дороги либо велосипедной или пешеходной дорожки. Железнодорожный переезд — объект повышенной опасности, поэтому для предупреждения несчастных случаев переезды оборудуются светофорами, шлагбаумами и звуковыми сигналами, а также УЗП  — металлическими плитами, которые поднимаются, заграждая проезд . В России переезды делятся на четыре категории. Железнодорожные переезды оборудуются в местах с хорошей видимостью. Угол пересечения автомобильной дороги и железнодорожных путей должен составлять не менее 60°.   \n",
              "34                                                                                                                                                                                                                                                                                                                                                                                                                                                                                                    Лью́ис Кэ́рролл , Charles Lutwidge Dodgson; 27 января 1832 — 14 января 1898) — английский писатель, математик, логик, философ, диакон и фотограф. Наиболее известные произведения — «Алиса в Стране чудес» и «Алиса в Зазеркалье», а также юмористическая поэма «Охота на Снарка». Профессор математики Оксфордского университета . Льюис Кэрролл родился 27 января 1832 года в доме приходского священника в деревне Дарсбери, графство Чешир. Всего в семье было 7 девочек и 4 мальчика.   \n",
              "36                                                                                                                                                                                                                                                                                                                                                                                    Сразу после свадьбы Михаил Калашников сообщил о ней Пушкину, не забыв выразить благодарность своему хозяину. Поселились супруги в Лукоянове. Вскоре выяснилось, что Ключарёв почти разорён: его крепостные, которыми он владел совместно с братом, были заложены, причём проценты по закладной не уплачивались. Ключарёв пил, бросил службу, благодаря которой жила семья, и супруги переехали в Болдино к Ольгиному отцу. 11 января 1833 года Пушкину за подписью Ольги было отправлено письмо с просьбой одолжить 2000 рублей для выкупа выставленных на аукцион 15 крепостных душ, переданных ей мужем.   \n",
              "37                                                                                                                                                                                                                                                                                                                                                                                                                         23 апреля спасатели создали 800 км минерализованных противопожарных полос и продолжали локализацию трёх очагов тления. В зоне отчуждения продолжали гореть торфяники. 24 апреля продолжалась локализация 2 очагов тления пней, остатков древесины  и торфяников в очагах, пройденных огнём. По состоянию на 3 мая пожарные продолжали тушить лесную подстилку, пни и древесину в отдельных местах бывших пожаров в Киевской и Житомирской областях. 13 мая Президент Украины Владимир Зеленский заявил о ликвидации всех пожаров в зоне отчуждения Чернобыльской АЭС.   \n",
              "45                                                                                                       Латинский язык имеет развитую систему словоизменения, что особенно проявляется в глагольном спряжении. Образование словоформ происходит путём присоединения окончаний, а словообразование — путём присоединения префиксов и суффиксов. Латинский глагол  склоняется по определённым правилам, которые определяют его спряжение. Глаголы делятся на спряжения согласно своим окончаниям в инфинитиве настоящего времени:  первое — -āre, второе — -ēre , третье — -ere , четвёртое — -īre.Глагол имеет три наклонения ; два залога ; два числа , три лица ; склоняется в шести главных временах . В частности, имеются формы условного наклонения для настоящего, прошедшего несовершенного, прошедшего совершенного времён и плюсквамперфекта; образуются причастия настоящего, будущего  и прошлого  времён; имеются формы повелительного наклонения для настоящего и будущего времён.   \n",
              "49                                                       Смартфо́н  — мобильный телефон , дополненный функциональностью карманного персонального компьютера. Также коммуникатор  — карманный персональный компьютер, дополненный функциональностью мобильного телефона. Хотя в мобильных телефонах практически всегда были дополнительные функции , со временем выпускались все более и более интеллектуальные модели. С целью подчеркнуть возросшую функциональность и вычислительную мощность таких моделей был введён термин «смартфон». В эру роста популярности КПК они стали выпускаться с функциями мобильного телефона, такие устройства были названы коммуникаторами. В настоящее время разделение на смартфоны и коммуникаторы неактуально, оба термина обозначают одно и то же — миниатюрный универсальный компьютер с полноценными пользовательскими интерфейсами и развитыми радио-интерфейсами мобильного телефона, сам термин «коммуникатор» практически перестал использоваться.   \n",
              "50                                                                                                                                                                                                                                                                                                                                                                                                                                                                                                            Как и вирусные конъюнктивиты, бактериальные, чаще всего поражают лишь один глаз, но затем легко могут перейти и на другой. Обычно симптомы появляются лишь на третий день после заражения. Конъюнктивиты, вызванные отравляющими и токсическими веществами. Основные симптомы — раздражение и боль в глазу, при перемещении взгляда вниз или вверх, а также покраснение. Боль при движении глазом связана с распространением токсического вещества по поверхности глазного яблока.   \n",
              "52                                                                                                                                                                                                                                                                                                                                                                                                                                    Права ЛГБТ в Финляндии — защита прав и достоинства людей с гомосексуальной, бисексуальной ориентацией и транссексуалов на территории Финляндии. В 2019 году в рейтинге равноправия полов в странах ЕС Финляндия заняла четвёртое место. С 1894 года гомосексуализм начал преследоваться в Великом княжестве Финляндском в уголовном порядке. С 1971 года однополые сексуальные отношения легализованы на всей территории страны, а с 1981 года гомосексуальность исключена из списка заболеваний. В 2011 году исключён из списка заболеваний трансвестизм.   \n",
              "68                                                                 Тульская наступательная операция  — операция войск левого крыла Западного фронта в Великой Отечественной войне, часть Московской стратегической наступательной операции 1941—1942. В октябре—декабре 1941 года в течение 43-х дней ключевой стратегический пункт обороны город Тула находилась в полуокружении, подвергалась артиллерийскому и миномётному обстрелу, воздушным налётам люфтваффе и танковым атакам. Тем не менее, линия фронта на южных подступах к Москве была стабилизирована. Удержание города Тулы обеспечило устойчивость левого фланга Западного фронта, оттянув на себя все силы 4-й полевой армии Вермахта и сорвав планы обхода Москвы с востока 2-й танковой армией. Во время второго генерального наступления немецких войск 18 ноября — 5 декабря, несмотря на некоторые успехи, им также не удалось осуществить прорыв к Москве на южном направлении и выполнить поставленные перед ними задачи.   \n",
              "69  Билли сближается со своей приёмной семьёй и появляется в школе как Шазам, чтобы поддержать Фредди, и к тому же приводит вместе с собой самого Супермена. В сцене во время титров, Сивана в своей тюремной камере в одержимости рисует на стене загадочные символы, но его прерывает Мистер Майнд, ранее находившийся в заключении у Скалы Вечности, и рассказывает ему о столпах зла, которые сойдутся вместе, и что они будут править семью сферами. В сцене после титров Фредди проверяет, может ли Билли говорить с рыбой, ссылаясь на Аквамена, но Билли считает такую способность глупой. Ашер Энджел — Билли Бэтсон, подросток, который может превращаться во взрослого супергероя, произнеся магическое слово «Шазам!», в оригинале являющееся акронимом шести легендарных богов и героев древнего мира и их способностей: мудрости Соломона , силы Геракла , стойкости Атланта , мощи Зевса , смелости Ахиллеса  и скорости Меркурия . Дэвид Колсмит исполнил роль маленького Билли.   \n",
              "75                                                                                                                                                                                                                                  Фауст — протагонист классической немецкой легенды, основанной на жизни Иоганна Георга Фауста . Талантливый ученый Фауст заключает сделку с дьяволом, обменяв свою душу на безграничные знания и мирские удовольствия. Легенда о Фаусте — основа множества произведений искусства в литературе, на сцене, кино и музыке, переосмысливающих первоисточник на протяжении столетий. Фауст в ранних книгах, а также берущих у них начало балладах, драмах, фильмах и кукольных постановках, безвозвратно проклят, потому что он предпочел божественное знание человеческому. Пьесы и комические кукольные постановки, свободно интерпретирующие легенду, были популярны в Германии XVI века, зачастую снижая образы Фауста и Мефистофеля до комически-вульгарных.   \n",
              "\n",
              "    label  prediction  \n",
              "15      0           1  \n",
              "21      0           1  \n",
              "31      0           1  \n",
              "32      1           0  \n",
              "33      1           0  \n",
              "34      1           0  \n",
              "36      1           0  \n",
              "37      1           0  \n",
              "45      0           1  \n",
              "49      1           0  \n",
              "50      1           0  \n",
              "52      1           0  \n",
              "68      0           1  \n",
              "69      1           0  \n",
              "75      1           0  "
            ]
          },
          "execution_count": 18,
          "metadata": {},
          "output_type": "execute_result"
        }
      ],
      "source": [
        "compare_labels(\"exp_preds/exp3_qwen_7b.jsonl\")"
      ]
    },
    {
      "cell_type": "markdown",
      "metadata": {
        "id": "GjICTbK5WBgK"
      },
      "source": [
        "Видно, что Qwen побольше справляется с своей задачей существенно лучше, чем его маленький собрат (во всяком случае, его 15-тое неправильное предложение на 75 индексе, а не на 31...).\n",
        "\n",
        "В [69] модель, видимо, не справилась с соотнесением \"сцена во время титров\" и \"сцена после титров\" и, не найдя нужной информации, дала негативный ответ.\n",
        "\n",
        "В [75] ответ совершенно не очевиден из пассажа, и кажется, что модель могла зацепиться за слово \"протагонист\".\n",
        "\n"
      ]
    },
    {
      "cell_type": "markdown",
      "metadata": {
        "id": "vySROMB6WCZI"
      },
      "source": [
        "#### T-lite"
      ]
    },
    {
      "cell_type": "code",
      "execution_count": null,
      "metadata": {
        "colab": {
          "base_uri": "https://localhost:8080/",
          "height": 1000
        },
        "id": "l_pyrVd5H0kd",
        "outputId": "287c287d-49c8-4ba3-d20b-f191f43e1269"
      },
      "outputs": [
        {
          "data": {
            "application/vnd.google.colaboratory.intrinsic+json": {
              "summary": "{\n  \"name\": \"compare_labels(\\\"exp_preds/exp3_t-lite\",\n  \"rows\": 15,\n  \"fields\": [\n    {\n      \"column\": \"question\",\n      \"properties\": {\n        \"dtype\": \"string\",\n        \"num_unique_values\": 15,\n        \"samples\": [\n          \"\\u041f\\u0440\\u0430\\u0432\\u0434\\u0430 \\u043b\\u0438 \\u0447\\u0442\\u043e \\u0442\\u0430\\u043d\\u043a\\u0438 \\u0438\\u0437\\u043e\\u0431\\u0440\\u0435\\u043b\\u0438 \\u043f\\u043e\\u0441\\u043b\\u0435 \\u043f\\u0435\\u0440\\u0432\\u043e\\u0439 \\u043c\\u0438\\u0440\\u043e\\u0432\\u043e\\u0439 \\u0432\\u043e\\u0439\\u043d\\u044b?\",\n          \"\\u0415\\u0441\\u0442\\u044c \\u043b\\u0438 \\u0432 \\u0445\\u0438\\u0449\\u043d\\u044b\\u0445 \\u043f\\u0442\\u0438\\u0446\\u0430\\u0445 \\u0441\\u0446\\u0435\\u043d\\u0430 \\u043f\\u043e\\u0441\\u043b\\u0435 \\u0442\\u0438\\u0442\\u0440\\u043e\\u0432?\",\n          \"\\u0421\\u043e\\u0431\\u043b\\u044e\\u0434\\u0430\\u043b\\u0430 \\u043b\\u0438 \\u0448\\u0432\\u0435\\u0439\\u0446\\u0430\\u0440\\u0438\\u044f \\u043d\\u0435\\u0439\\u0442\\u0440\\u0430\\u043b\\u0438\\u0442\\u0435\\u0442 \\u0432\\u043e \\u0432\\u0440\\u0435\\u043c\\u044f \\u043d\\u0430\\u043f\\u043e\\u043b\\u0435\\u043e\\u043d\\u043e\\u0432\\u0441\\u043a\\u0438\\u0445 \\u0432\\u043e\\u0439\\u043d?\"\n        ],\n        \"semantic_type\": \"\",\n        \"description\": \"\"\n      }\n    },\n    {\n      \"column\": \"passage\",\n      \"properties\": {\n        \"dtype\": \"string\",\n        \"num_unique_values\": 14,\n        \"samples\": [\n          \"\\u0422\\u0443\\u043b\\u044c\\u0441\\u043a\\u0430\\u044f \\u043d\\u0430\\u0441\\u0442\\u0443\\u043f\\u0430\\u0442\\u0435\\u043b\\u044c\\u043d\\u0430\\u044f \\u043e\\u043f\\u0435\\u0440\\u0430\\u0446\\u0438\\u044f  \\u2014 \\u043e\\u043f\\u0435\\u0440\\u0430\\u0446\\u0438\\u044f \\u0432\\u043e\\u0439\\u0441\\u043a \\u043b\\u0435\\u0432\\u043e\\u0433\\u043e \\u043a\\u0440\\u044b\\u043b\\u0430 \\u0417\\u0430\\u043f\\u0430\\u0434\\u043d\\u043e\\u0433\\u043e \\u0444\\u0440\\u043e\\u043d\\u0442\\u0430 \\u0432 \\u0412\\u0435\\u043b\\u0438\\u043a\\u043e\\u0439 \\u041e\\u0442\\u0435\\u0447\\u0435\\u0441\\u0442\\u0432\\u0435\\u043d\\u043d\\u043e\\u0439 \\u0432\\u043e\\u0439\\u043d\\u0435, \\u0447\\u0430\\u0441\\u0442\\u044c \\u041c\\u043e\\u0441\\u043a\\u043e\\u0432\\u0441\\u043a\\u043e\\u0439 \\u0441\\u0442\\u0440\\u0430\\u0442\\u0435\\u0433\\u0438\\u0447\\u0435\\u0441\\u043a\\u043e\\u0439 \\u043d\\u0430\\u0441\\u0442\\u0443\\u043f\\u0430\\u0442\\u0435\\u043b\\u044c\\u043d\\u043e\\u0439 \\u043e\\u043f\\u0435\\u0440\\u0430\\u0446\\u0438\\u0438 1941\\u20141942. \\u0412 \\u043e\\u043a\\u0442\\u044f\\u0431\\u0440\\u0435\\u2014\\u0434\\u0435\\u043a\\u0430\\u0431\\u0440\\u0435 1941 \\u0433\\u043e\\u0434\\u0430 \\u0432 \\u0442\\u0435\\u0447\\u0435\\u043d\\u0438\\u0435 43-\\u0445 \\u0434\\u043d\\u0435\\u0439 \\u043a\\u043b\\u044e\\u0447\\u0435\\u0432\\u043e\\u0439 \\u0441\\u0442\\u0440\\u0430\\u0442\\u0435\\u0433\\u0438\\u0447\\u0435\\u0441\\u043a\\u0438\\u0439 \\u043f\\u0443\\u043d\\u043a\\u0442 \\u043e\\u0431\\u043e\\u0440\\u043e\\u043d\\u044b \\u0433\\u043e\\u0440\\u043e\\u0434 \\u0422\\u0443\\u043b\\u0430 \\u043d\\u0430\\u0445\\u043e\\u0434\\u0438\\u043b\\u0430\\u0441\\u044c \\u0432 \\u043f\\u043e\\u043b\\u0443\\u043e\\u043a\\u0440\\u0443\\u0436\\u0435\\u043d\\u0438\\u0438, \\u043f\\u043e\\u0434\\u0432\\u0435\\u0440\\u0433\\u0430\\u043b\\u0430\\u0441\\u044c \\u0430\\u0440\\u0442\\u0438\\u043b\\u043b\\u0435\\u0440\\u0438\\u0439\\u0441\\u043a\\u043e\\u043c\\u0443 \\u0438 \\u043c\\u0438\\u043d\\u043e\\u043c\\u0451\\u0442\\u043d\\u043e\\u043c\\u0443 \\u043e\\u0431\\u0441\\u0442\\u0440\\u0435\\u043b\\u0443, \\u0432\\u043e\\u0437\\u0434\\u0443\\u0448\\u043d\\u044b\\u043c \\u043d\\u0430\\u043b\\u0451\\u0442\\u0430\\u043c \\u043b\\u044e\\u0444\\u0442\\u0432\\u0430\\u0444\\u0444\\u0435 \\u0438 \\u0442\\u0430\\u043d\\u043a\\u043e\\u0432\\u044b\\u043c \\u0430\\u0442\\u0430\\u043a\\u0430\\u043c. \\u0422\\u0435\\u043c \\u043d\\u0435 \\u043c\\u0435\\u043d\\u0435\\u0435, \\u043b\\u0438\\u043d\\u0438\\u044f \\u0444\\u0440\\u043e\\u043d\\u0442\\u0430 \\u043d\\u0430 \\u044e\\u0436\\u043d\\u044b\\u0445 \\u043f\\u043e\\u0434\\u0441\\u0442\\u0443\\u043f\\u0430\\u0445 \\u043a \\u041c\\u043e\\u0441\\u043a\\u0432\\u0435 \\u0431\\u044b\\u043b\\u0430 \\u0441\\u0442\\u0430\\u0431\\u0438\\u043b\\u0438\\u0437\\u0438\\u0440\\u043e\\u0432\\u0430\\u043d\\u0430. \\u0423\\u0434\\u0435\\u0440\\u0436\\u0430\\u043d\\u0438\\u0435 \\u0433\\u043e\\u0440\\u043e\\u0434\\u0430 \\u0422\\u0443\\u043b\\u044b \\u043e\\u0431\\u0435\\u0441\\u043f\\u0435\\u0447\\u0438\\u043b\\u043e \\u0443\\u0441\\u0442\\u043e\\u0439\\u0447\\u0438\\u0432\\u043e\\u0441\\u0442\\u044c \\u043b\\u0435\\u0432\\u043e\\u0433\\u043e \\u0444\\u043b\\u0430\\u043d\\u0433\\u0430 \\u0417\\u0430\\u043f\\u0430\\u0434\\u043d\\u043e\\u0433\\u043e \\u0444\\u0440\\u043e\\u043d\\u0442\\u0430, \\u043e\\u0442\\u0442\\u044f\\u043d\\u0443\\u0432 \\u043d\\u0430 \\u0441\\u0435\\u0431\\u044f \\u0432\\u0441\\u0435 \\u0441\\u0438\\u043b\\u044b 4-\\u0439 \\u043f\\u043e\\u043b\\u0435\\u0432\\u043e\\u0439 \\u0430\\u0440\\u043c\\u0438\\u0438 \\u0412\\u0435\\u0440\\u043c\\u0430\\u0445\\u0442\\u0430 \\u0438 \\u0441\\u043e\\u0440\\u0432\\u0430\\u0432 \\u043f\\u043b\\u0430\\u043d\\u044b \\u043e\\u0431\\u0445\\u043e\\u0434\\u0430 \\u041c\\u043e\\u0441\\u043a\\u0432\\u044b \\u0441 \\u0432\\u043e\\u0441\\u0442\\u043e\\u043a\\u0430 2-\\u0439 \\u0442\\u0430\\u043d\\u043a\\u043e\\u0432\\u043e\\u0439 \\u0430\\u0440\\u043c\\u0438\\u0435\\u0439. \\u0412\\u043e \\u0432\\u0440\\u0435\\u043c\\u044f \\u0432\\u0442\\u043e\\u0440\\u043e\\u0433\\u043e \\u0433\\u0435\\u043d\\u0435\\u0440\\u0430\\u043b\\u044c\\u043d\\u043e\\u0433\\u043e \\u043d\\u0430\\u0441\\u0442\\u0443\\u043f\\u043b\\u0435\\u043d\\u0438\\u044f \\u043d\\u0435\\u043c\\u0435\\u0446\\u043a\\u0438\\u0445 \\u0432\\u043e\\u0439\\u0441\\u043a 18 \\u043d\\u043e\\u044f\\u0431\\u0440\\u044f \\u2014 5 \\u0434\\u0435\\u043a\\u0430\\u0431\\u0440\\u044f, \\u043d\\u0435\\u0441\\u043c\\u043e\\u0442\\u0440\\u044f \\u043d\\u0430 \\u043d\\u0435\\u043a\\u043e\\u0442\\u043e\\u0440\\u044b\\u0435 \\u0443\\u0441\\u043f\\u0435\\u0445\\u0438, \\u0438\\u043c \\u0442\\u0430\\u043a\\u0436\\u0435 \\u043d\\u0435 \\u0443\\u0434\\u0430\\u043b\\u043e\\u0441\\u044c \\u043e\\u0441\\u0443\\u0449\\u0435\\u0441\\u0442\\u0432\\u0438\\u0442\\u044c \\u043f\\u0440\\u043e\\u0440\\u044b\\u0432 \\u043a \\u041c\\u043e\\u0441\\u043a\\u0432\\u0435 \\u043d\\u0430 \\u044e\\u0436\\u043d\\u043e\\u043c \\u043d\\u0430\\u043f\\u0440\\u0430\\u0432\\u043b\\u0435\\u043d\\u0438\\u0438 \\u0438 \\u0432\\u044b\\u043f\\u043e\\u043b\\u043d\\u0438\\u0442\\u044c \\u043f\\u043e\\u0441\\u0442\\u0430\\u0432\\u043b\\u0435\\u043d\\u043d\\u044b\\u0435 \\u043f\\u0435\\u0440\\u0435\\u0434 \\u043d\\u0438\\u043c\\u0438 \\u0437\\u0430\\u0434\\u0430\\u0447\\u0438.\",\n          \"\\u0424\\u0430\\u0443\\u0441\\u0442 \\u2014 \\u043f\\u0440\\u043e\\u0442\\u0430\\u0433\\u043e\\u043d\\u0438\\u0441\\u0442 \\u043a\\u043b\\u0430\\u0441\\u0441\\u0438\\u0447\\u0435\\u0441\\u043a\\u043e\\u0439 \\u043d\\u0435\\u043c\\u0435\\u0446\\u043a\\u043e\\u0439 \\u043b\\u0435\\u0433\\u0435\\u043d\\u0434\\u044b, \\u043e\\u0441\\u043d\\u043e\\u0432\\u0430\\u043d\\u043d\\u043e\\u0439 \\u043d\\u0430 \\u0436\\u0438\\u0437\\u043d\\u0438 \\u0418\\u043e\\u0433\\u0430\\u043d\\u043d\\u0430 \\u0413\\u0435\\u043e\\u0440\\u0433\\u0430 \\u0424\\u0430\\u0443\\u0441\\u0442\\u0430 . \\u0422\\u0430\\u043b\\u0430\\u043d\\u0442\\u043b\\u0438\\u0432\\u044b\\u0439 \\u0443\\u0447\\u0435\\u043d\\u044b\\u0439 \\u0424\\u0430\\u0443\\u0441\\u0442 \\u0437\\u0430\\u043a\\u043b\\u044e\\u0447\\u0430\\u0435\\u0442 \\u0441\\u0434\\u0435\\u043b\\u043a\\u0443 \\u0441 \\u0434\\u044c\\u044f\\u0432\\u043e\\u043b\\u043e\\u043c, \\u043e\\u0431\\u043c\\u0435\\u043d\\u044f\\u0432 \\u0441\\u0432\\u043e\\u044e \\u0434\\u0443\\u0448\\u0443 \\u043d\\u0430 \\u0431\\u0435\\u0437\\u0433\\u0440\\u0430\\u043d\\u0438\\u0447\\u043d\\u044b\\u0435 \\u0437\\u043d\\u0430\\u043d\\u0438\\u044f \\u0438 \\u043c\\u0438\\u0440\\u0441\\u043a\\u0438\\u0435 \\u0443\\u0434\\u043e\\u0432\\u043e\\u043b\\u044c\\u0441\\u0442\\u0432\\u0438\\u044f. \\u041b\\u0435\\u0433\\u0435\\u043d\\u0434\\u0430 \\u043e \\u0424\\u0430\\u0443\\u0441\\u0442\\u0435 \\u2014 \\u043e\\u0441\\u043d\\u043e\\u0432\\u0430 \\u043c\\u043d\\u043e\\u0436\\u0435\\u0441\\u0442\\u0432\\u0430 \\u043f\\u0440\\u043e\\u0438\\u0437\\u0432\\u0435\\u0434\\u0435\\u043d\\u0438\\u0439 \\u0438\\u0441\\u043a\\u0443\\u0441\\u0441\\u0442\\u0432\\u0430 \\u0432 \\u043b\\u0438\\u0442\\u0435\\u0440\\u0430\\u0442\\u0443\\u0440\\u0435, \\u043d\\u0430 \\u0441\\u0446\\u0435\\u043d\\u0435, \\u043a\\u0438\\u043d\\u043e \\u0438 \\u043c\\u0443\\u0437\\u044b\\u043a\\u0435, \\u043f\\u0435\\u0440\\u0435\\u043e\\u0441\\u043c\\u044b\\u0441\\u043b\\u0438\\u0432\\u0430\\u044e\\u0449\\u0438\\u0445 \\u043f\\u0435\\u0440\\u0432\\u043e\\u0438\\u0441\\u0442\\u043e\\u0447\\u043d\\u0438\\u043a \\u043d\\u0430 \\u043f\\u0440\\u043e\\u0442\\u044f\\u0436\\u0435\\u043d\\u0438\\u0438 \\u0441\\u0442\\u043e\\u043b\\u0435\\u0442\\u0438\\u0439. \\u0424\\u0430\\u0443\\u0441\\u0442 \\u0432 \\u0440\\u0430\\u043d\\u043d\\u0438\\u0445 \\u043a\\u043d\\u0438\\u0433\\u0430\\u0445, \\u0430 \\u0442\\u0430\\u043a\\u0436\\u0435 \\u0431\\u0435\\u0440\\u0443\\u0449\\u0438\\u0445 \\u0443 \\u043d\\u0438\\u0445 \\u043d\\u0430\\u0447\\u0430\\u043b\\u043e \\u0431\\u0430\\u043b\\u043b\\u0430\\u0434\\u0430\\u0445, \\u0434\\u0440\\u0430\\u043c\\u0430\\u0445, \\u0444\\u0438\\u043b\\u044c\\u043c\\u0430\\u0445 \\u0438 \\u043a\\u0443\\u043a\\u043e\\u043b\\u044c\\u043d\\u044b\\u0445 \\u043f\\u043e\\u0441\\u0442\\u0430\\u043d\\u043e\\u0432\\u043a\\u0430\\u0445, \\u0431\\u0435\\u0437\\u0432\\u043e\\u0437\\u0432\\u0440\\u0430\\u0442\\u043d\\u043e \\u043f\\u0440\\u043e\\u043a\\u043b\\u044f\\u0442, \\u043f\\u043e\\u0442\\u043e\\u043c\\u0443 \\u0447\\u0442\\u043e \\u043e\\u043d \\u043f\\u0440\\u0435\\u0434\\u043f\\u043e\\u0447\\u0435\\u043b \\u0431\\u043e\\u0436\\u0435\\u0441\\u0442\\u0432\\u0435\\u043d\\u043d\\u043e\\u0435 \\u0437\\u043d\\u0430\\u043d\\u0438\\u0435 \\u0447\\u0435\\u043b\\u043e\\u0432\\u0435\\u0447\\u0435\\u0441\\u043a\\u043e\\u043c\\u0443. \\u041f\\u044c\\u0435\\u0441\\u044b \\u0438 \\u043a\\u043e\\u043c\\u0438\\u0447\\u0435\\u0441\\u043a\\u0438\\u0435 \\u043a\\u0443\\u043a\\u043e\\u043b\\u044c\\u043d\\u044b\\u0435 \\u043f\\u043e\\u0441\\u0442\\u0430\\u043d\\u043e\\u0432\\u043a\\u0438, \\u0441\\u0432\\u043e\\u0431\\u043e\\u0434\\u043d\\u043e \\u0438\\u043d\\u0442\\u0435\\u0440\\u043f\\u0440\\u0435\\u0442\\u0438\\u0440\\u0443\\u044e\\u0449\\u0438\\u0435 \\u043b\\u0435\\u0433\\u0435\\u043d\\u0434\\u0443, \\u0431\\u044b\\u043b\\u0438 \\u043f\\u043e\\u043f\\u0443\\u043b\\u044f\\u0440\\u043d\\u044b \\u0432 \\u0413\\u0435\\u0440\\u043c\\u0430\\u043d\\u0438\\u0438 XVI \\u0432\\u0435\\u043a\\u0430, \\u0437\\u0430\\u0447\\u0430\\u0441\\u0442\\u0443\\u044e \\u0441\\u043d\\u0438\\u0436\\u0430\\u044f \\u043e\\u0431\\u0440\\u0430\\u0437\\u044b \\u0424\\u0430\\u0443\\u0441\\u0442\\u0430 \\u0438 \\u041c\\u0435\\u0444\\u0438\\u0441\\u0442\\u043e\\u0444\\u0435\\u043b\\u044f \\u0434\\u043e \\u043a\\u043e\\u043c\\u0438\\u0447\\u0435\\u0441\\u043a\\u0438-\\u0432\\u0443\\u043b\\u044c\\u0433\\u0430\\u0440\\u043d\\u044b\\u0445.\",\n          \"\\u041f\\u043e\\u0441\\u043b\\u0435 \\u043e\\u043a\\u043e\\u043d\\u0447\\u0430\\u043d\\u0438\\u044f \\u043d\\u0430\\u043f\\u043e\\u043b\\u0435\\u043e\\u043d\\u043e\\u0432\\u0441\\u043a\\u0438\\u0445 \\u0432\\u043e\\u0439\\u043d, \\u043d\\u0430\\u0447\\u0438\\u043d\\u0430\\u044f \\u0441 1815 \\u0433\\u043e\\u0434\\u0430 \\u0428\\u0432\\u0435\\u0439\\u0446\\u0430\\u0440\\u0438\\u044f \\u0441\\u043e\\u0431\\u043b\\u044e\\u0434\\u0430\\u0435\\u0442 \\u043f\\u043e\\u043b\\u0438\\u0442\\u0438\\u0447\\u0435\\u0441\\u043a\\u0438\\u0439 \\u0438 \\u0432\\u043e\\u0435\\u043d\\u043d\\u044b\\u0439 \\u043d\\u0435\\u0439\\u0442\\u0440\\u0430\\u043b\\u0438\\u0442\\u0435\\u0442. \\u042d\\u0442\\u043e \\u043f\\u043e\\u0437\\u0432\\u043e\\u043b\\u0438\\u043b\\u043e \\u0435\\u0439 \\u0438\\u0437\\u0431\\u0435\\u0436\\u0430\\u0442\\u044c \\u0440\\u0430\\u0437\\u0440\\u0443\\u0448\\u0438\\u0442\\u0435\\u043b\\u044c\\u043d\\u044b\\u0445 \\u043f\\u043e\\u0441\\u043b\\u0435\\u0434\\u0441\\u0442\\u0432\\u0438\\u0439 \\u0434\\u0432\\u0443\\u0445 \\u043c\\u0438\\u0440\\u043e\\u0432\\u044b\\u0445 \\u0432\\u043e\\u0439\\u043d \\u0432 \\u0425\\u0425 \\u0432\\u0435\\u043a\\u0435. \\u041e\\u0434\\u043d\\u0430\\u043a\\u043e \\u0442\\u0430\\u043a \\u0431\\u044b\\u043b\\u043e \\u043d\\u0435 \\u0432\\u0441\\u0435\\u0433\\u0434\\u0430. \\u041d\\u0430\\u0447\\u0438\\u043d\\u0430\\u044f \\u0435\\u0449\\u0451 \\u0441\\u043e \\u0432\\u0440\\u0435\\u043c\\u0451\\u043d \\u0414\\u0440\\u0435\\u0432\\u043d\\u0435\\u0433\\u043e \\u0420\\u0438\\u043c\\u0430 \\u043d\\u0430\\u0445\\u043e\\u0434\\u0438\\u043b\\u0438\\u0441\\u044c \\u0436\\u0435\\u043b\\u0430\\u044e\\u0449\\u0438\\u0435 \\u043f\\u0440\\u0438\\u0441\\u043e\\u0435\\u0434\\u0438\\u043d\\u0438\\u0442\\u044c \\u044d\\u0442\\u0438 \\u0430\\u043b\\u044c\\u043f\\u0438\\u0439\\u0441\\u043a\\u0438\\u0435 \\u0434\\u043e\\u043b\\u0438\\u043d\\u044b \\u043a \\u0441\\u0432\\u043e\\u0438\\u043c \\u0432\\u043b\\u0430\\u0434\\u0435\\u043d\\u0438\\u044f\\u043c. \\u041e\\u0441\\u043e\\u0431\\u0435\\u043d\\u043d\\u043e \\u0438\\u043d\\u0442\\u0435\\u0440\\u0435\\u0441 \\u043a \\u043d\\u0438\\u043c \\u0432\\u043e\\u0437\\u0440\\u043e\\u0441 \\u0432 \\u0441\\u0440\\u0435\\u0434\\u043d\\u0438\\u0435 \\u0432\\u0435\\u043a\\u0430, \\u043a\\u043e\\u0433\\u0434\\u0430 \\u043e\\u043d\\u0438 \\u043e\\u043a\\u0430\\u0437\\u0430\\u043b\\u0438\\u0441\\u044c \\u043d\\u0430 \\u043f\\u0435\\u0440\\u0435\\u0441\\u0435\\u0447\\u0435\\u043d\\u0438\\u0438 \\u0442\\u0440\\u0430\\u043d\\u0441\\u043f\\u043e\\u0440\\u0442\\u043d\\u044b\\u0445 \\u043f\\u0443\\u0442\\u0435\\u0439 \\u0441 \\u0441\\u0435\\u0432\\u0435\\u0440\\u0430 \\u0415\\u0432\\u0440\\u043e\\u043f\\u044b \\u0432 \\u0418\\u0442\\u0430\\u043b\\u0438\\u044e \\u0438 \\u0441 \\u0437\\u0430\\u043f\\u0430\\u0434\\u0430 \\u0415\\u0432\\u0440\\u043e\\u043f\\u044b \\u043d\\u0430 \\u0432\\u043e\\u0441\\u0442\\u043e\\u043a.\"\n        ],\n        \"semantic_type\": \"\",\n        \"description\": \"\"\n      }\n    },\n    {\n      \"column\": \"label\",\n      \"properties\": {\n        \"dtype\": \"number\",\n        \"std\": 0,\n        \"min\": 0,\n        \"max\": 1,\n        \"num_unique_values\": 2,\n        \"samples\": [\n          1,\n          0\n        ],\n        \"semantic_type\": \"\",\n        \"description\": \"\"\n      }\n    },\n    {\n      \"column\": \"prediction\",\n      \"properties\": {\n        \"dtype\": \"number\",\n        \"std\": 0,\n        \"min\": 0,\n        \"max\": 1,\n        \"num_unique_values\": 2,\n        \"samples\": [\n          0,\n          1\n        ],\n        \"semantic_type\": \"\",\n        \"description\": \"\"\n      }\n    }\n  ]\n}",
              "type": "dataframe"
            },
            "text/html": [
              "\n",
              "  <div id=\"df-d631e8aa-34a9-45d1-ae26-3387d438300d\" class=\"colab-df-container\">\n",
              "    <div>\n",
              "<style scoped>\n",
              "    .dataframe tbody tr th:only-of-type {\n",
              "        vertical-align: middle;\n",
              "    }\n",
              "\n",
              "    .dataframe tbody tr th {\n",
              "        vertical-align: top;\n",
              "    }\n",
              "\n",
              "    .dataframe thead th {\n",
              "        text-align: right;\n",
              "    }\n",
              "</style>\n",
              "<table border=\"1\" class=\"dataframe\">\n",
              "  <thead>\n",
              "    <tr style=\"text-align: right;\">\n",
              "      <th></th>\n",
              "      <th>question</th>\n",
              "      <th>passage</th>\n",
              "      <th>label</th>\n",
              "      <th>prediction</th>\n",
              "    </tr>\n",
              "  </thead>\n",
              "  <tbody>\n",
              "    <tr>\n",
              "      <th>15</th>\n",
              "      <td>Соблюдала ли швейцария нейтралитет во время наполеоновских войн?</td>\n",
              "      <td>После окончания наполеоновских войн, начиная с 1815 года Швейцария соблюдает политический и военный нейтралитет. Это позволило ей избежать разрушительных последствий двух мировых войн в ХХ веке. Однако так было не всегда. Начиная ещё со времён Древнего Рима находились желающие присоединить эти альпийские долины к своим владениям. Особенно интерес к ним возрос в средние века, когда они оказались на пересечении транспортных путей с севера Европы в Италию и с запада Европы на восток.</td>\n",
              "      <td>0</td>\n",
              "      <td>1</td>\n",
              "    </tr>\n",
              "    <tr>\n",
              "      <th>21</th>\n",
              "      <td>Есть ли дед мороз?</td>\n",
              "      <td>Дед Моро́з — главный сказочный персонаж на празднике Нового года, славянский вариант рождественского дарителя. Известен  с 1840 года, но создание канонического образа Деда Мороза как обязательного персонажа новогоднего, а не рождественского праздника произошло в советское время и относится к концу 1930-х годов, когда после нескольких лет запрета вновь была разрешена ёлка. Прообразами Деда Мороза являются персонаж славянского сказочного фольклора и календарных обрядов и Святой Николай. Дед Мороз изображается как старик в цветной — голубой, синей, красной или белой шубе, с длинной белой бородой и посохом в руке, в валенках. Ездит на тройке лошадей.</td>\n",
              "      <td>0</td>\n",
              "      <td>1</td>\n",
              "    </tr>\n",
              "    <tr>\n",
              "      <th>32</th>\n",
              "      <td>Разрешено ли проезжать жд переезд?</td>\n",
              "      <td>Железнодорожный переезд — место одноуровневого пересечения железнодорожных путей и автомобильной дороги либо велосипедной или пешеходной дорожки. Железнодорожный переезд — объект повышенной опасности, поэтому для предупреждения несчастных случаев переезды оборудуются светофорами, шлагбаумами и звуковыми сигналами, а также УЗП  — металлическими плитами, которые поднимаются, заграждая проезд . В России переезды делятся на четыре категории. Железнодорожные переезды оборудуются в местах с хорошей видимостью. Угол пересечения автомобильной дороги и железнодорожных путей должен составлять не менее 60°.</td>\n",
              "      <td>1</td>\n",
              "      <td>0</td>\n",
              "    </tr>\n",
              "    <tr>\n",
              "      <th>33</th>\n",
              "      <td>Разрешено ли вам проехать железнодорожный переезд?</td>\n",
              "      <td>Железнодорожный переезд — место одноуровневого пересечения железнодорожных путей и автомобильной дороги либо велосипедной или пешеходной дорожки. Железнодорожный переезд — объект повышенной опасности, поэтому для предупреждения несчастных случаев переезды оборудуются светофорами, шлагбаумами и звуковыми сигналами, а также УЗП  — металлическими плитами, которые поднимаются, заграждая проезд . В России переезды делятся на четыре категории. Железнодорожные переезды оборудуются в местах с хорошей видимостью. Угол пересечения автомобильной дороги и железнодорожных путей должен составлять не менее 60°.</td>\n",
              "      <td>1</td>\n",
              "      <td>0</td>\n",
              "    </tr>\n",
              "    <tr>\n",
              "      <th>36</th>\n",
              "      <td>Были ли у пушкина крепостные?</td>\n",
              "      <td>Сразу после свадьбы Михаил Калашников сообщил о ней Пушкину, не забыв выразить благодарность своему хозяину. Поселились супруги в Лукоянове. Вскоре выяснилось, что Ключарёв почти разорён: его крепостные, которыми он владел совместно с братом, были заложены, причём проценты по закладной не уплачивались. Ключарёв пил, бросил службу, благодаря которой жила семья, и супруги переехали в Болдино к Ольгиному отцу. 11 января 1833 года Пушкину за подписью Ольги было отправлено письмо с просьбой одолжить 2000 рублей для выкупа выставленных на аукцион 15 крепостных душ, переданных ей мужем.</td>\n",
              "      <td>1</td>\n",
              "      <td>0</td>\n",
              "    </tr>\n",
              "    <tr>\n",
              "      <th>45</th>\n",
              "      <td>Есть ли у глаголов склонение?</td>\n",
              "      <td>Латинский язык имеет развитую систему словоизменения, что особенно проявляется в глагольном спряжении. Образование словоформ происходит путём присоединения окончаний, а словообразование — путём присоединения префиксов и суффиксов. Латинский глагол  склоняется по определённым правилам, которые определяют его спряжение. Глаголы делятся на спряжения согласно своим окончаниям в инфинитиве настоящего времени:  первое — -āre, второе — -ēre , третье — -ere , четвёртое — -īre.Глагол имеет три наклонения ; два залога ; два числа , три лица ; склоняется в шести главных временах . В частности, имеются формы условного наклонения для настоящего, прошедшего несовершенного, прошедшего совершенного времён и плюсквамперфекта; образуются причастия настоящего, будущего  и прошлого  времён; имеются формы повелительного наклонения для настоящего и будущего времён.</td>\n",
              "      <td>0</td>\n",
              "      <td>1</td>\n",
              "    </tr>\n",
              "    <tr>\n",
              "      <th>49</th>\n",
              "      <td>Смартфон лучше телефона?</td>\n",
              "      <td>Смартфо́н  — мобильный телефон , дополненный функциональностью карманного персонального компьютера. Также коммуникатор  — карманный персональный компьютер, дополненный функциональностью мобильного телефона. Хотя в мобильных телефонах практически всегда были дополнительные функции , со временем выпускались все более и более интеллектуальные модели. С целью подчеркнуть возросшую функциональность и вычислительную мощность таких моделей был введён термин «смартфон». В эру роста популярности КПК они стали выпускаться с функциями мобильного телефона, такие устройства были названы коммуникаторами. В настоящее время разделение на смартфоны и коммуникаторы неактуально, оба термина обозначают одно и то же — миниатюрный универсальный компьютер с полноценными пользовательскими интерфейсами и развитыми радио-интерфейсами мобильного телефона, сам термин «коммуникатор» практически перестал использоваться.</td>\n",
              "      <td>1</td>\n",
              "      <td>0</td>\n",
              "    </tr>\n",
              "    <tr>\n",
              "      <th>50</th>\n",
              "      <td>Передается ли ячмень на глазу?</td>\n",
              "      <td>Как и вирусные конъюнктивиты, бактериальные, чаще всего поражают лишь один глаз, но затем легко могут перейти и на другой. Обычно симптомы появляются лишь на третий день после заражения. Конъюнктивиты, вызванные отравляющими и токсическими веществами. Основные симптомы — раздражение и боль в глазу, при перемещении взгляда вниз или вверх, а также покраснение. Боль при движении глазом связана с распространением токсического вещества по поверхности глазного яблока.</td>\n",
              "      <td>1</td>\n",
              "      <td>0</td>\n",
              "    </tr>\n",
              "    <tr>\n",
              "      <th>52</th>\n",
              "      <td>Разрешены ли в финляндии однополые браки?</td>\n",
              "      <td>Права ЛГБТ в Финляндии — защита прав и достоинства людей с гомосексуальной, бисексуальной ориентацией и транссексуалов на территории Финляндии. В 2019 году в рейтинге равноправия полов в странах ЕС Финляндия заняла четвёртое место. С 1894 года гомосексуализм начал преследоваться в Великом княжестве Финляндском в уголовном порядке. С 1971 года однополые сексуальные отношения легализованы на всей территории страны, а с 1981 года гомосексуальность исключена из списка заболеваний. В 2011 году исключён из списка заболеваний трансвестизм.</td>\n",
              "      <td>1</td>\n",
              "      <td>0</td>\n",
              "    </tr>\n",
              "    <tr>\n",
              "      <th>62</th>\n",
              "      <td>Правда ли что танки изобрели после первой мировой войны?</td>\n",
              "      <td>История танков начинается в годы Первой мировой войны, когда были созданы первые образцы этого нового вида вооружений, возможности которого были быстро оценены воюющими сторонами. С тех пор активно развивались как конструкция танков, так и тактика их применения, взгляды на которые многократно менялись. Со времён окончания Первой мировой войны танки постепенно получили распространение практически во всех странах, содержащих сколько-нибудь значительные вооружённые силы и, начиная с середины XX века, применялись в подавляющем большинстве вооружённых конфликтов. В настоящее время, бронетанковые войска являются основной ударной силой сухопутных войск практически всех крупных армий. В Средние века в полевом бою широко применялись вагенбурги, каррочио, таборы и гуляй-город, а при штурме городов и замков — осадные башни, известные ещё с античности.</td>\n",
              "      <td>0</td>\n",
              "      <td>1</td>\n",
              "    </tr>\n",
              "    <tr>\n",
              "      <th>68</th>\n",
              "      <td>Были ли немцы в туле?</td>\n",
              "      <td>Тульская наступательная операция  — операция войск левого крыла Западного фронта в Великой Отечественной войне, часть Московской стратегической наступательной операции 1941—1942. В октябре—декабре 1941 года в течение 43-х дней ключевой стратегический пункт обороны город Тула находилась в полуокружении, подвергалась артиллерийскому и миномётному обстрелу, воздушным налётам люфтваффе и танковым атакам. Тем не менее, линия фронта на южных подступах к Москве была стабилизирована. Удержание города Тулы обеспечило устойчивость левого фланга Западного фронта, оттянув на себя все силы 4-й полевой армии Вермахта и сорвав планы обхода Москвы с востока 2-й танковой армией. Во время второго генерального наступления немецких войск 18 ноября — 5 декабря, несмотря на некоторые успехи, им также не удалось осуществить прорыв к Москве на южном направлении и выполнить поставленные перед ними задачи.</td>\n",
              "      <td>0</td>\n",
              "      <td>1</td>\n",
              "    </tr>\n",
              "    <tr>\n",
              "      <th>69</th>\n",
              "      <td>Есть ли в хищных птицах сцена после титров?</td>\n",
              "      <td>Билли сближается со своей приёмной семьёй и появляется в школе как Шазам, чтобы поддержать Фредди, и к тому же приводит вместе с собой самого Супермена. В сцене во время титров, Сивана в своей тюремной камере в одержимости рисует на стене загадочные символы, но его прерывает Мистер Майнд, ранее находившийся в заключении у Скалы Вечности, и рассказывает ему о столпах зла, которые сойдутся вместе, и что они будут править семью сферами. В сцене после титров Фредди проверяет, может ли Билли говорить с рыбой, ссылаясь на Аквамена, но Билли считает такую способность глупой. Ашер Энджел — Билли Бэтсон, подросток, который может превращаться во взрослого супергероя, произнеся магическое слово «Шазам!», в оригинале являющееся акронимом шести легендарных богов и героев древнего мира и их способностей: мудрости Соломона , силы Геракла , стойкости Атланта , мощи Зевса , смелости Ахиллеса  и скорости Меркурия . Дэвид Колсмит исполнил роль маленького Билли.</td>\n",
              "      <td>1</td>\n",
              "      <td>0</td>\n",
              "    </tr>\n",
              "    <tr>\n",
              "      <th>75</th>\n",
              "      <td>Был ли фауст злодеем?</td>\n",
              "      <td>Фауст — протагонист классической немецкой легенды, основанной на жизни Иоганна Георга Фауста . Талантливый ученый Фауст заключает сделку с дьяволом, обменяв свою душу на безграничные знания и мирские удовольствия. Легенда о Фаусте — основа множества произведений искусства в литературе, на сцене, кино и музыке, переосмысливающих первоисточник на протяжении столетий. Фауст в ранних книгах, а также берущих у них начало балладах, драмах, фильмах и кукольных постановках, безвозвратно проклят, потому что он предпочел божественное знание человеческому. Пьесы и комические кукольные постановки, свободно интерпретирующие легенду, были популярны в Германии XVI века, зачастую снижая образы Фауста и Мефистофеля до комически-вульгарных.</td>\n",
              "      <td>1</td>\n",
              "      <td>0</td>\n",
              "    </tr>\n",
              "    <tr>\n",
              "      <th>84</th>\n",
              "      <td>Был ли павлик морозов?</td>\n",
              "      <td>Отец был этническим белорусом и происходил из столыпинских переселенцев, которые осели в Герасимовке с 1910 года. Павлик был старшим из пятерых детей, у него было четыре брата: Георгий , Фёдор , Алексей  и Роман . Отец Павлика, бывший младший командир Гражданской войны, до 1931 года был председателем Герасимовского сельсовета. По воспоминаниям герасимовцев, вскоре после занятия этой должности Трофим Морозов начал пользоваться ею в корыстных целях, о чём подробно упоминается в уголовном деле, возбуждённом против него впоследствии. Согласно показаниям свидетелей, Трофим стал присваивать себе вещи, конфискованные у раскулаченных.</td>\n",
              "      <td>1</td>\n",
              "      <td>0</td>\n",
              "    </tr>\n",
              "    <tr>\n",
              "      <th>91</th>\n",
              "      <td>Была ли эль феррари?</td>\n",
              "      <td>Елена  Феррари  — русская и итальянская поэтесса начала 1920-х годов, кадровая сотрудница Разведупра РККА, капитан госбезопасности, кавалер ордена Красного Знамени . Ольга Ревзина родилась в семье штейгера  Фёдора Абрамовича Ревзина. Родная сестра военного деятеля и разведчика Владимира Фёдоровича Ревзина, сменившего фамилию на Воля . О её якобы еврейском происхождении и «итальянской» внешности упоминает Н. Н. Чебышёв со слов В. Ф. Ходасевича. Ольга училась в Екатеринославе в гимназии, в детстве некоторое время жила в Швейцарии с тяжело больной матерью, которая умерла в 1909 году.</td>\n",
              "      <td>1</td>\n",
              "      <td>0</td>\n",
              "    </tr>\n",
              "  </tbody>\n",
              "</table>\n",
              "</div>\n",
              "    <div class=\"colab-df-buttons\">\n",
              "\n",
              "  <div class=\"colab-df-container\">\n",
              "    <button class=\"colab-df-convert\" onclick=\"convertToInteractive('df-d631e8aa-34a9-45d1-ae26-3387d438300d')\"\n",
              "            title=\"Convert this dataframe to an interactive table.\"\n",
              "            style=\"display:none;\">\n",
              "\n",
              "  <svg xmlns=\"http://www.w3.org/2000/svg\" height=\"24px\" viewBox=\"0 -960 960 960\">\n",
              "    <path d=\"M120-120v-720h720v720H120Zm60-500h600v-160H180v160Zm220 220h160v-160H400v160Zm0 220h160v-160H400v160ZM180-400h160v-160H180v160Zm440 0h160v-160H620v160ZM180-180h160v-160H180v160Zm440 0h160v-160H620v160Z\"/>\n",
              "  </svg>\n",
              "    </button>\n",
              "\n",
              "  <style>\n",
              "    .colab-df-container {\n",
              "      display:flex;\n",
              "      gap: 12px;\n",
              "    }\n",
              "\n",
              "    .colab-df-convert {\n",
              "      background-color: #E8F0FE;\n",
              "      border: none;\n",
              "      border-radius: 50%;\n",
              "      cursor: pointer;\n",
              "      display: none;\n",
              "      fill: #1967D2;\n",
              "      height: 32px;\n",
              "      padding: 0 0 0 0;\n",
              "      width: 32px;\n",
              "    }\n",
              "\n",
              "    .colab-df-convert:hover {\n",
              "      background-color: #E2EBFA;\n",
              "      box-shadow: 0px 1px 2px rgba(60, 64, 67, 0.3), 0px 1px 3px 1px rgba(60, 64, 67, 0.15);\n",
              "      fill: #174EA6;\n",
              "    }\n",
              "\n",
              "    .colab-df-buttons div {\n",
              "      margin-bottom: 4px;\n",
              "    }\n",
              "\n",
              "    [theme=dark] .colab-df-convert {\n",
              "      background-color: #3B4455;\n",
              "      fill: #D2E3FC;\n",
              "    }\n",
              "\n",
              "    [theme=dark] .colab-df-convert:hover {\n",
              "      background-color: #434B5C;\n",
              "      box-shadow: 0px 1px 3px 1px rgba(0, 0, 0, 0.15);\n",
              "      filter: drop-shadow(0px 1px 2px rgba(0, 0, 0, 0.3));\n",
              "      fill: #FFFFFF;\n",
              "    }\n",
              "  </style>\n",
              "\n",
              "    <script>\n",
              "      const buttonEl =\n",
              "        document.querySelector('#df-d631e8aa-34a9-45d1-ae26-3387d438300d button.colab-df-convert');\n",
              "      buttonEl.style.display =\n",
              "        google.colab.kernel.accessAllowed ? 'block' : 'none';\n",
              "\n",
              "      async function convertToInteractive(key) {\n",
              "        const element = document.querySelector('#df-d631e8aa-34a9-45d1-ae26-3387d438300d');\n",
              "        const dataTable =\n",
              "          await google.colab.kernel.invokeFunction('convertToInteractive',\n",
              "                                                    [key], {});\n",
              "        if (!dataTable) return;\n",
              "\n",
              "        const docLinkHtml = 'Like what you see? Visit the ' +\n",
              "          '<a target=\"_blank\" href=https://colab.research.google.com/notebooks/data_table.ipynb>data table notebook</a>'\n",
              "          + ' to learn more about interactive tables.';\n",
              "        element.innerHTML = '';\n",
              "        dataTable['output_type'] = 'display_data';\n",
              "        await google.colab.output.renderOutput(dataTable, element);\n",
              "        const docLink = document.createElement('div');\n",
              "        docLink.innerHTML = docLinkHtml;\n",
              "        element.appendChild(docLink);\n",
              "      }\n",
              "    </script>\n",
              "  </div>\n",
              "\n",
              "\n",
              "<div id=\"df-9f3805fc-5532-44f4-8840-4c94e3383312\">\n",
              "  <button class=\"colab-df-quickchart\" onclick=\"quickchart('df-9f3805fc-5532-44f4-8840-4c94e3383312')\"\n",
              "            title=\"Suggest charts\"\n",
              "            style=\"display:none;\">\n",
              "\n",
              "<svg xmlns=\"http://www.w3.org/2000/svg\" height=\"24px\"viewBox=\"0 0 24 24\"\n",
              "     width=\"24px\">\n",
              "    <g>\n",
              "        <path d=\"M19 3H5c-1.1 0-2 .9-2 2v14c0 1.1.9 2 2 2h14c1.1 0 2-.9 2-2V5c0-1.1-.9-2-2-2zM9 17H7v-7h2v7zm4 0h-2V7h2v10zm4 0h-2v-4h2v4z\"/>\n",
              "    </g>\n",
              "</svg>\n",
              "  </button>\n",
              "\n",
              "<style>\n",
              "  .colab-df-quickchart {\n",
              "      --bg-color: #E8F0FE;\n",
              "      --fill-color: #1967D2;\n",
              "      --hover-bg-color: #E2EBFA;\n",
              "      --hover-fill-color: #174EA6;\n",
              "      --disabled-fill-color: #AAA;\n",
              "      --disabled-bg-color: #DDD;\n",
              "  }\n",
              "\n",
              "  [theme=dark] .colab-df-quickchart {\n",
              "      --bg-color: #3B4455;\n",
              "      --fill-color: #D2E3FC;\n",
              "      --hover-bg-color: #434B5C;\n",
              "      --hover-fill-color: #FFFFFF;\n",
              "      --disabled-bg-color: #3B4455;\n",
              "      --disabled-fill-color: #666;\n",
              "  }\n",
              "\n",
              "  .colab-df-quickchart {\n",
              "    background-color: var(--bg-color);\n",
              "    border: none;\n",
              "    border-radius: 50%;\n",
              "    cursor: pointer;\n",
              "    display: none;\n",
              "    fill: var(--fill-color);\n",
              "    height: 32px;\n",
              "    padding: 0;\n",
              "    width: 32px;\n",
              "  }\n",
              "\n",
              "  .colab-df-quickchart:hover {\n",
              "    background-color: var(--hover-bg-color);\n",
              "    box-shadow: 0 1px 2px rgba(60, 64, 67, 0.3), 0 1px 3px 1px rgba(60, 64, 67, 0.15);\n",
              "    fill: var(--button-hover-fill-color);\n",
              "  }\n",
              "\n",
              "  .colab-df-quickchart-complete:disabled,\n",
              "  .colab-df-quickchart-complete:disabled:hover {\n",
              "    background-color: var(--disabled-bg-color);\n",
              "    fill: var(--disabled-fill-color);\n",
              "    box-shadow: none;\n",
              "  }\n",
              "\n",
              "  .colab-df-spinner {\n",
              "    border: 2px solid var(--fill-color);\n",
              "    border-color: transparent;\n",
              "    border-bottom-color: var(--fill-color);\n",
              "    animation:\n",
              "      spin 1s steps(1) infinite;\n",
              "  }\n",
              "\n",
              "  @keyframes spin {\n",
              "    0% {\n",
              "      border-color: transparent;\n",
              "      border-bottom-color: var(--fill-color);\n",
              "      border-left-color: var(--fill-color);\n",
              "    }\n",
              "    20% {\n",
              "      border-color: transparent;\n",
              "      border-left-color: var(--fill-color);\n",
              "      border-top-color: var(--fill-color);\n",
              "    }\n",
              "    30% {\n",
              "      border-color: transparent;\n",
              "      border-left-color: var(--fill-color);\n",
              "      border-top-color: var(--fill-color);\n",
              "      border-right-color: var(--fill-color);\n",
              "    }\n",
              "    40% {\n",
              "      border-color: transparent;\n",
              "      border-right-color: var(--fill-color);\n",
              "      border-top-color: var(--fill-color);\n",
              "    }\n",
              "    60% {\n",
              "      border-color: transparent;\n",
              "      border-right-color: var(--fill-color);\n",
              "    }\n",
              "    80% {\n",
              "      border-color: transparent;\n",
              "      border-right-color: var(--fill-color);\n",
              "      border-bottom-color: var(--fill-color);\n",
              "    }\n",
              "    90% {\n",
              "      border-color: transparent;\n",
              "      border-bottom-color: var(--fill-color);\n",
              "    }\n",
              "  }\n",
              "</style>\n",
              "\n",
              "  <script>\n",
              "    async function quickchart(key) {\n",
              "      const quickchartButtonEl =\n",
              "        document.querySelector('#' + key + ' button');\n",
              "      quickchartButtonEl.disabled = true;  // To prevent multiple clicks.\n",
              "      quickchartButtonEl.classList.add('colab-df-spinner');\n",
              "      try {\n",
              "        const charts = await google.colab.kernel.invokeFunction(\n",
              "            'suggestCharts', [key], {});\n",
              "      } catch (error) {\n",
              "        console.error('Error during call to suggestCharts:', error);\n",
              "      }\n",
              "      quickchartButtonEl.classList.remove('colab-df-spinner');\n",
              "      quickchartButtonEl.classList.add('colab-df-quickchart-complete');\n",
              "    }\n",
              "    (() => {\n",
              "      let quickchartButtonEl =\n",
              "        document.querySelector('#df-9f3805fc-5532-44f4-8840-4c94e3383312 button');\n",
              "      quickchartButtonEl.style.display =\n",
              "        google.colab.kernel.accessAllowed ? 'block' : 'none';\n",
              "    })();\n",
              "  </script>\n",
              "</div>\n",
              "\n",
              "    </div>\n",
              "  </div>\n"
            ],
            "text/plain": [
              "                                                            question  \\\n",
              "15  Соблюдала ли швейцария нейтралитет во время наполеоновских войн?   \n",
              "21                                                Есть ли дед мороз?   \n",
              "32                                Разрешено ли проезжать жд переезд?   \n",
              "33                Разрешено ли вам проехать железнодорожный переезд?   \n",
              "36                                     Были ли у пушкина крепостные?   \n",
              "45                                     Есть ли у глаголов склонение?   \n",
              "49                                          Смартфон лучше телефона?   \n",
              "50                                    Передается ли ячмень на глазу?   \n",
              "52                         Разрешены ли в финляндии однополые браки?   \n",
              "62          Правда ли что танки изобрели после первой мировой войны?   \n",
              "68                                             Были ли немцы в туле?   \n",
              "69                       Есть ли в хищных птицах сцена после титров?   \n",
              "75                                             Был ли фауст злодеем?   \n",
              "84                                            Был ли павлик морозов?   \n",
              "91                                              Была ли эль феррари?   \n",
              "\n",
              "                                                                                                                                                                                                                                                                                                                                                                                                                                                                                                                                                                                                                                                                                                                                                                                                                                                                                                                                                                                         passage  \\\n",
              "15                                                                                                                                                                                                                                                                                                                                                                                                                                                                                         После окончания наполеоновских войн, начиная с 1815 года Швейцария соблюдает политический и военный нейтралитет. Это позволило ей избежать разрушительных последствий двух мировых войн в ХХ веке. Однако так было не всегда. Начиная ещё со времён Древнего Рима находились желающие присоединить эти альпийские долины к своим владениям. Особенно интерес к ним возрос в средние века, когда они оказались на пересечении транспортных путей с севера Европы в Италию и с запада Европы на восток.   \n",
              "21                                                                                                                                                                                                                                                                                                                Дед Моро́з — главный сказочный персонаж на празднике Нового года, славянский вариант рождественского дарителя. Известен  с 1840 года, но создание канонического образа Деда Мороза как обязательного персонажа новогоднего, а не рождественского праздника произошло в советское время и относится к концу 1930-х годов, когда после нескольких лет запрета вновь была разрешена ёлка. Прообразами Деда Мороза являются персонаж славянского сказочного фольклора и календарных обрядов и Святой Николай. Дед Мороз изображается как старик в цветной — голубой, синей, красной или белой шубе, с длинной белой бородой и посохом в руке, в валенках. Ездит на тройке лошадей.   \n",
              "32                                                                                                                                                                                                                                                                                                                                                                   Железнодорожный переезд — место одноуровневого пересечения железнодорожных путей и автомобильной дороги либо велосипедной или пешеходной дорожки. Железнодорожный переезд — объект повышенной опасности, поэтому для предупреждения несчастных случаев переезды оборудуются светофорами, шлагбаумами и звуковыми сигналами, а также УЗП  — металлическими плитами, которые поднимаются, заграждая проезд . В России переезды делятся на четыре категории. Железнодорожные переезды оборудуются в местах с хорошей видимостью. Угол пересечения автомобильной дороги и железнодорожных путей должен составлять не менее 60°.   \n",
              "33                                                                                                                                                                                                                                                                                                                                                                   Железнодорожный переезд — место одноуровневого пересечения железнодорожных путей и автомобильной дороги либо велосипедной или пешеходной дорожки. Железнодорожный переезд — объект повышенной опасности, поэтому для предупреждения несчастных случаев переезды оборудуются светофорами, шлагбаумами и звуковыми сигналами, а также УЗП  — металлическими плитами, которые поднимаются, заграждая проезд . В России переезды делятся на четыре категории. Железнодорожные переезды оборудуются в местах с хорошей видимостью. Угол пересечения автомобильной дороги и железнодорожных путей должен составлять не менее 60°.   \n",
              "36                                                                                                                                                                                                                                                                                                                                                                                    Сразу после свадьбы Михаил Калашников сообщил о ней Пушкину, не забыв выразить благодарность своему хозяину. Поселились супруги в Лукоянове. Вскоре выяснилось, что Ключарёв почти разорён: его крепостные, которыми он владел совместно с братом, были заложены, причём проценты по закладной не уплачивались. Ключарёв пил, бросил службу, благодаря которой жила семья, и супруги переехали в Болдино к Ольгиному отцу. 11 января 1833 года Пушкину за подписью Ольги было отправлено письмо с просьбой одолжить 2000 рублей для выкупа выставленных на аукцион 15 крепостных душ, переданных ей мужем.   \n",
              "45                                                                                                       Латинский язык имеет развитую систему словоизменения, что особенно проявляется в глагольном спряжении. Образование словоформ происходит путём присоединения окончаний, а словообразование — путём присоединения префиксов и суффиксов. Латинский глагол  склоняется по определённым правилам, которые определяют его спряжение. Глаголы делятся на спряжения согласно своим окончаниям в инфинитиве настоящего времени:  первое — -āre, второе — -ēre , третье — -ere , четвёртое — -īre.Глагол имеет три наклонения ; два залога ; два числа , три лица ; склоняется в шести главных временах . В частности, имеются формы условного наклонения для настоящего, прошедшего несовершенного, прошедшего совершенного времён и плюсквамперфекта; образуются причастия настоящего, будущего  и прошлого  времён; имеются формы повелительного наклонения для настоящего и будущего времён.   \n",
              "49                                                       Смартфо́н  — мобильный телефон , дополненный функциональностью карманного персонального компьютера. Также коммуникатор  — карманный персональный компьютер, дополненный функциональностью мобильного телефона. Хотя в мобильных телефонах практически всегда были дополнительные функции , со временем выпускались все более и более интеллектуальные модели. С целью подчеркнуть возросшую функциональность и вычислительную мощность таких моделей был введён термин «смартфон». В эру роста популярности КПК они стали выпускаться с функциями мобильного телефона, такие устройства были названы коммуникаторами. В настоящее время разделение на смартфоны и коммуникаторы неактуально, оба термина обозначают одно и то же — миниатюрный универсальный компьютер с полноценными пользовательскими интерфейсами и развитыми радио-интерфейсами мобильного телефона, сам термин «коммуникатор» практически перестал использоваться.   \n",
              "50                                                                                                                                                                                                                                                                                                                                                                                                                                                                                                            Как и вирусные конъюнктивиты, бактериальные, чаще всего поражают лишь один глаз, но затем легко могут перейти и на другой. Обычно симптомы появляются лишь на третий день после заражения. Конъюнктивиты, вызванные отравляющими и токсическими веществами. Основные симптомы — раздражение и боль в глазу, при перемещении взгляда вниз или вверх, а также покраснение. Боль при движении глазом связана с распространением токсического вещества по поверхности глазного яблока.   \n",
              "52                                                                                                                                                                                                                                                                                                                                                                                                                                    Права ЛГБТ в Финляндии — защита прав и достоинства людей с гомосексуальной, бисексуальной ориентацией и транссексуалов на территории Финляндии. В 2019 году в рейтинге равноправия полов в странах ЕС Финляндия заняла четвёртое место. С 1894 года гомосексуализм начал преследоваться в Великом княжестве Финляндском в уголовном порядке. С 1971 года однополые сексуальные отношения легализованы на всей территории страны, а с 1981 года гомосексуальность исключена из списка заболеваний. В 2011 году исключён из списка заболеваний трансвестизм.   \n",
              "62                                                                                                          История танков начинается в годы Первой мировой войны, когда были созданы первые образцы этого нового вида вооружений, возможности которого были быстро оценены воюющими сторонами. С тех пор активно развивались как конструкция танков, так и тактика их применения, взгляды на которые многократно менялись. Со времён окончания Первой мировой войны танки постепенно получили распространение практически во всех странах, содержащих сколько-нибудь значительные вооружённые силы и, начиная с середины XX века, применялись в подавляющем большинстве вооружённых конфликтов. В настоящее время, бронетанковые войска являются основной ударной силой сухопутных войск практически всех крупных армий. В Средние века в полевом бою широко применялись вагенбурги, каррочио, таборы и гуляй-город, а при штурме городов и замков — осадные башни, известные ещё с античности.   \n",
              "68                                                                 Тульская наступательная операция  — операция войск левого крыла Западного фронта в Великой Отечественной войне, часть Московской стратегической наступательной операции 1941—1942. В октябре—декабре 1941 года в течение 43-х дней ключевой стратегический пункт обороны город Тула находилась в полуокружении, подвергалась артиллерийскому и миномётному обстрелу, воздушным налётам люфтваффе и танковым атакам. Тем не менее, линия фронта на южных подступах к Москве была стабилизирована. Удержание города Тулы обеспечило устойчивость левого фланга Западного фронта, оттянув на себя все силы 4-й полевой армии Вермахта и сорвав планы обхода Москвы с востока 2-й танковой армией. Во время второго генерального наступления немецких войск 18 ноября — 5 декабря, несмотря на некоторые успехи, им также не удалось осуществить прорыв к Москве на южном направлении и выполнить поставленные перед ними задачи.   \n",
              "69  Билли сближается со своей приёмной семьёй и появляется в школе как Шазам, чтобы поддержать Фредди, и к тому же приводит вместе с собой самого Супермена. В сцене во время титров, Сивана в своей тюремной камере в одержимости рисует на стене загадочные символы, но его прерывает Мистер Майнд, ранее находившийся в заключении у Скалы Вечности, и рассказывает ему о столпах зла, которые сойдутся вместе, и что они будут править семью сферами. В сцене после титров Фредди проверяет, может ли Билли говорить с рыбой, ссылаясь на Аквамена, но Билли считает такую способность глупой. Ашер Энджел — Билли Бэтсон, подросток, который может превращаться во взрослого супергероя, произнеся магическое слово «Шазам!», в оригинале являющееся акронимом шести легендарных богов и героев древнего мира и их способностей: мудрости Соломона , силы Геракла , стойкости Атланта , мощи Зевса , смелости Ахиллеса  и скорости Меркурия . Дэвид Колсмит исполнил роль маленького Билли.   \n",
              "75                                                                                                                                                                                                                                  Фауст — протагонист классической немецкой легенды, основанной на жизни Иоганна Георга Фауста . Талантливый ученый Фауст заключает сделку с дьяволом, обменяв свою душу на безграничные знания и мирские удовольствия. Легенда о Фаусте — основа множества произведений искусства в литературе, на сцене, кино и музыке, переосмысливающих первоисточник на протяжении столетий. Фауст в ранних книгах, а также берущих у них начало балладах, драмах, фильмах и кукольных постановках, безвозвратно проклят, потому что он предпочел божественное знание человеческому. Пьесы и комические кукольные постановки, свободно интерпретирующие легенду, были популярны в Германии XVI века, зачастую снижая образы Фауста и Мефистофеля до комически-вульгарных.   \n",
              "84                                                                                                                                                                                                                                                                                                                                    Отец был этническим белорусом и происходил из столыпинских переселенцев, которые осели в Герасимовке с 1910 года. Павлик был старшим из пятерых детей, у него было четыре брата: Георгий , Фёдор , Алексей  и Роман . Отец Павлика, бывший младший командир Гражданской войны, до 1931 года был председателем Герасимовского сельсовета. По воспоминаниям герасимовцев, вскоре после занятия этой должности Трофим Морозов начал пользоваться ею в корыстных целях, о чём подробно упоминается в уголовном деле, возбуждённом против него впоследствии. Согласно показаниям свидетелей, Трофим стал присваивать себе вещи, конфискованные у раскулаченных.   \n",
              "91                                                                                                                                                                                                                                                                                                                                                                                   Елена  Феррари  — русская и итальянская поэтесса начала 1920-х годов, кадровая сотрудница Разведупра РККА, капитан госбезопасности, кавалер ордена Красного Знамени . Ольга Ревзина родилась в семье штейгера  Фёдора Абрамовича Ревзина. Родная сестра военного деятеля и разведчика Владимира Фёдоровича Ревзина, сменившего фамилию на Воля . О её якобы еврейском происхождении и «итальянской» внешности упоминает Н. Н. Чебышёв со слов В. Ф. Ходасевича. Ольга училась в Екатеринославе в гимназии, в детстве некоторое время жила в Швейцарии с тяжело больной матерью, которая умерла в 1909 году.   \n",
              "\n",
              "    label  prediction  \n",
              "15      0           1  \n",
              "21      0           1  \n",
              "32      1           0  \n",
              "33      1           0  \n",
              "36      1           0  \n",
              "45      0           1  \n",
              "49      1           0  \n",
              "50      1           0  \n",
              "52      1           0  \n",
              "62      0           1  \n",
              "68      0           1  \n",
              "69      1           0  \n",
              "75      1           0  \n",
              "84      1           0  \n",
              "91      1           0  "
            ]
          },
          "execution_count": 19,
          "metadata": {},
          "output_type": "execute_result"
        }
      ],
      "source": [
        "compare_labels(\"exp_preds/exp3_t-lite.jsonl\")"
      ]
    },
    {
      "cell_type": "markdown",
      "metadata": {
        "id": "DHn9Sle3aBdQ"
      },
      "source": [
        "T-lite не справляется примерно с теми же типами ошибок, что и предыдущие модели.\n",
        "\n",
        "Однако есть как минимум два примера, где он не соотносит частичные совпадения информации с вопросом - это [84] и [91]. Это всё та же проблема недостаточного количества контекста/экстралингвистических знаний. В [84] обрать \"Павлик Морозов\" из пассажа, где нужно понять, что Павлик упомянут несколько раз очень несубъектно без фамилии, и собрать пазл из \"отец Павлика\", \"председатель сельсовета\" и \"Трофим Морозов\" - задача очень нетривиальная. В [91] понять, что Елена Феррари = Эль Феррари тоже нетривиально."
      ]
    },
    {
      "cell_type": "markdown",
      "metadata": {
        "id": "J2m09IH2WEpN"
      },
      "source": [
        "#### Ministral"
      ]
    },
    {
      "cell_type": "code",
      "execution_count": null,
      "metadata": {
        "colab": {
          "base_uri": "https://localhost:8080/",
          "height": 1000
        },
        "id": "bPpIpAb_H4Ez",
        "outputId": "0b426689-9d63-477d-a237-44f46bf43c17"
      },
      "outputs": [
        {
          "data": {
            "application/vnd.google.colaboratory.intrinsic+json": {
              "summary": "{\n  \"name\": \"compare_labels(\\\"exp_preds/exp3_ministral\",\n  \"rows\": 15,\n  \"fields\": [\n    {\n      \"column\": \"question\",\n      \"properties\": {\n        \"dtype\": \"string\",\n        \"num_unique_values\": 15,\n        \"samples\": [\n          \"\\u0415\\u0434\\u044f\\u0442 \\u043b\\u0438 \\u0445\\u043b\\u0435\\u0431 \\u044f\\u043f\\u043e\\u043d\\u0446\\u044b?\",\n          \"\\u041f\\u0435\\u0440\\u0435\\u0434\\u0430\\u0435\\u0442\\u0441\\u044f \\u043b\\u0438 \\u044f\\u0447\\u043c\\u0435\\u043d\\u044c \\u043d\\u0430 \\u0433\\u043b\\u0430\\u0437\\u0443?\",\n          \"\\u0415\\u0441\\u0442\\u044c \\u043b\\u0438 \\u0440\\u0430\\u0437\\u0443\\u043c \\u0443 \\u0436\\u0438\\u0432\\u043e\\u0442\\u043d\\u044b\\u0445?\"\n        ],\n        \"semantic_type\": \"\",\n        \"description\": \"\"\n      }\n    },\n    {\n      \"column\": \"passage\",\n      \"properties\": {\n        \"dtype\": \"string\",\n        \"num_unique_values\": 14,\n        \"samples\": [\n          \"\\u041b\\u0430\\u0442\\u0438\\u043d\\u0441\\u043a\\u0438\\u0439 \\u044f\\u0437\\u044b\\u043a \\u0438\\u043c\\u0435\\u0435\\u0442 \\u0440\\u0430\\u0437\\u0432\\u0438\\u0442\\u0443\\u044e \\u0441\\u0438\\u0441\\u0442\\u0435\\u043c\\u0443 \\u0441\\u043b\\u043e\\u0432\\u043e\\u0438\\u0437\\u043c\\u0435\\u043d\\u0435\\u043d\\u0438\\u044f, \\u0447\\u0442\\u043e \\u043e\\u0441\\u043e\\u0431\\u0435\\u043d\\u043d\\u043e \\u043f\\u0440\\u043e\\u044f\\u0432\\u043b\\u044f\\u0435\\u0442\\u0441\\u044f \\u0432 \\u0433\\u043b\\u0430\\u0433\\u043e\\u043b\\u044c\\u043d\\u043e\\u043c \\u0441\\u043f\\u0440\\u044f\\u0436\\u0435\\u043d\\u0438\\u0438. \\u041e\\u0431\\u0440\\u0430\\u0437\\u043e\\u0432\\u0430\\u043d\\u0438\\u0435 \\u0441\\u043b\\u043e\\u0432\\u043e\\u0444\\u043e\\u0440\\u043c \\u043f\\u0440\\u043e\\u0438\\u0441\\u0445\\u043e\\u0434\\u0438\\u0442 \\u043f\\u0443\\u0442\\u0451\\u043c \\u043f\\u0440\\u0438\\u0441\\u043e\\u0435\\u0434\\u0438\\u043d\\u0435\\u043d\\u0438\\u044f \\u043e\\u043a\\u043e\\u043d\\u0447\\u0430\\u043d\\u0438\\u0439, \\u0430 \\u0441\\u043b\\u043e\\u0432\\u043e\\u043e\\u0431\\u0440\\u0430\\u0437\\u043e\\u0432\\u0430\\u043d\\u0438\\u0435 \\u2014 \\u043f\\u0443\\u0442\\u0451\\u043c \\u043f\\u0440\\u0438\\u0441\\u043e\\u0435\\u0434\\u0438\\u043d\\u0435\\u043d\\u0438\\u044f \\u043f\\u0440\\u0435\\u0444\\u0438\\u043a\\u0441\\u043e\\u0432 \\u0438 \\u0441\\u0443\\u0444\\u0444\\u0438\\u043a\\u0441\\u043e\\u0432. \\u041b\\u0430\\u0442\\u0438\\u043d\\u0441\\u043a\\u0438\\u0439 \\u0433\\u043b\\u0430\\u0433\\u043e\\u043b  \\u0441\\u043a\\u043b\\u043e\\u043d\\u044f\\u0435\\u0442\\u0441\\u044f \\u043f\\u043e \\u043e\\u043f\\u0440\\u0435\\u0434\\u0435\\u043b\\u0451\\u043d\\u043d\\u044b\\u043c \\u043f\\u0440\\u0430\\u0432\\u0438\\u043b\\u0430\\u043c, \\u043a\\u043e\\u0442\\u043e\\u0440\\u044b\\u0435 \\u043e\\u043f\\u0440\\u0435\\u0434\\u0435\\u043b\\u044f\\u044e\\u0442 \\u0435\\u0433\\u043e \\u0441\\u043f\\u0440\\u044f\\u0436\\u0435\\u043d\\u0438\\u0435. \\u0413\\u043b\\u0430\\u0433\\u043e\\u043b\\u044b \\u0434\\u0435\\u043b\\u044f\\u0442\\u0441\\u044f \\u043d\\u0430 \\u0441\\u043f\\u0440\\u044f\\u0436\\u0435\\u043d\\u0438\\u044f \\u0441\\u043e\\u0433\\u043b\\u0430\\u0441\\u043d\\u043e \\u0441\\u0432\\u043e\\u0438\\u043c \\u043e\\u043a\\u043e\\u043d\\u0447\\u0430\\u043d\\u0438\\u044f\\u043c \\u0432 \\u0438\\u043d\\u0444\\u0438\\u043d\\u0438\\u0442\\u0438\\u0432\\u0435 \\u043d\\u0430\\u0441\\u0442\\u043e\\u044f\\u0449\\u0435\\u0433\\u043e \\u0432\\u0440\\u0435\\u043c\\u0435\\u043d\\u0438:  \\u043f\\u0435\\u0440\\u0432\\u043e\\u0435 \\u2014 -\\u0101re, \\u0432\\u0442\\u043e\\u0440\\u043e\\u0435 \\u2014 -\\u0113re , \\u0442\\u0440\\u0435\\u0442\\u044c\\u0435 \\u2014 -ere , \\u0447\\u0435\\u0442\\u0432\\u0451\\u0440\\u0442\\u043e\\u0435 \\u2014 -\\u012bre.\\u0413\\u043b\\u0430\\u0433\\u043e\\u043b \\u0438\\u043c\\u0435\\u0435\\u0442 \\u0442\\u0440\\u0438 \\u043d\\u0430\\u043a\\u043b\\u043e\\u043d\\u0435\\u043d\\u0438\\u044f ; \\u0434\\u0432\\u0430 \\u0437\\u0430\\u043b\\u043e\\u0433\\u0430 ; \\u0434\\u0432\\u0430 \\u0447\\u0438\\u0441\\u043b\\u0430 , \\u0442\\u0440\\u0438 \\u043b\\u0438\\u0446\\u0430 ; \\u0441\\u043a\\u043b\\u043e\\u043d\\u044f\\u0435\\u0442\\u0441\\u044f \\u0432 \\u0448\\u0435\\u0441\\u0442\\u0438 \\u0433\\u043b\\u0430\\u0432\\u043d\\u044b\\u0445 \\u0432\\u0440\\u0435\\u043c\\u0435\\u043d\\u0430\\u0445 . \\u0412 \\u0447\\u0430\\u0441\\u0442\\u043d\\u043e\\u0441\\u0442\\u0438, \\u0438\\u043c\\u0435\\u044e\\u0442\\u0441\\u044f \\u0444\\u043e\\u0440\\u043c\\u044b \\u0443\\u0441\\u043b\\u043e\\u0432\\u043d\\u043e\\u0433\\u043e \\u043d\\u0430\\u043a\\u043b\\u043e\\u043d\\u0435\\u043d\\u0438\\u044f \\u0434\\u043b\\u044f \\u043d\\u0430\\u0441\\u0442\\u043e\\u044f\\u0449\\u0435\\u0433\\u043e, \\u043f\\u0440\\u043e\\u0448\\u0435\\u0434\\u0448\\u0435\\u0433\\u043e \\u043d\\u0435\\u0441\\u043e\\u0432\\u0435\\u0440\\u0448\\u0435\\u043d\\u043d\\u043e\\u0433\\u043e, \\u043f\\u0440\\u043e\\u0448\\u0435\\u0434\\u0448\\u0435\\u0433\\u043e \\u0441\\u043e\\u0432\\u0435\\u0440\\u0448\\u0435\\u043d\\u043d\\u043e\\u0433\\u043e \\u0432\\u0440\\u0435\\u043c\\u0451\\u043d \\u0438 \\u043f\\u043b\\u044e\\u0441\\u043a\\u0432\\u0430\\u043c\\u043f\\u0435\\u0440\\u0444\\u0435\\u043a\\u0442\\u0430; \\u043e\\u0431\\u0440\\u0430\\u0437\\u0443\\u044e\\u0442\\u0441\\u044f \\u043f\\u0440\\u0438\\u0447\\u0430\\u0441\\u0442\\u0438\\u044f \\u043d\\u0430\\u0441\\u0442\\u043e\\u044f\\u0449\\u0435\\u0433\\u043e, \\u0431\\u0443\\u0434\\u0443\\u0449\\u0435\\u0433\\u043e  \\u0438 \\u043f\\u0440\\u043e\\u0448\\u043b\\u043e\\u0433\\u043e  \\u0432\\u0440\\u0435\\u043c\\u0451\\u043d; \\u0438\\u043c\\u0435\\u044e\\u0442\\u0441\\u044f \\u0444\\u043e\\u0440\\u043c\\u044b \\u043f\\u043e\\u0432\\u0435\\u043b\\u0438\\u0442\\u0435\\u043b\\u044c\\u043d\\u043e\\u0433\\u043e \\u043d\\u0430\\u043a\\u043b\\u043e\\u043d\\u0435\\u043d\\u0438\\u044f \\u0434\\u043b\\u044f \\u043d\\u0430\\u0441\\u0442\\u043e\\u044f\\u0449\\u0435\\u0433\\u043e \\u0438 \\u0431\\u0443\\u0434\\u0443\\u0449\\u0435\\u0433\\u043e \\u0432\\u0440\\u0435\\u043c\\u0451\\u043d.\",\n          \"\\u041f\\u0440\\u0430\\u0432\\u0430 \\u041b\\u0413\\u0411\\u0422 \\u0432 \\u0424\\u0438\\u043d\\u043b\\u044f\\u043d\\u0434\\u0438\\u0438 \\u2014 \\u0437\\u0430\\u0449\\u0438\\u0442\\u0430 \\u043f\\u0440\\u0430\\u0432 \\u0438 \\u0434\\u043e\\u0441\\u0442\\u043e\\u0438\\u043d\\u0441\\u0442\\u0432\\u0430 \\u043b\\u044e\\u0434\\u0435\\u0439 \\u0441 \\u0433\\u043e\\u043c\\u043e\\u0441\\u0435\\u043a\\u0441\\u0443\\u0430\\u043b\\u044c\\u043d\\u043e\\u0439, \\u0431\\u0438\\u0441\\u0435\\u043a\\u0441\\u0443\\u0430\\u043b\\u044c\\u043d\\u043e\\u0439 \\u043e\\u0440\\u0438\\u0435\\u043d\\u0442\\u0430\\u0446\\u0438\\u0435\\u0439 \\u0438 \\u0442\\u0440\\u0430\\u043d\\u0441\\u0441\\u0435\\u043a\\u0441\\u0443\\u0430\\u043b\\u043e\\u0432 \\u043d\\u0430 \\u0442\\u0435\\u0440\\u0440\\u0438\\u0442\\u043e\\u0440\\u0438\\u0438 \\u0424\\u0438\\u043d\\u043b\\u044f\\u043d\\u0434\\u0438\\u0438. \\u0412 2019 \\u0433\\u043e\\u0434\\u0443 \\u0432 \\u0440\\u0435\\u0439\\u0442\\u0438\\u043d\\u0433\\u0435 \\u0440\\u0430\\u0432\\u043d\\u043e\\u043f\\u0440\\u0430\\u0432\\u0438\\u044f \\u043f\\u043e\\u043b\\u043e\\u0432 \\u0432 \\u0441\\u0442\\u0440\\u0430\\u043d\\u0430\\u0445 \\u0415\\u0421 \\u0424\\u0438\\u043d\\u043b\\u044f\\u043d\\u0434\\u0438\\u044f \\u0437\\u0430\\u043d\\u044f\\u043b\\u0430 \\u0447\\u0435\\u0442\\u0432\\u0451\\u0440\\u0442\\u043e\\u0435 \\u043c\\u0435\\u0441\\u0442\\u043e. \\u0421 1894 \\u0433\\u043e\\u0434\\u0430 \\u0433\\u043e\\u043c\\u043e\\u0441\\u0435\\u043a\\u0441\\u0443\\u0430\\u043b\\u0438\\u0437\\u043c \\u043d\\u0430\\u0447\\u0430\\u043b \\u043f\\u0440\\u0435\\u0441\\u043b\\u0435\\u0434\\u043e\\u0432\\u0430\\u0442\\u044c\\u0441\\u044f \\u0432 \\u0412\\u0435\\u043b\\u0438\\u043a\\u043e\\u043c \\u043a\\u043d\\u044f\\u0436\\u0435\\u0441\\u0442\\u0432\\u0435 \\u0424\\u0438\\u043d\\u043b\\u044f\\u043d\\u0434\\u0441\\u043a\\u043e\\u043c \\u0432 \\u0443\\u0433\\u043e\\u043b\\u043e\\u0432\\u043d\\u043e\\u043c \\u043f\\u043e\\u0440\\u044f\\u0434\\u043a\\u0435. \\u0421 1971 \\u0433\\u043e\\u0434\\u0430 \\u043e\\u0434\\u043d\\u043e\\u043f\\u043e\\u043b\\u044b\\u0435 \\u0441\\u0435\\u043a\\u0441\\u0443\\u0430\\u043b\\u044c\\u043d\\u044b\\u0435 \\u043e\\u0442\\u043d\\u043e\\u0448\\u0435\\u043d\\u0438\\u044f \\u043b\\u0435\\u0433\\u0430\\u043b\\u0438\\u0437\\u043e\\u0432\\u0430\\u043d\\u044b \\u043d\\u0430 \\u0432\\u0441\\u0435\\u0439 \\u0442\\u0435\\u0440\\u0440\\u0438\\u0442\\u043e\\u0440\\u0438\\u0438 \\u0441\\u0442\\u0440\\u0430\\u043d\\u044b, \\u0430 \\u0441 1981 \\u0433\\u043e\\u0434\\u0430 \\u0433\\u043e\\u043c\\u043e\\u0441\\u0435\\u043a\\u0441\\u0443\\u0430\\u043b\\u044c\\u043d\\u043e\\u0441\\u0442\\u044c \\u0438\\u0441\\u043a\\u043b\\u044e\\u0447\\u0435\\u043d\\u0430 \\u0438\\u0437 \\u0441\\u043f\\u0438\\u0441\\u043a\\u0430 \\u0437\\u0430\\u0431\\u043e\\u043b\\u0435\\u0432\\u0430\\u043d\\u0438\\u0439. \\u0412 2011 \\u0433\\u043e\\u0434\\u0443 \\u0438\\u0441\\u043a\\u043b\\u044e\\u0447\\u0451\\u043d \\u0438\\u0437 \\u0441\\u043f\\u0438\\u0441\\u043a\\u0430 \\u0437\\u0430\\u0431\\u043e\\u043b\\u0435\\u0432\\u0430\\u043d\\u0438\\u0439 \\u0442\\u0440\\u0430\\u043d\\u0441\\u0432\\u0435\\u0441\\u0442\\u0438\\u0437\\u043c.\",\n          \"\\u041f\\u043e\\u0434 \\u0438\\u043d\\u0442\\u0435\\u043b\\u043b\\u0435\\u043a\\u0442\\u043e\\u043c \\u0443 \\u0436\\u0438\\u0432\\u043e\\u0442\\u043d\\u044b\\u0445 \\u043f\\u043e\\u043d\\u0438\\u043c\\u0430\\u0435\\u0442\\u0441\\u044f \\u0441\\u043e\\u0432\\u043e\\u043a\\u0443\\u043f\\u043d\\u043e\\u0441\\u0442\\u044c \\u043f\\u0441\\u0438\\u0445\\u0438\\u0447\\u0435\\u0441\\u043a\\u0438\\u0445 \\u0444\\u0443\\u043d\\u043a\\u0446\\u0438\\u0439, \\u043a \\u043a\\u043e\\u0442\\u043e\\u0440\\u044b\\u043c \\u043e\\u0442\\u043d\\u043e\\u0441\\u044f\\u0442\\u0441\\u044f \\u043c\\u044b\\u0448\\u043b\\u0435\\u043d\\u0438\\u0435, \\u0441\\u043f\\u043e\\u0441\\u043e\\u0431\\u043d\\u043e\\u0441\\u0442\\u044c \\u043a \\u043e\\u0431\\u0443\\u0447\\u0435\\u043d\\u0438\\u044e \\u0438 \\u043a\\u043e\\u043c\\u043c\\u0443\\u043d\\u0438\\u043a\\u0430\\u0446\\u0438\\u0438, \\u043a\\u043e\\u0442\\u043e\\u0440\\u044b\\u0435 \\u043d\\u0435 \\u043c\\u043e\\u0433\\u0443\\u0442 \\u0431\\u044b\\u0442\\u044c \\u043e\\u0431\\u044a\\u044f\\u0441\\u043d\\u0435\\u043d\\u044b \\u0438\\u043d\\u0441\\u0442\\u0438\\u043d\\u043a\\u0442\\u0430\\u043c\\u0438 \\u0438\\u043b\\u0438 \\u0443\\u0441\\u043b\\u043e\\u0432\\u043d\\u044b\\u043c\\u0438 \\u0440\\u0435\\u0444\\u043b\\u0435\\u043a\\u0441\\u0430\\u043c\\u0438. \\u0418\\u0437\\u0443\\u0447\\u0430\\u0435\\u0442\\u0441\\u044f \\u0432 \\u0440\\u0430\\u043c\\u043a\\u0430\\u0445 \\u043a\\u043e\\u0433\\u043d\\u0438\\u0442\\u0438\\u0432\\u043d\\u043e\\u0439 \\u044d\\u0442\\u043e\\u043b\\u043e\\u0433\\u0438\\u0438, \\u0441\\u0440\\u0430\\u0432\\u043d\\u0438\\u0442\\u0435\\u043b\\u044c\\u043d\\u043e\\u0439 \\u043f\\u0441\\u0438\\u0445\\u043e\\u043b\\u043e\\u0433\\u0438\\u0438 \\u0438 \\u0437\\u043e\\u043e\\u043f\\u0441\\u0438\\u0445\\u043e\\u043b\\u043e\\u0433\\u0438\\u0438. \\u0416\\u0438\\u0437\\u043d\\u044c \\u0432\\u044b\\u0441\\u043e\\u043a\\u043e\\u0440\\u0430\\u0437\\u0432\\u0438\\u0442\\u044b\\u0445 \\u0436\\u0438\\u0432\\u043e\\u0442\\u043d\\u044b\\u0445 \\u043f\\u043e\\u0434\\u0432\\u0435\\u0440\\u0436\\u0435\\u043d\\u0430 \\u0432\\u043b\\u0438\\u044f\\u043d\\u0438\\u044e \\u044d\\u043c\\u043e\\u0446\\u0438\\u0439 \\u0438 \\u043c\\u043e\\u0442\\u0438\\u0432\\u043e\\u0432. \\u041f\\u0440\\u0435\\u0434\\u043f\\u043e\\u043b\\u043e\\u0436\\u0438\\u0442\\u0435\\u043b\\u044c\\u043d\\u043e, \\u043d\\u0435\\u043a\\u043e\\u0442\\u043e\\u0440\\u044b\\u0435 \\u0438\\u0437 \\u043d\\u0438\\u0445 \\u043e\\u0431\\u043b\\u0430\\u0434\\u0430\\u044e\\u0442 \\u0441\\u043f\\u043e\\u0441\\u043e\\u0431\\u043d\\u043e\\u0441\\u0442\\u044c\\u044e \\u0441\\u0442\\u0440\\u043e\\u0438\\u0442\\u044c \\u043b\\u043e\\u0433\\u0438\\u0447\\u0435\\u0441\\u043a\\u0438\\u0435 \\u043f\\u0440\\u0435\\u0434\\u043f\\u043e\\u043b\\u043e\\u0436\\u0435\\u043d\\u0438\\u044f \\u0438 \\u043f\\u043b\\u0430\\u043d\\u0438\\u0440\\u043e\\u0432\\u0430\\u0442\\u044c, \\u043d\\u0430\\u0445\\u043e\\u0434\\u0438\\u0442\\u044c \\u0440\\u0435\\u0448\\u0435\\u043d\\u0438\\u044f \\u0432 \\u043d\\u043e\\u0432\\u044b\\u0445 \\u0441\\u0438\\u0442\\u0443\\u0430\\u0446\\u0438\\u044f\\u0445, \\u043e\\u0431\\u0449\\u0430\\u0442\\u044c\\u0441\\u044f \\u0441 \\u043f\\u0440\\u0435\\u0434\\u0441\\u0442\\u0430\\u0432\\u0438\\u0442\\u0435\\u043b\\u044f\\u043c\\u0438 \\u0434\\u0440\\u0443\\u0433\\u0438\\u0445 \\u0432\\u0438\\u0434\\u043e\\u0432 . \\u0421\\u043f\\u043e\\u0441\\u043e\\u0431\\u043d\\u043e\\u0441\\u0442\\u044c \\u0436\\u0438\\u0432\\u043e\\u0442\\u043d\\u044b\\u0445 \\u043a \\u043c\\u044b\\u0448\\u043b\\u0435\\u043d\\u0438\\u044e \\u0431\\u044b\\u043b\\u0430 \\u043f\\u0440\\u0435\\u0434\\u043c\\u0435\\u0442\\u043e\\u043c \\u0441\\u043f\\u043e\\u0440\\u043e\\u0432 \\u0435\\u0449\\u0451 \\u0441 \\u0430\\u043d\\u0442\\u0438\\u0447\\u043d\\u044b\\u0445 \\u0432\\u0440\\u0435\\u043c\\u0451\\u043d.\"\n        ],\n        \"semantic_type\": \"\",\n        \"description\": \"\"\n      }\n    },\n    {\n      \"column\": \"label\",\n      \"properties\": {\n        \"dtype\": \"number\",\n        \"std\": 0,\n        \"min\": 0,\n        \"max\": 1,\n        \"num_unique_values\": 2,\n        \"samples\": [\n          0,\n          1\n        ],\n        \"semantic_type\": \"\",\n        \"description\": \"\"\n      }\n    },\n    {\n      \"column\": \"prediction\",\n      \"properties\": {\n        \"dtype\": \"number\",\n        \"std\": 0,\n        \"min\": 0,\n        \"max\": 1,\n        \"num_unique_values\": 2,\n        \"samples\": [\n          1,\n          0\n        ],\n        \"semantic_type\": \"\",\n        \"description\": \"\"\n      }\n    }\n  ]\n}",
              "type": "dataframe"
            },
            "text/html": [
              "\n",
              "  <div id=\"df-8f9d00da-2a82-4723-ae18-d3d6622037fc\" class=\"colab-df-container\">\n",
              "    <div>\n",
              "<style scoped>\n",
              "    .dataframe tbody tr th:only-of-type {\n",
              "        vertical-align: middle;\n",
              "    }\n",
              "\n",
              "    .dataframe tbody tr th {\n",
              "        vertical-align: top;\n",
              "    }\n",
              "\n",
              "    .dataframe thead th {\n",
              "        text-align: right;\n",
              "    }\n",
              "</style>\n",
              "<table border=\"1\" class=\"dataframe\">\n",
              "  <thead>\n",
              "    <tr style=\"text-align: right;\">\n",
              "      <th></th>\n",
              "      <th>question</th>\n",
              "      <th>passage</th>\n",
              "      <th>label</th>\n",
              "      <th>prediction</th>\n",
              "    </tr>\n",
              "  </thead>\n",
              "  <tbody>\n",
              "    <tr>\n",
              "      <th>3</th>\n",
              "      <td>Есть ли разум у животных?</td>\n",
              "      <td>Под интеллектом у животных понимается совокупность психических функций, к которым относятся мышление, способность к обучению и коммуникации, которые не могут быть объяснены инстинктами или условными рефлексами. Изучается в рамках когнитивной этологии, сравнительной психологии и зоопсихологии. Жизнь высокоразвитых животных подвержена влиянию эмоций и мотивов. Предположительно, некоторые из них обладают способностью строить логические предположения и планировать, находить решения в новых ситуациях, общаться с представителями других видов . Способность животных к мышлению была предметом споров ещё с античных времён.</td>\n",
              "      <td>1</td>\n",
              "      <td>0</td>\n",
              "    </tr>\n",
              "    <tr>\n",
              "      <th>6</th>\n",
              "      <td>Есть ли дети у петросяна?</td>\n",
              "      <td>Первая жена — дочь актёра Владимира Александровича Кригера , младшая сестра балерины Викторины Владимировны Кригер , жена умерла, когда их дочь Викторина была маленькой. Дочь — Викторина Евгеньевна Петросян  — окончила исторический факультет МГУ, работала организатором выставок, искусствовед, продюсер кино и телевидения, производит с мужем эксклюзивные игрушки из стекла «Mark Andreas Collection», живёт на Манхэттене в Нью-Йорке, основательница компании «Vi-Ko Продакшн», продюсер цикла документальных фильмов: Бродвей. История в лицах и танцах. Внуки — Андрей  и Марк. Вторая жена — Анна Ивановна Козловская , дочь оперного певца Ивана Козловского.</td>\n",
              "      <td>1</td>\n",
              "      <td>0</td>\n",
              "    </tr>\n",
              "    <tr>\n",
              "      <th>9</th>\n",
              "      <td>Был ли наполеон в москве?</td>\n",
              "      <td>Отечественная война 1812 года, во французской историографии — Русская кампания 1812 года  — война между Российской и Французской империями на территории России в 1812 году. Причинами войны стали отказ Российской империи активно поддерживать континентальную блокаду, в которой Наполеон видел главное оружие против Великобритании, а также политика Наполеона в отношении европейских государств, проводившаяся без учёта интересов России. На первом этапе войны  русская армия с боями отступала от границ России до Москвы, дав под Москвой Бородинское сражение. В начале второго этапа войны  наполеоновская армия маневрировала, стремясь уйти на зимние квартиры в неразорённые войной местности, а затем отступала до границ России, преследуемая русской армией, голодом и морозами. Война закончилась почти полным уничтожением наполеоновской армии, освобождением территории России и переносом военных действий на земли Варшавского герцогства и Германии в 1813 году .</td>\n",
              "      <td>1</td>\n",
              "      <td>0</td>\n",
              "    </tr>\n",
              "    <tr>\n",
              "      <th>17</th>\n",
              "      <td>Существует ли купюра в 2 доллара?</td>\n",
              "      <td>Был также осуществлён специальный выпуск монет достоинством 20 центов и 1 доллар. Выпуск первых бумажных банкнот австралийских долларов был осуществлён в 1966 году. Банкноты достоинством 1, 2, 10 и 20 долларов были эквивалентами бывших австралийских фунтов. Пятидолларовая банкнота была выпущена в 1967 году, после того, как население ознакомилось с десятичной денежной системой. В 1984 году банкнота достоинством 1 доллар была заменена монетой, а банкнота достоинством 2 доллара — в 1988 году.</td>\n",
              "      <td>1</td>\n",
              "      <td>0</td>\n",
              "    </tr>\n",
              "    <tr>\n",
              "      <th>21</th>\n",
              "      <td>Есть ли дед мороз?</td>\n",
              "      <td>Дед Моро́з — главный сказочный персонаж на празднике Нового года, славянский вариант рождественского дарителя. Известен  с 1840 года, но создание канонического образа Деда Мороза как обязательного персонажа новогоднего, а не рождественского праздника произошло в советское время и относится к концу 1930-х годов, когда после нескольких лет запрета вновь была разрешена ёлка. Прообразами Деда Мороза являются персонаж славянского сказочного фольклора и календарных обрядов и Святой Николай. Дед Мороз изображается как старик в цветной — голубой, синей, красной или белой шубе, с длинной белой бородой и посохом в руке, в валенках. Ездит на тройке лошадей.</td>\n",
              "      <td>0</td>\n",
              "      <td>1</td>\n",
              "    </tr>\n",
              "    <tr>\n",
              "      <th>32</th>\n",
              "      <td>Разрешено ли проезжать жд переезд?</td>\n",
              "      <td>Железнодорожный переезд — место одноуровневого пересечения железнодорожных путей и автомобильной дороги либо велосипедной или пешеходной дорожки. Железнодорожный переезд — объект повышенной опасности, поэтому для предупреждения несчастных случаев переезды оборудуются светофорами, шлагбаумами и звуковыми сигналами, а также УЗП  — металлическими плитами, которые поднимаются, заграждая проезд . В России переезды делятся на четыре категории. Железнодорожные переезды оборудуются в местах с хорошей видимостью. Угол пересечения автомобильной дороги и железнодорожных путей должен составлять не менее 60°.</td>\n",
              "      <td>1</td>\n",
              "      <td>0</td>\n",
              "    </tr>\n",
              "    <tr>\n",
              "      <th>33</th>\n",
              "      <td>Разрешено ли вам проехать железнодорожный переезд?</td>\n",
              "      <td>Железнодорожный переезд — место одноуровневого пересечения железнодорожных путей и автомобильной дороги либо велосипедной или пешеходной дорожки. Железнодорожный переезд — объект повышенной опасности, поэтому для предупреждения несчастных случаев переезды оборудуются светофорами, шлагбаумами и звуковыми сигналами, а также УЗП  — металлическими плитами, которые поднимаются, заграждая проезд . В России переезды делятся на четыре категории. Железнодорожные переезды оборудуются в местах с хорошей видимостью. Угол пересечения автомобильной дороги и железнодорожных путей должен составлять не менее 60°.</td>\n",
              "      <td>1</td>\n",
              "      <td>0</td>\n",
              "    </tr>\n",
              "    <tr>\n",
              "      <th>36</th>\n",
              "      <td>Были ли у пушкина крепостные?</td>\n",
              "      <td>Сразу после свадьбы Михаил Калашников сообщил о ней Пушкину, не забыв выразить благодарность своему хозяину. Поселились супруги в Лукоянове. Вскоре выяснилось, что Ключарёв почти разорён: его крепостные, которыми он владел совместно с братом, были заложены, причём проценты по закладной не уплачивались. Ключарёв пил, бросил службу, благодаря которой жила семья, и супруги переехали в Болдино к Ольгиному отцу. 11 января 1833 года Пушкину за подписью Ольги было отправлено письмо с просьбой одолжить 2000 рублей для выкупа выставленных на аукцион 15 крепостных душ, переданных ей мужем.</td>\n",
              "      <td>1</td>\n",
              "      <td>0</td>\n",
              "    </tr>\n",
              "    <tr>\n",
              "      <th>37</th>\n",
              "      <td>Правда ли что горит чернобыль?</td>\n",
              "      <td>23 апреля спасатели создали 800 км минерализованных противопожарных полос и продолжали локализацию трёх очагов тления. В зоне отчуждения продолжали гореть торфяники. 24 апреля продолжалась локализация 2 очагов тления пней, остатков древесины  и торфяников в очагах, пройденных огнём. По состоянию на 3 мая пожарные продолжали тушить лесную подстилку, пни и древесину в отдельных местах бывших пожаров в Киевской и Житомирской областях. 13 мая Президент Украины Владимир Зеленский заявил о ликвидации всех пожаров в зоне отчуждения Чернобыльской АЭС.</td>\n",
              "      <td>1</td>\n",
              "      <td>0</td>\n",
              "    </tr>\n",
              "    <tr>\n",
              "      <th>38</th>\n",
              "      <td>Едят ли хлеб японцы?</td>\n",
              "      <td>Период Эдо стал временем трансформации японской кухни: отсутствие иностранного влияния ввиду запрета контактировать с иностранцами, обогащение торгово-ремесленного класса и бурный рост крупнейших городов  привели к созданию яркой самобытной культуры общепита: появились о-тяя, идзакая, столовые, где можно было недорого поесть лапши, суши или угря. Большую популярность в это время завоевал соевый соус, благодаря ему сформировался современный принцип японской кулинарии: «лучший способ приготовления — не готовить». Появилось множество кулинарных книг и путеводителей по лучшим ресторанам. После начала международной интеграции в Японию с новой силой устремились новые продукты и кулинарные техники. Сильно выросло потребление мяса, молока и рыбы, начали есть хлеб и пить молоко.</td>\n",
              "      <td>1</td>\n",
              "      <td>0</td>\n",
              "    </tr>\n",
              "    <tr>\n",
              "      <th>45</th>\n",
              "      <td>Есть ли у глаголов склонение?</td>\n",
              "      <td>Латинский язык имеет развитую систему словоизменения, что особенно проявляется в глагольном спряжении. Образование словоформ происходит путём присоединения окончаний, а словообразование — путём присоединения префиксов и суффиксов. Латинский глагол  склоняется по определённым правилам, которые определяют его спряжение. Глаголы делятся на спряжения согласно своим окончаниям в инфинитиве настоящего времени:  первое — -āre, второе — -ēre , третье — -ere , четвёртое — -īre.Глагол имеет три наклонения ; два залога ; два числа , три лица ; склоняется в шести главных временах . В частности, имеются формы условного наклонения для настоящего, прошедшего несовершенного, прошедшего совершенного времён и плюсквамперфекта; образуются причастия настоящего, будущего  и прошлого  времён; имеются формы повелительного наклонения для настоящего и будущего времён.</td>\n",
              "      <td>0</td>\n",
              "      <td>1</td>\n",
              "    </tr>\n",
              "    <tr>\n",
              "      <th>50</th>\n",
              "      <td>Передается ли ячмень на глазу?</td>\n",
              "      <td>Как и вирусные конъюнктивиты, бактериальные, чаще всего поражают лишь один глаз, но затем легко могут перейти и на другой. Обычно симптомы появляются лишь на третий день после заражения. Конъюнктивиты, вызванные отравляющими и токсическими веществами. Основные симптомы — раздражение и боль в глазу, при перемещении взгляда вниз или вверх, а также покраснение. Боль при движении глазом связана с распространением токсического вещества по поверхности глазного яблока.</td>\n",
              "      <td>1</td>\n",
              "      <td>0</td>\n",
              "    </tr>\n",
              "    <tr>\n",
              "      <th>52</th>\n",
              "      <td>Разрешены ли в финляндии однополые браки?</td>\n",
              "      <td>Права ЛГБТ в Финляндии — защита прав и достоинства людей с гомосексуальной, бисексуальной ориентацией и транссексуалов на территории Финляндии. В 2019 году в рейтинге равноправия полов в странах ЕС Финляндия заняла четвёртое место. С 1894 года гомосексуализм начал преследоваться в Великом княжестве Финляндском в уголовном порядке. С 1971 года однополые сексуальные отношения легализованы на всей территории страны, а с 1981 года гомосексуальность исключена из списка заболеваний. В 2011 году исключён из списка заболеваний трансвестизм.</td>\n",
              "      <td>1</td>\n",
              "      <td>0</td>\n",
              "    </tr>\n",
              "    <tr>\n",
              "      <th>59</th>\n",
              "      <td>Был ли кто то на луне?</td>\n",
              "      <td>«Лу́нный за́говор» — ряд теорий заговора, центральной идеей которой является утверждение о фальсификации американской космической программы «Аполлон»  и, в частности, шести высадок американских астронавтов на поверхность Луны. Сторонники «лунного заговора» считают, что этих экспедиций не было — вместо этого в течение 1970-х годов правительство США, НАСА или другие организации будто бы злонамеренно вводили мировую общественность в заблуждение. В соответствии с этой теорией, любые опубликованные подтверждения полётов и высадок — фотографии, киносъёмки, записи телеметрии, передаваемые радиосигналы и привезённые образцы лунных пород — являются подделками. Хотя идеи о фальсификации высадки на Луну ходили с момента самой первой высадки «Аполлона-11» в 1969 году, они стали популярными благодаря книге Билла Кейсинга «Мы никогда не были на Луне» ; на известность «лунного заговора» мог повлиять и сатирический фильм «Козерог-1» , рисующий вымышленную историю фальсификации высадки на Марс. «Лунный заговор» получил значительную популярность в России: согласно опросам ВЦИОМ, в 2018 году в него верило больше половины россиян.</td>\n",
              "      <td>1</td>\n",
              "      <td>0</td>\n",
              "    </tr>\n",
              "    <tr>\n",
              "      <th>69</th>\n",
              "      <td>Есть ли в хищных птицах сцена после титров?</td>\n",
              "      <td>Билли сближается со своей приёмной семьёй и появляется в школе как Шазам, чтобы поддержать Фредди, и к тому же приводит вместе с собой самого Супермена. В сцене во время титров, Сивана в своей тюремной камере в одержимости рисует на стене загадочные символы, но его прерывает Мистер Майнд, ранее находившийся в заключении у Скалы Вечности, и рассказывает ему о столпах зла, которые сойдутся вместе, и что они будут править семью сферами. В сцене после титров Фредди проверяет, может ли Билли говорить с рыбой, ссылаясь на Аквамена, но Билли считает такую способность глупой. Ашер Энджел — Билли Бэтсон, подросток, который может превращаться во взрослого супергероя, произнеся магическое слово «Шазам!», в оригинале являющееся акронимом шести легендарных богов и героев древнего мира и их способностей: мудрости Соломона , силы Геракла , стойкости Атланта , мощи Зевса , смелости Ахиллеса  и скорости Меркурия . Дэвид Колсмит исполнил роль маленького Билли.</td>\n",
              "      <td>1</td>\n",
              "      <td>0</td>\n",
              "    </tr>\n",
              "  </tbody>\n",
              "</table>\n",
              "</div>\n",
              "    <div class=\"colab-df-buttons\">\n",
              "\n",
              "  <div class=\"colab-df-container\">\n",
              "    <button class=\"colab-df-convert\" onclick=\"convertToInteractive('df-8f9d00da-2a82-4723-ae18-d3d6622037fc')\"\n",
              "            title=\"Convert this dataframe to an interactive table.\"\n",
              "            style=\"display:none;\">\n",
              "\n",
              "  <svg xmlns=\"http://www.w3.org/2000/svg\" height=\"24px\" viewBox=\"0 -960 960 960\">\n",
              "    <path d=\"M120-120v-720h720v720H120Zm60-500h600v-160H180v160Zm220 220h160v-160H400v160Zm0 220h160v-160H400v160ZM180-400h160v-160H180v160Zm440 0h160v-160H620v160ZM180-180h160v-160H180v160Zm440 0h160v-160H620v160Z\"/>\n",
              "  </svg>\n",
              "    </button>\n",
              "\n",
              "  <style>\n",
              "    .colab-df-container {\n",
              "      display:flex;\n",
              "      gap: 12px;\n",
              "    }\n",
              "\n",
              "    .colab-df-convert {\n",
              "      background-color: #E8F0FE;\n",
              "      border: none;\n",
              "      border-radius: 50%;\n",
              "      cursor: pointer;\n",
              "      display: none;\n",
              "      fill: #1967D2;\n",
              "      height: 32px;\n",
              "      padding: 0 0 0 0;\n",
              "      width: 32px;\n",
              "    }\n",
              "\n",
              "    .colab-df-convert:hover {\n",
              "      background-color: #E2EBFA;\n",
              "      box-shadow: 0px 1px 2px rgba(60, 64, 67, 0.3), 0px 1px 3px 1px rgba(60, 64, 67, 0.15);\n",
              "      fill: #174EA6;\n",
              "    }\n",
              "\n",
              "    .colab-df-buttons div {\n",
              "      margin-bottom: 4px;\n",
              "    }\n",
              "\n",
              "    [theme=dark] .colab-df-convert {\n",
              "      background-color: #3B4455;\n",
              "      fill: #D2E3FC;\n",
              "    }\n",
              "\n",
              "    [theme=dark] .colab-df-convert:hover {\n",
              "      background-color: #434B5C;\n",
              "      box-shadow: 0px 1px 3px 1px rgba(0, 0, 0, 0.15);\n",
              "      filter: drop-shadow(0px 1px 2px rgba(0, 0, 0, 0.3));\n",
              "      fill: #FFFFFF;\n",
              "    }\n",
              "  </style>\n",
              "\n",
              "    <script>\n",
              "      const buttonEl =\n",
              "        document.querySelector('#df-8f9d00da-2a82-4723-ae18-d3d6622037fc button.colab-df-convert');\n",
              "      buttonEl.style.display =\n",
              "        google.colab.kernel.accessAllowed ? 'block' : 'none';\n",
              "\n",
              "      async function convertToInteractive(key) {\n",
              "        const element = document.querySelector('#df-8f9d00da-2a82-4723-ae18-d3d6622037fc');\n",
              "        const dataTable =\n",
              "          await google.colab.kernel.invokeFunction('convertToInteractive',\n",
              "                                                    [key], {});\n",
              "        if (!dataTable) return;\n",
              "\n",
              "        const docLinkHtml = 'Like what you see? Visit the ' +\n",
              "          '<a target=\"_blank\" href=https://colab.research.google.com/notebooks/data_table.ipynb>data table notebook</a>'\n",
              "          + ' to learn more about interactive tables.';\n",
              "        element.innerHTML = '';\n",
              "        dataTable['output_type'] = 'display_data';\n",
              "        await google.colab.output.renderOutput(dataTable, element);\n",
              "        const docLink = document.createElement('div');\n",
              "        docLink.innerHTML = docLinkHtml;\n",
              "        element.appendChild(docLink);\n",
              "      }\n",
              "    </script>\n",
              "  </div>\n",
              "\n",
              "\n",
              "<div id=\"df-00bb4a50-4ae8-4d72-9d35-fc56e72e6805\">\n",
              "  <button class=\"colab-df-quickchart\" onclick=\"quickchart('df-00bb4a50-4ae8-4d72-9d35-fc56e72e6805')\"\n",
              "            title=\"Suggest charts\"\n",
              "            style=\"display:none;\">\n",
              "\n",
              "<svg xmlns=\"http://www.w3.org/2000/svg\" height=\"24px\"viewBox=\"0 0 24 24\"\n",
              "     width=\"24px\">\n",
              "    <g>\n",
              "        <path d=\"M19 3H5c-1.1 0-2 .9-2 2v14c0 1.1.9 2 2 2h14c1.1 0 2-.9 2-2V5c0-1.1-.9-2-2-2zM9 17H7v-7h2v7zm4 0h-2V7h2v10zm4 0h-2v-4h2v4z\"/>\n",
              "    </g>\n",
              "</svg>\n",
              "  </button>\n",
              "\n",
              "<style>\n",
              "  .colab-df-quickchart {\n",
              "      --bg-color: #E8F0FE;\n",
              "      --fill-color: #1967D2;\n",
              "      --hover-bg-color: #E2EBFA;\n",
              "      --hover-fill-color: #174EA6;\n",
              "      --disabled-fill-color: #AAA;\n",
              "      --disabled-bg-color: #DDD;\n",
              "  }\n",
              "\n",
              "  [theme=dark] .colab-df-quickchart {\n",
              "      --bg-color: #3B4455;\n",
              "      --fill-color: #D2E3FC;\n",
              "      --hover-bg-color: #434B5C;\n",
              "      --hover-fill-color: #FFFFFF;\n",
              "      --disabled-bg-color: #3B4455;\n",
              "      --disabled-fill-color: #666;\n",
              "  }\n",
              "\n",
              "  .colab-df-quickchart {\n",
              "    background-color: var(--bg-color);\n",
              "    border: none;\n",
              "    border-radius: 50%;\n",
              "    cursor: pointer;\n",
              "    display: none;\n",
              "    fill: var(--fill-color);\n",
              "    height: 32px;\n",
              "    padding: 0;\n",
              "    width: 32px;\n",
              "  }\n",
              "\n",
              "  .colab-df-quickchart:hover {\n",
              "    background-color: var(--hover-bg-color);\n",
              "    box-shadow: 0 1px 2px rgba(60, 64, 67, 0.3), 0 1px 3px 1px rgba(60, 64, 67, 0.15);\n",
              "    fill: var(--button-hover-fill-color);\n",
              "  }\n",
              "\n",
              "  .colab-df-quickchart-complete:disabled,\n",
              "  .colab-df-quickchart-complete:disabled:hover {\n",
              "    background-color: var(--disabled-bg-color);\n",
              "    fill: var(--disabled-fill-color);\n",
              "    box-shadow: none;\n",
              "  }\n",
              "\n",
              "  .colab-df-spinner {\n",
              "    border: 2px solid var(--fill-color);\n",
              "    border-color: transparent;\n",
              "    border-bottom-color: var(--fill-color);\n",
              "    animation:\n",
              "      spin 1s steps(1) infinite;\n",
              "  }\n",
              "\n",
              "  @keyframes spin {\n",
              "    0% {\n",
              "      border-color: transparent;\n",
              "      border-bottom-color: var(--fill-color);\n",
              "      border-left-color: var(--fill-color);\n",
              "    }\n",
              "    20% {\n",
              "      border-color: transparent;\n",
              "      border-left-color: var(--fill-color);\n",
              "      border-top-color: var(--fill-color);\n",
              "    }\n",
              "    30% {\n",
              "      border-color: transparent;\n",
              "      border-left-color: var(--fill-color);\n",
              "      border-top-color: var(--fill-color);\n",
              "      border-right-color: var(--fill-color);\n",
              "    }\n",
              "    40% {\n",
              "      border-color: transparent;\n",
              "      border-right-color: var(--fill-color);\n",
              "      border-top-color: var(--fill-color);\n",
              "    }\n",
              "    60% {\n",
              "      border-color: transparent;\n",
              "      border-right-color: var(--fill-color);\n",
              "    }\n",
              "    80% {\n",
              "      border-color: transparent;\n",
              "      border-right-color: var(--fill-color);\n",
              "      border-bottom-color: var(--fill-color);\n",
              "    }\n",
              "    90% {\n",
              "      border-color: transparent;\n",
              "      border-bottom-color: var(--fill-color);\n",
              "    }\n",
              "  }\n",
              "</style>\n",
              "\n",
              "  <script>\n",
              "    async function quickchart(key) {\n",
              "      const quickchartButtonEl =\n",
              "        document.querySelector('#' + key + ' button');\n",
              "      quickchartButtonEl.disabled = true;  // To prevent multiple clicks.\n",
              "      quickchartButtonEl.classList.add('colab-df-spinner');\n",
              "      try {\n",
              "        const charts = await google.colab.kernel.invokeFunction(\n",
              "            'suggestCharts', [key], {});\n",
              "      } catch (error) {\n",
              "        console.error('Error during call to suggestCharts:', error);\n",
              "      }\n",
              "      quickchartButtonEl.classList.remove('colab-df-spinner');\n",
              "      quickchartButtonEl.classList.add('colab-df-quickchart-complete');\n",
              "    }\n",
              "    (() => {\n",
              "      let quickchartButtonEl =\n",
              "        document.querySelector('#df-00bb4a50-4ae8-4d72-9d35-fc56e72e6805 button');\n",
              "      quickchartButtonEl.style.display =\n",
              "        google.colab.kernel.accessAllowed ? 'block' : 'none';\n",
              "    })();\n",
              "  </script>\n",
              "</div>\n",
              "\n",
              "    </div>\n",
              "  </div>\n"
            ],
            "text/plain": [
              "                                              question  \\\n",
              "3                            Есть ли разум у животных?   \n",
              "6                            Есть ли дети у петросяна?   \n",
              "9                            Был ли наполеон в москве?   \n",
              "17                   Существует ли купюра в 2 доллара?   \n",
              "21                                  Есть ли дед мороз?   \n",
              "32                  Разрешено ли проезжать жд переезд?   \n",
              "33  Разрешено ли вам проехать железнодорожный переезд?   \n",
              "36                       Были ли у пушкина крепостные?   \n",
              "37                      Правда ли что горит чернобыль?   \n",
              "38                                Едят ли хлеб японцы?   \n",
              "45                       Есть ли у глаголов склонение?   \n",
              "50                      Передается ли ячмень на глазу?   \n",
              "52           Разрешены ли в финляндии однополые браки?   \n",
              "59                              Был ли кто то на луне?   \n",
              "69         Есть ли в хищных птицах сцена после титров?   \n",
              "\n",
              "                                                                                                                                                                                                                                                                                                                                                                                                                                                                                                                                                                                                                                                                                                                                                                                                                                                                                                                                                                                                                                                                                                                                                                     passage  \\\n",
              "3                                                                                                                                                                                                                                                                                                                                                                                                                                                                                                                               Под интеллектом у животных понимается совокупность психических функций, к которым относятся мышление, способность к обучению и коммуникации, которые не могут быть объяснены инстинктами или условными рефлексами. Изучается в рамках когнитивной этологии, сравнительной психологии и зоопсихологии. Жизнь высокоразвитых животных подвержена влиянию эмоций и мотивов. Предположительно, некоторые из них обладают способностью строить логические предположения и планировать, находить решения в новых ситуациях, общаться с представителями других видов . Способность животных к мышлению была предметом споров ещё с античных времён.   \n",
              "6                                                                                                                                                                                                                                                                                                                                                                                                                                                                                               Первая жена — дочь актёра Владимира Александровича Кригера , младшая сестра балерины Викторины Владимировны Кригер , жена умерла, когда их дочь Викторина была маленькой. Дочь — Викторина Евгеньевна Петросян  — окончила исторический факультет МГУ, работала организатором выставок, искусствовед, продюсер кино и телевидения, производит с мужем эксклюзивные игрушки из стекла «Mark Andreas Collection», живёт на Манхэттене в Нью-Йорке, основательница компании «Vi-Ko Продакшн», продюсер цикла документальных фильмов: Бродвей. История в лицах и танцах. Внуки — Андрей  и Марк. Вторая жена — Анна Ивановна Козловская , дочь оперного певца Ивана Козловского.   \n",
              "9                                                                                                                                                                                Отечественная война 1812 года, во французской историографии — Русская кампания 1812 года  — война между Российской и Французской империями на территории России в 1812 году. Причинами войны стали отказ Российской империи активно поддерживать континентальную блокаду, в которой Наполеон видел главное оружие против Великобритании, а также политика Наполеона в отношении европейских государств, проводившаяся без учёта интересов России. На первом этапе войны  русская армия с боями отступала от границ России до Москвы, дав под Москвой Бородинское сражение. В начале второго этапа войны  наполеоновская армия маневрировала, стремясь уйти на зимние квартиры в неразорённые войной местности, а затем отступала до границ России, преследуемая русской армией, голодом и морозами. Война закончилась почти полным уничтожением наполеоновской армии, освобождением территории России и переносом военных действий на земли Варшавского герцогства и Германии в 1813 году .   \n",
              "17                                                                                                                                                                                                                                                                                                                                                                                                                                                                                                                                                                                                                                                            Был также осуществлён специальный выпуск монет достоинством 20 центов и 1 доллар. Выпуск первых бумажных банкнот австралийских долларов был осуществлён в 1966 году. Банкноты достоинством 1, 2, 10 и 20 долларов были эквивалентами бывших австралийских фунтов. Пятидолларовая банкнота была выпущена в 1967 году, после того, как население ознакомилось с десятичной денежной системой. В 1984 году банкнота достоинством 1 доллар была заменена монетой, а банкнота достоинством 2 доллара — в 1988 году.   \n",
              "21                                                                                                                                                                                                                                                                                                                                                                                                                                                                                            Дед Моро́з — главный сказочный персонаж на празднике Нового года, славянский вариант рождественского дарителя. Известен  с 1840 года, но создание канонического образа Деда Мороза как обязательного персонажа новогоднего, а не рождественского праздника произошло в советское время и относится к концу 1930-х годов, когда после нескольких лет запрета вновь была разрешена ёлка. Прообразами Деда Мороза являются персонаж славянского сказочного фольклора и календарных обрядов и Святой Николай. Дед Мороз изображается как старик в цветной — голубой, синей, красной или белой шубе, с длинной белой бородой и посохом в руке, в валенках. Ездит на тройке лошадей.   \n",
              "32                                                                                                                                                                                                                                                                                                                                                                                                                                                                                                                                               Железнодорожный переезд — место одноуровневого пересечения железнодорожных путей и автомобильной дороги либо велосипедной или пешеходной дорожки. Железнодорожный переезд — объект повышенной опасности, поэтому для предупреждения несчастных случаев переезды оборудуются светофорами, шлагбаумами и звуковыми сигналами, а также УЗП  — металлическими плитами, которые поднимаются, заграждая проезд . В России переезды делятся на четыре категории. Железнодорожные переезды оборудуются в местах с хорошей видимостью. Угол пересечения автомобильной дороги и железнодорожных путей должен составлять не менее 60°.   \n",
              "33                                                                                                                                                                                                                                                                                                                                                                                                                                                                                                                                               Железнодорожный переезд — место одноуровневого пересечения железнодорожных путей и автомобильной дороги либо велосипедной или пешеходной дорожки. Железнодорожный переезд — объект повышенной опасности, поэтому для предупреждения несчастных случаев переезды оборудуются светофорами, шлагбаумами и звуковыми сигналами, а также УЗП  — металлическими плитами, которые поднимаются, заграждая проезд . В России переезды делятся на четыре категории. Железнодорожные переезды оборудуются в местах с хорошей видимостью. Угол пересечения автомобильной дороги и железнодорожных путей должен составлять не менее 60°.   \n",
              "36                                                                                                                                                                                                                                                                                                                                                                                                                                                                                                                                                                Сразу после свадьбы Михаил Калашников сообщил о ней Пушкину, не забыв выразить благодарность своему хозяину. Поселились супруги в Лукоянове. Вскоре выяснилось, что Ключарёв почти разорён: его крепостные, которыми он владел совместно с братом, были заложены, причём проценты по закладной не уплачивались. Ключарёв пил, бросил службу, благодаря которой жила семья, и супруги переехали в Болдино к Ольгиному отцу. 11 января 1833 года Пушкину за подписью Ольги было отправлено письмо с просьбой одолжить 2000 рублей для выкупа выставленных на аукцион 15 крепостных душ, переданных ей мужем.   \n",
              "37                                                                                                                                                                                                                                                                                                                                                                                                                                                                                                                                                                                                     23 апреля спасатели создали 800 км минерализованных противопожарных полос и продолжали локализацию трёх очагов тления. В зоне отчуждения продолжали гореть торфяники. 24 апреля продолжалась локализация 2 очагов тления пней, остатков древесины  и торфяников в очагах, пройденных огнём. По состоянию на 3 мая пожарные продолжали тушить лесную подстилку, пни и древесину в отдельных местах бывших пожаров в Киевской и Житомирской областях. 13 мая Президент Украины Владимир Зеленский заявил о ликвидации всех пожаров в зоне отчуждения Чернобыльской АЭС.   \n",
              "38                                                                                                                                                                                                                                                                                                                                                              Период Эдо стал временем трансформации японской кухни: отсутствие иностранного влияния ввиду запрета контактировать с иностранцами, обогащение торгово-ремесленного класса и бурный рост крупнейших городов  привели к созданию яркой самобытной культуры общепита: появились о-тяя, идзакая, столовые, где можно было недорого поесть лапши, суши или угря. Большую популярность в это время завоевал соевый соус, благодаря ему сформировался современный принцип японской кулинарии: «лучший способ приготовления — не готовить». Появилось множество кулинарных книг и путеводителей по лучшим ресторанам. После начала международной интеграции в Японию с новой силой устремились новые продукты и кулинарные техники. Сильно выросло потребление мяса, молока и рыбы, начали есть хлеб и пить молоко.   \n",
              "45                                                                                                                                                                                                                                                                                   Латинский язык имеет развитую систему словоизменения, что особенно проявляется в глагольном спряжении. Образование словоформ происходит путём присоединения окончаний, а словообразование — путём присоединения префиксов и суффиксов. Латинский глагол  склоняется по определённым правилам, которые определяют его спряжение. Глаголы делятся на спряжения согласно своим окончаниям в инфинитиве настоящего времени:  первое — -āre, второе — -ēre , третье — -ere , четвёртое — -īre.Глагол имеет три наклонения ; два залога ; два числа , три лица ; склоняется в шести главных временах . В частности, имеются формы условного наклонения для настоящего, прошедшего несовершенного, прошедшего совершенного времён и плюсквамперфекта; образуются причастия настоящего, будущего  и прошлого  времён; имеются формы повелительного наклонения для настоящего и будущего времён.   \n",
              "50                                                                                                                                                                                                                                                                                                                                                                                                                                                                                                                                                                                                                                                                                        Как и вирусные конъюнктивиты, бактериальные, чаще всего поражают лишь один глаз, но затем легко могут перейти и на другой. Обычно симптомы появляются лишь на третий день после заражения. Конъюнктивиты, вызванные отравляющими и токсическими веществами. Основные симптомы — раздражение и боль в глазу, при перемещении взгляда вниз или вверх, а также покраснение. Боль при движении глазом связана с распространением токсического вещества по поверхности глазного яблока.   \n",
              "52                                                                                                                                                                                                                                                                                                                                                                                                                                                                                                                                                                                                                Права ЛГБТ в Финляндии — защита прав и достоинства людей с гомосексуальной, бисексуальной ориентацией и транссексуалов на территории Финляндии. В 2019 году в рейтинге равноправия полов в странах ЕС Финляндия заняла четвёртое место. С 1894 года гомосексуализм начал преследоваться в Великом княжестве Финляндском в уголовном порядке. С 1971 года однополые сексуальные отношения легализованы на всей территории страны, а с 1981 года гомосексуальность исключена из списка заболеваний. В 2011 году исключён из списка заболеваний трансвестизм.   \n",
              "59  «Лу́нный за́говор» — ряд теорий заговора, центральной идеей которой является утверждение о фальсификации американской космической программы «Аполлон»  и, в частности, шести высадок американских астронавтов на поверхность Луны. Сторонники «лунного заговора» считают, что этих экспедиций не было — вместо этого в течение 1970-х годов правительство США, НАСА или другие организации будто бы злонамеренно вводили мировую общественность в заблуждение. В соответствии с этой теорией, любые опубликованные подтверждения полётов и высадок — фотографии, киносъёмки, записи телеметрии, передаваемые радиосигналы и привезённые образцы лунных пород — являются подделками. Хотя идеи о фальсификации высадки на Луну ходили с момента самой первой высадки «Аполлона-11» в 1969 году, они стали популярными благодаря книге Билла Кейсинга «Мы никогда не были на Луне» ; на известность «лунного заговора» мог повлиять и сатирический фильм «Козерог-1» , рисующий вымышленную историю фальсификации высадки на Марс. «Лунный заговор» получил значительную популярность в России: согласно опросам ВЦИОМ, в 2018 году в него верило больше половины россиян.   \n",
              "69                                                                                                                                                                              Билли сближается со своей приёмной семьёй и появляется в школе как Шазам, чтобы поддержать Фредди, и к тому же приводит вместе с собой самого Супермена. В сцене во время титров, Сивана в своей тюремной камере в одержимости рисует на стене загадочные символы, но его прерывает Мистер Майнд, ранее находившийся в заключении у Скалы Вечности, и рассказывает ему о столпах зла, которые сойдутся вместе, и что они будут править семью сферами. В сцене после титров Фредди проверяет, может ли Билли говорить с рыбой, ссылаясь на Аквамена, но Билли считает такую способность глупой. Ашер Энджел — Билли Бэтсон, подросток, который может превращаться во взрослого супергероя, произнеся магическое слово «Шазам!», в оригинале являющееся акронимом шести легендарных богов и героев древнего мира и их способностей: мудрости Соломона , силы Геракла , стойкости Атланта , мощи Зевса , смелости Ахиллеса  и скорости Меркурия . Дэвид Колсмит исполнил роль маленького Билли.   \n",
              "\n",
              "    label  prediction  \n",
              "3       1           0  \n",
              "6       1           0  \n",
              "9       1           0  \n",
              "17      1           0  \n",
              "21      0           1  \n",
              "32      1           0  \n",
              "33      1           0  \n",
              "36      1           0  \n",
              "37      1           0  \n",
              "38      1           0  \n",
              "45      0           1  \n",
              "50      1           0  \n",
              "52      1           0  \n",
              "59      1           0  \n",
              "69      1           0  "
            ]
          },
          "execution_count": 20,
          "metadata": {},
          "output_type": "execute_result"
        }
      ],
      "source": [
        "compare_labels(\"exp_preds/exp3_ministral.jsonl\")"
      ]
    },
    {
      "cell_type": "markdown",
      "metadata": {
        "id": "Kv3Qa7sxbv9m"
      },
      "source": [
        "Здесь у нас есть пара ошибок, которые мы ещё не видели.\n",
        "\n",
        "В [6] тот же тип ошибки, что и в [84] у T-lite - модель не справилась собрать дочь и фамилию дочери и проинферировать, что это ребёнок человека с этой фамилией.\n",
        "\n",
        "В [3], возможно, модель просто не справилась с пониманием синонимов; в самом пассаже достаточно много неопределённости, и ответ только имплицируется."
      ]
    },
    {
      "cell_type": "markdown",
      "metadata": {
        "id": "WUGNTEhDWHrC"
      },
      "source": [
        "#### Общие выводы касательно ошибок моделей"
      ]
    },
    {
      "cell_type": "markdown",
      "metadata": {
        "id": "coDYmB8nJc9P"
      },
      "source": [
        "В общих чертах, можно отметить, что многие модели ошибаются буквально в одних и тех же предложениях. Чаще всего они не справляются именно с задачей NLI - когда что-то не упоминается напрямую и не очень очевидно без экстралингвистических знаний, они несколько теряются.\n",
        "\n",
        "В ошибках, однако, совсем мало паттернов, которые можно отследить вручную. Иногда модельку сбивают с толку синонимы, иногда - напрямую отсутствие необходимой информации в пассаже.\n",
        "\n",
        "И в этом их нельзя винить! Например, кажется, что и человеку иногда достаточно сложно определить, к кому реферирует \"хозяин\" в \"Сразу после свадьбы Михаил Калашников сообщил о ней Пушкину, не забыв выразить благодарность своему хозяину.\", чтобы ответить утвердительно на вопрос \"Были ли у пушкина крепостные?\" (в ответе на этот вопрос ошиблось точно больше половины моделей, если не все)."
      ]
    },
    {
      "cell_type": "markdown",
      "metadata": {
        "id": "IK6POhYqeLiT"
      },
      "source": [
        "## 8. Заключение\n",
        "\n",
        "Мы исследовали разные методы решения задачи бинарного QA. Получилось, что все наши эксперименты так или иначе побили бейзлайн, представляющий собой представление TF-IDF и простую логистическую регрессию. В экспериментах, связанных с классификацией, активно возникала проблема переобучения и из-за этого \"yes-bias\": тренировочная выборка была с перекосом классов, а с другой стороны, BERT-like-модели не достаточно большие, чтобы улавливать такие логические связи. Мы показали, что обучение простого классификатора на основе современных предобученных энкодеров может дать не худший, а иногда и лучший результат на задаче ответа на вопросы, а возможно и на других NLI-like-задачах, по сравнению с дообучением самого трансформера - при меньшей затрате ресурсов.\n",
        "\n",
        "Что касается генерации, большие инструктивные языковые модели ожидаемо справились лучше, так как благодаря своим размерам и огромным размерам обучающих выборок способны анализировать прочитанное. Здесь не было проблемы дисбаланса классов, так как тренировочная выборка никак не использовалась и не влияла на ответы моделей. При этом самые маленькие из LLM ещё не годятся для анализа русскоязычного текста, а дообученные \"русскоязычные\" LLM не обязательно будут показывать лучший результат, чем их базовые версии.\n",
        "\n",
        "Из перспектив: конечно, интересно было бы проверить модели и побольше, а также дообучить модели на тренировочной выборке, чтобы посмотреть, как повлияет дисбаланс классов, а также интересно посмотреть на методы информационного поиска и предсказывать не бинарный ответ на вопрос, а фрагмент текста, в котором этот ответ есть."
      ]
    }
  ],
  "metadata": {
    "colab": {
      "provenance": [],
      "toc_visible": true
    },
    "kernelspec": {
      "display_name": "base",
      "language": "python",
      "name": "python3"
    },
    "language_info": {
      "codemirror_mode": {
        "name": "ipython",
        "version": 3
      },
      "file_extension": ".py",
      "mimetype": "text/x-python",
      "name": "python",
      "nbconvert_exporter": "python",
      "pygments_lexer": "ipython3",
      "version": "3.12.2"
    }
  },
  "nbformat": 4,
  "nbformat_minor": 0
}
