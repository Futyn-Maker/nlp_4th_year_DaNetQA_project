{
  "cells": [
    {
      "cell_type": "markdown",
      "metadata": {},
      "source": [
        "# 1. Загружаем датасет"
      ]
    },
    {
      "cell_type": "code",
      "execution_count": 1,
      "metadata": {
        "id": "FXjb2f1rehu8"
      },
      "outputs": [],
      "source": [
        "import pandas as pd\n",
        "import zipfile\n",
        "import os\n",
        "import matplotlib.pyplot as plt\n",
        "import seaborn as sns"
      ]
    },
    {
      "cell_type": "code",
      "execution_count": 2,
      "metadata": {
        "colab": {
          "base_uri": "https://localhost:8080/"
        },
        "collapsed": true,
        "id": "2uDBmfSdcRZn",
        "outputId": "0fb5c17b-c216-4497-c77c-5cf0a7fa3df8"
      },
      "outputs": [
        {
          "name": "stdout",
          "output_type": "stream",
          "text": [
            "--2024-12-23 10:53:43--  https://huggingface.co/datasets/RussianNLP/russian_super_glue/resolve/main/data/DaNetQA.zip\n",
            "Resolving huggingface.co (huggingface.co)... 3.168.73.106, 3.168.73.129, 3.168.73.38, ...\n",
            "Connecting to huggingface.co (huggingface.co)|3.168.73.106|:443... connected.\n",
            "HTTP request sent, awaiting response... 302 Found\n",
            "Location: https://cdn-lfs.hf.co/datasets/russian_super_glue/b5b4bcfe17e1eb16aa13a7aab4ca088871e27b0851468e9a07b9b528bb42fb96?response-content-disposition=inline%3B+filename*%3DUTF-8%27%27DaNetQA.zip%3B+filename%3D%22DaNetQA.zip%22%3B&response-content-type=application%2Fzip&Expires=1735199620&Policy=eyJTdGF0ZW1lbnQiOlt7IkNvbmRpdGlvbiI6eyJEYXRlTGVzc1RoYW4iOnsiQVdTOkVwb2NoVGltZSI6MTczNTE5OTYyMH19LCJSZXNvdXJjZSI6Imh0dHBzOi8vY2RuLWxmcy5oZi5jby9kYXRhc2V0cy9ydXNzaWFuX3N1cGVyX2dsdWUvYjViNGJjZmUxN2UxZWIxNmFhMTNhN2FhYjRjYTA4ODg3MWUyN2IwODUxNDY4ZTlhMDdiOWI1MjhiYjQyZmI5Nj9yZXNwb25zZS1jb250ZW50LWRpc3Bvc2l0aW9uPSomcmVzcG9uc2UtY29udGVudC10eXBlPSoifV19&Signature=ajc6S8cFlxrRg6MqIaWrzQG3KiLKzePsxc4iQxfb-zL4Ish6n79%7EyVQnsByNbbE-YZeWTBfOLbBoc8duseUZU5aXRoWHAtjaGucjpaLMaDSen0xGPQ9sT6pnlGc-rMl4NbZinlycH%7EhWeZ3vFpis-O7gV8pPiowR5kO%7ESd1G3Av0OLLRPNwiLmyukRvWPL%7EFw40uowY2-T9EgOpt%7EYmEQ73uGX%7E%7EMZyOuTasvsKk-73r3wOhyJW2FZf7dsT3MOom5y2UpnXTaP97-H-aQ0SGyQvM2rpOxH-jUtDQ6gjH1wIR8jd0lIa%7ErZVf%7E09ZC37ZqlIE-gZ-yckyyBcD9NFdVw__&Key-Pair-Id=K3RPWS32NSSJCE [following]\n",
            "--2024-12-23 10:53:44--  https://cdn-lfs.hf.co/datasets/russian_super_glue/b5b4bcfe17e1eb16aa13a7aab4ca088871e27b0851468e9a07b9b528bb42fb96?response-content-disposition=inline%3B+filename*%3DUTF-8%27%27DaNetQA.zip%3B+filename%3D%22DaNetQA.zip%22%3B&response-content-type=application%2Fzip&Expires=1735199620&Policy=eyJTdGF0ZW1lbnQiOlt7IkNvbmRpdGlvbiI6eyJEYXRlTGVzc1RoYW4iOnsiQVdTOkVwb2NoVGltZSI6MTczNTE5OTYyMH19LCJSZXNvdXJjZSI6Imh0dHBzOi8vY2RuLWxmcy5oZi5jby9kYXRhc2V0cy9ydXNzaWFuX3N1cGVyX2dsdWUvYjViNGJjZmUxN2UxZWIxNmFhMTNhN2FhYjRjYTA4ODg3MWUyN2IwODUxNDY4ZTlhMDdiOWI1MjhiYjQyZmI5Nj9yZXNwb25zZS1jb250ZW50LWRpc3Bvc2l0aW9uPSomcmVzcG9uc2UtY29udGVudC10eXBlPSoifV19&Signature=ajc6S8cFlxrRg6MqIaWrzQG3KiLKzePsxc4iQxfb-zL4Ish6n79%7EyVQnsByNbbE-YZeWTBfOLbBoc8duseUZU5aXRoWHAtjaGucjpaLMaDSen0xGPQ9sT6pnlGc-rMl4NbZinlycH%7EhWeZ3vFpis-O7gV8pPiowR5kO%7ESd1G3Av0OLLRPNwiLmyukRvWPL%7EFw40uowY2-T9EgOpt%7EYmEQ73uGX%7E%7EMZyOuTasvsKk-73r3wOhyJW2FZf7dsT3MOom5y2UpnXTaP97-H-aQ0SGyQvM2rpOxH-jUtDQ6gjH1wIR8jd0lIa%7ErZVf%7E09ZC37ZqlIE-gZ-yckyyBcD9NFdVw__&Key-Pair-Id=K3RPWS32NSSJCE\n",
            "Resolving cdn-lfs.hf.co (cdn-lfs.hf.co)... 3.171.139.125, 3.171.139.118, 3.171.139.14, ...\n",
            "Connecting to cdn-lfs.hf.co (cdn-lfs.hf.co)|3.171.139.125|:443... connected.\n",
            "HTTP request sent, awaiting response... 200 OK\n",
            "Length: 1293761 (1.2M) [application/zip]\n",
            "Saving to: ‘DaNetQA.zip’\n",
            "\n",
            "DaNetQA.zip         100%[===================>]   1.23M   608KB/s    in 2.1s    \n",
            "\n",
            "2024-12-23 10:53:46 (608 KB/s) - ‘DaNetQA.zip’ saved [1293761/1293761]\n",
            "\n"
          ]
        }
      ],
      "source": [
        "!wget https://huggingface.co/datasets/RussianNLP/russian_super_glue/resolve/main/data/DaNetQA.zip"
      ]
    },
    {
      "cell_type": "code",
      "execution_count": 3,
      "metadata": {
        "id": "cpyhqseMdWiC"
      },
      "outputs": [],
      "source": [
        "with zipfile.ZipFile(\"DaNetQA.zip\", 'r') as zip_ref:\n",
        "    zip_ref.extract('DaNetQA/train.jsonl')\n",
        "    zip_ref.extract('DaNetQA/test.jsonl')\n",
        "    zip_ref.extract('DaNetQA/val.jsonl')"
      ]
    },
    {
      "cell_type": "code",
      "execution_count": 4,
      "metadata": {
        "id": "BEvbAJ_adnbt"
      },
      "outputs": [],
      "source": [
        "train_df = pd.read_json('DaNetQA/train.jsonl', lines=True)\n",
        "test_df = pd.read_json('DaNetQA/test.jsonl', lines=True)\n",
        "val_df = pd.read_json('DaNetQA/val.jsonl', lines=True)"
      ]
    },
    {
      "cell_type": "markdown",
      "metadata": {
        "id": "WcP1sq0WcozX"
      },
      "source": [
        "# 2. EDA"
      ]
    },
    {
      "cell_type": "markdown",
      "metadata": {
        "id": "46oDJNCY3b8N"
      },
      "source": [
        "Посмотрим на формат данных каждой из частей датасета."
      ]
    },
    {
      "cell_type": "code",
      "execution_count": 5,
      "metadata": {
        "colab": {
          "base_uri": "https://localhost:8080/",
          "height": 206
        },
        "id": "nbqZsm6Oej2u",
        "outputId": "6db681eb-3eeb-4ea6-c928-6e7c9f0f5cf5"
      },
      "outputs": [
        {
          "data": {
            "text/html": [
              "<div>\n",
              "<style scoped>\n",
              "    .dataframe tbody tr th:only-of-type {\n",
              "        vertical-align: middle;\n",
              "    }\n",
              "\n",
              "    .dataframe tbody tr th {\n",
              "        vertical-align: top;\n",
              "    }\n",
              "\n",
              "    .dataframe thead th {\n",
              "        text-align: right;\n",
              "    }\n",
              "</style>\n",
              "<table border=\"1\" class=\"dataframe\">\n",
              "  <thead>\n",
              "    <tr style=\"text-align: right;\">\n",
              "      <th></th>\n",
              "      <th>question</th>\n",
              "      <th>passage</th>\n",
              "      <th>label</th>\n",
              "      <th>idx</th>\n",
              "    </tr>\n",
              "  </thead>\n",
              "  <tbody>\n",
              "    <tr>\n",
              "      <th>0</th>\n",
              "      <td>Вднх - это выставочный центр?</td>\n",
              "      <td>«Вы́ставочный центр» — станция Московского мон...</td>\n",
              "      <td>True</td>\n",
              "      <td>0</td>\n",
              "    </tr>\n",
              "    <tr>\n",
              "      <th>1</th>\n",
              "      <td>Вднх - это выставочный центр?</td>\n",
              "      <td>Вы́ставка достиже́ний наро́дного хозя́йства  ,...</td>\n",
              "      <td>True</td>\n",
              "      <td>1</td>\n",
              "    </tr>\n",
              "    <tr>\n",
              "      <th>2</th>\n",
              "      <td>Был ли джиган в black star?</td>\n",
              "      <td>Вместе с этим треком они выступили на церемони...</td>\n",
              "      <td>True</td>\n",
              "      <td>2</td>\n",
              "    </tr>\n",
              "    <tr>\n",
              "      <th>3</th>\n",
              "      <td>Xiaomi конкурент apple?</td>\n",
              "      <td>Xiaomi — китайская компания, основанная в 2010...</td>\n",
              "      <td>True</td>\n",
              "      <td>3</td>\n",
              "    </tr>\n",
              "    <tr>\n",
              "      <th>4</th>\n",
              "      <td>Был ли автомат калашникова в вов?</td>\n",
              "      <td>Отметив некоторые недостатки и в целом удачную...</td>\n",
              "      <td>False</td>\n",
              "      <td>4</td>\n",
              "    </tr>\n",
              "  </tbody>\n",
              "</table>\n",
              "</div>"
            ],
            "text/plain": [
              "                            question  \\\n",
              "0      Вднх - это выставочный центр?   \n",
              "1      Вднх - это выставочный центр?   \n",
              "2        Был ли джиган в black star?   \n",
              "3            Xiaomi конкурент apple?   \n",
              "4  Был ли автомат калашникова в вов?   \n",
              "\n",
              "                                             passage  label  idx  \n",
              "0  «Вы́ставочный центр» — станция Московского мон...   True    0  \n",
              "1  Вы́ставка достиже́ний наро́дного хозя́йства  ,...   True    1  \n",
              "2  Вместе с этим треком они выступили на церемони...   True    2  \n",
              "3  Xiaomi — китайская компания, основанная в 2010...   True    3  \n",
              "4  Отметив некоторые недостатки и в целом удачную...  False    4  "
            ]
          },
          "execution_count": 5,
          "metadata": {},
          "output_type": "execute_result"
        }
      ],
      "source": [
        "train_df.head()"
      ]
    },
    {
      "cell_type": "code",
      "execution_count": 6,
      "metadata": {
        "colab": {
          "base_uri": "https://localhost:8080/",
          "height": 206
        },
        "id": "GdQyRAIwe1i8",
        "outputId": "9d0b57b6-cbb9-46f4-a519-97c4d4e6cfeb"
      },
      "outputs": [
        {
          "data": {
            "text/html": [
              "<div>\n",
              "<style scoped>\n",
              "    .dataframe tbody tr th:only-of-type {\n",
              "        vertical-align: middle;\n",
              "    }\n",
              "\n",
              "    .dataframe tbody tr th {\n",
              "        vertical-align: top;\n",
              "    }\n",
              "\n",
              "    .dataframe thead th {\n",
              "        text-align: right;\n",
              "    }\n",
              "</style>\n",
              "<table border=\"1\" class=\"dataframe\">\n",
              "  <thead>\n",
              "    <tr style=\"text-align: right;\">\n",
              "      <th></th>\n",
              "      <th>question</th>\n",
              "      <th>passage</th>\n",
              "      <th>idx</th>\n",
              "    </tr>\n",
              "  </thead>\n",
              "  <tbody>\n",
              "    <tr>\n",
              "      <th>0</th>\n",
              "      <td>Полезна ли ртуть с градусника?</td>\n",
              "      <td>Отравления ртутью  — расстройства здоровья, св...</td>\n",
              "      <td>0</td>\n",
              "    </tr>\n",
              "    <tr>\n",
              "      <th>1</th>\n",
              "      <td>Являются ли сапрофаги хищниками?</td>\n",
              "      <td>Фауна лесных почв — совокупность видов животны...</td>\n",
              "      <td>1</td>\n",
              "    </tr>\n",
              "    <tr>\n",
              "      <th>2</th>\n",
              "      <td>Водятся ли в индии крокодилы?</td>\n",
              "      <td>Болотный крокодил, или магер  — пресмыкающееся...</td>\n",
              "      <td>2</td>\n",
              "    </tr>\n",
              "    <tr>\n",
              "      <th>3</th>\n",
              "      <td>Есть ли в батате крахмал?</td>\n",
              "      <td>Клубневидно вздутые корни  весят до 15 кг, сод...</td>\n",
              "      <td>3</td>\n",
              "    </tr>\n",
              "    <tr>\n",
              "      <th>4</th>\n",
              "      <td>Был ли человек в железной маске?</td>\n",
              "      <td>Остров Сент-Маргерит  — крупнейший из Лерински...</td>\n",
              "      <td>4</td>\n",
              "    </tr>\n",
              "  </tbody>\n",
              "</table>\n",
              "</div>"
            ],
            "text/plain": [
              "                           question  \\\n",
              "0    Полезна ли ртуть с градусника?   \n",
              "1  Являются ли сапрофаги хищниками?   \n",
              "2     Водятся ли в индии крокодилы?   \n",
              "3         Есть ли в батате крахмал?   \n",
              "4  Был ли человек в железной маске?   \n",
              "\n",
              "                                             passage  idx  \n",
              "0  Отравления ртутью  — расстройства здоровья, св...    0  \n",
              "1  Фауна лесных почв — совокупность видов животны...    1  \n",
              "2  Болотный крокодил, или магер  — пресмыкающееся...    2  \n",
              "3  Клубневидно вздутые корни  весят до 15 кг, сод...    3  \n",
              "4  Остров Сент-Маргерит  — крупнейший из Лерински...    4  "
            ]
          },
          "execution_count": 6,
          "metadata": {},
          "output_type": "execute_result"
        }
      ],
      "source": [
        "test_df.head()"
      ]
    },
    {
      "cell_type": "code",
      "execution_count": 7,
      "metadata": {
        "colab": {
          "base_uri": "https://localhost:8080/",
          "height": 206
        },
        "id": "dyuol5ase4Ns",
        "outputId": "5446dbf4-cc61-4a1a-f81c-b0181e8c9f78"
      },
      "outputs": [
        {
          "data": {
            "text/html": [
              "<div>\n",
              "<style scoped>\n",
              "    .dataframe tbody tr th:only-of-type {\n",
              "        vertical-align: middle;\n",
              "    }\n",
              "\n",
              "    .dataframe tbody tr th {\n",
              "        vertical-align: top;\n",
              "    }\n",
              "\n",
              "    .dataframe thead th {\n",
              "        text-align: right;\n",
              "    }\n",
              "</style>\n",
              "<table border=\"1\" class=\"dataframe\">\n",
              "  <thead>\n",
              "    <tr style=\"text-align: right;\">\n",
              "      <th></th>\n",
              "      <th>question</th>\n",
              "      <th>passage</th>\n",
              "      <th>label</th>\n",
              "      <th>idx</th>\n",
              "    </tr>\n",
              "  </thead>\n",
              "  <tbody>\n",
              "    <tr>\n",
              "      <th>0</th>\n",
              "      <td>Есть ли вода на марсе?</td>\n",
              "      <td>Гидросфера Марса — это совокупность водных зап...</td>\n",
              "      <td>True</td>\n",
              "      <td>0</td>\n",
              "    </tr>\n",
              "    <tr>\n",
              "      <th>1</th>\n",
              "      <td>Состоит ли англия в евросоюзе?</td>\n",
              "      <td>В полночь с 31 января на 1 февраля 2020 года п...</td>\n",
              "      <td>False</td>\n",
              "      <td>1</td>\n",
              "    </tr>\n",
              "    <tr>\n",
              "      <th>2</th>\n",
              "      <td>Действительно ли в ссср не было адвокатов?</td>\n",
              "      <td>Семён Львович Ария  — советский и российский ю...</td>\n",
              "      <td>False</td>\n",
              "      <td>2</td>\n",
              "    </tr>\n",
              "    <tr>\n",
              "      <th>3</th>\n",
              "      <td>Была ли чума в оране?</td>\n",
              "      <td>Чума — это и абсурд, что осмысливается как фор...</td>\n",
              "      <td>True</td>\n",
              "      <td>3</td>\n",
              "    </tr>\n",
              "    <tr>\n",
              "      <th>4</th>\n",
              "      <td>Был ли кетчуп в читосе?</td>\n",
              "      <td>Текущий каталог продукции размещен на сайте пр...</td>\n",
              "      <td>True</td>\n",
              "      <td>4</td>\n",
              "    </tr>\n",
              "  </tbody>\n",
              "</table>\n",
              "</div>"
            ],
            "text/plain": [
              "                                     question  \\\n",
              "0                      Есть ли вода на марсе?   \n",
              "1              Состоит ли англия в евросоюзе?   \n",
              "2  Действительно ли в ссср не было адвокатов?   \n",
              "3                       Была ли чума в оране?   \n",
              "4                     Был ли кетчуп в читосе?   \n",
              "\n",
              "                                             passage  label  idx  \n",
              "0  Гидросфера Марса — это совокупность водных зап...   True    0  \n",
              "1  В полночь с 31 января на 1 февраля 2020 года п...  False    1  \n",
              "2  Семён Львович Ария  — советский и российский ю...  False    2  \n",
              "3  Чума — это и абсурд, что осмысливается как фор...   True    3  \n",
              "4  Текущий каталог продукции размещен на сайте пр...   True    4  "
            ]
          },
          "execution_count": 7,
          "metadata": {},
          "output_type": "execute_result"
        }
      ],
      "source": [
        "val_df.head()"
      ]
    },
    {
      "cell_type": "code",
      "execution_count": 8,
      "metadata": {
        "colab": {
          "base_uri": "https://localhost:8080/"
        },
        "id": "NnYu-SwUXTcq",
        "outputId": "df5ef20f-8084-4cd3-dd43-9f954f2cb1df"
      },
      "outputs": [
        {
          "name": "stdout",
          "output_type": "stream",
          "text": [
            "(1749, 4)\n",
            "(805, 3)\n",
            "(821, 4)\n"
          ]
        }
      ],
      "source": [
        "print(train_df.shape)\n",
        "print(test_df.shape)\n",
        "print(val_df.shape)"
      ]
    },
    {
      "cell_type": "markdown",
      "metadata": {
        "id": "2V49uMaWj7pB"
      },
      "source": [
        "Можем видеть, что в тест-части датасета нет лейблов, что очень логично в силу того, что этот датасет - публичный бенчмарк.\n",
        "\n",
        "Теперь посмотрим на распределение True и False в трейне и валидации."
      ]
    },
    {
      "cell_type": "code",
      "execution_count": 9,
      "metadata": {
        "colab": {
          "base_uri": "https://localhost:8080/",
          "height": 178
        },
        "id": "Eo7YhxSDe58B",
        "outputId": "3e328aa4-48ce-42bd-8c87-546ea95a61f9"
      },
      "outputs": [
        {
          "data": {
            "text/plain": [
              "label\n",
              "True     1061\n",
              "False     688\n",
              "Name: count, dtype: int64"
            ]
          },
          "execution_count": 9,
          "metadata": {},
          "output_type": "execute_result"
        }
      ],
      "source": [
        "train_df['label'].value_counts()"
      ]
    },
    {
      "cell_type": "code",
      "execution_count": 10,
      "metadata": {
        "colab": {
          "base_uri": "https://localhost:8080/",
          "height": 472
        },
        "id": "TVAGj5Cvf0XQ",
        "outputId": "d9f5d7b4-c9a9-40a0-a083-0f60096a8e52"
      },
      "outputs": [
        {
          "data": {
            "image/png": "[encoded data removed]",
            "text/plain": [
              "<Figure size 640x480 with 1 Axes>"
            ]
          },
          "metadata": {},
          "output_type": "display_data"
        }
      ],
      "source": [
        "sns.countplot(x='label', data=train_df, color='slateblue', width=0.4)\n",
        "plt.title('Labels in train set')\n",
        "plt.show()"
      ]
    },
    {
      "cell_type": "code",
      "execution_count": 11,
      "metadata": {
        "colab": {
          "base_uri": "https://localhost:8080/",
          "height": 178
        },
        "id": "HUmKMncvfgQK",
        "outputId": "145d76e3-1f39-4800-94d6-e3e4db9316e2"
      },
      "outputs": [
        {
          "data": {
            "text/plain": [
              "label\n",
              "True     412\n",
              "False    409\n",
              "Name: count, dtype: int64"
            ]
          },
          "execution_count": 11,
          "metadata": {},
          "output_type": "execute_result"
        }
      ],
      "source": [
        "val_df['label'].value_counts()"
      ]
    },
    {
      "cell_type": "code",
      "execution_count": 12,
      "metadata": {
        "colab": {
          "base_uri": "https://localhost:8080/",
          "height": 472
        },
        "id": "5vS6Pebu34Wj",
        "outputId": "ed62307f-973b-4141-eeee-d93eebadd80c"
      },
      "outputs": [
        {
          "data": {
            "image/png": "[encoded data removed]",
            "text/plain": [
              "<Figure size 640x480 with 1 Axes>"
            ]
          },
          "metadata": {},
          "output_type": "display_data"
        }
      ],
      "source": [
        "sns.countplot(x='label', data=val_df, color='slateblue', width=0.4)\n",
        "plt.title('Labels in val set')\n",
        "plt.show()"
      ]
    },
    {
      "cell_type": "markdown",
      "metadata": {
        "id": "UPWKayJw6iau"
      },
      "source": [
        "Посмотрим на распределение примерного количества слов в вопросах и текстах для трейна и валидации."
      ]
    },
    {
      "cell_type": "code",
      "execution_count": 13,
      "metadata": {
        "id": "w95hlTZogn1k"
      },
      "outputs": [],
      "source": [
        "train_df['question_word_count'] = train_df['question'].apply(\n",
        "    lambda x: len(x.split()))\n",
        "train_df['passage_word_count'] = train_df['passage'].apply(\n",
        "    lambda x: len(x.split()))"
      ]
    },
    {
      "cell_type": "code",
      "execution_count": 14,
      "metadata": {
        "colab": {
          "base_uri": "https://localhost:8080/"
        },
        "id": "jQcrlExnbpf9",
        "outputId": "5177f842-9b3f-4458-f529-8a17e7f5f19a"
      },
      "outputs": [
        {
          "data": {
            "text/plain": [
              "98.34877072612922"
            ]
          },
          "execution_count": 14,
          "metadata": {},
          "output_type": "execute_result"
        }
      ],
      "source": [
        "train_df['passage_word_count'].mean()"
      ]
    },
    {
      "cell_type": "code",
      "execution_count": 15,
      "metadata": {
        "colab": {
          "base_uri": "https://localhost:8080/"
        },
        "id": "L44IJAsTcOn1",
        "outputId": "3a5e007b-fce3-4494-f584-e7e3373a3735"
      },
      "outputs": [
        {
          "data": {
            "text/plain": [
              "6.519725557461406"
            ]
          },
          "execution_count": 15,
          "metadata": {},
          "output_type": "execute_result"
        }
      ],
      "source": [
        "train_df['question_word_count'].mean()"
      ]
    },
    {
      "cell_type": "code",
      "execution_count": 16,
      "metadata": {
        "colab": {
          "base_uri": "https://localhost:8080/",
          "height": 927
        },
        "id": "R5USuhP99rJi",
        "outputId": "8a060c63-4f92-4df1-f493-1add6304e01f"
      },
      "outputs": [
        {
          "data": {
            "image/png": "[encoded data removed]",
            "text/plain": [
              "<Figure size 640x480 with 1 Axes>"
            ]
          },
          "metadata": {},
          "output_type": "display_data"
        },
        {
          "data": {
            "image/png": "[encoded data removed]",
            "text/plain": [
              "<Figure size 640x480 with 1 Axes>"
            ]
          },
          "metadata": {},
          "output_type": "display_data"
        }
      ],
      "source": [
        "sns.histplot(train_df['question_word_count'], color='slateblue')\n",
        "plt.title('Question word counts in train')\n",
        "plt.show()\n",
        "\n",
        "sns.histplot(train_df['passage_word_count'], bins=50, color='slateblue')\n",
        "plt.title('Passage word counts in train')\n",
        "plt.show()"
      ]
    },
    {
      "cell_type": "code",
      "execution_count": 17,
      "metadata": {
        "id": "6zlJjr9fcdVH"
      },
      "outputs": [],
      "source": [
        "val_df['question_word_count'] = val_df['question'].apply(\n",
        "    lambda x: len(x.split()))\n",
        "val_df['passage_word_count'] = val_df['passage'].apply(\n",
        "    lambda x: len(x.split()))"
      ]
    },
    {
      "cell_type": "code",
      "execution_count": 18,
      "metadata": {
        "colab": {
          "base_uri": "https://localhost:8080/",
          "height": 927
        },
        "id": "huB0rHMQc0PU",
        "outputId": "b3ec5036-5353-4be1-cec5-8c5897554678"
      },
      "outputs": [
        {
          "data": {
            "image/png": "[encoded data removed]",
            "text/plain": [
              "<Figure size 640x480 with 1 Axes>"
            ]
          },
          "metadata": {},
          "output_type": "display_data"
        },
        {
          "data": {
            "image/png": "[encoded data removed]",
            "text/plain": [
              "<Figure size 640x480 with 1 Axes>"
            ]
          },
          "metadata": {},
          "output_type": "display_data"
        }
      ],
      "source": [
        "sns.histplot(val_df['question_word_count'], color='slateblue')\n",
        "plt.title('Question word counts in val')\n",
        "plt.show()\n",
        "\n",
        "sns.histplot(val_df['passage_word_count'], bins=50, color='slateblue')\n",
        "plt.title('Passage word counts in val')\n",
        "plt.show()"
      ]
    },
    {
      "cell_type": "code",
      "execution_count": 19,
      "metadata": {
        "colab": {
          "base_uri": "https://localhost:8080/"
        },
        "id": "587NO7YpckOz",
        "outputId": "76eaea49-401c-4c5b-813c-897c5add9d49"
      },
      "outputs": [
        {
          "data": {
            "text/plain": [
              "91.74665042630937"
            ]
          },
          "execution_count": 19,
          "metadata": {},
          "output_type": "execute_result"
        }
      ],
      "source": [
        "val_df['passage_word_count'].mean()"
      ]
    },
    {
      "cell_type": "code",
      "execution_count": 20,
      "metadata": {
        "colab": {
          "base_uri": "https://localhost:8080/"
        },
        "id": "cNYgY0QWcky6",
        "outputId": "e8496332-b89d-4fd9-bff1-aa2972e2ddfd"
      },
      "outputs": [
        {
          "data": {
            "text/plain": [
              "5.806333739342265"
            ]
          },
          "execution_count": 20,
          "metadata": {},
          "output_type": "execute_result"
        }
      ],
      "source": [
        "val_df['question_word_count'].mean()"
      ]
    },
    {
      "cell_type": "code",
      "execution_count": 21,
      "metadata": {},
      "outputs": [],
      "source": [
        "# Удаляем колонки с количеством слов в вопросе и параграфе во всех датасетах\n",
        "\n",
        "train_df.drop(['question_word_count', 'passage_word_count'],\n",
        "              axis=1, inplace=True)\n",
        "val_df.drop(['question_word_count', 'passage_word_count'],\n",
        "            axis=1, inplace=True)"
      ]
    },
    {
      "cell_type": "markdown",
      "metadata": {
        "id": "bL1ZYQAjMlLn"
      },
      "source": [
        "В целом, что можно сказать про наш датасет?\n",
        "\n",
        "Он является бенчмарком для задачи бинарного QA.\n",
        "\n",
        "Состав датасета: вопрос (\"question\"), текст (\"passage\"), бинарный ответ (\"label\" в формате \"True/False\"), индекс строки (\"ix\").\n",
        "\n",
        "Размер датасета: 1789 строк в трейне, 805 строк в тесте и 821 строка в валидации.\n",
        "\n",
        "В трейне наблюдается некоторый дисбаланс лейблов: 1061 True, 688 False;\n",
        "\n",
        "Это, возможно, может приводить к некоторому байасу в сторону положительных ответов во время предсказаний.\n",
        "\n",
        "Тексты трейна распределены по длине относительно нормально, средняя длина: 98 слов. В случае валидации распределение несколько менее равномерное, средняя длина: 91 слово.\n"
      ]
    },
    {
      "cell_type": "markdown",
      "metadata": {},
      "source": [
        "# 3. Определяемся с выборками и метриками\n",
        "\n",
        "Поскольку оригинальная тестовая выборка бенчмарка не содержит меток, мы не можем использовать её для оценивания. При этом мы имеем достаточно большую валидационную выборку относительно тренировочной (не многим меньше 50%). Для целей нашего проекта разделим валидационную выборку на две равные части с сохранением пропорций классов, и одну из них будем использовать в качестве валидационной выборки, а другую - в качестве тестовой.\n",
        "\n",
        "В тренировочной выборке присутствует дисбаланс классов, однако в валидационной и тестовой выборках его не будет - поэтому для нас будут показательны как accuracy, так и F1-метрика и её компоненты - precision и recall."
      ]
    },
    {
      "cell_type": "code",
      "execution_count": 22,
      "metadata": {},
      "outputs": [],
      "source": [
        "from sklearn.model_selection import train_test_split\n",
        "\n",
        "# Создаём новые валидационные и тестовые выборки из оригинальной валидационной\n",
        "\n",
        "new_val_df, new_test_df = train_test_split(\n",
        "    val_df,\n",
        "    test_size=0.5,\n",
        "    random_state=42,\n",
        "    stratify=val_df['label']\n",
        ")"
      ]
    },
    {
      "cell_type": "code",
      "execution_count": 23,
      "metadata": {},
      "outputs": [
        {
          "name": "stdout",
          "output_type": "stream",
          "text": [
            "Дистрибуция классов в новой валидационной выборке:\n",
            "label\n",
            "True     206\n",
            "False    204\n",
            "Name: count, dtype: int64\n",
            "\n",
            "Дистрибуция классов в новой тестовой выборке:\n",
            "label\n",
            "True     206\n",
            "False    205\n",
            "Name: count, dtype: int64\n"
          ]
        }
      ],
      "source": [
        "# Проверяем, что дистрибуция классов совпадает с оригинальной\n",
        "print(\"Дистрибуция классов в новой валидационной выборке:\")\n",
        "print(new_val_df['label'].value_counts())\n",
        "print(\"\\nДистрибуция классов в новой тестовой выборке:\")\n",
        "print(new_test_df['label'].value_counts())"
      ]
    },
    {
      "cell_type": "code",
      "execution_count": 24,
      "metadata": {},
      "outputs": [],
      "source": [
        "# Сохраняем финальные выборки в jsonlines\n",
        "\n",
        "if not os.path.exists('final_data'):\n",
        "    os.makedirs('final_data')\n",
        "\n",
        "train_df.to_json(\n",
        "    'final_data/train.jsonl',\n",
        "    orient='records',\n",
        "    lines=True,\n",
        "    force_ascii=False)\n",
        "new_val_df.to_json(\n",
        "    'final_data/val.jsonl',\n",
        "    orient='records',\n",
        "    lines=True,\n",
        "    force_ascii=False)\n",
        "new_test_df.to_json(\n",
        "    'final_data/test.jsonl',\n",
        "    orient='records',\n",
        "    lines=True,\n",
        "    force_ascii=False)"
      ]
    },
    {
      "cell_type": "markdown",
      "metadata": {},
      "source": [
        "# 4. Baseline\n",
        "\n",
        "В качестве бейзлайна разработчики Russian SuperGLUE использовали TF-IDF и логистическую регрессию ([источник](https://github.com/RussianNLP/RussianSuperGLUE/blob/master/tfidf_baseline/DaNetQA.py)). Нам показалось это хорошим решением в качестве стартовой точки, однако в оригинальном бейзлайне есть моменты, которые нас смутили.\n",
        "\n",
        "1. Авторы подавали на вход только вопросы и ответы, никак не учитывая текстовые фрагменты, в которых можно было бы найти ответ на вопрос.\n",
        "2. Авторы никак не предобрабатывали текст, подаваемый в TF-IDF, не проводилась даже лемматизация и удаление стоп-слов.\n",
        "\n",
        "Кроме того, в авторском бейзлайне используется векторизатор TF-IDF, обученный на всём тренировочном корпусе бенчмарка, а не только на датасете DaNetQA. Мы же в данном проекте ориентируемся не на весь бенчмарк, а исключительно на этот набор данных. Поэтому, вдохновляясь оригиналом, мы немного модифицировали бейзлайн: добавили лемматизацию и удаление стоп-слов, построили TF-IDF с учётом биграмм, а также провели два эксперимента: в первом в качестве объектов использовались только вопросы, а во втором текст, содержащий ответ, конкатинировался с вопросом."
      ]
    },
    {
      "cell_type": "code",
      "execution_count": 56,
      "metadata": {},
      "outputs": [],
      "source": [
        "import codecs\n",
        "import json\n",
        "import numpy as np\n",
        "from pymystem3 import Mystem\n",
        "from nltk.corpus import stopwords\n",
        "import re\n",
        "from sklearn.linear_model import LogisticRegression\n",
        "from sklearn.feature_extraction.text import TfidfVectorizer\n",
        "from sklearn.metrics import classification_report\n",
        "\n",
        "\n",
        "mystem = Mystem()\n",
        "russian_stopwords = set(stopwords.words(\"russian\"))"
      ]
    },
    {
      "cell_type": "code",
      "execution_count": 57,
      "metadata": {},
      "outputs": [],
      "source": [
        "def mystem_tokenizer(text):\n",
        "    # Лемматизируем текст\n",
        "    lemmas = mystem.lemmatize(text)\n",
        "    # Возвращаем только алфавитные токены, которых нет в списке стоп-слов\n",
        "    tokens = [\n",
        "        token for token in lemmas\n",
        "        if token.strip() and\n",
        "        token.isalpha() and\n",
        "        token not in russian_stopwords\n",
        "    ]\n",
        "    return tokens"
      ]
    },
    {
      "cell_type": "code",
      "execution_count": 58,
      "metadata": {},
      "outputs": [],
      "source": [
        "tfidf_vectorizer = TfidfVectorizer(\n",
        "    tokenizer=mystem_tokenizer,\n",
        "    ngram_range=(1, 2)\n",
        ")"
      ]
    },
    {
      "cell_type": "code",
      "execution_count": 59,
      "metadata": {},
      "outputs": [],
      "source": [
        "# две функции для считывания данных из файлов\n",
        "def build_feature_DaNetQA(row):\n",
        "    res = str(row[\"question\"]).strip()\n",
        "    label = row.get(\"label\")\n",
        "    return res, label\n",
        "\n",
        "\n",
        "def read_data_DaNetQA(path):\n",
        "    with codecs.open(path, encoding='utf-8-sig') as reader:\n",
        "        lines = reader.read().split(\"\\n\")\n",
        "        lines = list(map(json.loads, filter(None, lines)))\n",
        "    res = list(map(build_feature_DaNetQA, lines))\n",
        "    texts = list(map(lambda x: x[0], res))\n",
        "    labels = list(map(lambda x: x[1], res))\n",
        "    ids = [x[\"idx\"] for x in lines]\n",
        "    return texts, labels, ids\n",
        "\n",
        "\n",
        "# веторизация tf_idf\n",
        "def build_features_DaNetQA(path, vect, fit=False):\n",
        "    texts, labels, ids = read_data_DaNetQA(path)\n",
        "    if fit:\n",
        "        features = vect.fit_transform(texts)\n",
        "    else:\n",
        "        features = vect.transform(texts)\n",
        "    return (features, labels), ids\n",
        "\n",
        "\n",
        "# логистическая регрессия\n",
        "def fit_DaNetQA(train, labels):\n",
        "    clf = LogisticRegression(random_state=42)\n",
        "    return clf.fit(train, labels)\n",
        "\n",
        "\n",
        "# векторизация считанных данных, обучение логистической регрессии,\n",
        "# предсказание и оценка качества\n",
        "def eval_DaNetQA(train_path, val_path, test_path, vectorizer):\n",
        "    train, train_ids = build_features_DaNetQA(train_path, vectorizer, fit=True)\n",
        "    val, val_ids = build_features_DaNetQA(val_path, vectorizer, fit=False)\n",
        "    test, test_ids = build_features_DaNetQA(test_path, vectorizer, fit=False)\n",
        "\n",
        "    clf = fit_DaNetQA(*train)\n",
        "\n",
        "    train_pred = clf.predict(train[0])\n",
        "    val_pred = clf.predict(val[0])\n",
        "    test_pred = clf.predict(test[0])\n",
        "\n",
        "    return clf, {\n",
        "        \"train\": classification_report(train[1], train_pred),\n",
        "        \"val\": classification_report(val[1], val_pred),\n",
        "        \"test\": classification_report(test[1], test_pred)\n",
        "    }"
      ]
    },
    {
      "cell_type": "code",
      "execution_count": 60,
      "metadata": {},
      "outputs": [
        {
          "name": "stderr",
          "output_type": "stream",
          "text": [
            "/home/futyn/miniconda3/lib/python3.12/site-packages/sklearn/feature_extraction/text.py:521: UserWarning: The parameter 'token_pattern' will not be used since 'tokenizer' is not None'\n",
            "  warnings.warn(\n"
          ]
        },
        {
          "name": "stdout",
          "output_type": "stream",
          "text": [
            "Train scores:\n",
            "              precision    recall  f1-score   support\n",
            "\n",
            "       False       0.99      0.84      0.91       688\n",
            "        True       0.90      1.00      0.95      1061\n",
            "\n",
            "    accuracy                           0.93      1749\n",
            "   macro avg       0.95      0.92      0.93      1749\n",
            "weighted avg       0.94      0.93      0.93      1749\n",
            "\n",
            "\n",
            "Validation scores:\n",
            "              precision    recall  f1-score   support\n",
            "\n",
            "       False       0.85      0.17      0.28       204\n",
            "        True       0.54      0.97      0.69       206\n",
            "\n",
            "    accuracy                           0.57       410\n",
            "   macro avg       0.70      0.57      0.49       410\n",
            "weighted avg       0.69      0.57      0.49       410\n",
            "\n",
            "\n",
            "Test scores:\n",
            "              precision    recall  f1-score   support\n",
            "\n",
            "       False       0.79      0.15      0.25       205\n",
            "        True       0.53      0.96      0.69       206\n",
            "\n",
            "    accuracy                           0.56       411\n",
            "   macro avg       0.66      0.56      0.47       411\n",
            "weighted avg       0.66      0.56      0.47       411\n",
            "\n"
          ]
        }
      ],
      "source": [
        "# Обработка данных, оценка результата\n",
        "_, scores = eval_DaNetQA(\n",
        "    'final_data/train.jsonl',\n",
        "    'final_data/val.jsonl',\n",
        "    'final_data/test.jsonl',\n",
        "    tfidf_vectorizer\n",
        ")\n",
        "\n",
        "# Результаты для каждой выборки\n",
        "print(\"Train scores:\")\n",
        "print(scores['train'])\n",
        "print(\"\\nValidation scores:\")\n",
        "print(scores['val'])\n",
        "print(\"\\nTest scores:\")\n",
        "print(scores['test'])"
      ]
    },
    {
      "cell_type": "markdown",
      "metadata": {},
      "source": [
        "## Объединим тексты и вопросы\n",
        "\n",
        "Интуитивно кажется, что если в классифицируемом тексте будет информация, которая позволит верно определить ответ, то классификация пройдёт лучше, поэтому перепишим функцию `build_feature_DaNetQA` так, чтобы информационный текст и вопрос конкатинировались в единое целое - именно это мы будем подавать на вход классификатору как объект."
      ]
    },
    {
      "cell_type": "code",
      "execution_count": 61,
      "metadata": {},
      "outputs": [],
      "source": [
        "def build_feature_DaNetQA(row):\n",
        "    res = str(row[\"question\"]).strip() + \" \" + str(row[\"passage\"]).strip()\n",
        "    label = row.get(\"label\")\n",
        "    return res, label"
      ]
    },
    {
      "cell_type": "code",
      "execution_count": 62,
      "metadata": {},
      "outputs": [],
      "source": [
        "tfidf_vectorizer = TfidfVectorizer(\n",
        "    tokenizer=mystem_tokenizer,\n",
        "    ngram_range=(1, 2)\n",
        ")"
      ]
    },
    {
      "cell_type": "code",
      "execution_count": 63,
      "metadata": {},
      "outputs": [
        {
          "name": "stderr",
          "output_type": "stream",
          "text": [
            "/home/futyn/miniconda3/lib/python3.12/site-packages/sklearn/feature_extraction/text.py:521: UserWarning: The parameter 'token_pattern' will not be used since 'tokenizer' is not None'\n",
            "  warnings.warn(\n"
          ]
        },
        {
          "name": "stdout",
          "output_type": "stream",
          "text": [
            "Train scores:\n",
            "              precision    recall  f1-score   support\n",
            "\n",
            "       False       0.99      0.77      0.86       688\n",
            "        True       0.87      0.99      0.93      1061\n",
            "\n",
            "    accuracy                           0.90      1749\n",
            "   macro avg       0.93      0.88      0.89      1749\n",
            "weighted avg       0.92      0.90      0.90      1749\n",
            "\n",
            "\n",
            "Validation scores:\n",
            "              precision    recall  f1-score   support\n",
            "\n",
            "       False       0.93      0.12      0.22       204\n",
            "        True       0.53      0.99      0.69       206\n",
            "\n",
            "    accuracy                           0.56       410\n",
            "   macro avg       0.73      0.56      0.45       410\n",
            "weighted avg       0.73      0.56      0.46       410\n",
            "\n",
            "\n",
            "Test scores:\n",
            "              precision    recall  f1-score   support\n",
            "\n",
            "       False       0.81      0.08      0.15       205\n",
            "        True       0.52      0.98      0.68       206\n",
            "\n",
            "    accuracy                           0.53       411\n",
            "   macro avg       0.66      0.53      0.41       411\n",
            "weighted avg       0.66      0.53      0.41       411\n",
            "\n"
          ]
        }
      ],
      "source": [
        "_, scores = eval_DaNetQA(\n",
        "    'final_data/train.jsonl',\n",
        "    'final_data/val.jsonl',\n",
        "    'final_data/test.jsonl',\n",
        "    tfidf_vectorizer\n",
        ")\n",
        "\n",
        "print(\"Train scores:\")\n",
        "print(scores['train'])\n",
        "print(\"\\nValidation scores:\")\n",
        "print(scores['val'])\n",
        "print(\"\\nTest scores:\")\n",
        "print(scores['test'])"
      ]
    },
    {
      "cell_type": "markdown",
      "metadata": {},
      "source": [
        "Во-первых, стоит сказать, что в обоих экспериментах мы наблюдаем жёсткое переобучение: метрики на тренировочном наборе данных намного выше, чем на тестовом и валидационном. Однако даже по метрикам на тренировочном наборе заметно, что модель чаще склонна говорить \"да\", даже если ответ на вопрос отрицательный - это видно по метрике recall. На тестовом и валидационном наборах данных \"yes-bias\" модели совсем критичный: для ответов \"да\" recall почти стопроцентный, тогда как для \"нет\" едва ли больше 10%, то есть модель почти всегда говорит \"да\". Видимо, это происходит из-за дисбаланса данных в тренировочной выборке, где вопросов с правильным утвердительным ответом больше.\n",
        "\n",
        "Во-вторых, вопреки ожиданиям, добавление дополнительной информации в виде фрагмента текста ухудшило результат. Это можно связать с тем, что логистическая регрессия не способна моделировать логические отношения между текстом и вопросом, да и представление TF-IDF для этого не подходит, потому что не содержит никакой информации о семантике - в итоге когда мы добавляем больше текста, появляется больше шума, а новой информации для обобщения не появляется.\n",
        "\n",
        "В целом, baseline-модель вообще не выучила никаких закономерностей и получилась почти константной, что говорит о том, что TF-IDF не подходит для моделирования логической связи между вопросом и текстом, в котором этот вопрос содержится, да и логистическая регрессия, видимо, тоже. Для решения задачи стоит задействовать глубокое обучение, как для получения адекватного представления текста, так и для классификации, или, что ещё лучше, перейти от задачи классификации к задаче генерации."
      ]
    }
  ],
  "metadata": {
    "colab": {
      "provenance": []
    },
    "kernelspec": {
      "display_name": "base",
      "language": "python",
      "name": "python3"
    },
    "language_info": {
      "codemirror_mode": {
        "name": "ipython",
        "version": 3
      },
      "file_extension": ".py",
      "mimetype": "text/x-python",
      "name": "python",
      "nbconvert_exporter": "python",
      "pygments_lexer": "ipython3",
      "version": "3.12.2"
    }
  },
  "nbformat": 4,
  "nbformat_minor": 0
}
